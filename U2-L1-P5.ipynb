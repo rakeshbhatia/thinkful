{
 "cells": [
  {
   "cell_type": "code",
   "execution_count": 15,
   "metadata": {
    "collapsed": true
   },
   "outputs": [],
   "source": [
    "import pandas as pd\n",
    "import numpy as np\n",
    "import matplotlib.pyplot as plt\n",
    "import seaborn as sns\n",
    "import scipy.stats as stats\n",
    "\n",
    "# Set the default plot aesthetics to be prettier.\n",
    "sns.set_style(\"white\")"
   ]
  },
  {
   "cell_type": "code",
   "execution_count": 16,
   "metadata": {},
   "outputs": [
    {
     "name": "stdout",
     "output_type": "stream",
     "text": [
      "  cntry  idno  year  tvtot  ppltrst  pplfair  pplhlp  happy  sclmeet  sclact  \\\n",
      "0    CH   5.0     6    3.0      3.0     10.0     5.0    8.0      5.0     4.0   \n",
      "1    CH  25.0     6    6.0      5.0      7.0     5.0    9.0      3.0     2.0   \n",
      "2    CH  26.0     6    1.0      8.0      8.0     8.0    7.0      6.0     3.0   \n",
      "3    CH  28.0     6    4.0      6.0      6.0     7.0   10.0      6.0     2.0   \n",
      "4    CH  29.0     6    5.0      6.0      7.0     5.0    8.0      7.0     2.0   \n",
      "\n",
      "   gndr  agea  partner  \n",
      "0   2.0  60.0      1.0  \n",
      "1   2.0  59.0      1.0  \n",
      "2   1.0  24.0      2.0  \n",
      "3   2.0  64.0      1.0  \n",
      "4   2.0  55.0      1.0  \n",
      "['CH' 'CZ' 'DE' 'ES' 'NO' 'SE']\n"
     ]
    }
   ],
   "source": [
    "# Loading the data again.\n",
    "\n",
    "df = pd.read_csv(\"https://raw.githubusercontent.com/Thinkful-Ed/data-201-resources/master/ESS_practice_data/ESSdata_Thinkful.csv\")\n",
    "\n",
    "# Take a subset of the data to make plots clearer.\n",
    "print(df.head())\n",
    "\n",
    "print(df.cntry.unique())"
   ]
  },
  {
   "cell_type": "code",
   "execution_count": 17,
   "metadata": {},
   "outputs": [
    {
     "name": "stdout",
     "output_type": "stream",
     "text": [
      "cntry     CH    CZ  DE    ES    NO    SE\n",
      "Nordic                                  \n",
      "0       1546  1316  28  2426     0     0\n",
      "1          0     0   0     0  1462  1816\n"
     ]
    }
   ],
   "source": [
    "# Making dummies.\n",
    "# Also creating a data frame to hold our features.\n",
    "features = pd.get_dummies(df['cntry'])\n",
    "\n",
    "# Nordic countries dummy.\n",
    "features['Nordic'] = np.where((df['cntry'].isin(['NO', 'SE'])), 1, 0)\n",
    "\n",
    "print(pd.crosstab(features['Nordic'], df['cntry']))"
   ]
  },
  {
   "cell_type": "code",
   "execution_count": 18,
   "metadata": {},
   "outputs": [
    {
     "name": "stdout",
     "output_type": "stream",
     "text": [
      "               count       mean        std   min   25%   50%   75%    max\n",
      "Adult_65plus                                                             \n",
      "0             6682.0  40.874738  13.958596  15.0  29.0  42.0  53.0   64.0\n",
      "1             1673.0  73.815302   6.650086  65.0  69.0  72.0  78.0  114.0\n"
     ]
    }
   ],
   "source": [
    "features['Adult_65plus'] = np.where(df['agea']>=65, 1, 0)\n",
    "\n",
    "# Check to make sure it worked.\n",
    "print(df['agea'].groupby(features['Adult_65plus']).describe())"
   ]
  },
  {
   "cell_type": "markdown",
   "metadata": {},
   "source": [
    "## TLADS Drill\n",
    "\n",
    "Categorize each of the variables in the ESS dataset as categorical or continuous, and if continuous as ordinal, interval, or ratio variables.  Check your work with your mentor, and discuss what that information might imply for feature engineering with this data."
   ]
  },
  {
   "cell_type": "markdown",
   "metadata": {},
   "source": [
    "country - categorical\n",
    "\n",
    "idno - continuous, ordinal\n",
    "\n",
    "year - continuous, interval\n",
    "\n",
    "tvtot - continuous, ratio\n",
    "\n",
    "ppltrst - continuous, ratio\n",
    "\n",
    "pplfair - continuous, ratio\n",
    "\n",
    "happy - continuous, ratio\n",
    "\n",
    "sclmeet - continuous, ratio\n",
    "\n",
    "sclact - continuous, ratio\n",
    "\n",
    "gndr - categorical\n",
    "\n",
    "agea - continuous, ratio\n",
    "\n",
    "partner - categorical"
   ]
  },
  {
   "cell_type": "code",
   "execution_count": 19,
   "metadata": {},
   "outputs": [
    {
     "data": {
      "image/png": "[encoded data removed]",
      "text/plain": [
       "<Figure size 864x648 with 2 Axes>"
      ]
     },
     "metadata": {},
     "output_type": "display_data"
    },
    {
     "name": "stdout",
     "output_type": "stream",
     "text": [
      "                  ppltrst   pplfair    pplhlp  trust_fair_help\n",
      "ppltrst          1.000000  0.592001  0.462562         0.834209\n",
      "pplfair          0.592001  1.000000  0.480918         0.841674\n",
      "pplhlp           0.462562  0.480918  1.000000         0.789318\n",
      "trust_fair_help  0.834209  0.841674  0.789318         1.000000\n"
     ]
    }
   ],
   "source": [
    "corrmat = df.corr()\n",
    "\n",
    "# Set up the matplotlib figure.\n",
    "f, ax = plt.subplots(figsize=(12, 9))\n",
    "\n",
    "# Draw the heatmap using seaborn\n",
    "sns.heatmap(corrmat, vmax=.8, square=True)\n",
    "plt.show()\n",
    "\n",
    "# Looks like 'pplfair','ppltrst' and 'pplhlp' are pretty redundant with each\n",
    "# other. Let's make some averages. Just in case some of the variables are on\n",
    "# different scales than others (one ranges from 0 to 100, one ranges from 0 to\n",
    "# 7, for example) we scale them before averaging by subtracting the average of\n",
    "# each variable from all values in that variable, then dividing by the\n",
    "# standard deviation.\n",
    "means = df[['ppltrst','pplfair','pplhlp']].mean(axis=0)\n",
    "stds = df[['ppltrst','pplfair','pplhlp']].std(axis=0)\n",
    "features['trust_fair_help'] = ((df[['ppltrst','pplfair','pplhlp']] - means) / stds).mean(axis=1)\n",
    "\n",
    "# Check how well the composite correlates with each of the individual variables.\n",
    "plotdf = df.loc[:, ['ppltrst', 'pplfair', 'pplhlp']]\n",
    "plotdf['trust_fair_help'] = features['trust_fair_help'] \n",
    "corrmat2 = plotdf.corr()\n",
    "\n",
    "print(corrmat2)"
   ]
  },
  {
   "cell_type": "code",
   "execution_count": null,
   "metadata": {
    "collapsed": true
   },
   "outputs": [],
   "source": [
    "# Reverse-coding the 'happy' variable so that higher scores mean less\n",
    "# happiness (and thus possibly more sadness).\n",
    "\n",
    "features['Sadness'] = max(df['happy']) - df['happy']\n",
    "\n",
    "sns.regplot(\n",
    "    df['tvtot'],\n",
    "    features['Sadness'],\n",
    "    x_jitter=.49,\n",
    "    y_jitter=.49,\n",
    "    scatter_kws={'alpha':0.3},\n",
    "    line_kws={'color':'black'},\n",
    "    ci=None\n",
    ")\n",
    "plt.xlabel('TV watching')\n",
    "plt.ylabel('Sadness')\n",
    "plt.show()"
   ]
  },
  {
   "cell_type": "code",
   "execution_count": null,
   "metadata": {
    "collapsed": true
   },
   "outputs": [],
   "source": [
    "# If this is the first time you're using scikit-learn you'll first want to do\n",
    "# pip install sklearn from your terminal to install the package.\n",
    "from sklearn import preprocessing\n",
    "\n",
    "# Select only numeric variables to scale.\n",
    "df_num = df.select_dtypes(include=[np.number]).dropna()\n",
    "\n",
    "# Save the column names.\n",
    "names=df_num.columns\n",
    "\n",
    "# Scale, then turn the resulting numpy array back into a data frame with the\n",
    "# correct column names.\n",
    "df_scaled = pd.DataFrame(preprocessing.scale(df_num), columns=names)\n",
    "\n",
    "# The new features contain all the information of the old ones, but on a new scale.\n",
    "plt.scatter(df_num['tvtot'], df_scaled['tvtot'])\n",
    "plt.show()\n",
    "\n",
    "# Lookit all those matching means and standard deviations!\n",
    "print(df_scaled.describe())"
   ]
  },
  {
   "cell_type": "code",
   "execution_count": null,
   "metadata": {
    "collapsed": true
   },
   "outputs": [],
   "source": [
    "# Create a better indicator for 'partner.' Currently it is coded 1 for\n",
    "# living with a partner and 2 for not living with a partner.\n",
    "features['LiveWithPartner'] = np.where(df['partner'] == 1, 1, 0)\n",
    "\n",
    "# Create the interaction.\n",
    "features['Sad_Partner'] = features['Sadness'] * features['LiveWithPartner']\n",
    "\n",
    "# A plot of an interaction.\n",
    "# Add the 'tvtot' feature to the features data frame for plotting.\n",
    "features['tvtot'] = df['tvtot']\n",
    "sns.lmplot(\n",
    "    x='Sadness',\n",
    "    y='tvtot',\n",
    "    hue='LiveWithPartner',\n",
    "    data=features,\n",
    "    scatter=False\n",
    ")\n",
    "plt.show()"
   ]
  }
 ],
 "metadata": {
  "kernelspec": {
   "display_name": "Python 3",
   "language": "python",
   "name": "python3"
  },
  "language_info": {
   "codemirror_mode": {
    "name": "ipython",
    "version": 3
   },
   "file_extension": ".py",
   "mimetype": "text/x-python",
   "name": "python",
   "nbconvert_exporter": "python",
   "pygments_lexer": "ipython3",
   "version": "3.6.5"
  }
 },
 "nbformat": 4,
 "nbformat_minor": 2
}
