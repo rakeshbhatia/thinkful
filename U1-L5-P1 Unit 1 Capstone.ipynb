{
 "cells": [
  {
   "cell_type": "code",
   "execution_count": 152,
   "metadata": {
    "collapsed": true
   },
   "outputs": [],
   "source": [
    "import numpy as np\n",
    "import pandas as pd\n",
    "import scipy\n",
    "import seaborn as sns\n",
    "from scipy import stats\n",
    "from collections import Counter\n",
    "from scipy.stats import ttest_ind\n",
    "import matplotlib.pyplot as plt\n",
    "import matplotlib.ticker as mtick\n",
    "%matplotlib inline"
   ]
  },
  {
   "cell_type": "markdown",
   "metadata": {},
   "source": [
    "# **Introduction**"
   ]
  },
  {
   "cell_type": "markdown",
   "metadata": {},
   "source": [
    "For this experiment we will use a dataset of NBA player statistics. This dataset contains a record of season averages for all active NBA players during the 2017-18 season, including advanced statistics. However, for the purposes of this analysis, we will pare down the data to just several entries and focus specifically on the variables PER (player efficiency rating, which primarily measures a player's overall offensive production) and TS% (true shooting percentage, which quantifies all aspects of a player's shooting efficiency into one stat)."
   ]
  },
  {
   "cell_type": "markdown",
   "metadata": {},
   "source": [
    "# **Exploring the Data**"
   ]
  },
  {
   "cell_type": "code",
   "execution_count": 153,
   "metadata": {
    "collapsed": true
   },
   "outputs": [],
   "source": [
    "nba = pd.read_csv('nba.csv')"
   ]
  },
  {
   "cell_type": "code",
   "execution_count": 154,
   "metadata": {},
   "outputs": [
    {
     "data": {
      "text/plain": [
       "(664, 29)"
      ]
     },
     "execution_count": 154,
     "metadata": {},
     "output_type": "execute_result"
    }
   ],
   "source": [
    "nba.shape"
   ]
  },
  {
   "cell_type": "code",
   "execution_count": 155,
   "metadata": {},
   "outputs": [
    {
     "data": {
      "text/html": [
       "<div>\n",
       "<style>\n",
       "    .dataframe thead tr:only-child th {\n",
       "        text-align: right;\n",
       "    }\n",
       "\n",
       "    .dataframe thead th {\n",
       "        text-align: left;\n",
       "    }\n",
       "\n",
       "    .dataframe tbody tr th {\n",
       "        vertical-align: top;\n",
       "    }\n",
       "</style>\n",
       "<table border=\"1\" class=\"dataframe\">\n",
       "  <thead>\n",
       "    <tr style=\"text-align: right;\">\n",
       "      <th></th>\n",
       "      <th>Rk</th>\n",
       "      <th>Age</th>\n",
       "      <th>G</th>\n",
       "      <th>MP</th>\n",
       "      <th>PER</th>\n",
       "      <th>TS%</th>\n",
       "      <th>3PAr</th>\n",
       "      <th>FTr</th>\n",
       "      <th>ORB%</th>\n",
       "      <th>DRB%</th>\n",
       "      <th>...</th>\n",
       "      <th>Unnamed: 19</th>\n",
       "      <th>OWS</th>\n",
       "      <th>DWS</th>\n",
       "      <th>WS</th>\n",
       "      <th>WS/48</th>\n",
       "      <th>Unnamed: 24</th>\n",
       "      <th>OBPM</th>\n",
       "      <th>DBPM</th>\n",
       "      <th>BPM</th>\n",
       "      <th>VORP</th>\n",
       "    </tr>\n",
       "  </thead>\n",
       "  <tbody>\n",
       "    <tr>\n",
       "      <th>count</th>\n",
       "      <td>664.000000</td>\n",
       "      <td>664.000000</td>\n",
       "      <td>664.000000</td>\n",
       "      <td>664.000000</td>\n",
       "      <td>664.000000</td>\n",
       "      <td>660.000000</td>\n",
       "      <td>660.000000</td>\n",
       "      <td>660.000000</td>\n",
       "      <td>664.000000</td>\n",
       "      <td>664.000000</td>\n",
       "      <td>...</td>\n",
       "      <td>0.0</td>\n",
       "      <td>664.000000</td>\n",
       "      <td>664.000000</td>\n",
       "      <td>664.000000</td>\n",
       "      <td>664.000000</td>\n",
       "      <td>0.0</td>\n",
       "      <td>664.000000</td>\n",
       "      <td>664.000000</td>\n",
       "      <td>664.000000</td>\n",
       "      <td>664.000000</td>\n",
       "    </tr>\n",
       "    <tr>\n",
       "      <th>mean</th>\n",
       "      <td>270.823795</td>\n",
       "      <td>26.194277</td>\n",
       "      <td>43.280120</td>\n",
       "      <td>972.881024</td>\n",
       "      <td>12.719880</td>\n",
       "      <td>0.528718</td>\n",
       "      <td>0.342206</td>\n",
       "      <td>0.249379</td>\n",
       "      <td>4.744428</td>\n",
       "      <td>14.918072</td>\n",
       "      <td>...</td>\n",
       "      <td>NaN</td>\n",
       "      <td>1.041265</td>\n",
       "      <td>0.974398</td>\n",
       "      <td>2.017771</td>\n",
       "      <td>0.071419</td>\n",
       "      <td>NaN</td>\n",
       "      <td>-1.669428</td>\n",
       "      <td>-0.715361</td>\n",
       "      <td>-2.384940</td>\n",
       "      <td>0.465211</td>\n",
       "    </tr>\n",
       "    <tr>\n",
       "      <th>std</th>\n",
       "      <td>154.830333</td>\n",
       "      <td>4.127665</td>\n",
       "      <td>27.743598</td>\n",
       "      <td>836.159716</td>\n",
       "      <td>8.713523</td>\n",
       "      <td>0.135837</td>\n",
       "      <td>0.233292</td>\n",
       "      <td>0.263980</td>\n",
       "      <td>4.552463</td>\n",
       "      <td>8.046967</td>\n",
       "      <td>...</td>\n",
       "      <td>NaN</td>\n",
       "      <td>1.757985</td>\n",
       "      <td>1.027690</td>\n",
       "      <td>2.571878</td>\n",
       "      <td>0.154053</td>\n",
       "      <td>NaN</td>\n",
       "      <td>5.093578</td>\n",
       "      <td>2.721298</td>\n",
       "      <td>6.079733</td>\n",
       "      <td>1.148930</td>\n",
       "    </tr>\n",
       "    <tr>\n",
       "      <th>min</th>\n",
       "      <td>1.000000</td>\n",
       "      <td>19.000000</td>\n",
       "      <td>1.000000</td>\n",
       "      <td>1.000000</td>\n",
       "      <td>-41.100000</td>\n",
       "      <td>0.000000</td>\n",
       "      <td>0.000000</td>\n",
       "      <td>0.000000</td>\n",
       "      <td>0.000000</td>\n",
       "      <td>0.000000</td>\n",
       "      <td>...</td>\n",
       "      <td>NaN</td>\n",
       "      <td>-2.400000</td>\n",
       "      <td>0.000000</td>\n",
       "      <td>-0.900000</td>\n",
       "      <td>-1.065000</td>\n",
       "      <td>NaN</td>\n",
       "      <td>-38.900000</td>\n",
       "      <td>-20.100000</td>\n",
       "      <td>-59.000000</td>\n",
       "      <td>-1.300000</td>\n",
       "    </tr>\n",
       "    <tr>\n",
       "      <th>25%</th>\n",
       "      <td>139.000000</td>\n",
       "      <td>23.000000</td>\n",
       "      <td>17.000000</td>\n",
       "      <td>186.000000</td>\n",
       "      <td>9.200000</td>\n",
       "      <td>0.494000</td>\n",
       "      <td>0.161750</td>\n",
       "      <td>0.143000</td>\n",
       "      <td>1.700000</td>\n",
       "      <td>10.075000</td>\n",
       "      <td>...</td>\n",
       "      <td>NaN</td>\n",
       "      <td>0.000000</td>\n",
       "      <td>0.100000</td>\n",
       "      <td>0.100000</td>\n",
       "      <td>0.028750</td>\n",
       "      <td>NaN</td>\n",
       "      <td>-3.300000</td>\n",
       "      <td>-1.900000</td>\n",
       "      <td>-4.225000</td>\n",
       "      <td>-0.100000</td>\n",
       "    </tr>\n",
       "    <tr>\n",
       "      <th>50%</th>\n",
       "      <td>266.500000</td>\n",
       "      <td>26.000000</td>\n",
       "      <td>46.000000</td>\n",
       "      <td>755.000000</td>\n",
       "      <td>12.650000</td>\n",
       "      <td>0.540000</td>\n",
       "      <td>0.355500</td>\n",
       "      <td>0.221000</td>\n",
       "      <td>3.200000</td>\n",
       "      <td>13.900000</td>\n",
       "      <td>...</td>\n",
       "      <td>NaN</td>\n",
       "      <td>0.400000</td>\n",
       "      <td>0.600000</td>\n",
       "      <td>1.100000</td>\n",
       "      <td>0.079000</td>\n",
       "      <td>NaN</td>\n",
       "      <td>-1.300000</td>\n",
       "      <td>-0.600000</td>\n",
       "      <td>-1.800000</td>\n",
       "      <td>0.000000</td>\n",
       "    </tr>\n",
       "    <tr>\n",
       "      <th>75%</th>\n",
       "      <td>401.250000</td>\n",
       "      <td>29.000000</td>\n",
       "      <td>71.000000</td>\n",
       "      <td>1651.500000</td>\n",
       "      <td>16.200000</td>\n",
       "      <td>0.581250</td>\n",
       "      <td>0.486250</td>\n",
       "      <td>0.313000</td>\n",
       "      <td>6.800000</td>\n",
       "      <td>18.925000</td>\n",
       "      <td>...</td>\n",
       "      <td>NaN</td>\n",
       "      <td>1.600000</td>\n",
       "      <td>1.500000</td>\n",
       "      <td>3.100000</td>\n",
       "      <td>0.120000</td>\n",
       "      <td>NaN</td>\n",
       "      <td>0.200000</td>\n",
       "      <td>0.700000</td>\n",
       "      <td>0.300000</td>\n",
       "      <td>0.700000</td>\n",
       "    </tr>\n",
       "    <tr>\n",
       "      <th>max</th>\n",
       "      <td>540.000000</td>\n",
       "      <td>41.000000</td>\n",
       "      <td>82.000000</td>\n",
       "      <td>3026.000000</td>\n",
       "      <td>133.800000</td>\n",
       "      <td>1.500000</td>\n",
       "      <td>1.000000</td>\n",
       "      <td>5.333000</td>\n",
       "      <td>36.000000</td>\n",
       "      <td>100.000000</td>\n",
       "      <td>...</td>\n",
       "      <td>NaN</td>\n",
       "      <td>11.600000</td>\n",
       "      <td>5.700000</td>\n",
       "      <td>15.400000</td>\n",
       "      <td>2.712000</td>\n",
       "      <td>NaN</td>\n",
       "      <td>68.600000</td>\n",
       "      <td>16.300000</td>\n",
       "      <td>54.400000</td>\n",
       "      <td>8.900000</td>\n",
       "    </tr>\n",
       "  </tbody>\n",
       "</table>\n",
       "<p>8 rows × 26 columns</p>\n",
       "</div>"
      ],
      "text/plain": [
       "               Rk         Age           G           MP         PER  \\\n",
       "count  664.000000  664.000000  664.000000   664.000000  664.000000   \n",
       "mean   270.823795   26.194277   43.280120   972.881024   12.719880   \n",
       "std    154.830333    4.127665   27.743598   836.159716    8.713523   \n",
       "min      1.000000   19.000000    1.000000     1.000000  -41.100000   \n",
       "25%    139.000000   23.000000   17.000000   186.000000    9.200000   \n",
       "50%    266.500000   26.000000   46.000000   755.000000   12.650000   \n",
       "75%    401.250000   29.000000   71.000000  1651.500000   16.200000   \n",
       "max    540.000000   41.000000   82.000000  3026.000000  133.800000   \n",
       "\n",
       "              TS%        3PAr         FTr        ORB%        DRB%     ...      \\\n",
       "count  660.000000  660.000000  660.000000  664.000000  664.000000     ...       \n",
       "mean     0.528718    0.342206    0.249379    4.744428   14.918072     ...       \n",
       "std      0.135837    0.233292    0.263980    4.552463    8.046967     ...       \n",
       "min      0.000000    0.000000    0.000000    0.000000    0.000000     ...       \n",
       "25%      0.494000    0.161750    0.143000    1.700000   10.075000     ...       \n",
       "50%      0.540000    0.355500    0.221000    3.200000   13.900000     ...       \n",
       "75%      0.581250    0.486250    0.313000    6.800000   18.925000     ...       \n",
       "max      1.500000    1.000000    5.333000   36.000000  100.000000     ...       \n",
       "\n",
       "       Unnamed: 19         OWS         DWS          WS       WS/48  \\\n",
       "count          0.0  664.000000  664.000000  664.000000  664.000000   \n",
       "mean           NaN    1.041265    0.974398    2.017771    0.071419   \n",
       "std            NaN    1.757985    1.027690    2.571878    0.154053   \n",
       "min            NaN   -2.400000    0.000000   -0.900000   -1.065000   \n",
       "25%            NaN    0.000000    0.100000    0.100000    0.028750   \n",
       "50%            NaN    0.400000    0.600000    1.100000    0.079000   \n",
       "75%            NaN    1.600000    1.500000    3.100000    0.120000   \n",
       "max            NaN   11.600000    5.700000   15.400000    2.712000   \n",
       "\n",
       "       Unnamed: 24        OBPM        DBPM         BPM        VORP  \n",
       "count          0.0  664.000000  664.000000  664.000000  664.000000  \n",
       "mean           NaN   -1.669428   -0.715361   -2.384940    0.465211  \n",
       "std            NaN    5.093578    2.721298    6.079733    1.148930  \n",
       "min            NaN  -38.900000  -20.100000  -59.000000   -1.300000  \n",
       "25%            NaN   -3.300000   -1.900000   -4.225000   -0.100000  \n",
       "50%            NaN   -1.300000   -0.600000   -1.800000    0.000000  \n",
       "75%            NaN    0.200000    0.700000    0.300000    0.700000  \n",
       "max            NaN   68.600000   16.300000   54.400000    8.900000  \n",
       "\n",
       "[8 rows x 26 columns]"
      ]
     },
     "execution_count": 155,
     "metadata": {},
     "output_type": "execute_result"
    }
   ],
   "source": [
    "nba.describe()"
   ]
  },
  {
   "cell_type": "code",
   "execution_count": 156,
   "metadata": {
    "scrolled": false
   },
   "outputs": [
    {
     "data": {
      "text/html": [
       "<div>\n",
       "<style>\n",
       "    .dataframe thead tr:only-child th {\n",
       "        text-align: right;\n",
       "    }\n",
       "\n",
       "    .dataframe thead th {\n",
       "        text-align: left;\n",
       "    }\n",
       "\n",
       "    .dataframe tbody tr th {\n",
       "        vertical-align: top;\n",
       "    }\n",
       "</style>\n",
       "<table border=\"1\" class=\"dataframe\">\n",
       "  <thead>\n",
       "    <tr style=\"text-align: right;\">\n",
       "      <th></th>\n",
       "      <th>Rk</th>\n",
       "      <th>Player</th>\n",
       "      <th>Pos</th>\n",
       "      <th>Age</th>\n",
       "      <th>Tm</th>\n",
       "      <th>G</th>\n",
       "      <th>MP</th>\n",
       "      <th>PER</th>\n",
       "      <th>TS%</th>\n",
       "      <th>3PAr</th>\n",
       "      <th>...</th>\n",
       "      <th>Unnamed: 19</th>\n",
       "      <th>OWS</th>\n",
       "      <th>DWS</th>\n",
       "      <th>WS</th>\n",
       "      <th>WS/48</th>\n",
       "      <th>Unnamed: 24</th>\n",
       "      <th>OBPM</th>\n",
       "      <th>DBPM</th>\n",
       "      <th>BPM</th>\n",
       "      <th>VORP</th>\n",
       "    </tr>\n",
       "  </thead>\n",
       "  <tbody>\n",
       "    <tr>\n",
       "      <th>0</th>\n",
       "      <td>1</td>\n",
       "      <td>Alex Abrines\\abrinal01</td>\n",
       "      <td>SG</td>\n",
       "      <td>24</td>\n",
       "      <td>OKC</td>\n",
       "      <td>75</td>\n",
       "      <td>1134</td>\n",
       "      <td>9.0</td>\n",
       "      <td>0.567</td>\n",
       "      <td>0.759</td>\n",
       "      <td>...</td>\n",
       "      <td>NaN</td>\n",
       "      <td>1.3</td>\n",
       "      <td>1.0</td>\n",
       "      <td>2.2</td>\n",
       "      <td>0.094</td>\n",
       "      <td>NaN</td>\n",
       "      <td>-0.5</td>\n",
       "      <td>-1.7</td>\n",
       "      <td>-2.2</td>\n",
       "      <td>-0.1</td>\n",
       "    </tr>\n",
       "    <tr>\n",
       "      <th>1</th>\n",
       "      <td>2</td>\n",
       "      <td>Quincy Acy\\acyqu01</td>\n",
       "      <td>PF</td>\n",
       "      <td>27</td>\n",
       "      <td>BRK</td>\n",
       "      <td>70</td>\n",
       "      <td>1359</td>\n",
       "      <td>8.2</td>\n",
       "      <td>0.525</td>\n",
       "      <td>0.800</td>\n",
       "      <td>...</td>\n",
       "      <td>NaN</td>\n",
       "      <td>-0.1</td>\n",
       "      <td>1.1</td>\n",
       "      <td>1.0</td>\n",
       "      <td>0.036</td>\n",
       "      <td>NaN</td>\n",
       "      <td>-2.0</td>\n",
       "      <td>-0.2</td>\n",
       "      <td>-2.2</td>\n",
       "      <td>-0.1</td>\n",
       "    </tr>\n",
       "    <tr>\n",
       "      <th>2</th>\n",
       "      <td>3</td>\n",
       "      <td>Steven Adams\\adamsst01</td>\n",
       "      <td>C</td>\n",
       "      <td>24</td>\n",
       "      <td>OKC</td>\n",
       "      <td>76</td>\n",
       "      <td>2487</td>\n",
       "      <td>20.6</td>\n",
       "      <td>0.630</td>\n",
       "      <td>0.003</td>\n",
       "      <td>...</td>\n",
       "      <td>NaN</td>\n",
       "      <td>6.7</td>\n",
       "      <td>3.0</td>\n",
       "      <td>9.7</td>\n",
       "      <td>0.187</td>\n",
       "      <td>NaN</td>\n",
       "      <td>2.2</td>\n",
       "      <td>1.1</td>\n",
       "      <td>3.3</td>\n",
       "      <td>3.3</td>\n",
       "    </tr>\n",
       "    <tr>\n",
       "      <th>3</th>\n",
       "      <td>4</td>\n",
       "      <td>Bam Adebayo\\adebaba01</td>\n",
       "      <td>C</td>\n",
       "      <td>20</td>\n",
       "      <td>MIA</td>\n",
       "      <td>69</td>\n",
       "      <td>1368</td>\n",
       "      <td>15.7</td>\n",
       "      <td>0.570</td>\n",
       "      <td>0.021</td>\n",
       "      <td>...</td>\n",
       "      <td>NaN</td>\n",
       "      <td>2.3</td>\n",
       "      <td>1.9</td>\n",
       "      <td>4.2</td>\n",
       "      <td>0.148</td>\n",
       "      <td>NaN</td>\n",
       "      <td>-1.6</td>\n",
       "      <td>1.8</td>\n",
       "      <td>0.2</td>\n",
       "      <td>0.8</td>\n",
       "    </tr>\n",
       "    <tr>\n",
       "      <th>4</th>\n",
       "      <td>5</td>\n",
       "      <td>Arron Afflalo\\afflaar01</td>\n",
       "      <td>SG</td>\n",
       "      <td>32</td>\n",
       "      <td>ORL</td>\n",
       "      <td>53</td>\n",
       "      <td>682</td>\n",
       "      <td>5.8</td>\n",
       "      <td>0.516</td>\n",
       "      <td>0.432</td>\n",
       "      <td>...</td>\n",
       "      <td>NaN</td>\n",
       "      <td>-0.1</td>\n",
       "      <td>0.2</td>\n",
       "      <td>0.1</td>\n",
       "      <td>0.009</td>\n",
       "      <td>NaN</td>\n",
       "      <td>-4.1</td>\n",
       "      <td>-1.8</td>\n",
       "      <td>-5.8</td>\n",
       "      <td>-0.7</td>\n",
       "    </tr>\n",
       "  </tbody>\n",
       "</table>\n",
       "<p>5 rows × 29 columns</p>\n",
       "</div>"
      ],
      "text/plain": [
       "   Rk                   Player Pos  Age   Tm   G    MP   PER    TS%   3PAr  \\\n",
       "0   1   Alex Abrines\\abrinal01  SG   24  OKC  75  1134   9.0  0.567  0.759   \n",
       "1   2       Quincy Acy\\acyqu01  PF   27  BRK  70  1359   8.2  0.525  0.800   \n",
       "2   3   Steven Adams\\adamsst01   C   24  OKC  76  2487  20.6  0.630  0.003   \n",
       "3   4    Bam Adebayo\\adebaba01   C   20  MIA  69  1368  15.7  0.570  0.021   \n",
       "4   5  Arron Afflalo\\afflaar01  SG   32  ORL  53   682   5.8  0.516  0.432   \n",
       "\n",
       "   ...   Unnamed: 19  OWS  DWS   WS  WS/48  Unnamed: 24  OBPM  DBPM  BPM  VORP  \n",
       "0  ...           NaN  1.3  1.0  2.2  0.094          NaN  -0.5  -1.7 -2.2  -0.1  \n",
       "1  ...           NaN -0.1  1.1  1.0  0.036          NaN  -2.0  -0.2 -2.2  -0.1  \n",
       "2  ...           NaN  6.7  3.0  9.7  0.187          NaN   2.2   1.1  3.3   3.3  \n",
       "3  ...           NaN  2.3  1.9  4.2  0.148          NaN  -1.6   1.8  0.2   0.8  \n",
       "4  ...           NaN -0.1  0.2  0.1  0.009          NaN  -4.1  -1.8 -5.8  -0.7  \n",
       "\n",
       "[5 rows x 29 columns]"
      ]
     },
     "execution_count": 156,
     "metadata": {},
     "output_type": "execute_result"
    }
   ],
   "source": [
    "nba.head()"
   ]
  },
  {
   "cell_type": "code",
   "execution_count": 157,
   "metadata": {
    "scrolled": false
   },
   "outputs": [
    {
     "data": {
      "text/html": [
       "<div>\n",
       "<style>\n",
       "    .dataframe thead tr:only-child th {\n",
       "        text-align: right;\n",
       "    }\n",
       "\n",
       "    .dataframe thead th {\n",
       "        text-align: left;\n",
       "    }\n",
       "\n",
       "    .dataframe tbody tr th {\n",
       "        vertical-align: top;\n",
       "    }\n",
       "</style>\n",
       "<table border=\"1\" class=\"dataframe\">\n",
       "  <thead>\n",
       "    <tr style=\"text-align: right;\">\n",
       "      <th></th>\n",
       "      <th>Player</th>\n",
       "      <th>Pos</th>\n",
       "      <th>Age</th>\n",
       "      <th>MP</th>\n",
       "      <th>PER</th>\n",
       "      <th>TS%</th>\n",
       "    </tr>\n",
       "  </thead>\n",
       "  <tbody>\n",
       "    <tr>\n",
       "      <th>0</th>\n",
       "      <td>Alex Abrines\\abrinal01</td>\n",
       "      <td>SG</td>\n",
       "      <td>24.0</td>\n",
       "      <td>1134.0</td>\n",
       "      <td>9.0</td>\n",
       "      <td>0.567</td>\n",
       "    </tr>\n",
       "    <tr>\n",
       "      <th>1</th>\n",
       "      <td>Quincy Acy\\acyqu01</td>\n",
       "      <td>PF</td>\n",
       "      <td>27.0</td>\n",
       "      <td>1359.0</td>\n",
       "      <td>8.2</td>\n",
       "      <td>0.525</td>\n",
       "    </tr>\n",
       "    <tr>\n",
       "      <th>2</th>\n",
       "      <td>Steven Adams\\adamsst01</td>\n",
       "      <td>C</td>\n",
       "      <td>24.0</td>\n",
       "      <td>2487.0</td>\n",
       "      <td>20.6</td>\n",
       "      <td>0.630</td>\n",
       "    </tr>\n",
       "    <tr>\n",
       "      <th>3</th>\n",
       "      <td>Bam Adebayo\\adebaba01</td>\n",
       "      <td>C</td>\n",
       "      <td>20.0</td>\n",
       "      <td>1368.0</td>\n",
       "      <td>15.7</td>\n",
       "      <td>0.570</td>\n",
       "    </tr>\n",
       "    <tr>\n",
       "      <th>4</th>\n",
       "      <td>Arron Afflalo\\afflaar01</td>\n",
       "      <td>SG</td>\n",
       "      <td>32.0</td>\n",
       "      <td>682.0</td>\n",
       "      <td>5.8</td>\n",
       "      <td>0.516</td>\n",
       "    </tr>\n",
       "  </tbody>\n",
       "</table>\n",
       "</div>"
      ],
      "text/plain": [
       "                    Player Pos   Age      MP   PER    TS%\n",
       "0   Alex Abrines\\abrinal01  SG  24.0  1134.0   9.0  0.567\n",
       "1       Quincy Acy\\acyqu01  PF  27.0  1359.0   8.2  0.525\n",
       "2   Steven Adams\\adamsst01   C  24.0  2487.0  20.6  0.630\n",
       "3    Bam Adebayo\\adebaba01   C  20.0  1368.0  15.7  0.570\n",
       "4  Arron Afflalo\\afflaar01  SG  32.0   682.0   5.8  0.516"
      ]
     },
     "execution_count": 157,
     "metadata": {},
     "output_type": "execute_result"
    }
   ],
   "source": [
    "nba = nba[['Player', 'Pos', 'Age', 'MP', 'PER', 'TS%']]\n",
    "\n",
    "nba.columns = ['Player',\n",
    "               'Pos',\n",
    "               'Age',\n",
    "               'MP',\n",
    "               'PER',\n",
    "               'TS%']\n",
    "\n",
    "columns_float = ['Age',\n",
    "                 'MP',\n",
    "                 'PER',\n",
    "                 'TS%',]\n",
    "\n",
    "nba[columns_float] = nba[columns_float].astype(float)\n",
    "\n",
    "nba.dropna(axis=0)\n",
    "\n",
    "nba.head()"
   ]
  },
  {
   "cell_type": "code",
   "execution_count": 158,
   "metadata": {
    "scrolled": true
   },
   "outputs": [
    {
     "data": {
      "image/png": "[encoded data removed]",
      "text/plain": [
       "<Figure size 1080x720 with 1 Axes>"
      ]
     },
     "metadata": {},
     "output_type": "display_data"
    }
   ],
   "source": [
    "plt.figure(figsize=(15,10))\n",
    "plt.subplot(2,1,1)\n",
    "\n",
    "g = sns.distplot(nba['PER'])\n",
    "\n",
    "g.set_title('PER Distribution')\n",
    "g.set_xlabel('PER')\n",
    "\n",
    "plt.show()"
   ]
  },
  {
   "cell_type": "code",
   "execution_count": 185,
   "metadata": {},
   "outputs": [
    {
     "data": {
      "image/png": "[encoded data removed]",
      "text/plain": [
       "<Figure size 1080x720 with 1 Axes>"
      ]
     },
     "metadata": {},
     "output_type": "display_data"
    }
   ],
   "source": [
    "plt.figure(figsize=(15,10))\n",
    "plt.subplot(2,1,1)\n",
    "\n",
    "g = sns.distplot(nba['TS%'])\n",
    "\n",
    "g.set_title('TS% Distribution')\n",
    "g.set_xlabel('TS%')\n",
    "\n",
    "plt.show()"
   ]
  },
  {
   "cell_type": "markdown",
   "metadata": {},
   "source": [
    "Both distributions appear close to normal. The overall TS% distribution appears to make sense. However, in the case of PER, there are some strange outliers; for example, negative values of PER or values above 50 don't make any sense. This seems to be caused by players who played a very limited amount of minutes. Thus, we will attempt to clean the data first by filtering out players who have played less than 100 minutes. Additionally, for the sake of simplicity, we will remove players who were traded mid-season (and thus appear multiple times in the data with separate stats for each team)."
   ]
  },
  {
   "cell_type": "markdown",
   "metadata": {},
   "source": [
    "# **Cleaning the Data**"
   ]
  },
  {
   "cell_type": "code",
   "execution_count": 159,
   "metadata": {
    "scrolled": true
   },
   "outputs": [
    {
     "data": {
      "text/html": [
       "<div>\n",
       "<style>\n",
       "    .dataframe thead tr:only-child th {\n",
       "        text-align: right;\n",
       "    }\n",
       "\n",
       "    .dataframe thead th {\n",
       "        text-align: left;\n",
       "    }\n",
       "\n",
       "    .dataframe tbody tr th {\n",
       "        vertical-align: top;\n",
       "    }\n",
       "</style>\n",
       "<table border=\"1\" class=\"dataframe\">\n",
       "  <thead>\n",
       "    <tr style=\"text-align: right;\">\n",
       "      <th></th>\n",
       "      <th>Player</th>\n",
       "      <th>Pos</th>\n",
       "      <th>Age</th>\n",
       "      <th>MP</th>\n",
       "      <th>PER</th>\n",
       "      <th>TS%</th>\n",
       "    </tr>\n",
       "  </thead>\n",
       "  <tbody>\n",
       "    <tr>\n",
       "      <th>0</th>\n",
       "      <td>Alex Abrines\\abrinal01</td>\n",
       "      <td>SG</td>\n",
       "      <td>24.0</td>\n",
       "      <td>1134.0</td>\n",
       "      <td>9.0</td>\n",
       "      <td>0.567</td>\n",
       "    </tr>\n",
       "    <tr>\n",
       "      <th>1</th>\n",
       "      <td>Quincy Acy\\acyqu01</td>\n",
       "      <td>PF</td>\n",
       "      <td>27.0</td>\n",
       "      <td>1359.0</td>\n",
       "      <td>8.2</td>\n",
       "      <td>0.525</td>\n",
       "    </tr>\n",
       "    <tr>\n",
       "      <th>2</th>\n",
       "      <td>Steven Adams\\adamsst01</td>\n",
       "      <td>C</td>\n",
       "      <td>24.0</td>\n",
       "      <td>2487.0</td>\n",
       "      <td>20.6</td>\n",
       "      <td>0.630</td>\n",
       "    </tr>\n",
       "    <tr>\n",
       "      <th>3</th>\n",
       "      <td>Bam Adebayo\\adebaba01</td>\n",
       "      <td>C</td>\n",
       "      <td>20.0</td>\n",
       "      <td>1368.0</td>\n",
       "      <td>15.7</td>\n",
       "      <td>0.570</td>\n",
       "    </tr>\n",
       "    <tr>\n",
       "      <th>4</th>\n",
       "      <td>Arron Afflalo\\afflaar01</td>\n",
       "      <td>SG</td>\n",
       "      <td>32.0</td>\n",
       "      <td>682.0</td>\n",
       "      <td>5.8</td>\n",
       "      <td>0.516</td>\n",
       "    </tr>\n",
       "  </tbody>\n",
       "</table>\n",
       "</div>"
      ],
      "text/plain": [
       "                    Player Pos   Age      MP   PER    TS%\n",
       "0   Alex Abrines\\abrinal01  SG  24.0  1134.0   9.0  0.567\n",
       "1       Quincy Acy\\acyqu01  PF  27.0  1359.0   8.2  0.525\n",
       "2   Steven Adams\\adamsst01   C  24.0  2487.0  20.6  0.630\n",
       "3    Bam Adebayo\\adebaba01   C  20.0  1368.0  15.7  0.570\n",
       "4  Arron Afflalo\\afflaar01  SG  32.0   682.0   5.8  0.516"
      ]
     },
     "execution_count": 159,
     "metadata": {},
     "output_type": "execute_result"
    }
   ],
   "source": [
    "nba = nba.drop_duplicates(subset=['Player'], keep=False)\n",
    "nba.head()"
   ]
  },
  {
   "cell_type": "code",
   "execution_count": 160,
   "metadata": {
    "scrolled": true
   },
   "outputs": [
    {
     "data": {
      "text/html": [
       "<div>\n",
       "<style>\n",
       "    .dataframe thead tr:only-child th {\n",
       "        text-align: right;\n",
       "    }\n",
       "\n",
       "    .dataframe thead th {\n",
       "        text-align: left;\n",
       "    }\n",
       "\n",
       "    .dataframe tbody tr th {\n",
       "        vertical-align: top;\n",
       "    }\n",
       "</style>\n",
       "<table border=\"1\" class=\"dataframe\">\n",
       "  <thead>\n",
       "    <tr style=\"text-align: right;\">\n",
       "      <th></th>\n",
       "      <th>Player</th>\n",
       "      <th>Pos</th>\n",
       "      <th>Age</th>\n",
       "      <th>MP</th>\n",
       "      <th>PER</th>\n",
       "      <th>TS%</th>\n",
       "    </tr>\n",
       "  </thead>\n",
       "  <tbody>\n",
       "    <tr>\n",
       "      <th>0</th>\n",
       "      <td>Alex Abrines\\abrinal01</td>\n",
       "      <td>SG</td>\n",
       "      <td>24.0</td>\n",
       "      <td>1134.0</td>\n",
       "      <td>9.0</td>\n",
       "      <td>0.567</td>\n",
       "    </tr>\n",
       "    <tr>\n",
       "      <th>1</th>\n",
       "      <td>Quincy Acy\\acyqu01</td>\n",
       "      <td>PF</td>\n",
       "      <td>27.0</td>\n",
       "      <td>1359.0</td>\n",
       "      <td>8.2</td>\n",
       "      <td>0.525</td>\n",
       "    </tr>\n",
       "    <tr>\n",
       "      <th>2</th>\n",
       "      <td>Steven Adams\\adamsst01</td>\n",
       "      <td>C</td>\n",
       "      <td>24.0</td>\n",
       "      <td>2487.0</td>\n",
       "      <td>20.6</td>\n",
       "      <td>0.630</td>\n",
       "    </tr>\n",
       "    <tr>\n",
       "      <th>3</th>\n",
       "      <td>Bam Adebayo\\adebaba01</td>\n",
       "      <td>C</td>\n",
       "      <td>20.0</td>\n",
       "      <td>1368.0</td>\n",
       "      <td>15.7</td>\n",
       "      <td>0.570</td>\n",
       "    </tr>\n",
       "    <tr>\n",
       "      <th>4</th>\n",
       "      <td>Arron Afflalo\\afflaar01</td>\n",
       "      <td>SG</td>\n",
       "      <td>32.0</td>\n",
       "      <td>682.0</td>\n",
       "      <td>5.8</td>\n",
       "      <td>0.516</td>\n",
       "    </tr>\n",
       "  </tbody>\n",
       "</table>\n",
       "</div>"
      ],
      "text/plain": [
       "                    Player Pos   Age      MP   PER    TS%\n",
       "0   Alex Abrines\\abrinal01  SG  24.0  1134.0   9.0  0.567\n",
       "1       Quincy Acy\\acyqu01  PF  27.0  1359.0   8.2  0.525\n",
       "2   Steven Adams\\adamsst01   C  24.0  2487.0  20.6  0.630\n",
       "3    Bam Adebayo\\adebaba01   C  20.0  1368.0  15.7  0.570\n",
       "4  Arron Afflalo\\afflaar01  SG  32.0   682.0   5.8  0.516"
      ]
     },
     "execution_count": 160,
     "metadata": {},
     "output_type": "execute_result"
    }
   ],
   "source": [
    "nba = nba[nba.MP >= 100]\n",
    "nba.head()"
   ]
  },
  {
   "cell_type": "code",
   "execution_count": 161,
   "metadata": {
    "scrolled": false
   },
   "outputs": [
    {
     "data": {
      "image/png": "[encoded data removed]",
      "text/plain": [
       "<Figure size 1080x720 with 1 Axes>"
      ]
     },
     "metadata": {},
     "output_type": "display_data"
    }
   ],
   "source": [
    "plt.figure(figsize=(15,10))\n",
    "plt.subplot(2,1,1)\n",
    "\n",
    "g = sns.distplot(nba['PER'])\n",
    "\n",
    "g.set_title('2017-18 NBA Player PER Distribution')\n",
    "g.set_xlabel('PER')\n",
    "\n",
    "plt.show()"
   ]
  },
  {
   "cell_type": "code",
   "execution_count": 184,
   "metadata": {},
   "outputs": [
    {
     "data": {
      "image/png": "[encoded data removed]",
      "text/plain": [
       "<Figure size 1080x720 with 1 Axes>"
      ]
     },
     "metadata": {},
     "output_type": "display_data"
    }
   ],
   "source": [
    "plt.figure(figsize=(15,10))\n",
    "plt.subplot(2,1,1)\n",
    "\n",
    "g = sns.distplot(nba['TS%'])\n",
    "\n",
    "g.set_title('2017-18 NBA Player TS% Distribution')\n",
    "g.set_xlabel('TS%')\n",
    "\n",
    "plt.show()"
   ]
  },
  {
   "cell_type": "markdown",
   "metadata": {},
   "source": [
    "Our TS% distribution plot didn't change much. However, our PER distribution plot did change. Notice how the range of the x-axis has been reduced, since our cleaned dataset now only contains PER values between 0 and 30. This is much more in line with the typical range of PER for players in the NBA. Anything outside of this general range should be considered an outlier, most likely due to playing limited minutes. Typically, the average player PER in the NBA is around 15, although we will measure it more precisely for the players in this dataset."
   ]
  },
  {
   "cell_type": "markdown",
   "metadata": {},
   "source": [
    "# **Research Proposal**"
   ]
  },
  {
   "cell_type": "markdown",
   "metadata": {},
   "source": [
    "Did NBA players age 28 and over (at the start of the 2017-18 NBA season) have a higher PER and TS%, on average, than players between 24 and 28?"
   ]
  },
  {
   "cell_type": "markdown",
   "metadata": {},
   "source": [
    "# **Hypothesis**"
   ]
  },
  {
   "cell_type": "markdown",
   "metadata": {},
   "source": [
    "I expect players age 28 and over to have a higher average PER and TS%, since they have more experience in the league and thus, probably have more well-developed basketball skills overall than the younger group."
   ]
  },
  {
   "cell_type": "markdown",
   "metadata": {},
   "source": [
    "# **Method of Testing**"
   ]
  },
  {
   "cell_type": "markdown",
   "metadata": {},
   "source": [
    "For this analysis, I will split the nba dataframe into two separate dataframes, divided into the separate age groups. Then, I will plot the distributions for both PER and TS%, as well as run a t-test to estimate whether the groups are statistically different."
   ]
  },
  {
   "cell_type": "code",
   "execution_count": 162,
   "metadata": {
    "scrolled": true
   },
   "outputs": [],
   "source": [
    "nba_young = nba[(nba['Age'] >= 24) & (nba['Age'] < 28)]\n",
    "nba_old = nba[nba['Age'] >= 28]"
   ]
  },
  {
   "cell_type": "code",
   "execution_count": 165,
   "metadata": {},
   "outputs": [
    {
     "data": {
      "text/html": [
       "<div>\n",
       "<style>\n",
       "    .dataframe thead tr:only-child th {\n",
       "        text-align: right;\n",
       "    }\n",
       "\n",
       "    .dataframe thead th {\n",
       "        text-align: left;\n",
       "    }\n",
       "\n",
       "    .dataframe tbody tr th {\n",
       "        vertical-align: top;\n",
       "    }\n",
       "</style>\n",
       "<table border=\"1\" class=\"dataframe\">\n",
       "  <thead>\n",
       "    <tr style=\"text-align: right;\">\n",
       "      <th></th>\n",
       "      <th>Player</th>\n",
       "      <th>Pos</th>\n",
       "      <th>Age</th>\n",
       "      <th>MP</th>\n",
       "      <th>PER</th>\n",
       "      <th>TS%</th>\n",
       "    </tr>\n",
       "  </thead>\n",
       "  <tbody>\n",
       "    <tr>\n",
       "      <th>0</th>\n",
       "      <td>Alex Abrines\\abrinal01</td>\n",
       "      <td>SG</td>\n",
       "      <td>24.0</td>\n",
       "      <td>1134.0</td>\n",
       "      <td>9.0</td>\n",
       "      <td>0.567</td>\n",
       "    </tr>\n",
       "    <tr>\n",
       "      <th>1</th>\n",
       "      <td>Quincy Acy\\acyqu01</td>\n",
       "      <td>PF</td>\n",
       "      <td>27.0</td>\n",
       "      <td>1359.0</td>\n",
       "      <td>8.2</td>\n",
       "      <td>0.525</td>\n",
       "    </tr>\n",
       "    <tr>\n",
       "      <th>2</th>\n",
       "      <td>Steven Adams\\adamsst01</td>\n",
       "      <td>C</td>\n",
       "      <td>24.0</td>\n",
       "      <td>2487.0</td>\n",
       "      <td>20.6</td>\n",
       "      <td>0.630</td>\n",
       "    </tr>\n",
       "    <tr>\n",
       "      <th>8</th>\n",
       "      <td>Kadeem Allen\\allenka01</td>\n",
       "      <td>PG</td>\n",
       "      <td>25.0</td>\n",
       "      <td>107.0</td>\n",
       "      <td>2.6</td>\n",
       "      <td>0.366</td>\n",
       "    </tr>\n",
       "    <tr>\n",
       "      <th>10</th>\n",
       "      <td>Al-Farouq Aminu\\aminual01</td>\n",
       "      <td>PF</td>\n",
       "      <td>27.0</td>\n",
       "      <td>2072.0</td>\n",
       "      <td>12.0</td>\n",
       "      <td>0.522</td>\n",
       "    </tr>\n",
       "  </tbody>\n",
       "</table>\n",
       "</div>"
      ],
      "text/plain": [
       "                       Player Pos   Age      MP   PER    TS%\n",
       "0      Alex Abrines\\abrinal01  SG  24.0  1134.0   9.0  0.567\n",
       "1          Quincy Acy\\acyqu01  PF  27.0  1359.0   8.2  0.525\n",
       "2      Steven Adams\\adamsst01   C  24.0  2487.0  20.6  0.630\n",
       "8      Kadeem Allen\\allenka01  PG  25.0   107.0   2.6  0.366\n",
       "10  Al-Farouq Aminu\\aminual01  PF  27.0  2072.0  12.0  0.522"
      ]
     },
     "execution_count": 165,
     "metadata": {},
     "output_type": "execute_result"
    }
   ],
   "source": [
    "nba_young.head()"
   ]
  },
  {
   "cell_type": "code",
   "execution_count": 167,
   "metadata": {},
   "outputs": [
    {
     "data": {
      "text/html": [
       "<div>\n",
       "<style>\n",
       "    .dataframe thead tr:only-child th {\n",
       "        text-align: right;\n",
       "    }\n",
       "\n",
       "    .dataframe thead th {\n",
       "        text-align: left;\n",
       "    }\n",
       "\n",
       "    .dataframe tbody tr th {\n",
       "        vertical-align: top;\n",
       "    }\n",
       "</style>\n",
       "<table border=\"1\" class=\"dataframe\">\n",
       "  <thead>\n",
       "    <tr style=\"text-align: right;\">\n",
       "      <th></th>\n",
       "      <th>Player</th>\n",
       "      <th>Pos</th>\n",
       "      <th>Age</th>\n",
       "      <th>MP</th>\n",
       "      <th>PER</th>\n",
       "      <th>TS%</th>\n",
       "    </tr>\n",
       "  </thead>\n",
       "  <tbody>\n",
       "    <tr>\n",
       "      <th>4</th>\n",
       "      <td>Arron Afflalo\\afflaar01</td>\n",
       "      <td>SG</td>\n",
       "      <td>32.0</td>\n",
       "      <td>682.0</td>\n",
       "      <td>5.8</td>\n",
       "      <td>0.516</td>\n",
       "    </tr>\n",
       "    <tr>\n",
       "      <th>6</th>\n",
       "      <td>LaMarcus Aldridge\\aldrila01</td>\n",
       "      <td>C</td>\n",
       "      <td>32.0</td>\n",
       "      <td>2509.0</td>\n",
       "      <td>25.0</td>\n",
       "      <td>0.570</td>\n",
       "    </tr>\n",
       "    <tr>\n",
       "      <th>9</th>\n",
       "      <td>Tony Allen\\allento01</td>\n",
       "      <td>SF</td>\n",
       "      <td>36.0</td>\n",
       "      <td>273.0</td>\n",
       "      <td>8.7</td>\n",
       "      <td>0.514</td>\n",
       "    </tr>\n",
       "    <tr>\n",
       "      <th>13</th>\n",
       "      <td>Ryan Anderson\\anderry01</td>\n",
       "      <td>PF</td>\n",
       "      <td>29.0</td>\n",
       "      <td>1725.0</td>\n",
       "      <td>12.6</td>\n",
       "      <td>0.592</td>\n",
       "    </tr>\n",
       "    <tr>\n",
       "      <th>16</th>\n",
       "      <td>Carmelo Anthony\\anthoca01</td>\n",
       "      <td>PF</td>\n",
       "      <td>33.0</td>\n",
       "      <td>2501.0</td>\n",
       "      <td>12.7</td>\n",
       "      <td>0.503</td>\n",
       "    </tr>\n",
       "  </tbody>\n",
       "</table>\n",
       "</div>"
      ],
      "text/plain": [
       "                         Player Pos   Age      MP   PER    TS%\n",
       "4       Arron Afflalo\\afflaar01  SG  32.0   682.0   5.8  0.516\n",
       "6   LaMarcus Aldridge\\aldrila01   C  32.0  2509.0  25.0  0.570\n",
       "9          Tony Allen\\allento01  SF  36.0   273.0   8.7  0.514\n",
       "13      Ryan Anderson\\anderry01  PF  29.0  1725.0  12.6  0.592\n",
       "16    Carmelo Anthony\\anthoca01  PF  33.0  2501.0  12.7  0.503"
      ]
     },
     "execution_count": 167,
     "metadata": {},
     "output_type": "execute_result"
    }
   ],
   "source": [
    "nba_old.head()"
   ]
  },
  {
   "cell_type": "code",
   "execution_count": 166,
   "metadata": {
    "scrolled": true
   },
   "outputs": [
    {
     "data": {
      "text/html": [
       "<div>\n",
       "<style>\n",
       "    .dataframe thead tr:only-child th {\n",
       "        text-align: right;\n",
       "    }\n",
       "\n",
       "    .dataframe thead th {\n",
       "        text-align: left;\n",
       "    }\n",
       "\n",
       "    .dataframe tbody tr th {\n",
       "        vertical-align: top;\n",
       "    }\n",
       "</style>\n",
       "<table border=\"1\" class=\"dataframe\">\n",
       "  <thead>\n",
       "    <tr style=\"text-align: right;\">\n",
       "      <th></th>\n",
       "      <th>Age</th>\n",
       "      <th>MP</th>\n",
       "      <th>PER</th>\n",
       "      <th>TS%</th>\n",
       "    </tr>\n",
       "  </thead>\n",
       "  <tbody>\n",
       "    <tr>\n",
       "      <th>count</th>\n",
       "      <td>138.000000</td>\n",
       "      <td>138.000000</td>\n",
       "      <td>138.000000</td>\n",
       "      <td>138.000000</td>\n",
       "    </tr>\n",
       "    <tr>\n",
       "      <th>mean</th>\n",
       "      <td>25.355072</td>\n",
       "      <td>1371.942029</td>\n",
       "      <td>13.847101</td>\n",
       "      <td>0.546384</td>\n",
       "    </tr>\n",
       "    <tr>\n",
       "      <th>std</th>\n",
       "      <td>1.132149</td>\n",
       "      <td>814.308742</td>\n",
       "      <td>4.925729</td>\n",
       "      <td>0.061312</td>\n",
       "    </tr>\n",
       "    <tr>\n",
       "      <th>min</th>\n",
       "      <td>24.000000</td>\n",
       "      <td>104.000000</td>\n",
       "      <td>2.200000</td>\n",
       "      <td>0.332000</td>\n",
       "    </tr>\n",
       "    <tr>\n",
       "      <th>25%</th>\n",
       "      <td>24.000000</td>\n",
       "      <td>606.750000</td>\n",
       "      <td>10.425000</td>\n",
       "      <td>0.521250</td>\n",
       "    </tr>\n",
       "    <tr>\n",
       "      <th>50%</th>\n",
       "      <td>25.000000</td>\n",
       "      <td>1402.500000</td>\n",
       "      <td>13.450000</td>\n",
       "      <td>0.547000</td>\n",
       "    </tr>\n",
       "    <tr>\n",
       "      <th>75%</th>\n",
       "      <td>26.000000</td>\n",
       "      <td>2012.500000</td>\n",
       "      <td>16.800000</td>\n",
       "      <td>0.583000</td>\n",
       "    </tr>\n",
       "    <tr>\n",
       "      <th>max</th>\n",
       "      <td>27.000000</td>\n",
       "      <td>2982.000000</td>\n",
       "      <td>28.900000</td>\n",
       "      <td>0.676000</td>\n",
       "    </tr>\n",
       "  </tbody>\n",
       "</table>\n",
       "</div>"
      ],
      "text/plain": [
       "              Age           MP         PER         TS%\n",
       "count  138.000000   138.000000  138.000000  138.000000\n",
       "mean    25.355072  1371.942029   13.847101    0.546384\n",
       "std      1.132149   814.308742    4.925729    0.061312\n",
       "min     24.000000   104.000000    2.200000    0.332000\n",
       "25%     24.000000   606.750000   10.425000    0.521250\n",
       "50%     25.000000  1402.500000   13.450000    0.547000\n",
       "75%     26.000000  2012.500000   16.800000    0.583000\n",
       "max     27.000000  2982.000000   28.900000    0.676000"
      ]
     },
     "execution_count": 166,
     "metadata": {},
     "output_type": "execute_result"
    }
   ],
   "source": [
    "nba_young.describe()"
   ]
  },
  {
   "cell_type": "code",
   "execution_count": 168,
   "metadata": {},
   "outputs": [
    {
     "data": {
      "text/html": [
       "<div>\n",
       "<style>\n",
       "    .dataframe thead tr:only-child th {\n",
       "        text-align: right;\n",
       "    }\n",
       "\n",
       "    .dataframe thead th {\n",
       "        text-align: left;\n",
       "    }\n",
       "\n",
       "    .dataframe tbody tr th {\n",
       "        vertical-align: top;\n",
       "    }\n",
       "</style>\n",
       "<table border=\"1\" class=\"dataframe\">\n",
       "  <thead>\n",
       "    <tr style=\"text-align: right;\">\n",
       "      <th></th>\n",
       "      <th>Age</th>\n",
       "      <th>MP</th>\n",
       "      <th>PER</th>\n",
       "      <th>TS%</th>\n",
       "    </tr>\n",
       "  </thead>\n",
       "  <tbody>\n",
       "    <tr>\n",
       "      <th>count</th>\n",
       "      <td>137.000000</td>\n",
       "      <td>137.000000</td>\n",
       "      <td>137.000000</td>\n",
       "      <td>137.000000</td>\n",
       "    </tr>\n",
       "    <tr>\n",
       "      <th>mean</th>\n",
       "      <td>31.014599</td>\n",
       "      <td>1441.890511</td>\n",
       "      <td>14.420438</td>\n",
       "      <td>0.560022</td>\n",
       "    </tr>\n",
       "    <tr>\n",
       "      <th>std</th>\n",
       "      <td>2.872244</td>\n",
       "      <td>765.078184</td>\n",
       "      <td>4.937121</td>\n",
       "      <td>0.052500</td>\n",
       "    </tr>\n",
       "    <tr>\n",
       "      <th>min</th>\n",
       "      <td>28.000000</td>\n",
       "      <td>115.000000</td>\n",
       "      <td>4.000000</td>\n",
       "      <td>0.398000</td>\n",
       "    </tr>\n",
       "    <tr>\n",
       "      <th>25%</th>\n",
       "      <td>29.000000</td>\n",
       "      <td>814.000000</td>\n",
       "      <td>11.400000</td>\n",
       "      <td>0.529000</td>\n",
       "    </tr>\n",
       "    <tr>\n",
       "      <th>50%</th>\n",
       "      <td>30.000000</td>\n",
       "      <td>1486.000000</td>\n",
       "      <td>13.900000</td>\n",
       "      <td>0.556000</td>\n",
       "    </tr>\n",
       "    <tr>\n",
       "      <th>75%</th>\n",
       "      <td>32.000000</td>\n",
       "      <td>2043.000000</td>\n",
       "      <td>16.600000</td>\n",
       "      <td>0.594000</td>\n",
       "    </tr>\n",
       "    <tr>\n",
       "      <th>max</th>\n",
       "      <td>41.000000</td>\n",
       "      <td>3026.000000</td>\n",
       "      <td>29.800000</td>\n",
       "      <td>0.696000</td>\n",
       "    </tr>\n",
       "  </tbody>\n",
       "</table>\n",
       "</div>"
      ],
      "text/plain": [
       "              Age           MP         PER         TS%\n",
       "count  137.000000   137.000000  137.000000  137.000000\n",
       "mean    31.014599  1441.890511   14.420438    0.560022\n",
       "std      2.872244   765.078184    4.937121    0.052500\n",
       "min     28.000000   115.000000    4.000000    0.398000\n",
       "25%     29.000000   814.000000   11.400000    0.529000\n",
       "50%     30.000000  1486.000000   13.900000    0.556000\n",
       "75%     32.000000  2043.000000   16.600000    0.594000\n",
       "max     41.000000  3026.000000   29.800000    0.696000"
      ]
     },
     "execution_count": 168,
     "metadata": {},
     "output_type": "execute_result"
    }
   ],
   "source": [
    "nba_old.describe()"
   ]
  },
  {
   "cell_type": "code",
   "execution_count": 169,
   "metadata": {},
   "outputs": [
    {
     "name": "stdout",
     "output_type": "stream",
     "text": [
      "(138, 6)\n",
      "Avg PER:  13.847101449275366\n",
      "Avg TS%:  0.5463840579710145\n"
     ]
    }
   ],
   "source": [
    "print(nba_young.shape)\n",
    "print('Avg PER: ', nba_young['PER'].mean())\n",
    "print('Avg TS%: ', nba_young['TS%'].mean())"
   ]
  },
  {
   "cell_type": "code",
   "execution_count": 170,
   "metadata": {},
   "outputs": [
    {
     "name": "stdout",
     "output_type": "stream",
     "text": [
      "(137, 6)\n",
      "Avg PER:  14.420437956204385\n",
      "Avg TS%:  0.5600218978102192\n"
     ]
    }
   ],
   "source": [
    "print(nba_old.shape)\n",
    "print('Avg PER: ', nba_old['PER'].mean())\n",
    "print('Avg TS%: ', nba_old['TS%'].mean())"
   ]
  },
  {
   "cell_type": "code",
   "execution_count": 182,
   "metadata": {
    "scrolled": true
   },
   "outputs": [
    {
     "data": {
      "image/png": "[encoded data removed]",
      "text/plain": [
       "<Figure size 1080x720 with 3 Axes>"
      ]
     },
     "metadata": {},
     "output_type": "display_data"
    }
   ],
   "source": [
    "plt.figure(figsize=(15,10))\n",
    "\n",
    "plt.subplot(311)\n",
    "sns.distplot(nba_young['PER'], color='g', label='PER (age 24 to 28)')\n",
    "plt.legend(loc='upper right')\n",
    "plt.xlabel('PER')\n",
    "plt.title('2017-18 NBA Player PER Distributions')\n",
    "\n",
    "plt.subplot(312)\n",
    "sns.distplot(nba_old['PER'], label='PER (age 28 and over)')\n",
    "plt.legend(loc='upper right')\n",
    "plt.xlabel('PER')\n",
    "\n",
    "plt.subplot(313)\n",
    "sns.distplot(nba_young['PER'], label='PER (age 24 to 28)')\n",
    "sns.distplot(nba_old['PER'], label='PER (age 28 and over)')\n",
    "plt.legend(loc='upper right')\n",
    "plt.xlabel('PER')\n",
    "\n",
    "plt.show()"
   ]
  },
  {
   "cell_type": "code",
   "execution_count": 183,
   "metadata": {},
   "outputs": [
    {
     "data": {
      "image/png": "[encoded data removed]",
      "text/plain": [
       "<Figure size 1080x720 with 3 Axes>"
      ]
     },
     "metadata": {},
     "output_type": "display_data"
    }
   ],
   "source": [
    "plt.figure(figsize=(15,10))\n",
    "\n",
    "plt.subplot(311)\n",
    "sns.distplot(nba_young['TS%'], color='g', label='TS% (age 24 to 28)')\n",
    "plt.legend(loc='upper right')\n",
    "plt.xlabel('TS%')\n",
    "plt.title('2017-18 NBA Player TS% Distributions')\n",
    "\n",
    "plt.subplot(312)\n",
    "sns.distplot(nba_old['TS%'], label='TS% (age 28 and over)')\n",
    "plt.legend(loc='upper right')\n",
    "plt.xlabel('TS%')\n",
    "\n",
    "plt.subplot(313)\n",
    "sns.distplot(nba_young['TS%'], label='TS% (age 24 to 28)')\n",
    "sns.distplot(nba_old['TS%'], label='TS% (age 28 and over)')\n",
    "plt.legend(loc='upper right')\n",
    "plt.xlabel('TS%')\n",
    "\n",
    "plt.show()"
   ]
  },
  {
   "cell_type": "code",
   "execution_count": 173,
   "metadata": {},
   "outputs": [
    {
     "data": {
      "text/plain": [
       "Ttest_indResult(statistic=-0.96398925855510786, pvalue=0.33590442332723436)"
      ]
     },
     "execution_count": 173,
     "metadata": {},
     "output_type": "execute_result"
    }
   ],
   "source": [
    "stats.ttest_ind(nba_young['PER'], nba_old['PER'])"
   ]
  },
  {
   "cell_type": "code",
   "execution_count": 174,
   "metadata": {},
   "outputs": [
    {
     "data": {
      "text/plain": [
       "Ttest_indResult(statistic=-1.9806197867501298, pvalue=0.048637554847780193)"
      ]
     },
     "execution_count": 174,
     "metadata": {},
     "output_type": "execute_result"
    }
   ],
   "source": [
    "stats.ttest_ind(nba_young['TS%'], nba_old['TS%'])"
   ]
  },
  {
   "cell_type": "markdown",
   "metadata": {},
   "source": [
    "The average PER for the younger group was 13.85, while the older group had a slightly higher average PER of 14.42. Meanwhile, the average TS% for the younger group was 54.6%, while the average TS% for the older group was also higher, at 56.0%. Thus, from looking at the mean values, our initial suspicions are confirmed. However, the distribution plots and t-test results paint a slightly different picture, at least for PER. Our p-value for PER was not low, at 0.336, which means that as far as PER is concerned, the two groups are not statistically different. Thus, we must reject our null hypothesis. This is surprising, but could also be caused by inherent bias in the sample. On the other hand, our p-value for TS% was low, at only 0.0486, so it is good enough for us to not reject our null hypothesis. Thus, as far as TS% is concerned, the two samples are significantly different, and it is reasonable to conclude that, on average, the older group of NBA players had a significantly higher TS% than those in the younger group. Future studies could be improved by looking at other variables that affect player performance, and trying to remove further bias by accounting for these variables."
   ]
  }
 ],
 "metadata": {
  "kernelspec": {
   "display_name": "Python 3",
   "language": "python",
   "name": "python3"
  },
  "language_info": {
   "codemirror_mode": {
    "name": "ipython",
    "version": 3
   },
   "file_extension": ".py",
   "mimetype": "text/x-python",
   "name": "python",
   "nbconvert_exporter": "python",
   "pygments_lexer": "ipython3",
   "version": "3.6.5"
  }
 },
 "nbformat": 4,
 "nbformat_minor": 2
}
