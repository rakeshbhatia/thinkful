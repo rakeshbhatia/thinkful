{
 "cells": [
  {
   "cell_type": "markdown",
   "metadata": {},
   "source": [
    "Since we have cost and price information for the goods, we can calculate the profit derived from the sale of each individual item. We also have user session information for each user in the presence of the advertisement, and we can determine the percentage of users that converted from an advertisement for each separate product. However, there will be multiple scenarios, as below:\n",
    "\n",
    "   1) User clicks on ad for specific product, and doesn't purchase anything\n",
    "   2) User clicks on ad for specific product, and purchases that same product\n",
    "   3) User clicks on ad for specific product, and purchases a different product\n",
    "\n",
    "We can calculate the expected profit for each of these scenarios, for each particular product advertisement, with the user session data. Then we can calculate the expected profit for scenarios 2 and 3 above (scenario 1 will be 0), for each product, and add these values together to get the total expected profit stemming from that particular product advertisement. In order to choose the featured item, we can simply choose the product that generates the highest expected profit, according to our data."
   ]
  },
  {
   "cell_type": "markdown",
   "metadata": {},
   "source": [
    "On a user level we have information on what steps they have completed, and timestamps for each of these events (going back 3 years). We also have weekly marketing spending. We have the last step completed by each user. We can calculate three separate ratios for those users that completed through step 1, step 2, or step 3. By calculating these separate ratios, we can see which step appears to be the biggest hindrance to user signup. Then, once we have this data, we can randomly survey a portion of the users who completed the signup, as well as a portion of the users who didn't complete the signup. Surveying these users will enable us to get more information on what they felt was a problem during the signup process, and will potentially give the company ideas to streamline its signup process."
   ]
  },
  {
   "cell_type": "markdown",
   "metadata": {},
   "source": [
    "Hotel websites typically allow a user to set filters when searching for a particular hotel. Since we have session information for the user, we can extract these filters, or preferences, that they set during the search process. Then, we can tailor the hotel ranking system based on such filters (i.e. smoking/non-smoking, floor, suite vs. room, etc.). The hotel listings can be ranked with some combination of price and these other filters, based upon how many of the  the user's preferences are met by the hotel. Additionally, to tailor it further, you could ask the user to provide their top five priorities when looking for a hotel, and rank them from 1-5. For example, a user might say, in order: price, bottom floor, non-smoking, suite, king bed. Thus, we would put a higher emphasis on those factors that the user placed higher on the list, and filter the available hotels based upon these prioritized factors."
   ]
  },
  {
   "cell_type": "markdown",
   "metadata": {},
   "source": [
    "The concept of churn is closely related to average customer lifetime. As the wikipedia page describes, a distinction should be made between \"gross churn\" and \"net churn.\" \"Gross churn\" is the total number of absolute disconnections, while \"net churn\" is the overall loss of subscribers or members. Thus, with this distinction in mind, we need to calculate the percentage of subscribers in a given year that churned out, along with the percentage of subscribers from a single month who churned out in that same month the following year. This second calculation is the cohort-based approach, which allows you to calculate the survival rate and average customer life, while the first approach is just an aggregate approach."
   ]
  }
 ],
 "metadata": {
  "kernelspec": {
   "display_name": "Python 3",
   "language": "python",
   "name": "python3"
  },
  "language_info": {
   "codemirror_mode": {
    "name": "ipython",
    "version": 3
   },
   "file_extension": ".py",
   "mimetype": "text/x-python",
   "name": "python",
   "nbconvert_exporter": "python",
   "pygments_lexer": "ipython3",
   "version": "3.6.5"
  }
 },
 "nbformat": 4,
 "nbformat_minor": 2
}
