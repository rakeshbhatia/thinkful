{
 "cells": [
  {
   "cell_type": "code",
   "execution_count": 41,
   "metadata": {
    "collapsed": true
   },
   "outputs": [],
   "source": [
    "import pandas as pd\n",
    "import numpy as np\n",
    "import matplotlib.pyplot as plt\n",
    "%matplotlib inline"
   ]
  },
  {
   "cell_type": "code",
   "execution_count": 42,
   "metadata": {},
   "outputs": [
    {
     "data": {
      "text/html": [
       "<div>\n",
       "<style>\n",
       "    .dataframe thead tr:only-child th {\n",
       "        text-align: right;\n",
       "    }\n",
       "\n",
       "    .dataframe thead th {\n",
       "        text-align: left;\n",
       "    }\n",
       "\n",
       "    .dataframe tbody tr th {\n",
       "        vertical-align: top;\n",
       "    }\n",
       "</style>\n",
       "<table border=\"1\" class=\"dataframe\">\n",
       "  <thead>\n",
       "    <tr style=\"text-align: right;\">\n",
       "      <th></th>\n",
       "      <th>country</th>\n",
       "      <th>region</th>\n",
       "      <th>tfr</th>\n",
       "      <th>contraception</th>\n",
       "      <th>educationMale</th>\n",
       "      <th>educationFemale</th>\n",
       "      <th>lifeMale</th>\n",
       "      <th>lifeFemale</th>\n",
       "      <th>infantMortality</th>\n",
       "      <th>GDPperCapita</th>\n",
       "      <th>economicActivityMale</th>\n",
       "      <th>economicActivityFemale</th>\n",
       "      <th>illiteracyMale</th>\n",
       "      <th>illiteracyFemale</th>\n",
       "    </tr>\n",
       "  </thead>\n",
       "  <tbody>\n",
       "    <tr>\n",
       "      <th>2</th>\n",
       "      <td>Algeria</td>\n",
       "      <td>Africa</td>\n",
       "      <td>3.81</td>\n",
       "      <td>52.0</td>\n",
       "      <td>11.1</td>\n",
       "      <td>9.9</td>\n",
       "      <td>67.5</td>\n",
       "      <td>70.3</td>\n",
       "      <td>44.0</td>\n",
       "      <td>1531.0</td>\n",
       "      <td>76.4</td>\n",
       "      <td>7.8</td>\n",
       "      <td>26.100</td>\n",
       "      <td>51.000</td>\n",
       "    </tr>\n",
       "    <tr>\n",
       "      <th>12</th>\n",
       "      <td>Bahamas</td>\n",
       "      <td>America</td>\n",
       "      <td>1.95</td>\n",
       "      <td>62.0</td>\n",
       "      <td>12.1</td>\n",
       "      <td>13.2</td>\n",
       "      <td>70.5</td>\n",
       "      <td>77.1</td>\n",
       "      <td>14.0</td>\n",
       "      <td>12545.0</td>\n",
       "      <td>81.2</td>\n",
       "      <td>67.0</td>\n",
       "      <td>1.500</td>\n",
       "      <td>2.000</td>\n",
       "    </tr>\n",
       "    <tr>\n",
       "      <th>13</th>\n",
       "      <td>Bahrain</td>\n",
       "      <td>Asia</td>\n",
       "      <td>2.97</td>\n",
       "      <td>53.0</td>\n",
       "      <td>12.6</td>\n",
       "      <td>13.3</td>\n",
       "      <td>71.1</td>\n",
       "      <td>75.3</td>\n",
       "      <td>18.0</td>\n",
       "      <td>9073.0</td>\n",
       "      <td>88.2</td>\n",
       "      <td>29.2</td>\n",
       "      <td>10.900</td>\n",
       "      <td>20.600</td>\n",
       "    </tr>\n",
       "    <tr>\n",
       "      <th>18</th>\n",
       "      <td>Belize</td>\n",
       "      <td>America</td>\n",
       "      <td>3.66</td>\n",
       "      <td>47.0</td>\n",
       "      <td>10.6</td>\n",
       "      <td>10.4</td>\n",
       "      <td>73.4</td>\n",
       "      <td>76.1</td>\n",
       "      <td>30.0</td>\n",
       "      <td>2569.0</td>\n",
       "      <td>79.0</td>\n",
       "      <td>34.0</td>\n",
       "      <td>21.252</td>\n",
       "      <td>23.472</td>\n",
       "    </tr>\n",
       "    <tr>\n",
       "      <th>23</th>\n",
       "      <td>Botswana</td>\n",
       "      <td>Africa</td>\n",
       "      <td>4.45</td>\n",
       "      <td>33.0</td>\n",
       "      <td>10.5</td>\n",
       "      <td>10.7</td>\n",
       "      <td>48.9</td>\n",
       "      <td>51.7</td>\n",
       "      <td>56.0</td>\n",
       "      <td>3640.0</td>\n",
       "      <td>75.4</td>\n",
       "      <td>41.7</td>\n",
       "      <td>19.500</td>\n",
       "      <td>40.100</td>\n",
       "    </tr>\n",
       "  </tbody>\n",
       "</table>\n",
       "</div>"
      ],
      "text/plain": [
       "     country   region   tfr  contraception  educationMale  educationFemale  \\\n",
       "2    Algeria   Africa  3.81           52.0           11.1              9.9   \n",
       "12   Bahamas  America  1.95           62.0           12.1             13.2   \n",
       "13   Bahrain     Asia  2.97           53.0           12.6             13.3   \n",
       "18    Belize  America  3.66           47.0           10.6             10.4   \n",
       "23  Botswana   Africa  4.45           33.0           10.5             10.7   \n",
       "\n",
       "    lifeMale  lifeFemale  infantMortality  GDPperCapita  economicActivityMale  \\\n",
       "2       67.5        70.3             44.0        1531.0                  76.4   \n",
       "12      70.5        77.1             14.0       12545.0                  81.2   \n",
       "13      71.1        75.3             18.0        9073.0                  88.2   \n",
       "18      73.4        76.1             30.0        2569.0                  79.0   \n",
       "23      48.9        51.7             56.0        3640.0                  75.4   \n",
       "\n",
       "    economicActivityFemale  illiteracyMale  illiteracyFemale  \n",
       "2                      7.8          26.100            51.000  \n",
       "12                    67.0           1.500             2.000  \n",
       "13                    29.2          10.900            20.600  \n",
       "18                    34.0          21.252            23.472  \n",
       "23                    41.7          19.500            40.100  "
      ]
     },
     "execution_count": 42,
     "metadata": {},
     "output_type": "execute_result"
    }
   ],
   "source": [
    "df = pd.read_csv('un.csv')\n",
    "df.dropna(inplace=True)\n",
    "df.head()\n",
    "#df.columns = ['buying', 'maint', 'doors', 'persons', 'lug_boot', 'safety', 'overall']"
   ]
  },
  {
   "cell_type": "code",
   "execution_count": 51,
   "metadata": {},
   "outputs": [
    {
     "data": {
      "image/png": "[encoded data removed]",
      "text/plain": [
       "<Figure size 432x288 with 1 Axes>"
      ]
     },
     "metadata": {},
     "output_type": "display_data"
    },
    {
     "data": {
      "image/png": "[encoded data removed]",
      "text/plain": [
       "<Figure size 432x288 with 1 Axes>"
      ]
     },
     "metadata": {},
     "output_type": "display_data"
    }
   ],
   "source": [
    "plt.subplot(1, 2, 1)\n",
    "plt.scatter(x = df['educationMale'], y = df['economicActivityMale'], color='green')\n",
    "plt.xlabel('Male Education Rate')\n",
    "plt.ylabel('Male Economic Activity')\n",
    "plt.title('Male Economic Activity')\n",
    "plt.show()\n",
    "\n",
    "#In the first plot we can see a loose correlation between male education rate\n",
    "#and male economic activity. It shows that a higher male education rate usually\n",
    "#leads to a higher economic activity, which makes sense. The more educated\n",
    "#you are, the more likely you are to have a good source of income which\n",
    "#enables you to spend money and be 'economically active'.\n",
    "\n",
    "plt.subplot(1, 2, 2)\n",
    "plt.scatter(x = df['educationFemale'], y = df['economicActivityFemale'], color='blue')\n",
    "plt.xlabel('Female Education Rate')\n",
    "plt.ylabel('Female Economic Activity')\n",
    "plt.title('Female Economic Activity')\n",
    "plt.show()\n",
    "\n",
    "#In the second plot we can also see a loose correlation between female education rate\n",
    "#and female economic activity, just as with the men's plot above. However, in this case\n",
    "#there are some odd outliers on the left showing a high economic activity for a low\n",
    "#education rate, which could be due to other factors such as business or inheritance.\n"
   ]
  },
  {
   "cell_type": "code",
   "execution_count": 49,
   "metadata": {},
   "outputs": [
    {
     "data": {
      "image/png": "[encoded data removed]",
      "text/plain": [
       "<Figure size 432x288 with 1 Axes>"
      ]
     },
     "metadata": {},
     "output_type": "display_data"
    }
   ],
   "source": [
    "plt.hist(df['educationMale']) \n",
    "plt.show()\n",
    "\n",
    "#We can also plot the male education levels as a histogram. It appears to show a\n",
    "#roughly normal (bell-shaped) distribution, with the majority of male education\n",
    "#levels in between the values of 10 and 12, inclusive."
   ]
  },
  {
   "cell_type": "code",
   "execution_count": 50,
   "metadata": {},
   "outputs": [
    {
     "data": {
      "image/png": "[encoded data removed]",
      "text/plain": [
       "<Figure size 432x288 with 1 Axes>"
      ]
     },
     "metadata": {},
     "output_type": "display_data"
    }
   ],
   "source": [
    "plt.boxplot(df['educationMale'])\n",
    "plt.show()\n",
    "\n",
    "#We can also create a box plot of the male education values as shown below,\n",
    "#which helps us identify outliers in the data. Here, we can see that there\n",
    "#are outliers on both the high and low end of the data. However, the median\n",
    "#appears to be around a value of 11, which verifies what we saw in the box\n",
    "#plot above. Additionally, the upper and lower quartiles appear to be situated\n",
    "#around 12 and 10, respectively, which also further validates the "
   ]
  },
  {
   "cell_type": "code",
   "execution_count": null,
   "metadata": {
    "collapsed": true
   },
   "outputs": [],
   "source": []
  }
 ],
 "metadata": {
  "kernelspec": {
   "display_name": "Python 3",
   "language": "python",
   "name": "python3"
  },
  "language_info": {
   "codemirror_mode": {
    "name": "ipython",
    "version": 3
   },
   "file_extension": ".py",
   "mimetype": "text/x-python",
   "name": "python",
   "nbconvert_exporter": "python",
   "pygments_lexer": "ipython3",
   "version": "3.6.5"
  }
 },
 "nbformat": 4,
 "nbformat_minor": 2
}
