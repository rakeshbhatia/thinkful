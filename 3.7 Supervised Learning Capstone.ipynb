{
 "cells": [
  {
   "cell_type": "markdown",
   "metadata": {},
   "source": [
    "# Supervised Learning Capstone"
   ]
  },
  {
   "cell_type": "markdown",
   "metadata": {},
   "source": [
    "## House Prices: Advanced Regression Techniques"
   ]
  },
  {
   "cell_type": "markdown",
   "metadata": {},
   "source": [
    "### Description of Data Fields (via Kaggle)"
   ]
  },
  {
   "cell_type": "markdown",
   "metadata": {},
   "source": [
    "Here's a brief version of what you'll find in the data description file.\n",
    "\n",
    "* SalePrice - the property's sale price in dollars. This is the target variable that you're trying to predict.\n",
    "* MSSubClass: The building class\n",
    "* MSZoning: The general zoning classification\n",
    "* LotFrontage: Linear feet of street connected to property\n",
    "* LotArea: Lot size in square feet\n",
    "* Street: Type of road access\n",
    "* Alley: Type of alley access\n",
    "* LotShape: General shape of property\n",
    "* LandContour: Flatness of the property\n",
    "* Utilities: Type of utilities available\n",
    "* LotConfig: Lot configuration\n",
    "* LandSlope: Slope of property\n",
    "* Neighborhood: Physical locations within Ames city limits\n",
    "* Condition1: Proximity to main road or railroad\n",
    "* Condition2: Proximity to main road or railroad (if a second is present)\n",
    "* BldgType: Type of dwelling\n",
    "* HouseStyle: Style of dwelling\n",
    "* OverallQual: Overall material and finish quality\n",
    "* OverallCond: Overall condition rating\n",
    "* YearBuilt: Original construction date\n",
    "* YearRemodAdd: Remodel date\n",
    "* RoofStyle: Type of roof\n",
    "* RoofMatl: Roof material\n",
    "* Exterior1st: Exterior covering on house\n",
    "* Exterior2nd: Exterior covering on house (if more than one material)\n",
    "* MasVnrType: Masonry veneer type\n",
    "* MasVnrArea: Masonry veneer area in square feet\n",
    "* ExterQual: Exterior material quality\n",
    "* ExterCond: Present condition of the material on the exterior\n",
    "* Foundation: Type of foundation\n",
    "* BsmtQual: Height of the basement\n",
    "* BsmtCond: General condition of the basement\n",
    "* BsmtExposure: Walkout or garden level basement walls\n",
    "* BsmtFinType1: Quality of basement finished area\n",
    "* BsmtFinSF1: Type 1 finished square feet\n",
    "* BsmtFinType2: Quality of second finished area (if present)\n",
    "* BsmtFinSF2: Type 2 finished square feet\n",
    "* BsmtUnfSF: Unfinished square feet of basement area\n",
    "* TotalBsmtSF: Total square feet of basement area\n",
    "* Heating: Type of heating\n",
    "* HeatingQC: Heating quality and condition\n",
    "* CentralAir: Central air conditioning\n",
    "* Electrical: Electrical system\n",
    "* 1stFlrSF: First Floor square feet\n",
    "* 2ndFlrSF: Second floor square feet\n",
    "* LowQualFinSF: Low quality finished square feet (all floors)\n",
    "* GrLivArea: Above grade (ground) living area square feet\n",
    "* BsmtFullBath: Basement full bathrooms\n",
    "* BsmtHalfBath: Basement half bathrooms\n",
    "* FullBath: Full bathrooms above grade\n",
    "* HalfBath: Half baths above grade\n",
    "* Bedroom: Number of bedrooms above basement level\n",
    "* Kitchen: Number of kitchens\n",
    "* KitchenQual: Kitchen quality\n",
    "* TotRmsAbvGrd: Total rooms above grade (does not include bathrooms)\n",
    "* Functional: Home functionality rating\n",
    "* Fireplaces: Number of fireplaces\n",
    "* FireplaceQu: Fireplace quality\n",
    "* GarageType: Garage location\n",
    "* GarageYrBlt: Year garage was built\n",
    "* GarageFinish: Interior finish of the garage\n",
    "* GarageCars: Size of garage in car capacity\n",
    "* GarageArea: Size of garage in square feet\n",
    "* GarageQual: Garage quality\n",
    "* GarageCond: Garage condition\n",
    "* PavedDrive: Paved driveway\n",
    "* WoodDeckSF: Wood deck area in square feet\n",
    "* OpenPorchSF: Open porch area in square feet\n",
    "* EnclosedPorch: Enclosed porch area in square feet\n",
    "* 3SsnPorch: Three season porch area in square feet\n",
    "* ScreenPorch: Screen porch area in square feet\n",
    "* PoolArea: Pool area in square feet\n",
    "* PoolQC: Pool quality\n",
    "* Fence: Fence quality\n",
    "* MiscFeature: Miscellaneous feature not covered in other categories\n",
    "* MiscVal: $Value of miscellaneous feature\n",
    "* MoSold: Month Sold\n",
    "* YrSold: Year Sold\n",
    "* SaleType: Type of sale\n",
    "* SaleCondition: Condition of sale"
   ]
  },
  {
   "cell_type": "markdown",
   "metadata": {},
   "source": [
    "# Introduction"
   ]
  },
  {
   "cell_type": "markdown",
   "metadata": {},
   "source": [
    "For this capstone project we will be using the Ames, Iowa housing dataset provided by Kaggle here:\n",
    "https://www.kaggle.com/c/house-prices-advanced-regression-techniques/overview\n",
    "\n",
    "The data consists of 81 total variables, many of which are redundant and/or unnecessary. Our target variable which we are trying to predict is SalePrice. \n",
    "\n",
    "We will first examine our features through visualizations, and then do feature engineering. Finally, we will do three iterations of model building:\n",
    "\n",
    "    1) Simple feature selection based on manual inspection\n",
    "\n",
    "    2) Feature importances from random forest regression\n",
    "    \n",
    "    3) Principal Components Analysis"
   ]
  },
  {
   "cell_type": "markdown",
   "metadata": {},
   "source": [
    "# Preparing the Data"
   ]
  },
  {
   "cell_type": "markdown",
   "metadata": {},
   "source": [
    "## Loading the Data"
   ]
  },
  {
   "cell_type": "code",
   "execution_count": 936,
   "metadata": {
    "collapsed": true
   },
   "outputs": [],
   "source": [
    "import sys\n",
    "import time\n",
    "import numpy as np\n",
    "import pandas as pd\n",
    "import scipy\n",
    "import matplotlib.pyplot as plt\n",
    "import seaborn as sns\n",
    "from sklearn.svm import SVC\n",
    "from sklearn import ensemble\n",
    "from sklearn import linear_model\n",
    "from sklearn import neighbors\n",
    "from sklearn.linear_model import LinearRegression\n",
    "from sklearn.linear_model import Ridge\n",
    "from sklearn.linear_model import Lasso\n",
    "from sklearn.ensemble import RandomForestRegressor\n",
    "from sklearn.ensemble import RandomForestClassifier\n",
    "from sklearn.model_selection import cross_val_score\n",
    "from sklearn.feature_selection import SelectKBest, f_classif\n",
    "from matplotlib.mlab import PCA as mlabPCA\n",
    "from sklearn.preprocessing import StandardScaler\n",
    "from sklearn.preprocessing import LabelEncoder\n",
    "from sklearn.decomposition import PCA\n",
    "from sklearn.model_selection import train_test_split\n",
    "from sklearn.metrics import precision_recall_curve\n",
    "from sklearn.metrics import average_precision_score\n",
    "from sklearn.metrics import classification_report\n",
    "from sklearn.metrics import mean_squared_error\n",
    "from sklearn.impute import SimpleImputer\n",
    "from sklearn.model_selection import GridSearchCV\n",
    "from sklearn.pipeline import Pipeline\n",
    "import statsmodels.formula.api as smf\n",
    "from scipy import stats\n",
    "from scipy.stats import normaltest\n",
    "from scipy.stats import norm\n",
    "from scipy.stats import skew\n",
    "%matplotlib inline\n",
    "np.set_printoptions(threshold=sys.maxsize)\n",
    "pd.set_option(\"display.max_rows\", 100)"
   ]
  },
  {
   "cell_type": "code",
   "execution_count": 937,
   "metadata": {
    "scrolled": false
   },
   "outputs": [
    {
     "data": {
      "text/html": [
       "<div>\n",
       "<style scoped>\n",
       "    .dataframe tbody tr th:only-of-type {\n",
       "        vertical-align: middle;\n",
       "    }\n",
       "\n",
       "    .dataframe tbody tr th {\n",
       "        vertical-align: top;\n",
       "    }\n",
       "\n",
       "    .dataframe thead th {\n",
       "        text-align: right;\n",
       "    }\n",
       "</style>\n",
       "<table border=\"1\" class=\"dataframe\">\n",
       "  <thead>\n",
       "    <tr style=\"text-align: right;\">\n",
       "      <th></th>\n",
       "      <th>Id</th>\n",
       "      <th>MSSubClass</th>\n",
       "      <th>MSZoning</th>\n",
       "      <th>LotFrontage</th>\n",
       "      <th>LotArea</th>\n",
       "      <th>Street</th>\n",
       "      <th>Alley</th>\n",
       "      <th>LotShape</th>\n",
       "      <th>LandContour</th>\n",
       "      <th>Utilities</th>\n",
       "      <th>...</th>\n",
       "      <th>PoolArea</th>\n",
       "      <th>PoolQC</th>\n",
       "      <th>Fence</th>\n",
       "      <th>MiscFeature</th>\n",
       "      <th>MiscVal</th>\n",
       "      <th>MoSold</th>\n",
       "      <th>YrSold</th>\n",
       "      <th>SaleType</th>\n",
       "      <th>SaleCondition</th>\n",
       "      <th>SalePrice</th>\n",
       "    </tr>\n",
       "  </thead>\n",
       "  <tbody>\n",
       "    <tr>\n",
       "      <th>0</th>\n",
       "      <td>1</td>\n",
       "      <td>60</td>\n",
       "      <td>RL</td>\n",
       "      <td>65.0</td>\n",
       "      <td>8450</td>\n",
       "      <td>Pave</td>\n",
       "      <td>NaN</td>\n",
       "      <td>Reg</td>\n",
       "      <td>Lvl</td>\n",
       "      <td>AllPub</td>\n",
       "      <td>...</td>\n",
       "      <td>0</td>\n",
       "      <td>NaN</td>\n",
       "      <td>NaN</td>\n",
       "      <td>NaN</td>\n",
       "      <td>0</td>\n",
       "      <td>2</td>\n",
       "      <td>2008</td>\n",
       "      <td>WD</td>\n",
       "      <td>Normal</td>\n",
       "      <td>208500</td>\n",
       "    </tr>\n",
       "    <tr>\n",
       "      <th>1</th>\n",
       "      <td>2</td>\n",
       "      <td>20</td>\n",
       "      <td>RL</td>\n",
       "      <td>80.0</td>\n",
       "      <td>9600</td>\n",
       "      <td>Pave</td>\n",
       "      <td>NaN</td>\n",
       "      <td>Reg</td>\n",
       "      <td>Lvl</td>\n",
       "      <td>AllPub</td>\n",
       "      <td>...</td>\n",
       "      <td>0</td>\n",
       "      <td>NaN</td>\n",
       "      <td>NaN</td>\n",
       "      <td>NaN</td>\n",
       "      <td>0</td>\n",
       "      <td>5</td>\n",
       "      <td>2007</td>\n",
       "      <td>WD</td>\n",
       "      <td>Normal</td>\n",
       "      <td>181500</td>\n",
       "    </tr>\n",
       "    <tr>\n",
       "      <th>2</th>\n",
       "      <td>3</td>\n",
       "      <td>60</td>\n",
       "      <td>RL</td>\n",
       "      <td>68.0</td>\n",
       "      <td>11250</td>\n",
       "      <td>Pave</td>\n",
       "      <td>NaN</td>\n",
       "      <td>IR1</td>\n",
       "      <td>Lvl</td>\n",
       "      <td>AllPub</td>\n",
       "      <td>...</td>\n",
       "      <td>0</td>\n",
       "      <td>NaN</td>\n",
       "      <td>NaN</td>\n",
       "      <td>NaN</td>\n",
       "      <td>0</td>\n",
       "      <td>9</td>\n",
       "      <td>2008</td>\n",
       "      <td>WD</td>\n",
       "      <td>Normal</td>\n",
       "      <td>223500</td>\n",
       "    </tr>\n",
       "    <tr>\n",
       "      <th>3</th>\n",
       "      <td>4</td>\n",
       "      <td>70</td>\n",
       "      <td>RL</td>\n",
       "      <td>60.0</td>\n",
       "      <td>9550</td>\n",
       "      <td>Pave</td>\n",
       "      <td>NaN</td>\n",
       "      <td>IR1</td>\n",
       "      <td>Lvl</td>\n",
       "      <td>AllPub</td>\n",
       "      <td>...</td>\n",
       "      <td>0</td>\n",
       "      <td>NaN</td>\n",
       "      <td>NaN</td>\n",
       "      <td>NaN</td>\n",
       "      <td>0</td>\n",
       "      <td>2</td>\n",
       "      <td>2006</td>\n",
       "      <td>WD</td>\n",
       "      <td>Abnorml</td>\n",
       "      <td>140000</td>\n",
       "    </tr>\n",
       "    <tr>\n",
       "      <th>4</th>\n",
       "      <td>5</td>\n",
       "      <td>60</td>\n",
       "      <td>RL</td>\n",
       "      <td>84.0</td>\n",
       "      <td>14260</td>\n",
       "      <td>Pave</td>\n",
       "      <td>NaN</td>\n",
       "      <td>IR1</td>\n",
       "      <td>Lvl</td>\n",
       "      <td>AllPub</td>\n",
       "      <td>...</td>\n",
       "      <td>0</td>\n",
       "      <td>NaN</td>\n",
       "      <td>NaN</td>\n",
       "      <td>NaN</td>\n",
       "      <td>0</td>\n",
       "      <td>12</td>\n",
       "      <td>2008</td>\n",
       "      <td>WD</td>\n",
       "      <td>Normal</td>\n",
       "      <td>250000</td>\n",
       "    </tr>\n",
       "  </tbody>\n",
       "</table>\n",
       "<p>5 rows × 81 columns</p>\n",
       "</div>"
      ],
      "text/plain": [
       "   Id  MSSubClass MSZoning  LotFrontage  LotArea Street Alley LotShape  \\\n",
       "0   1          60       RL         65.0     8450   Pave   NaN      Reg   \n",
       "1   2          20       RL         80.0     9600   Pave   NaN      Reg   \n",
       "2   3          60       RL         68.0    11250   Pave   NaN      IR1   \n",
       "3   4          70       RL         60.0     9550   Pave   NaN      IR1   \n",
       "4   5          60       RL         84.0    14260   Pave   NaN      IR1   \n",
       "\n",
       "  LandContour Utilities    ...     PoolArea PoolQC Fence MiscFeature MiscVal  \\\n",
       "0         Lvl    AllPub    ...            0    NaN   NaN         NaN       0   \n",
       "1         Lvl    AllPub    ...            0    NaN   NaN         NaN       0   \n",
       "2         Lvl    AllPub    ...            0    NaN   NaN         NaN       0   \n",
       "3         Lvl    AllPub    ...            0    NaN   NaN         NaN       0   \n",
       "4         Lvl    AllPub    ...            0    NaN   NaN         NaN       0   \n",
       "\n",
       "  MoSold YrSold  SaleType  SaleCondition  SalePrice  \n",
       "0      2   2008        WD         Normal     208500  \n",
       "1      5   2007        WD         Normal     181500  \n",
       "2      9   2008        WD         Normal     223500  \n",
       "3      2   2006        WD        Abnorml     140000  \n",
       "4     12   2008        WD         Normal     250000  \n",
       "\n",
       "[5 rows x 81 columns]"
      ]
     },
     "execution_count": 937,
     "metadata": {},
     "output_type": "execute_result"
    }
   ],
   "source": [
    "df_train = pd.read_csv('train.csv')\n",
    "df_train.head()"
   ]
  },
  {
   "cell_type": "code",
   "execution_count": 938,
   "metadata": {
    "scrolled": true
   },
   "outputs": [
    {
     "data": {
      "text/html": [
       "<div>\n",
       "<style scoped>\n",
       "    .dataframe tbody tr th:only-of-type {\n",
       "        vertical-align: middle;\n",
       "    }\n",
       "\n",
       "    .dataframe tbody tr th {\n",
       "        vertical-align: top;\n",
       "    }\n",
       "\n",
       "    .dataframe thead th {\n",
       "        text-align: right;\n",
       "    }\n",
       "</style>\n",
       "<table border=\"1\" class=\"dataframe\">\n",
       "  <thead>\n",
       "    <tr style=\"text-align: right;\">\n",
       "      <th></th>\n",
       "      <th>Id</th>\n",
       "      <th>MSSubClass</th>\n",
       "      <th>LotFrontage</th>\n",
       "      <th>LotArea</th>\n",
       "      <th>OverallQual</th>\n",
       "      <th>OverallCond</th>\n",
       "      <th>YearBuilt</th>\n",
       "      <th>YearRemodAdd</th>\n",
       "      <th>MasVnrArea</th>\n",
       "      <th>BsmtFinSF1</th>\n",
       "      <th>...</th>\n",
       "      <th>WoodDeckSF</th>\n",
       "      <th>OpenPorchSF</th>\n",
       "      <th>EnclosedPorch</th>\n",
       "      <th>3SsnPorch</th>\n",
       "      <th>ScreenPorch</th>\n",
       "      <th>PoolArea</th>\n",
       "      <th>MiscVal</th>\n",
       "      <th>MoSold</th>\n",
       "      <th>YrSold</th>\n",
       "      <th>SalePrice</th>\n",
       "    </tr>\n",
       "  </thead>\n",
       "  <tbody>\n",
       "    <tr>\n",
       "      <th>count</th>\n",
       "      <td>1460.000000</td>\n",
       "      <td>1460.000000</td>\n",
       "      <td>1201.000000</td>\n",
       "      <td>1460.000000</td>\n",
       "      <td>1460.000000</td>\n",
       "      <td>1460.000000</td>\n",
       "      <td>1460.000000</td>\n",
       "      <td>1460.000000</td>\n",
       "      <td>1452.000000</td>\n",
       "      <td>1460.000000</td>\n",
       "      <td>...</td>\n",
       "      <td>1460.000000</td>\n",
       "      <td>1460.000000</td>\n",
       "      <td>1460.000000</td>\n",
       "      <td>1460.000000</td>\n",
       "      <td>1460.000000</td>\n",
       "      <td>1460.000000</td>\n",
       "      <td>1460.000000</td>\n",
       "      <td>1460.000000</td>\n",
       "      <td>1460.000000</td>\n",
       "      <td>1460.000000</td>\n",
       "    </tr>\n",
       "    <tr>\n",
       "      <th>mean</th>\n",
       "      <td>730.500000</td>\n",
       "      <td>56.897260</td>\n",
       "      <td>70.049958</td>\n",
       "      <td>10516.828082</td>\n",
       "      <td>6.099315</td>\n",
       "      <td>5.575342</td>\n",
       "      <td>1971.267808</td>\n",
       "      <td>1984.865753</td>\n",
       "      <td>103.685262</td>\n",
       "      <td>443.639726</td>\n",
       "      <td>...</td>\n",
       "      <td>94.244521</td>\n",
       "      <td>46.660274</td>\n",
       "      <td>21.954110</td>\n",
       "      <td>3.409589</td>\n",
       "      <td>15.060959</td>\n",
       "      <td>2.758904</td>\n",
       "      <td>43.489041</td>\n",
       "      <td>6.321918</td>\n",
       "      <td>2007.815753</td>\n",
       "      <td>180921.195890</td>\n",
       "    </tr>\n",
       "    <tr>\n",
       "      <th>std</th>\n",
       "      <td>421.610009</td>\n",
       "      <td>42.300571</td>\n",
       "      <td>24.284752</td>\n",
       "      <td>9981.264932</td>\n",
       "      <td>1.382997</td>\n",
       "      <td>1.112799</td>\n",
       "      <td>30.202904</td>\n",
       "      <td>20.645407</td>\n",
       "      <td>181.066207</td>\n",
       "      <td>456.098091</td>\n",
       "      <td>...</td>\n",
       "      <td>125.338794</td>\n",
       "      <td>66.256028</td>\n",
       "      <td>61.119149</td>\n",
       "      <td>29.317331</td>\n",
       "      <td>55.757415</td>\n",
       "      <td>40.177307</td>\n",
       "      <td>496.123024</td>\n",
       "      <td>2.703626</td>\n",
       "      <td>1.328095</td>\n",
       "      <td>79442.502883</td>\n",
       "    </tr>\n",
       "    <tr>\n",
       "      <th>min</th>\n",
       "      <td>1.000000</td>\n",
       "      <td>20.000000</td>\n",
       "      <td>21.000000</td>\n",
       "      <td>1300.000000</td>\n",
       "      <td>1.000000</td>\n",
       "      <td>1.000000</td>\n",
       "      <td>1872.000000</td>\n",
       "      <td>1950.000000</td>\n",
       "      <td>0.000000</td>\n",
       "      <td>0.000000</td>\n",
       "      <td>...</td>\n",
       "      <td>0.000000</td>\n",
       "      <td>0.000000</td>\n",
       "      <td>0.000000</td>\n",
       "      <td>0.000000</td>\n",
       "      <td>0.000000</td>\n",
       "      <td>0.000000</td>\n",
       "      <td>0.000000</td>\n",
       "      <td>1.000000</td>\n",
       "      <td>2006.000000</td>\n",
       "      <td>34900.000000</td>\n",
       "    </tr>\n",
       "    <tr>\n",
       "      <th>25%</th>\n",
       "      <td>365.750000</td>\n",
       "      <td>20.000000</td>\n",
       "      <td>59.000000</td>\n",
       "      <td>7553.500000</td>\n",
       "      <td>5.000000</td>\n",
       "      <td>5.000000</td>\n",
       "      <td>1954.000000</td>\n",
       "      <td>1967.000000</td>\n",
       "      <td>0.000000</td>\n",
       "      <td>0.000000</td>\n",
       "      <td>...</td>\n",
       "      <td>0.000000</td>\n",
       "      <td>0.000000</td>\n",
       "      <td>0.000000</td>\n",
       "      <td>0.000000</td>\n",
       "      <td>0.000000</td>\n",
       "      <td>0.000000</td>\n",
       "      <td>0.000000</td>\n",
       "      <td>5.000000</td>\n",
       "      <td>2007.000000</td>\n",
       "      <td>129975.000000</td>\n",
       "    </tr>\n",
       "    <tr>\n",
       "      <th>50%</th>\n",
       "      <td>730.500000</td>\n",
       "      <td>50.000000</td>\n",
       "      <td>69.000000</td>\n",
       "      <td>9478.500000</td>\n",
       "      <td>6.000000</td>\n",
       "      <td>5.000000</td>\n",
       "      <td>1973.000000</td>\n",
       "      <td>1994.000000</td>\n",
       "      <td>0.000000</td>\n",
       "      <td>383.500000</td>\n",
       "      <td>...</td>\n",
       "      <td>0.000000</td>\n",
       "      <td>25.000000</td>\n",
       "      <td>0.000000</td>\n",
       "      <td>0.000000</td>\n",
       "      <td>0.000000</td>\n",
       "      <td>0.000000</td>\n",
       "      <td>0.000000</td>\n",
       "      <td>6.000000</td>\n",
       "      <td>2008.000000</td>\n",
       "      <td>163000.000000</td>\n",
       "    </tr>\n",
       "    <tr>\n",
       "      <th>75%</th>\n",
       "      <td>1095.250000</td>\n",
       "      <td>70.000000</td>\n",
       "      <td>80.000000</td>\n",
       "      <td>11601.500000</td>\n",
       "      <td>7.000000</td>\n",
       "      <td>6.000000</td>\n",
       "      <td>2000.000000</td>\n",
       "      <td>2004.000000</td>\n",
       "      <td>166.000000</td>\n",
       "      <td>712.250000</td>\n",
       "      <td>...</td>\n",
       "      <td>168.000000</td>\n",
       "      <td>68.000000</td>\n",
       "      <td>0.000000</td>\n",
       "      <td>0.000000</td>\n",
       "      <td>0.000000</td>\n",
       "      <td>0.000000</td>\n",
       "      <td>0.000000</td>\n",
       "      <td>8.000000</td>\n",
       "      <td>2009.000000</td>\n",
       "      <td>214000.000000</td>\n",
       "    </tr>\n",
       "    <tr>\n",
       "      <th>max</th>\n",
       "      <td>1460.000000</td>\n",
       "      <td>190.000000</td>\n",
       "      <td>313.000000</td>\n",
       "      <td>215245.000000</td>\n",
       "      <td>10.000000</td>\n",
       "      <td>9.000000</td>\n",
       "      <td>2010.000000</td>\n",
       "      <td>2010.000000</td>\n",
       "      <td>1600.000000</td>\n",
       "      <td>5644.000000</td>\n",
       "      <td>...</td>\n",
       "      <td>857.000000</td>\n",
       "      <td>547.000000</td>\n",
       "      <td>552.000000</td>\n",
       "      <td>508.000000</td>\n",
       "      <td>480.000000</td>\n",
       "      <td>738.000000</td>\n",
       "      <td>15500.000000</td>\n",
       "      <td>12.000000</td>\n",
       "      <td>2010.000000</td>\n",
       "      <td>755000.000000</td>\n",
       "    </tr>\n",
       "  </tbody>\n",
       "</table>\n",
       "<p>8 rows × 38 columns</p>\n",
       "</div>"
      ],
      "text/plain": [
       "                Id   MSSubClass  LotFrontage        LotArea  OverallQual  \\\n",
       "count  1460.000000  1460.000000  1201.000000    1460.000000  1460.000000   \n",
       "mean    730.500000    56.897260    70.049958   10516.828082     6.099315   \n",
       "std     421.610009    42.300571    24.284752    9981.264932     1.382997   \n",
       "min       1.000000    20.000000    21.000000    1300.000000     1.000000   \n",
       "25%     365.750000    20.000000    59.000000    7553.500000     5.000000   \n",
       "50%     730.500000    50.000000    69.000000    9478.500000     6.000000   \n",
       "75%    1095.250000    70.000000    80.000000   11601.500000     7.000000   \n",
       "max    1460.000000   190.000000   313.000000  215245.000000    10.000000   \n",
       "\n",
       "       OverallCond    YearBuilt  YearRemodAdd   MasVnrArea   BsmtFinSF1  \\\n",
       "count  1460.000000  1460.000000   1460.000000  1452.000000  1460.000000   \n",
       "mean      5.575342  1971.267808   1984.865753   103.685262   443.639726   \n",
       "std       1.112799    30.202904     20.645407   181.066207   456.098091   \n",
       "min       1.000000  1872.000000   1950.000000     0.000000     0.000000   \n",
       "25%       5.000000  1954.000000   1967.000000     0.000000     0.000000   \n",
       "50%       5.000000  1973.000000   1994.000000     0.000000   383.500000   \n",
       "75%       6.000000  2000.000000   2004.000000   166.000000   712.250000   \n",
       "max       9.000000  2010.000000   2010.000000  1600.000000  5644.000000   \n",
       "\n",
       "           ...         WoodDeckSF  OpenPorchSF  EnclosedPorch    3SsnPorch  \\\n",
       "count      ...        1460.000000  1460.000000    1460.000000  1460.000000   \n",
       "mean       ...          94.244521    46.660274      21.954110     3.409589   \n",
       "std        ...         125.338794    66.256028      61.119149    29.317331   \n",
       "min        ...           0.000000     0.000000       0.000000     0.000000   \n",
       "25%        ...           0.000000     0.000000       0.000000     0.000000   \n",
       "50%        ...           0.000000    25.000000       0.000000     0.000000   \n",
       "75%        ...         168.000000    68.000000       0.000000     0.000000   \n",
       "max        ...         857.000000   547.000000     552.000000   508.000000   \n",
       "\n",
       "       ScreenPorch     PoolArea       MiscVal       MoSold       YrSold  \\\n",
       "count  1460.000000  1460.000000   1460.000000  1460.000000  1460.000000   \n",
       "mean     15.060959     2.758904     43.489041     6.321918  2007.815753   \n",
       "std      55.757415    40.177307    496.123024     2.703626     1.328095   \n",
       "min       0.000000     0.000000      0.000000     1.000000  2006.000000   \n",
       "25%       0.000000     0.000000      0.000000     5.000000  2007.000000   \n",
       "50%       0.000000     0.000000      0.000000     6.000000  2008.000000   \n",
       "75%       0.000000     0.000000      0.000000     8.000000  2009.000000   \n",
       "max     480.000000   738.000000  15500.000000    12.000000  2010.000000   \n",
       "\n",
       "           SalePrice  \n",
       "count    1460.000000  \n",
       "mean   180921.195890  \n",
       "std     79442.502883  \n",
       "min     34900.000000  \n",
       "25%    129975.000000  \n",
       "50%    163000.000000  \n",
       "75%    214000.000000  \n",
       "max    755000.000000  \n",
       "\n",
       "[8 rows x 38 columns]"
      ]
     },
     "execution_count": 938,
     "metadata": {},
     "output_type": "execute_result"
    }
   ],
   "source": [
    "df_train.describe()"
   ]
  },
  {
   "cell_type": "code",
   "execution_count": 939,
   "metadata": {},
   "outputs": [
    {
     "data": {
      "text/plain": [
       "(1460, 81)"
      ]
     },
     "execution_count": 939,
     "metadata": {},
     "output_type": "execute_result"
    }
   ],
   "source": [
    "df_train.shape"
   ]
  },
  {
   "cell_type": "markdown",
   "metadata": {},
   "source": [
    "Before we start, let's drop `Id` since it is unnecessary for our analysis."
   ]
  },
  {
   "cell_type": "code",
   "execution_count": 940,
   "metadata": {
    "scrolled": false
   },
   "outputs": [
    {
     "data": {
      "text/html": [
       "<div>\n",
       "<style scoped>\n",
       "    .dataframe tbody tr th:only-of-type {\n",
       "        vertical-align: middle;\n",
       "    }\n",
       "\n",
       "    .dataframe tbody tr th {\n",
       "        vertical-align: top;\n",
       "    }\n",
       "\n",
       "    .dataframe thead th {\n",
       "        text-align: right;\n",
       "    }\n",
       "</style>\n",
       "<table border=\"1\" class=\"dataframe\">\n",
       "  <thead>\n",
       "    <tr style=\"text-align: right;\">\n",
       "      <th></th>\n",
       "      <th>MSSubClass</th>\n",
       "      <th>LotFrontage</th>\n",
       "      <th>LotArea</th>\n",
       "      <th>OverallQual</th>\n",
       "      <th>OverallCond</th>\n",
       "      <th>YearBuilt</th>\n",
       "      <th>YearRemodAdd</th>\n",
       "      <th>MasVnrArea</th>\n",
       "      <th>BsmtFinSF1</th>\n",
       "      <th>BsmtFinSF2</th>\n",
       "      <th>...</th>\n",
       "      <th>WoodDeckSF</th>\n",
       "      <th>OpenPorchSF</th>\n",
       "      <th>EnclosedPorch</th>\n",
       "      <th>3SsnPorch</th>\n",
       "      <th>ScreenPorch</th>\n",
       "      <th>PoolArea</th>\n",
       "      <th>MiscVal</th>\n",
       "      <th>MoSold</th>\n",
       "      <th>YrSold</th>\n",
       "      <th>SalePrice</th>\n",
       "    </tr>\n",
       "  </thead>\n",
       "  <tbody>\n",
       "    <tr>\n",
       "      <th>count</th>\n",
       "      <td>1460.000000</td>\n",
       "      <td>1201.000000</td>\n",
       "      <td>1460.000000</td>\n",
       "      <td>1460.000000</td>\n",
       "      <td>1460.000000</td>\n",
       "      <td>1460.000000</td>\n",
       "      <td>1460.000000</td>\n",
       "      <td>1452.000000</td>\n",
       "      <td>1460.000000</td>\n",
       "      <td>1460.000000</td>\n",
       "      <td>...</td>\n",
       "      <td>1460.000000</td>\n",
       "      <td>1460.000000</td>\n",
       "      <td>1460.000000</td>\n",
       "      <td>1460.000000</td>\n",
       "      <td>1460.000000</td>\n",
       "      <td>1460.000000</td>\n",
       "      <td>1460.000000</td>\n",
       "      <td>1460.000000</td>\n",
       "      <td>1460.000000</td>\n",
       "      <td>1460.000000</td>\n",
       "    </tr>\n",
       "    <tr>\n",
       "      <th>mean</th>\n",
       "      <td>56.897260</td>\n",
       "      <td>70.049958</td>\n",
       "      <td>10516.828082</td>\n",
       "      <td>6.099315</td>\n",
       "      <td>5.575342</td>\n",
       "      <td>1971.267808</td>\n",
       "      <td>1984.865753</td>\n",
       "      <td>103.685262</td>\n",
       "      <td>443.639726</td>\n",
       "      <td>46.549315</td>\n",
       "      <td>...</td>\n",
       "      <td>94.244521</td>\n",
       "      <td>46.660274</td>\n",
       "      <td>21.954110</td>\n",
       "      <td>3.409589</td>\n",
       "      <td>15.060959</td>\n",
       "      <td>2.758904</td>\n",
       "      <td>43.489041</td>\n",
       "      <td>6.321918</td>\n",
       "      <td>2007.815753</td>\n",
       "      <td>180921.195890</td>\n",
       "    </tr>\n",
       "    <tr>\n",
       "      <th>std</th>\n",
       "      <td>42.300571</td>\n",
       "      <td>24.284752</td>\n",
       "      <td>9981.264932</td>\n",
       "      <td>1.382997</td>\n",
       "      <td>1.112799</td>\n",
       "      <td>30.202904</td>\n",
       "      <td>20.645407</td>\n",
       "      <td>181.066207</td>\n",
       "      <td>456.098091</td>\n",
       "      <td>161.319273</td>\n",
       "      <td>...</td>\n",
       "      <td>125.338794</td>\n",
       "      <td>66.256028</td>\n",
       "      <td>61.119149</td>\n",
       "      <td>29.317331</td>\n",
       "      <td>55.757415</td>\n",
       "      <td>40.177307</td>\n",
       "      <td>496.123024</td>\n",
       "      <td>2.703626</td>\n",
       "      <td>1.328095</td>\n",
       "      <td>79442.502883</td>\n",
       "    </tr>\n",
       "    <tr>\n",
       "      <th>min</th>\n",
       "      <td>20.000000</td>\n",
       "      <td>21.000000</td>\n",
       "      <td>1300.000000</td>\n",
       "      <td>1.000000</td>\n",
       "      <td>1.000000</td>\n",
       "      <td>1872.000000</td>\n",
       "      <td>1950.000000</td>\n",
       "      <td>0.000000</td>\n",
       "      <td>0.000000</td>\n",
       "      <td>0.000000</td>\n",
       "      <td>...</td>\n",
       "      <td>0.000000</td>\n",
       "      <td>0.000000</td>\n",
       "      <td>0.000000</td>\n",
       "      <td>0.000000</td>\n",
       "      <td>0.000000</td>\n",
       "      <td>0.000000</td>\n",
       "      <td>0.000000</td>\n",
       "      <td>1.000000</td>\n",
       "      <td>2006.000000</td>\n",
       "      <td>34900.000000</td>\n",
       "    </tr>\n",
       "    <tr>\n",
       "      <th>25%</th>\n",
       "      <td>20.000000</td>\n",
       "      <td>59.000000</td>\n",
       "      <td>7553.500000</td>\n",
       "      <td>5.000000</td>\n",
       "      <td>5.000000</td>\n",
       "      <td>1954.000000</td>\n",
       "      <td>1967.000000</td>\n",
       "      <td>0.000000</td>\n",
       "      <td>0.000000</td>\n",
       "      <td>0.000000</td>\n",
       "      <td>...</td>\n",
       "      <td>0.000000</td>\n",
       "      <td>0.000000</td>\n",
       "      <td>0.000000</td>\n",
       "      <td>0.000000</td>\n",
       "      <td>0.000000</td>\n",
       "      <td>0.000000</td>\n",
       "      <td>0.000000</td>\n",
       "      <td>5.000000</td>\n",
       "      <td>2007.000000</td>\n",
       "      <td>129975.000000</td>\n",
       "    </tr>\n",
       "    <tr>\n",
       "      <th>50%</th>\n",
       "      <td>50.000000</td>\n",
       "      <td>69.000000</td>\n",
       "      <td>9478.500000</td>\n",
       "      <td>6.000000</td>\n",
       "      <td>5.000000</td>\n",
       "      <td>1973.000000</td>\n",
       "      <td>1994.000000</td>\n",
       "      <td>0.000000</td>\n",
       "      <td>383.500000</td>\n",
       "      <td>0.000000</td>\n",
       "      <td>...</td>\n",
       "      <td>0.000000</td>\n",
       "      <td>25.000000</td>\n",
       "      <td>0.000000</td>\n",
       "      <td>0.000000</td>\n",
       "      <td>0.000000</td>\n",
       "      <td>0.000000</td>\n",
       "      <td>0.000000</td>\n",
       "      <td>6.000000</td>\n",
       "      <td>2008.000000</td>\n",
       "      <td>163000.000000</td>\n",
       "    </tr>\n",
       "    <tr>\n",
       "      <th>75%</th>\n",
       "      <td>70.000000</td>\n",
       "      <td>80.000000</td>\n",
       "      <td>11601.500000</td>\n",
       "      <td>7.000000</td>\n",
       "      <td>6.000000</td>\n",
       "      <td>2000.000000</td>\n",
       "      <td>2004.000000</td>\n",
       "      <td>166.000000</td>\n",
       "      <td>712.250000</td>\n",
       "      <td>0.000000</td>\n",
       "      <td>...</td>\n",
       "      <td>168.000000</td>\n",
       "      <td>68.000000</td>\n",
       "      <td>0.000000</td>\n",
       "      <td>0.000000</td>\n",
       "      <td>0.000000</td>\n",
       "      <td>0.000000</td>\n",
       "      <td>0.000000</td>\n",
       "      <td>8.000000</td>\n",
       "      <td>2009.000000</td>\n",
       "      <td>214000.000000</td>\n",
       "    </tr>\n",
       "    <tr>\n",
       "      <th>max</th>\n",
       "      <td>190.000000</td>\n",
       "      <td>313.000000</td>\n",
       "      <td>215245.000000</td>\n",
       "      <td>10.000000</td>\n",
       "      <td>9.000000</td>\n",
       "      <td>2010.000000</td>\n",
       "      <td>2010.000000</td>\n",
       "      <td>1600.000000</td>\n",
       "      <td>5644.000000</td>\n",
       "      <td>1474.000000</td>\n",
       "      <td>...</td>\n",
       "      <td>857.000000</td>\n",
       "      <td>547.000000</td>\n",
       "      <td>552.000000</td>\n",
       "      <td>508.000000</td>\n",
       "      <td>480.000000</td>\n",
       "      <td>738.000000</td>\n",
       "      <td>15500.000000</td>\n",
       "      <td>12.000000</td>\n",
       "      <td>2010.000000</td>\n",
       "      <td>755000.000000</td>\n",
       "    </tr>\n",
       "  </tbody>\n",
       "</table>\n",
       "<p>8 rows × 37 columns</p>\n",
       "</div>"
      ],
      "text/plain": [
       "        MSSubClass  LotFrontage        LotArea  OverallQual  OverallCond  \\\n",
       "count  1460.000000  1201.000000    1460.000000  1460.000000  1460.000000   \n",
       "mean     56.897260    70.049958   10516.828082     6.099315     5.575342   \n",
       "std      42.300571    24.284752    9981.264932     1.382997     1.112799   \n",
       "min      20.000000    21.000000    1300.000000     1.000000     1.000000   \n",
       "25%      20.000000    59.000000    7553.500000     5.000000     5.000000   \n",
       "50%      50.000000    69.000000    9478.500000     6.000000     5.000000   \n",
       "75%      70.000000    80.000000   11601.500000     7.000000     6.000000   \n",
       "max     190.000000   313.000000  215245.000000    10.000000     9.000000   \n",
       "\n",
       "         YearBuilt  YearRemodAdd   MasVnrArea   BsmtFinSF1   BsmtFinSF2  \\\n",
       "count  1460.000000   1460.000000  1452.000000  1460.000000  1460.000000   \n",
       "mean   1971.267808   1984.865753   103.685262   443.639726    46.549315   \n",
       "std      30.202904     20.645407   181.066207   456.098091   161.319273   \n",
       "min    1872.000000   1950.000000     0.000000     0.000000     0.000000   \n",
       "25%    1954.000000   1967.000000     0.000000     0.000000     0.000000   \n",
       "50%    1973.000000   1994.000000     0.000000   383.500000     0.000000   \n",
       "75%    2000.000000   2004.000000   166.000000   712.250000     0.000000   \n",
       "max    2010.000000   2010.000000  1600.000000  5644.000000  1474.000000   \n",
       "\n",
       "           ...         WoodDeckSF  OpenPorchSF  EnclosedPorch    3SsnPorch  \\\n",
       "count      ...        1460.000000  1460.000000    1460.000000  1460.000000   \n",
       "mean       ...          94.244521    46.660274      21.954110     3.409589   \n",
       "std        ...         125.338794    66.256028      61.119149    29.317331   \n",
       "min        ...           0.000000     0.000000       0.000000     0.000000   \n",
       "25%        ...           0.000000     0.000000       0.000000     0.000000   \n",
       "50%        ...           0.000000    25.000000       0.000000     0.000000   \n",
       "75%        ...         168.000000    68.000000       0.000000     0.000000   \n",
       "max        ...         857.000000   547.000000     552.000000   508.000000   \n",
       "\n",
       "       ScreenPorch     PoolArea       MiscVal       MoSold       YrSold  \\\n",
       "count  1460.000000  1460.000000   1460.000000  1460.000000  1460.000000   \n",
       "mean     15.060959     2.758904     43.489041     6.321918  2007.815753   \n",
       "std      55.757415    40.177307    496.123024     2.703626     1.328095   \n",
       "min       0.000000     0.000000      0.000000     1.000000  2006.000000   \n",
       "25%       0.000000     0.000000      0.000000     5.000000  2007.000000   \n",
       "50%       0.000000     0.000000      0.000000     6.000000  2008.000000   \n",
       "75%       0.000000     0.000000      0.000000     8.000000  2009.000000   \n",
       "max     480.000000   738.000000  15500.000000    12.000000  2010.000000   \n",
       "\n",
       "           SalePrice  \n",
       "count    1460.000000  \n",
       "mean   180921.195890  \n",
       "std     79442.502883  \n",
       "min     34900.000000  \n",
       "25%    129975.000000  \n",
       "50%    163000.000000  \n",
       "75%    214000.000000  \n",
       "max    755000.000000  \n",
       "\n",
       "[8 rows x 37 columns]"
      ]
     },
     "execution_count": 940,
     "metadata": {},
     "output_type": "execute_result"
    }
   ],
   "source": [
    "df_train.drop('Id', axis=1, inplace=True)\n",
    "df_train.describe()"
   ]
  },
  {
   "cell_type": "markdown",
   "metadata": {},
   "source": [
    "## Dropping Outliers"
   ]
  },
  {
   "cell_type": "markdown",
   "metadata": {},
   "source": [
    "The dataset [documentation](http://jse.amstat.org/v19n3/decock.pdf) indicates that there are five outliers that should be removed prior to proceeding with the data (four in the training set). These outliers can be easily seen from the scatter plot of SalePrice vs. GrLivArea. Let's write a simple function that allows us to easily plot a single scatter plot."
   ]
  },
  {
   "cell_type": "code",
   "execution_count": 941,
   "metadata": {
    "scrolled": true
   },
   "outputs": [
    {
     "data": {
      "image/png": "[encoded data removed]",
      "text/plain": [
       "<Figure size 432x288 with 1 Axes>"
      ]
     },
     "metadata": {},
     "output_type": "display_data"
    }
   ],
   "source": [
    "# Function to easily plot a single scatter plot\n",
    "def scatter_plot_single(df, target, col):\n",
    "    plt.scatter(x=df[col], y=df[target])\n",
    "    plt.xlabel(col)\n",
    "    plt.ylabel(target)\n",
    "    plt.title(target + ' vs. ' + col)\n",
    "\n",
    "scatter_plot_single(df_train, 'SalePrice', 'GrLivArea')"
   ]
  },
  {
   "cell_type": "markdown",
   "metadata": {},
   "source": [
    "We can see the four outliers in question. Two of them are very low-priced houses with a high GrLivArea. The other three simply appear to be expensive houses that are still following the trend. The documentation recommends us to get rid of these outliers before processing the data further, so let's do that."
   ]
  },
  {
   "cell_type": "code",
   "execution_count": 942,
   "metadata": {
    "scrolled": true
   },
   "outputs": [
    {
     "data": {
      "text/plain": [
       "(1460, 80)"
      ]
     },
     "execution_count": 942,
     "metadata": {},
     "output_type": "execute_result"
    }
   ],
   "source": [
    "# Check shape\n",
    "df_train.shape"
   ]
  },
  {
   "cell_type": "code",
   "execution_count": 943,
   "metadata": {
    "scrolled": false
   },
   "outputs": [
    {
     "data": {
      "text/plain": [
       "(1456, 80)"
      ]
     },
     "execution_count": 943,
     "metadata": {},
     "output_type": "execute_result"
    }
   ],
   "source": [
    "df_train = df_train.drop(df_train[(df_train['GrLivArea']>4000)].index)\n",
    "\n",
    "# Check shape again\n",
    "df_train.shape"
   ]
  },
  {
   "cell_type": "code",
   "execution_count": 944,
   "metadata": {
    "scrolled": true
   },
   "outputs": [
    {
     "data": {
      "image/png": "[encoded data removed]",
      "text/plain": [
       "<Figure size 432x288 with 1 Axes>"
      ]
     },
     "metadata": {},
     "output_type": "display_data"
    }
   ],
   "source": [
    "# Plot again for visual check\n",
    "scatter_plot_single(df_train, 'SalePrice', 'GrLivArea')"
   ]
  },
  {
   "cell_type": "code",
   "execution_count": 945,
   "metadata": {},
   "outputs": [
    {
     "data": {
      "text/plain": [
       "(1456, 80)"
      ]
     },
     "execution_count": 945,
     "metadata": {},
     "output_type": "execute_result"
    }
   ],
   "source": [
    "# Check shape\n",
    "df_train.shape"
   ]
  },
  {
   "cell_type": "markdown",
   "metadata": {},
   "source": [
    "# Exploring the Data"
   ]
  },
  {
   "cell_type": "markdown",
   "metadata": {},
   "source": [
    "## Univariate Data"
   ]
  },
  {
   "cell_type": "markdown",
   "metadata": {},
   "source": [
    "Let's plot the distributions for each of our continuous features. We can write a function to do this."
   ]
  },
  {
   "cell_type": "code",
   "execution_count": 946,
   "metadata": {
    "collapsed": true
   },
   "outputs": [],
   "source": [
    "cols = ['MSSubClass', 'LotFrontage', 'LotArea', 'OverallQual', 'OverallCond', \n",
    "        'YearBuilt', 'YearRemodAdd', 'MasVnrArea', 'BsmtFinSF1', 'BsmtFinSF2', \n",
    "        'BsmtUnfSF', 'TotalBsmtSF', '1stFlrSF', '2ndFlrSF', 'LowQualFinSF', \n",
    "        'GrLivArea', 'BsmtFullBath', 'BsmtHalfBath', 'FullBath', 'HalfBath',\n",
    "        'BedroomAbvGr', 'KitchenAbvGr', 'TotRmsAbvGrd', 'Fireplaces', 'GarageYrBlt', \n",
    "        'GarageCars', 'GarageArea', 'WoodDeckSF', 'OpenPorchSF', 'EnclosedPorch', \n",
    "        '3SsnPorch', 'ScreenPorch', 'PoolArea', 'MiscVal', 'MoSold', 'YrSold']"
   ]
  },
  {
   "cell_type": "code",
   "execution_count": 947,
   "metadata": {
    "collapsed": true
   },
   "outputs": [],
   "source": [
    "# Function to neatly plot multiple histograms\n",
    "def histogram_multiple(df, target, cols, figsize_x, figsize_y, nrows, ncols):\n",
    "    i = 1\n",
    "    plt.figure(figsize=(figsize_x, figsize_y))\n",
    "    \n",
    "    for col in cols:\n",
    "        if col != target:\n",
    "            plt.subplot(nrows,ncols,i)\n",
    "            scatter_plot_single(df, target, col)\n",
    "            i += 1\n",
    "    \n",
    "    plt.tight_layout()\n",
    "    plt.show()"
   ]
  },
  {
   "cell_type": "markdown",
   "metadata": {},
   "source": []
  },
  {
   "cell_type": "markdown",
   "metadata": {},
   "source": [
    "## Feature-Target Relationships"
   ]
  },
  {
   "cell_type": "markdown",
   "metadata": {},
   "source": [
    "### Continuous Features"
   ]
  },
  {
   "cell_type": "markdown",
   "metadata": {},
   "source": [
    "Now let's visualize the relationship between SalePrice and all of our continuous features. We can write a function to easily create a scatter plot for any given x and y with our desired parameters. First let's put all the column names for our continuous variables into a list."
   ]
  },
  {
   "cell_type": "code",
   "execution_count": 948,
   "metadata": {
    "collapsed": true
   },
   "outputs": [],
   "source": [
    "# Function to easily plot a single scatter plot\n",
    "def scatter_plot_single(df, target, col):\n",
    "    plt.scatter(x=df[col], y=df[target])\n",
    "    plt.xlabel(col)\n",
    "    plt.ylabel(target)\n",
    "    plt.title(target + ' vs. ' + col)\n",
    "     \n",
    "# Function to neatly plot multiple scatter plots\n",
    "def scatter_plot_multiple(df, target, cols, figsize_x, figsize_y, nrows, ncols):\n",
    "    i = 1\n",
    "    plt.figure(figsize=(figsize_x, figsize_y))\n",
    "    \n",
    "    for col in cols:\n",
    "        if col != target:\n",
    "            plt.subplot(nrows,ncols,i)\n",
    "            scatter_plot_single(df, target, col)\n",
    "            i += 1\n",
    "    \n",
    "    plt.tight_layout()\n",
    "    plt.show()"
   ]
  },
  {
   "cell_type": "markdown",
   "metadata": {},
   "source": [
    "Now we can use this to neatly visualize scatter plots of `SalePrice` with many different input features all in one place. For the amount of features we have, we can use nine rows and four columns."
   ]
  },
  {
   "cell_type": "code",
   "execution_count": 949,
   "metadata": {},
   "outputs": [
    {
     "data": {
      "text/html": [
       "<div>\n",
       "<style scoped>\n",
       "    .dataframe tbody tr th:only-of-type {\n",
       "        vertical-align: middle;\n",
       "    }\n",
       "\n",
       "    .dataframe tbody tr th {\n",
       "        vertical-align: top;\n",
       "    }\n",
       "\n",
       "    .dataframe thead th {\n",
       "        text-align: right;\n",
       "    }\n",
       "</style>\n",
       "<table border=\"1\" class=\"dataframe\">\n",
       "  <thead>\n",
       "    <tr style=\"text-align: right;\">\n",
       "      <th></th>\n",
       "      <th>MSSubClass</th>\n",
       "      <th>MSZoning</th>\n",
       "      <th>LotFrontage</th>\n",
       "      <th>LotArea</th>\n",
       "      <th>Street</th>\n",
       "      <th>Alley</th>\n",
       "      <th>LotShape</th>\n",
       "      <th>LandContour</th>\n",
       "      <th>Utilities</th>\n",
       "      <th>LotConfig</th>\n",
       "      <th>...</th>\n",
       "      <th>PoolArea</th>\n",
       "      <th>PoolQC</th>\n",
       "      <th>Fence</th>\n",
       "      <th>MiscFeature</th>\n",
       "      <th>MiscVal</th>\n",
       "      <th>MoSold</th>\n",
       "      <th>YrSold</th>\n",
       "      <th>SaleType</th>\n",
       "      <th>SaleCondition</th>\n",
       "      <th>SalePrice</th>\n",
       "    </tr>\n",
       "  </thead>\n",
       "  <tbody>\n",
       "    <tr>\n",
       "      <th>0</th>\n",
       "      <td>60</td>\n",
       "      <td>RL</td>\n",
       "      <td>65.0</td>\n",
       "      <td>8450</td>\n",
       "      <td>Pave</td>\n",
       "      <td>NaN</td>\n",
       "      <td>Reg</td>\n",
       "      <td>Lvl</td>\n",
       "      <td>AllPub</td>\n",
       "      <td>Inside</td>\n",
       "      <td>...</td>\n",
       "      <td>0</td>\n",
       "      <td>NaN</td>\n",
       "      <td>NaN</td>\n",
       "      <td>NaN</td>\n",
       "      <td>0</td>\n",
       "      <td>2</td>\n",
       "      <td>2008</td>\n",
       "      <td>WD</td>\n",
       "      <td>Normal</td>\n",
       "      <td>208500</td>\n",
       "    </tr>\n",
       "    <tr>\n",
       "      <th>1</th>\n",
       "      <td>20</td>\n",
       "      <td>RL</td>\n",
       "      <td>80.0</td>\n",
       "      <td>9600</td>\n",
       "      <td>Pave</td>\n",
       "      <td>NaN</td>\n",
       "      <td>Reg</td>\n",
       "      <td>Lvl</td>\n",
       "      <td>AllPub</td>\n",
       "      <td>FR2</td>\n",
       "      <td>...</td>\n",
       "      <td>0</td>\n",
       "      <td>NaN</td>\n",
       "      <td>NaN</td>\n",
       "      <td>NaN</td>\n",
       "      <td>0</td>\n",
       "      <td>5</td>\n",
       "      <td>2007</td>\n",
       "      <td>WD</td>\n",
       "      <td>Normal</td>\n",
       "      <td>181500</td>\n",
       "    </tr>\n",
       "    <tr>\n",
       "      <th>2</th>\n",
       "      <td>60</td>\n",
       "      <td>RL</td>\n",
       "      <td>68.0</td>\n",
       "      <td>11250</td>\n",
       "      <td>Pave</td>\n",
       "      <td>NaN</td>\n",
       "      <td>IR1</td>\n",
       "      <td>Lvl</td>\n",
       "      <td>AllPub</td>\n",
       "      <td>Inside</td>\n",
       "      <td>...</td>\n",
       "      <td>0</td>\n",
       "      <td>NaN</td>\n",
       "      <td>NaN</td>\n",
       "      <td>NaN</td>\n",
       "      <td>0</td>\n",
       "      <td>9</td>\n",
       "      <td>2008</td>\n",
       "      <td>WD</td>\n",
       "      <td>Normal</td>\n",
       "      <td>223500</td>\n",
       "    </tr>\n",
       "    <tr>\n",
       "      <th>3</th>\n",
       "      <td>70</td>\n",
       "      <td>RL</td>\n",
       "      <td>60.0</td>\n",
       "      <td>9550</td>\n",
       "      <td>Pave</td>\n",
       "      <td>NaN</td>\n",
       "      <td>IR1</td>\n",
       "      <td>Lvl</td>\n",
       "      <td>AllPub</td>\n",
       "      <td>Corner</td>\n",
       "      <td>...</td>\n",
       "      <td>0</td>\n",
       "      <td>NaN</td>\n",
       "      <td>NaN</td>\n",
       "      <td>NaN</td>\n",
       "      <td>0</td>\n",
       "      <td>2</td>\n",
       "      <td>2006</td>\n",
       "      <td>WD</td>\n",
       "      <td>Abnorml</td>\n",
       "      <td>140000</td>\n",
       "    </tr>\n",
       "    <tr>\n",
       "      <th>4</th>\n",
       "      <td>60</td>\n",
       "      <td>RL</td>\n",
       "      <td>84.0</td>\n",
       "      <td>14260</td>\n",
       "      <td>Pave</td>\n",
       "      <td>NaN</td>\n",
       "      <td>IR1</td>\n",
       "      <td>Lvl</td>\n",
       "      <td>AllPub</td>\n",
       "      <td>FR2</td>\n",
       "      <td>...</td>\n",
       "      <td>0</td>\n",
       "      <td>NaN</td>\n",
       "      <td>NaN</td>\n",
       "      <td>NaN</td>\n",
       "      <td>0</td>\n",
       "      <td>12</td>\n",
       "      <td>2008</td>\n",
       "      <td>WD</td>\n",
       "      <td>Normal</td>\n",
       "      <td>250000</td>\n",
       "    </tr>\n",
       "  </tbody>\n",
       "</table>\n",
       "<p>5 rows × 80 columns</p>\n",
       "</div>"
      ],
      "text/plain": [
       "   MSSubClass MSZoning  LotFrontage  LotArea Street Alley LotShape  \\\n",
       "0          60       RL         65.0     8450   Pave   NaN      Reg   \n",
       "1          20       RL         80.0     9600   Pave   NaN      Reg   \n",
       "2          60       RL         68.0    11250   Pave   NaN      IR1   \n",
       "3          70       RL         60.0     9550   Pave   NaN      IR1   \n",
       "4          60       RL         84.0    14260   Pave   NaN      IR1   \n",
       "\n",
       "  LandContour Utilities LotConfig    ...     PoolArea PoolQC Fence  \\\n",
       "0         Lvl    AllPub    Inside    ...            0    NaN   NaN   \n",
       "1         Lvl    AllPub       FR2    ...            0    NaN   NaN   \n",
       "2         Lvl    AllPub    Inside    ...            0    NaN   NaN   \n",
       "3         Lvl    AllPub    Corner    ...            0    NaN   NaN   \n",
       "4         Lvl    AllPub       FR2    ...            0    NaN   NaN   \n",
       "\n",
       "  MiscFeature MiscVal MoSold  YrSold  SaleType  SaleCondition  SalePrice  \n",
       "0         NaN       0      2    2008        WD         Normal     208500  \n",
       "1         NaN       0      5    2007        WD         Normal     181500  \n",
       "2         NaN       0      9    2008        WD         Normal     223500  \n",
       "3         NaN       0      2    2006        WD        Abnorml     140000  \n",
       "4         NaN       0     12    2008        WD         Normal     250000  \n",
       "\n",
       "[5 rows x 80 columns]"
      ]
     },
     "execution_count": 949,
     "metadata": {},
     "output_type": "execute_result"
    }
   ],
   "source": [
    "df_train.head()"
   ]
  },
  {
   "cell_type": "code",
   "execution_count": 950,
   "metadata": {
    "scrolled": false
   },
   "outputs": [
    {
     "data": {
      "image/png": "[encoded data removed]",
      "text/plain": [
       "<Figure size 1080x3600 with 36 Axes>"
      ]
     },
     "metadata": {},
     "output_type": "display_data"
    }
   ],
   "source": [
    "continuous_feature_names = df_train.select_dtypes(['float64','int64']).columns\n",
    "scatter_plot_multiple(df_train, 'SalePrice', continuous_feature_names, 15, 50, 15, 4)"
   ]
  },
  {
   "cell_type": "markdown",
   "metadata": {},
   "source": [
    "The following features appear to exhibit a linear relationship with SalePrice:\n",
    "\n",
    "* LotFrontage\n",
    "* TotalBsmtSF\n",
    "* 1stFlrSF\n",
    "* GrLivArea\n",
    "* GarageArea\n",
    "\n",
    "The following features **could possibly** exhibit a linear relationship with SalePrice using outlier detection and removal.\n",
    "\n",
    "* LotArea\n",
    "* MasVnrArea\n",
    "* BsmtFinSF1\n",
    "* BsmtUnfSF\n",
    "* WoodDeckSF\n",
    "* OpenPorchSF\n",
    "* PoolArea\n",
    "\n",
    "Of the second list, PoolArea appears to contain the most egregious high-valued outliers. Interestingly enough, most of these outliers occur at a lower SalePrice, which seems to be an anomaly. We would naturally expect higher-priced homes to have a larger PoolArea (if the home has a pool, of course).\n",
    "\n",
    "Additionally, many of these numerical features are discrete, e.g. YearBuilt and TotRmsAbvGrd, so we will have to convert these to categorical features using some encoding method."
   ]
  },
  {
   "cell_type": "markdown",
   "metadata": {},
   "source": [
    "### Categorical Features"
   ]
  },
  {
   "cell_type": "markdown",
   "metadata": {},
   "source": [
    "Now let's visualize some categorical variables to see how they relate to SalePrice. First let's plot a boxplot of SalePrice vs. OverallQual."
   ]
  },
  {
   "cell_type": "code",
   "execution_count": 951,
   "metadata": {
    "scrolled": false
   },
   "outputs": [
    {
     "data": {
      "image/png": "[encoded data removed]",
      "text/plain": [
       "<Figure size 576x432 with 1 Axes>"
      ]
     },
     "metadata": {},
     "output_type": "display_data"
    }
   ],
   "source": [
    "var = 'OverallQual'\n",
    "data = pd.concat([df_train['SalePrice'], df_train[var]], axis=1)\n",
    "f, ax = plt.subplots(figsize=(8, 6))\n",
    "fig = sns.boxplot(x=var, y=\"SalePrice\", data=data)\n",
    "fig.axis(ymin=0, ymax=800000);"
   ]
  },
  {
   "cell_type": "markdown",
   "metadata": {},
   "source": [
    "We can clearly see that as the owner-reported overall quality rating increases, the SalePrice increases as well, which makes sense. We would expect higher-priced homes to be of better quality. Now let's take a look at SalePrice vs. YearBuilt."
   ]
  },
  {
   "cell_type": "code",
   "execution_count": 952,
   "metadata": {
    "scrolled": false
   },
   "outputs": [
    {
     "data": {
      "image/png": "[encoded data removed]",
      "text/plain": [
       "<Figure size 1152x576 with 1 Axes>"
      ]
     },
     "metadata": {},
     "output_type": "display_data"
    }
   ],
   "source": [
    "var = 'YearBuilt'\n",
    "data = pd.concat([df_train['SalePrice'], df_train[var]], axis=1)\n",
    "f, ax = plt.subplots(figsize=(16, 8))\n",
    "fig = sns.boxplot(x=var, y=\"SalePrice\", data=data)\n",
    "fig.axis(ymin=0, ymax=800000);\n",
    "plt.xticks(rotation=90);"
   ]
  },
  {
   "cell_type": "markdown",
   "metadata": {},
   "source": [
    "When analyzing the features in our dataset, we must keep in mind whether or not the average homebuyer would factor in a particular variable when purchasing a home. For example, most prospective homebuyers would probably consider `GrLivArea` (ground living area in square feet) to be far more important than `LotShape` (general shape of the property).\n",
    "\n",
    "Our target variable is `SalePrice`, so our objective will be to predict a home's selling price based on the given input features. Thus, we will place an emphasis on feature selection to maximize model accuracy."
   ]
  },
  {
   "cell_type": "markdown",
   "metadata": {},
   "source": [
    "## Analysis of SalePrice"
   ]
  },
  {
   "cell_type": "markdown",
   "metadata": {},
   "source": [
    "Let's take a closer look at our target variable."
   ]
  },
  {
   "cell_type": "code",
   "execution_count": 953,
   "metadata": {
    "scrolled": false
   },
   "outputs": [
    {
     "data": {
      "text/plain": [
       "count      1456.000000\n",
       "mean     180151.233516\n",
       "std       76696.592530\n",
       "min       34900.000000\n",
       "25%      129900.000000\n",
       "50%      163000.000000\n",
       "75%      214000.000000\n",
       "max      625000.000000\n",
       "Name: SalePrice, dtype: float64"
      ]
     },
     "execution_count": 953,
     "metadata": {},
     "output_type": "execute_result"
    }
   ],
   "source": [
    "df_train['SalePrice'].describe()"
   ]
  },
  {
   "cell_type": "code",
   "execution_count": 954,
   "metadata": {},
   "outputs": [
    {
     "data": {
      "text/html": [
       "<div>\n",
       "<style scoped>\n",
       "    .dataframe tbody tr th:only-of-type {\n",
       "        vertical-align: middle;\n",
       "    }\n",
       "\n",
       "    .dataframe tbody tr th {\n",
       "        vertical-align: top;\n",
       "    }\n",
       "\n",
       "    .dataframe thead th {\n",
       "        text-align: right;\n",
       "    }\n",
       "</style>\n",
       "<table border=\"1\" class=\"dataframe\">\n",
       "  <thead>\n",
       "    <tr style=\"text-align: right;\">\n",
       "      <th></th>\n",
       "      <th>MSSubClass</th>\n",
       "      <th>MSZoning</th>\n",
       "      <th>LotFrontage</th>\n",
       "      <th>LotArea</th>\n",
       "      <th>Street</th>\n",
       "      <th>Alley</th>\n",
       "      <th>LotShape</th>\n",
       "      <th>LandContour</th>\n",
       "      <th>Utilities</th>\n",
       "      <th>LotConfig</th>\n",
       "      <th>...</th>\n",
       "      <th>PoolArea</th>\n",
       "      <th>PoolQC</th>\n",
       "      <th>Fence</th>\n",
       "      <th>MiscFeature</th>\n",
       "      <th>MiscVal</th>\n",
       "      <th>MoSold</th>\n",
       "      <th>YrSold</th>\n",
       "      <th>SaleType</th>\n",
       "      <th>SaleCondition</th>\n",
       "      <th>SalePrice</th>\n",
       "    </tr>\n",
       "  </thead>\n",
       "  <tbody>\n",
       "    <tr>\n",
       "      <th>1169</th>\n",
       "      <td>60</td>\n",
       "      <td>RL</td>\n",
       "      <td>118.0</td>\n",
       "      <td>35760</td>\n",
       "      <td>Pave</td>\n",
       "      <td>NaN</td>\n",
       "      <td>IR1</td>\n",
       "      <td>Lvl</td>\n",
       "      <td>AllPub</td>\n",
       "      <td>CulDSac</td>\n",
       "      <td>...</td>\n",
       "      <td>0</td>\n",
       "      <td>NaN</td>\n",
       "      <td>NaN</td>\n",
       "      <td>NaN</td>\n",
       "      <td>0</td>\n",
       "      <td>7</td>\n",
       "      <td>2006</td>\n",
       "      <td>WD</td>\n",
       "      <td>Normal</td>\n",
       "      <td>625000</td>\n",
       "    </tr>\n",
       "  </tbody>\n",
       "</table>\n",
       "<p>1 rows × 80 columns</p>\n",
       "</div>"
      ],
      "text/plain": [
       "      MSSubClass MSZoning  LotFrontage  LotArea Street Alley LotShape  \\\n",
       "1169          60       RL        118.0    35760   Pave   NaN      IR1   \n",
       "\n",
       "     LandContour Utilities LotConfig    ...     PoolArea PoolQC Fence  \\\n",
       "1169         Lvl    AllPub   CulDSac    ...            0    NaN   NaN   \n",
       "\n",
       "     MiscFeature MiscVal MoSold  YrSold  SaleType  SaleCondition  SalePrice  \n",
       "1169         NaN       0      7    2006        WD         Normal     625000  \n",
       "\n",
       "[1 rows x 80 columns]"
      ]
     },
     "execution_count": 954,
     "metadata": {},
     "output_type": "execute_result"
    }
   ],
   "source": [
    "df_train[df_train.SalePrice == df_train.SalePrice.max()]"
   ]
  },
  {
   "cell_type": "code",
   "execution_count": 955,
   "metadata": {
    "scrolled": true
   },
   "outputs": [
    {
     "data": {
      "image/png": "[encoded data removed]",
      "text/plain": [
       "<Figure size 432x288 with 1 Axes>"
      ]
     },
     "metadata": {},
     "output_type": "display_data"
    }
   ],
   "source": [
    "sns.distplot(df_train['SalePrice']);"
   ]
  },
  {
   "cell_type": "markdown",
   "metadata": {},
   "source": [
    "`SalePrice` deviates from a normal distribution and appears to be right-skewed. Linear models perform better with normally distributed data, so we should transform this variable. We can use the `numpy.log1p()` function to transform the data so that it is accurate for a wide range of floating point values."
   ]
  },
  {
   "cell_type": "code",
   "execution_count": 956,
   "metadata": {
    "scrolled": true
   },
   "outputs": [
    {
     "data": {
      "image/png": "[encoded data removed]",
      "text/plain": [
       "<Figure size 432x288 with 1 Axes>"
      ]
     },
     "metadata": {},
     "output_type": "display_data"
    }
   ],
   "source": [
    "df_train['SalePrice'] = np.log1p(df_train['SalePrice'])\n",
    "\n",
    "# Check the distribution again\n",
    "sns.distplot(df_train['SalePrice']);"
   ]
  },
  {
   "cell_type": "markdown",
   "metadata": {},
   "source": [
    "## Correlation Heatmap"
   ]
  },
  {
   "cell_type": "code",
   "execution_count": 957,
   "metadata": {
    "scrolled": true
   },
   "outputs": [
    {
     "data": {
      "text/plain": [
       "<matplotlib.axes._subplots.AxesSubplot at 0x122f1ffd0>"
      ]
     },
     "execution_count": 957,
     "metadata": {},
     "output_type": "execute_result"
    },
    {
     "data": {
      "image/png": "[encoded data removed]",
      "text/plain": [
       "<Figure size 1080x720 with 2 Axes>"
      ]
     },
     "metadata": {},
     "output_type": "display_data"
    }
   ],
   "source": [
    "# Correlation map\n",
    "corr = df_train.corr()\n",
    "plt.subplots(figsize=(15,10))\n",
    "sns.heatmap(corr, vmax=0.9, square=True)"
   ]
  },
  {
   "cell_type": "markdown",
   "metadata": {},
   "source": [
    "# Feature Engineering"
   ]
  },
  {
   "cell_type": "markdown",
   "metadata": {},
   "source": [
    "## Handle Missing Values\n",
    "We will impute the missing values for each feature. First, let's see how many missing values there are."
   ]
  },
  {
   "cell_type": "code",
   "execution_count": 958,
   "metadata": {
    "scrolled": false
   },
   "outputs": [
    {
     "data": {
      "text/html": [
       "<div>\n",
       "<style scoped>\n",
       "    .dataframe tbody tr th:only-of-type {\n",
       "        vertical-align: middle;\n",
       "    }\n",
       "\n",
       "    .dataframe tbody tr th {\n",
       "        vertical-align: top;\n",
       "    }\n",
       "\n",
       "    .dataframe thead th {\n",
       "        text-align: right;\n",
       "    }\n",
       "</style>\n",
       "<table border=\"1\" class=\"dataframe\">\n",
       "  <thead>\n",
       "    <tr style=\"text-align: right;\">\n",
       "      <th></th>\n",
       "      <th>Total</th>\n",
       "      <th>Percent</th>\n",
       "    </tr>\n",
       "  </thead>\n",
       "  <tbody>\n",
       "    <tr>\n",
       "      <th>PoolQC</th>\n",
       "      <td>1451</td>\n",
       "      <td>0.996566</td>\n",
       "    </tr>\n",
       "    <tr>\n",
       "      <th>MiscFeature</th>\n",
       "      <td>1402</td>\n",
       "      <td>0.962912</td>\n",
       "    </tr>\n",
       "    <tr>\n",
       "      <th>Alley</th>\n",
       "      <td>1365</td>\n",
       "      <td>0.937500</td>\n",
       "    </tr>\n",
       "    <tr>\n",
       "      <th>Fence</th>\n",
       "      <td>1176</td>\n",
       "      <td>0.807692</td>\n",
       "    </tr>\n",
       "    <tr>\n",
       "      <th>FireplaceQu</th>\n",
       "      <td>690</td>\n",
       "      <td>0.473901</td>\n",
       "    </tr>\n",
       "    <tr>\n",
       "      <th>LotFrontage</th>\n",
       "      <td>259</td>\n",
       "      <td>0.177885</td>\n",
       "    </tr>\n",
       "    <tr>\n",
       "      <th>GarageType</th>\n",
       "      <td>81</td>\n",
       "      <td>0.055632</td>\n",
       "    </tr>\n",
       "    <tr>\n",
       "      <th>GarageCond</th>\n",
       "      <td>81</td>\n",
       "      <td>0.055632</td>\n",
       "    </tr>\n",
       "    <tr>\n",
       "      <th>GarageFinish</th>\n",
       "      <td>81</td>\n",
       "      <td>0.055632</td>\n",
       "    </tr>\n",
       "    <tr>\n",
       "      <th>GarageQual</th>\n",
       "      <td>81</td>\n",
       "      <td>0.055632</td>\n",
       "    </tr>\n",
       "    <tr>\n",
       "      <th>GarageYrBlt</th>\n",
       "      <td>81</td>\n",
       "      <td>0.055632</td>\n",
       "    </tr>\n",
       "    <tr>\n",
       "      <th>BsmtFinType2</th>\n",
       "      <td>38</td>\n",
       "      <td>0.026099</td>\n",
       "    </tr>\n",
       "    <tr>\n",
       "      <th>BsmtExposure</th>\n",
       "      <td>38</td>\n",
       "      <td>0.026099</td>\n",
       "    </tr>\n",
       "    <tr>\n",
       "      <th>BsmtQual</th>\n",
       "      <td>37</td>\n",
       "      <td>0.025412</td>\n",
       "    </tr>\n",
       "    <tr>\n",
       "      <th>BsmtCond</th>\n",
       "      <td>37</td>\n",
       "      <td>0.025412</td>\n",
       "    </tr>\n",
       "    <tr>\n",
       "      <th>BsmtFinType1</th>\n",
       "      <td>37</td>\n",
       "      <td>0.025412</td>\n",
       "    </tr>\n",
       "    <tr>\n",
       "      <th>MasVnrArea</th>\n",
       "      <td>8</td>\n",
       "      <td>0.005495</td>\n",
       "    </tr>\n",
       "    <tr>\n",
       "      <th>MasVnrType</th>\n",
       "      <td>8</td>\n",
       "      <td>0.005495</td>\n",
       "    </tr>\n",
       "    <tr>\n",
       "      <th>Electrical</th>\n",
       "      <td>1</td>\n",
       "      <td>0.000687</td>\n",
       "    </tr>\n",
       "    <tr>\n",
       "      <th>RoofMatl</th>\n",
       "      <td>0</td>\n",
       "      <td>0.000000</td>\n",
       "    </tr>\n",
       "  </tbody>\n",
       "</table>\n",
       "</div>"
      ],
      "text/plain": [
       "              Total   Percent\n",
       "PoolQC         1451  0.996566\n",
       "MiscFeature    1402  0.962912\n",
       "Alley          1365  0.937500\n",
       "Fence          1176  0.807692\n",
       "FireplaceQu     690  0.473901\n",
       "LotFrontage     259  0.177885\n",
       "GarageType       81  0.055632\n",
       "GarageCond       81  0.055632\n",
       "GarageFinish     81  0.055632\n",
       "GarageQual       81  0.055632\n",
       "GarageYrBlt      81  0.055632\n",
       "BsmtFinType2     38  0.026099\n",
       "BsmtExposure     38  0.026099\n",
       "BsmtQual         37  0.025412\n",
       "BsmtCond         37  0.025412\n",
       "BsmtFinType1     37  0.025412\n",
       "MasVnrArea        8  0.005495\n",
       "MasVnrType        8  0.005495\n",
       "Electrical        1  0.000687\n",
       "RoofMatl          0  0.000000"
      ]
     },
     "execution_count": 958,
     "metadata": {},
     "output_type": "execute_result"
    }
   ],
   "source": [
    "# Missing data\n",
    "total = df_train.isnull().sum().sort_values(ascending=False)\n",
    "percent = (df_train.isnull().sum()/df_train.isnull().count()).sort_values(ascending=False)\n",
    "missing_data = pd.concat([total, percent], axis=1, keys=['Total', 'Percent'])\n",
    "missing_data.head(20)"
   ]
  },
  {
   "cell_type": "markdown",
   "metadata": {},
   "source": [
    "### PoolQC\n",
    "A value of NaN means the house does not have a pool. This is why there are so many missing values, as most houses expectedly do not have pools. We can fill in the missing values with the string 'None' to indicate no pool, as this is a categorical feature."
   ]
  },
  {
   "cell_type": "code",
   "execution_count": 959,
   "metadata": {
    "collapsed": true
   },
   "outputs": [],
   "source": [
    "df_train['PoolQC'] = df_train['PoolQC'].fillna('None')"
   ]
  },
  {
   "cell_type": "markdown",
   "metadata": {},
   "source": [
    "### MiscFeature\n",
    "A value of NaN means there is no miscellaneous feature. Since this is a categorical feature, we can simply fill in the missing values with 'None' to indicate no miscellaneous feature."
   ]
  },
  {
   "cell_type": "code",
   "execution_count": 960,
   "metadata": {
    "collapsed": true
   },
   "outputs": [],
   "source": [
    "df_train['MiscFeature'] = df_train['MiscFeature'].fillna('None')"
   ]
  },
  {
   "cell_type": "markdown",
   "metadata": {},
   "source": [
    "### Alley\n",
    "A value of NaN means there is no alley access. Again, we can fill in the missing values with 'None'."
   ]
  },
  {
   "cell_type": "code",
   "execution_count": 961,
   "metadata": {
    "collapsed": true
   },
   "outputs": [],
   "source": [
    "df_train['Alley'] = df_train['Alley'].fillna('None')"
   ]
  },
  {
   "cell_type": "markdown",
   "metadata": {},
   "source": [
    "### Fence\n",
    "A value of NaN means there is no fence. We can fill in the missing values with 'None'."
   ]
  },
  {
   "cell_type": "code",
   "execution_count": 962,
   "metadata": {
    "collapsed": true
   },
   "outputs": [],
   "source": [
    "df_train['Fence'] = df_train['Fence'].fillna('None')"
   ]
  },
  {
   "cell_type": "markdown",
   "metadata": {},
   "source": [
    "### FireplaceQu\n",
    "A value of NaN means there is no fireplace. We can fill in the missing values with 'None'."
   ]
  },
  {
   "cell_type": "code",
   "execution_count": 963,
   "metadata": {
    "collapsed": true
   },
   "outputs": [],
   "source": [
    "df_train['FireplaceQu'] = df_train['FireplaceQu'].fillna('None')"
   ]
  },
  {
   "cell_type": "markdown",
   "metadata": {},
   "source": [
    "### LotFrontage\n",
    "We can assume that homes in the same neighborhood will have similar values for the linear feet of street connected to their property. Thus, we can use `groupby` to group by neighborhood and fill in the missing values with the median LotFrontage."
   ]
  },
  {
   "cell_type": "code",
   "execution_count": 964,
   "metadata": {
    "collapsed": true
   },
   "outputs": [],
   "source": [
    "df_train['LotFrontage'] = df_train['LotFrontage'].fillna('None')"
   ]
  },
  {
   "cell_type": "markdown",
   "metadata": {},
   "source": [
    "### GarageType, GarageCond, GarageFinish, GarageQual, GarageYrBlt\n",
    "For each of the categorical garage features, we can fill in the missing values with 'None', since it indicates no garage."
   ]
  },
  {
   "cell_type": "code",
   "execution_count": 965,
   "metadata": {
    "collapsed": true
   },
   "outputs": [],
   "source": [
    "for col in ['GarageType', 'GarageFinish', 'GarageQual', 'GarageCond', 'GarageYrBlt']:\n",
    "    df_train[col] = df_train[col].fillna('None')"
   ]
  },
  {
   "cell_type": "markdown",
   "metadata": {},
   "source": [
    "### BsmtQual, BsmtCond, BsmtFinType1\n",
    "For these three basement features, we can fill in the missing values with 'None'."
   ]
  },
  {
   "cell_type": "code",
   "execution_count": 966,
   "metadata": {
    "collapsed": true
   },
   "outputs": [],
   "source": [
    "for col in ['BsmtQual', 'BsmtCond', 'BsmtFinType1']:\n",
    "    df_train[col] = df_train[col].fillna('None')"
   ]
  },
  {
   "cell_type": "markdown",
   "metadata": {},
   "source": [
    "###  BsmtFinType2, BsmtExposure\n",
    "For these two basement features, we can fill in the missing values with 'None'."
   ]
  },
  {
   "cell_type": "code",
   "execution_count": 967,
   "metadata": {
    "collapsed": true
   },
   "outputs": [],
   "source": [
    "for col in ['BsmtFinType2', 'BsmtExposure']:\n",
    "    df_train[col] = df_train[col].fillna('None')"
   ]
  },
  {
   "cell_type": "markdown",
   "metadata": {},
   "source": [
    "### MasVnrArea\n",
    "A value of NaN means no masonry veneer for the home, so we can fill in missing values with 0."
   ]
  },
  {
   "cell_type": "code",
   "execution_count": 968,
   "metadata": {
    "collapsed": true
   },
   "outputs": [],
   "source": [
    "df_train['MasVnrArea'] = df_train['MasVnrArea'].fillna('None')"
   ]
  },
  {
   "cell_type": "markdown",
   "metadata": {},
   "source": [
    "### MsVnrType\n",
    "A value of NaN means no masonry veneer for the home, so we can fill in missing values with 'None'."
   ]
  },
  {
   "cell_type": "code",
   "execution_count": 969,
   "metadata": {
    "collapsed": true
   },
   "outputs": [],
   "source": [
    "df_train['MasVnrType'] = df_train['MasVnrType'].fillna('None')"
   ]
  },
  {
   "cell_type": "markdown",
   "metadata": {},
   "source": [
    "### Utilities\n",
    "All of the values are 'AllPub' except for three of them. Therefore, this feature will not be useful for modeling, and we can safely drop it."
   ]
  },
  {
   "cell_type": "code",
   "execution_count": 970,
   "metadata": {
    "collapsed": true
   },
   "outputs": [],
   "source": [
    "df_train = df_train.drop(['Utilities'], axis=1)"
   ]
  },
  {
   "cell_type": "markdown",
   "metadata": {},
   "source": [
    "### Functional\n",
    "According to the data description, a value of NaN means typical. Thus, we can replace missing values with 'Typ'."
   ]
  },
  {
   "cell_type": "code",
   "execution_count": 971,
   "metadata": {
    "collapsed": true
   },
   "outputs": [],
   "source": [
    "df_train['Functional'] = df_train['Functional'].fillna('Typ')"
   ]
  },
  {
   "cell_type": "markdown",
   "metadata": {},
   "source": [
    "### Electrical\n",
    "There is only one NaN value, so we can replace it with the most frequently occurring value, 'SBrkr'."
   ]
  },
  {
   "cell_type": "code",
   "execution_count": 972,
   "metadata": {
    "collapsed": true
   },
   "outputs": [],
   "source": [
    "df_train['Electrical'] = df_train['Electrical'].fillna(df_train['Electrical'].mode()[0])"
   ]
  },
  {
   "cell_type": "code",
   "execution_count": 973,
   "metadata": {},
   "outputs": [
    {
     "data": {
      "text/html": [
       "<div>\n",
       "<style scoped>\n",
       "    .dataframe tbody tr th:only-of-type {\n",
       "        vertical-align: middle;\n",
       "    }\n",
       "\n",
       "    .dataframe tbody tr th {\n",
       "        vertical-align: top;\n",
       "    }\n",
       "\n",
       "    .dataframe thead th {\n",
       "        text-align: right;\n",
       "    }\n",
       "</style>\n",
       "<table border=\"1\" class=\"dataframe\">\n",
       "  <thead>\n",
       "    <tr style=\"text-align: right;\">\n",
       "      <th></th>\n",
       "      <th>Total</th>\n",
       "      <th>Percent</th>\n",
       "    </tr>\n",
       "  </thead>\n",
       "  <tbody>\n",
       "    <tr>\n",
       "      <th>SalePrice</th>\n",
       "      <td>0</td>\n",
       "      <td>0.0</td>\n",
       "    </tr>\n",
       "    <tr>\n",
       "      <th>BsmtQual</th>\n",
       "      <td>0</td>\n",
       "      <td>0.0</td>\n",
       "    </tr>\n",
       "    <tr>\n",
       "      <th>Exterior1st</th>\n",
       "      <td>0</td>\n",
       "      <td>0.0</td>\n",
       "    </tr>\n",
       "    <tr>\n",
       "      <th>Exterior2nd</th>\n",
       "      <td>0</td>\n",
       "      <td>0.0</td>\n",
       "    </tr>\n",
       "    <tr>\n",
       "      <th>MasVnrType</th>\n",
       "      <td>0</td>\n",
       "      <td>0.0</td>\n",
       "    </tr>\n",
       "    <tr>\n",
       "      <th>MasVnrArea</th>\n",
       "      <td>0</td>\n",
       "      <td>0.0</td>\n",
       "    </tr>\n",
       "    <tr>\n",
       "      <th>ExterQual</th>\n",
       "      <td>0</td>\n",
       "      <td>0.0</td>\n",
       "    </tr>\n",
       "    <tr>\n",
       "      <th>ExterCond</th>\n",
       "      <td>0</td>\n",
       "      <td>0.0</td>\n",
       "    </tr>\n",
       "    <tr>\n",
       "      <th>Foundation</th>\n",
       "      <td>0</td>\n",
       "      <td>0.0</td>\n",
       "    </tr>\n",
       "    <tr>\n",
       "      <th>BsmtCond</th>\n",
       "      <td>0</td>\n",
       "      <td>0.0</td>\n",
       "    </tr>\n",
       "    <tr>\n",
       "      <th>RoofStyle</th>\n",
       "      <td>0</td>\n",
       "      <td>0.0</td>\n",
       "    </tr>\n",
       "    <tr>\n",
       "      <th>BsmtExposure</th>\n",
       "      <td>0</td>\n",
       "      <td>0.0</td>\n",
       "    </tr>\n",
       "    <tr>\n",
       "      <th>BsmtFinType1</th>\n",
       "      <td>0</td>\n",
       "      <td>0.0</td>\n",
       "    </tr>\n",
       "    <tr>\n",
       "      <th>BsmtFinSF1</th>\n",
       "      <td>0</td>\n",
       "      <td>0.0</td>\n",
       "    </tr>\n",
       "    <tr>\n",
       "      <th>BsmtFinType2</th>\n",
       "      <td>0</td>\n",
       "      <td>0.0</td>\n",
       "    </tr>\n",
       "    <tr>\n",
       "      <th>BsmtFinSF2</th>\n",
       "      <td>0</td>\n",
       "      <td>0.0</td>\n",
       "    </tr>\n",
       "    <tr>\n",
       "      <th>BsmtUnfSF</th>\n",
       "      <td>0</td>\n",
       "      <td>0.0</td>\n",
       "    </tr>\n",
       "    <tr>\n",
       "      <th>TotalBsmtSF</th>\n",
       "      <td>0</td>\n",
       "      <td>0.0</td>\n",
       "    </tr>\n",
       "    <tr>\n",
       "      <th>RoofMatl</th>\n",
       "      <td>0</td>\n",
       "      <td>0.0</td>\n",
       "    </tr>\n",
       "  </tbody>\n",
       "</table>\n",
       "</div>"
      ],
      "text/plain": [
       "              Total  Percent\n",
       "SalePrice         0      0.0\n",
       "BsmtQual          0      0.0\n",
       "Exterior1st       0      0.0\n",
       "Exterior2nd       0      0.0\n",
       "MasVnrType        0      0.0\n",
       "MasVnrArea        0      0.0\n",
       "ExterQual         0      0.0\n",
       "ExterCond         0      0.0\n",
       "Foundation        0      0.0\n",
       "BsmtCond          0      0.0\n",
       "RoofStyle         0      0.0\n",
       "BsmtExposure      0      0.0\n",
       "BsmtFinType1      0      0.0\n",
       "BsmtFinSF1        0      0.0\n",
       "BsmtFinType2      0      0.0\n",
       "BsmtFinSF2        0      0.0\n",
       "BsmtUnfSF         0      0.0\n",
       "TotalBsmtSF       0      0.0\n",
       "RoofMatl          0      0.0"
      ]
     },
     "execution_count": 973,
     "metadata": {},
     "output_type": "execute_result"
    }
   ],
   "source": [
    "#missing data\n",
    "total = df_train.isnull().sum().sort_values(ascending=False)\n",
    "percent = (df_train.isnull().sum()/df_train.isnull().count()).sort_values(ascending=False)\n",
    "missing_data = pd.concat([total, percent], axis=1, keys=['Total', 'Percent'])\n",
    "missing_data.head(19)"
   ]
  },
  {
   "cell_type": "code",
   "execution_count": 974,
   "metadata": {
    "scrolled": true
   },
   "outputs": [
    {
     "data": {
      "text/html": [
       "<div>\n",
       "<style scoped>\n",
       "    .dataframe tbody tr th:only-of-type {\n",
       "        vertical-align: middle;\n",
       "    }\n",
       "\n",
       "    .dataframe tbody tr th {\n",
       "        vertical-align: top;\n",
       "    }\n",
       "\n",
       "    .dataframe thead th {\n",
       "        text-align: right;\n",
       "    }\n",
       "</style>\n",
       "<table border=\"1\" class=\"dataframe\">\n",
       "  <thead>\n",
       "    <tr style=\"text-align: right;\">\n",
       "      <th></th>\n",
       "      <th>MSSubClass</th>\n",
       "      <th>LotArea</th>\n",
       "      <th>OverallQual</th>\n",
       "      <th>OverallCond</th>\n",
       "      <th>YearBuilt</th>\n",
       "      <th>YearRemodAdd</th>\n",
       "      <th>BsmtFinSF1</th>\n",
       "      <th>BsmtFinSF2</th>\n",
       "      <th>BsmtUnfSF</th>\n",
       "      <th>TotalBsmtSF</th>\n",
       "      <th>...</th>\n",
       "      <th>WoodDeckSF</th>\n",
       "      <th>OpenPorchSF</th>\n",
       "      <th>EnclosedPorch</th>\n",
       "      <th>3SsnPorch</th>\n",
       "      <th>ScreenPorch</th>\n",
       "      <th>PoolArea</th>\n",
       "      <th>MiscVal</th>\n",
       "      <th>MoSold</th>\n",
       "      <th>YrSold</th>\n",
       "      <th>SalePrice</th>\n",
       "    </tr>\n",
       "  </thead>\n",
       "  <tbody>\n",
       "    <tr>\n",
       "      <th>count</th>\n",
       "      <td>1456.000000</td>\n",
       "      <td>1456.000000</td>\n",
       "      <td>1456.000000</td>\n",
       "      <td>1456.000000</td>\n",
       "      <td>1456.00000</td>\n",
       "      <td>1456.000000</td>\n",
       "      <td>1456.000000</td>\n",
       "      <td>1456.000000</td>\n",
       "      <td>1456.000000</td>\n",
       "      <td>1456.000000</td>\n",
       "      <td>...</td>\n",
       "      <td>1456.000000</td>\n",
       "      <td>1456.000000</td>\n",
       "      <td>1456.000000</td>\n",
       "      <td>1456.000000</td>\n",
       "      <td>1456.000000</td>\n",
       "      <td>1456.000000</td>\n",
       "      <td>1456.000000</td>\n",
       "      <td>1456.000000</td>\n",
       "      <td>1456.000000</td>\n",
       "      <td>1456.000000</td>\n",
       "    </tr>\n",
       "    <tr>\n",
       "      <th>mean</th>\n",
       "      <td>56.888736</td>\n",
       "      <td>10448.784341</td>\n",
       "      <td>6.088599</td>\n",
       "      <td>5.576236</td>\n",
       "      <td>1971.18544</td>\n",
       "      <td>1984.819368</td>\n",
       "      <td>436.991071</td>\n",
       "      <td>46.677198</td>\n",
       "      <td>566.990385</td>\n",
       "      <td>1050.658654</td>\n",
       "      <td>...</td>\n",
       "      <td>93.833791</td>\n",
       "      <td>46.221154</td>\n",
       "      <td>22.014423</td>\n",
       "      <td>3.418956</td>\n",
       "      <td>15.102335</td>\n",
       "      <td>2.055632</td>\n",
       "      <td>43.608516</td>\n",
       "      <td>6.326236</td>\n",
       "      <td>2007.817308</td>\n",
       "      <td>12.021950</td>\n",
       "    </tr>\n",
       "    <tr>\n",
       "      <th>std</th>\n",
       "      <td>42.358363</td>\n",
       "      <td>9860.763449</td>\n",
       "      <td>1.369669</td>\n",
       "      <td>1.113966</td>\n",
       "      <td>30.20159</td>\n",
       "      <td>20.652143</td>\n",
       "      <td>430.255052</td>\n",
       "      <td>161.522376</td>\n",
       "      <td>442.197182</td>\n",
       "      <td>412.155715</td>\n",
       "      <td>...</td>\n",
       "      <td>125.192349</td>\n",
       "      <td>65.352424</td>\n",
       "      <td>61.192248</td>\n",
       "      <td>29.357056</td>\n",
       "      <td>55.828405</td>\n",
       "      <td>35.383772</td>\n",
       "      <td>496.799265</td>\n",
       "      <td>2.698356</td>\n",
       "      <td>1.329394</td>\n",
       "      <td>0.396077</td>\n",
       "    </tr>\n",
       "    <tr>\n",
       "      <th>min</th>\n",
       "      <td>20.000000</td>\n",
       "      <td>1300.000000</td>\n",
       "      <td>1.000000</td>\n",
       "      <td>1.000000</td>\n",
       "      <td>1872.00000</td>\n",
       "      <td>1950.000000</td>\n",
       "      <td>0.000000</td>\n",
       "      <td>0.000000</td>\n",
       "      <td>0.000000</td>\n",
       "      <td>0.000000</td>\n",
       "      <td>...</td>\n",
       "      <td>0.000000</td>\n",
       "      <td>0.000000</td>\n",
       "      <td>0.000000</td>\n",
       "      <td>0.000000</td>\n",
       "      <td>0.000000</td>\n",
       "      <td>0.000000</td>\n",
       "      <td>0.000000</td>\n",
       "      <td>1.000000</td>\n",
       "      <td>2006.000000</td>\n",
       "      <td>10.460271</td>\n",
       "    </tr>\n",
       "    <tr>\n",
       "      <th>25%</th>\n",
       "      <td>20.000000</td>\n",
       "      <td>7538.750000</td>\n",
       "      <td>5.000000</td>\n",
       "      <td>5.000000</td>\n",
       "      <td>1954.00000</td>\n",
       "      <td>1966.750000</td>\n",
       "      <td>0.000000</td>\n",
       "      <td>0.000000</td>\n",
       "      <td>222.500000</td>\n",
       "      <td>795.000000</td>\n",
       "      <td>...</td>\n",
       "      <td>0.000000</td>\n",
       "      <td>0.000000</td>\n",
       "      <td>0.000000</td>\n",
       "      <td>0.000000</td>\n",
       "      <td>0.000000</td>\n",
       "      <td>0.000000</td>\n",
       "      <td>0.000000</td>\n",
       "      <td>5.000000</td>\n",
       "      <td>2007.000000</td>\n",
       "      <td>11.774528</td>\n",
       "    </tr>\n",
       "    <tr>\n",
       "      <th>50%</th>\n",
       "      <td>50.000000</td>\n",
       "      <td>9468.500000</td>\n",
       "      <td>6.000000</td>\n",
       "      <td>5.000000</td>\n",
       "      <td>1972.00000</td>\n",
       "      <td>1993.500000</td>\n",
       "      <td>381.000000</td>\n",
       "      <td>0.000000</td>\n",
       "      <td>477.500000</td>\n",
       "      <td>990.500000</td>\n",
       "      <td>...</td>\n",
       "      <td>0.000000</td>\n",
       "      <td>24.000000</td>\n",
       "      <td>0.000000</td>\n",
       "      <td>0.000000</td>\n",
       "      <td>0.000000</td>\n",
       "      <td>0.000000</td>\n",
       "      <td>0.000000</td>\n",
       "      <td>6.000000</td>\n",
       "      <td>2008.000000</td>\n",
       "      <td>12.001512</td>\n",
       "    </tr>\n",
       "    <tr>\n",
       "      <th>75%</th>\n",
       "      <td>70.000000</td>\n",
       "      <td>11588.000000</td>\n",
       "      <td>7.000000</td>\n",
       "      <td>6.000000</td>\n",
       "      <td>2000.00000</td>\n",
       "      <td>2004.000000</td>\n",
       "      <td>706.500000</td>\n",
       "      <td>0.000000</td>\n",
       "      <td>808.000000</td>\n",
       "      <td>1293.750000</td>\n",
       "      <td>...</td>\n",
       "      <td>168.000000</td>\n",
       "      <td>68.000000</td>\n",
       "      <td>0.000000</td>\n",
       "      <td>0.000000</td>\n",
       "      <td>0.000000</td>\n",
       "      <td>0.000000</td>\n",
       "      <td>0.000000</td>\n",
       "      <td>8.000000</td>\n",
       "      <td>2009.000000</td>\n",
       "      <td>12.273736</td>\n",
       "    </tr>\n",
       "    <tr>\n",
       "      <th>max</th>\n",
       "      <td>190.000000</td>\n",
       "      <td>215245.000000</td>\n",
       "      <td>10.000000</td>\n",
       "      <td>9.000000</td>\n",
       "      <td>2010.00000</td>\n",
       "      <td>2010.000000</td>\n",
       "      <td>2188.000000</td>\n",
       "      <td>1474.000000</td>\n",
       "      <td>2336.000000</td>\n",
       "      <td>3206.000000</td>\n",
       "      <td>...</td>\n",
       "      <td>857.000000</td>\n",
       "      <td>547.000000</td>\n",
       "      <td>552.000000</td>\n",
       "      <td>508.000000</td>\n",
       "      <td>480.000000</td>\n",
       "      <td>738.000000</td>\n",
       "      <td>15500.000000</td>\n",
       "      <td>12.000000</td>\n",
       "      <td>2010.000000</td>\n",
       "      <td>13.345509</td>\n",
       "    </tr>\n",
       "  </tbody>\n",
       "</table>\n",
       "<p>8 rows × 34 columns</p>\n",
       "</div>"
      ],
      "text/plain": [
       "        MSSubClass        LotArea  OverallQual  OverallCond   YearBuilt  \\\n",
       "count  1456.000000    1456.000000  1456.000000  1456.000000  1456.00000   \n",
       "mean     56.888736   10448.784341     6.088599     5.576236  1971.18544   \n",
       "std      42.358363    9860.763449     1.369669     1.113966    30.20159   \n",
       "min      20.000000    1300.000000     1.000000     1.000000  1872.00000   \n",
       "25%      20.000000    7538.750000     5.000000     5.000000  1954.00000   \n",
       "50%      50.000000    9468.500000     6.000000     5.000000  1972.00000   \n",
       "75%      70.000000   11588.000000     7.000000     6.000000  2000.00000   \n",
       "max     190.000000  215245.000000    10.000000     9.000000  2010.00000   \n",
       "\n",
       "       YearRemodAdd   BsmtFinSF1   BsmtFinSF2    BsmtUnfSF  TotalBsmtSF  \\\n",
       "count   1456.000000  1456.000000  1456.000000  1456.000000  1456.000000   \n",
       "mean    1984.819368   436.991071    46.677198   566.990385  1050.658654   \n",
       "std       20.652143   430.255052   161.522376   442.197182   412.155715   \n",
       "min     1950.000000     0.000000     0.000000     0.000000     0.000000   \n",
       "25%     1966.750000     0.000000     0.000000   222.500000   795.000000   \n",
       "50%     1993.500000   381.000000     0.000000   477.500000   990.500000   \n",
       "75%     2004.000000   706.500000     0.000000   808.000000  1293.750000   \n",
       "max     2010.000000  2188.000000  1474.000000  2336.000000  3206.000000   \n",
       "\n",
       "          ...        WoodDeckSF  OpenPorchSF  EnclosedPorch    3SsnPorch  \\\n",
       "count     ...       1456.000000  1456.000000    1456.000000  1456.000000   \n",
       "mean      ...         93.833791    46.221154      22.014423     3.418956   \n",
       "std       ...        125.192349    65.352424      61.192248    29.357056   \n",
       "min       ...          0.000000     0.000000       0.000000     0.000000   \n",
       "25%       ...          0.000000     0.000000       0.000000     0.000000   \n",
       "50%       ...          0.000000    24.000000       0.000000     0.000000   \n",
       "75%       ...        168.000000    68.000000       0.000000     0.000000   \n",
       "max       ...        857.000000   547.000000     552.000000   508.000000   \n",
       "\n",
       "       ScreenPorch     PoolArea       MiscVal       MoSold       YrSold  \\\n",
       "count  1456.000000  1456.000000   1456.000000  1456.000000  1456.000000   \n",
       "mean     15.102335     2.055632     43.608516     6.326236  2007.817308   \n",
       "std      55.828405    35.383772    496.799265     2.698356     1.329394   \n",
       "min       0.000000     0.000000      0.000000     1.000000  2006.000000   \n",
       "25%       0.000000     0.000000      0.000000     5.000000  2007.000000   \n",
       "50%       0.000000     0.000000      0.000000     6.000000  2008.000000   \n",
       "75%       0.000000     0.000000      0.000000     8.000000  2009.000000   \n",
       "max     480.000000   738.000000  15500.000000    12.000000  2010.000000   \n",
       "\n",
       "         SalePrice  \n",
       "count  1456.000000  \n",
       "mean     12.021950  \n",
       "std       0.396077  \n",
       "min      10.460271  \n",
       "25%      11.774528  \n",
       "50%      12.001512  \n",
       "75%      12.273736  \n",
       "max      13.345509  \n",
       "\n",
       "[8 rows x 34 columns]"
      ]
     },
     "execution_count": 974,
     "metadata": {},
     "output_type": "execute_result"
    }
   ],
   "source": [
    "df_train.describe()"
   ]
  },
  {
   "cell_type": "code",
   "execution_count": 975,
   "metadata": {
    "collapsed": true
   },
   "outputs": [],
   "source": [
    "for col in ['MSSubClass', 'OverallCond', 'YrSold', 'MoSold']:\n",
    "    df_train[col] = df_train[col].apply(str)"
   ]
  },
  {
   "cell_type": "code",
   "execution_count": 976,
   "metadata": {
    "scrolled": true
   },
   "outputs": [
    {
     "name": "stdout",
     "output_type": "stream",
     "text": [
      "MSSubClass        object\n",
      "MSZoning          object\n",
      "LotFrontage       object\n",
      "LotArea            int64\n",
      "Street            object\n",
      "Alley             object\n",
      "LotShape          object\n",
      "LandContour       object\n",
      "LotConfig         object\n",
      "LandSlope         object\n",
      "Neighborhood      object\n",
      "Condition1        object\n",
      "Condition2        object\n",
      "BldgType          object\n",
      "HouseStyle        object\n",
      "OverallQual        int64\n",
      "OverallCond       object\n",
      "YearBuilt          int64\n",
      "YearRemodAdd       int64\n",
      "RoofStyle         object\n",
      "RoofMatl          object\n",
      "Exterior1st       object\n",
      "Exterior2nd       object\n",
      "MasVnrType        object\n",
      "MasVnrArea        object\n",
      "ExterQual         object\n",
      "ExterCond         object\n",
      "Foundation        object\n",
      "BsmtQual          object\n",
      "BsmtCond          object\n",
      "BsmtExposure      object\n",
      "BsmtFinType1      object\n",
      "BsmtFinSF1         int64\n",
      "BsmtFinType2      object\n",
      "BsmtFinSF2         int64\n",
      "BsmtUnfSF          int64\n",
      "TotalBsmtSF        int64\n",
      "Heating           object\n",
      "HeatingQC         object\n",
      "CentralAir        object\n",
      "Electrical        object\n",
      "1stFlrSF           int64\n",
      "2ndFlrSF           int64\n",
      "LowQualFinSF       int64\n",
      "GrLivArea          int64\n",
      "BsmtFullBath       int64\n",
      "BsmtHalfBath       int64\n",
      "FullBath           int64\n",
      "HalfBath           int64\n",
      "BedroomAbvGr       int64\n",
      "KitchenAbvGr       int64\n",
      "KitchenQual       object\n",
      "TotRmsAbvGrd       int64\n",
      "Functional        object\n",
      "Fireplaces         int64\n",
      "FireplaceQu       object\n",
      "GarageType        object\n",
      "GarageYrBlt       object\n",
      "GarageFinish      object\n",
      "GarageCars         int64\n",
      "GarageArea         int64\n",
      "GarageQual        object\n",
      "GarageCond        object\n",
      "PavedDrive        object\n",
      "WoodDeckSF         int64\n",
      "OpenPorchSF        int64\n",
      "EnclosedPorch      int64\n",
      "3SsnPorch          int64\n",
      "ScreenPorch        int64\n",
      "PoolArea           int64\n",
      "PoolQC            object\n",
      "Fence             object\n",
      "MiscFeature       object\n",
      "MiscVal            int64\n",
      "MoSold            object\n",
      "YrSold            object\n",
      "SaleType          object\n",
      "SaleCondition     object\n",
      "SalePrice        float64\n",
      "dtype: object\n"
     ]
    }
   ],
   "source": [
    "print(df_train.dtypes)"
   ]
  },
  {
   "cell_type": "code",
   "execution_count": 977,
   "metadata": {
    "collapsed": true
   },
   "outputs": [],
   "source": [
    "'''cols = ('FireplaceQu', 'BsmtQual', 'BsmtCond', 'GarageQual', 'GarageCond', \n",
    "        'ExterQual', 'ExterCond','HeatingQC', 'PoolQC', 'KitchenQual', 'BsmtFinType1', \n",
    "        'BsmtFinType2', 'Functional', 'Fence', 'BsmtExposure', 'GarageFinish', 'LandSlope',\n",
    "        'LotShape', 'PavedDrive', 'Street', 'Alley', 'CentralAir', 'MSSubClass', 'OverallCond', \n",
    "        'YrSold', 'MoSold')'''\n",
    "\n",
    "cols = ['MSSubClass', 'MSZoning', 'LotFrontage', 'Street', 'Alley', 'LotShape', 'LandContour', 'LotConfig',\n",
    "        'LandSlope', 'Neighborhood', 'Condition1', 'Condition2', 'BldgType', 'HouseStyle', 'OverallCond', 'RoofStyle',\n",
    "        'RoofMatl', 'Exterior1st', 'Exterior2nd', 'MasVnrType', 'MasVnrArea', 'ExterQual', 'ExterCond', 'Foundation',\n",
    "        'BsmtQual', 'BsmtCond', 'BsmtExposure', 'BsmtFinType1', 'BsmtFinType2', 'Heating', 'HeatingQC', 'CentralAir',\n",
    "        'Electrical', 'KitchenQual', 'Functional', 'FireplaceQu', 'GarageType', 'GarageYrBlt', 'GarageFinish', 'GarageQual',\n",
    "        'GarageCond', 'PavedDrive', 'PoolQC', 'Fence', 'MiscFeature', 'MoSold', 'YrSold', 'SaleType', 'SaleCondition']\n",
    "\n",
    "# Apply LabelEncoder to categorical features\n",
    "for col in cols:\n",
    "    le = LabelEncoder() \n",
    "    le.fit(list(df_train[col].values)) \n",
    "    df_train[col] = le.transform(list(df_train[col].values))"
   ]
  },
  {
   "cell_type": "markdown",
   "metadata": {},
   "source": [
    "### Add TotalSF Feature"
   ]
  },
  {
   "cell_type": "code",
   "execution_count": 978,
   "metadata": {
    "collapsed": true
   },
   "outputs": [],
   "source": [
    "# Add feature for total square footage\n",
    "df_train['TotalSF'] = df_train['TotalBsmtSF'] + df_train['1stFlrSF'] + df_train['2ndFlrSF']"
   ]
  },
  {
   "cell_type": "markdown",
   "metadata": {},
   "source": [
    "### Add HasBsmt Feature"
   ]
  },
  {
   "cell_type": "code",
   "execution_count": 979,
   "metadata": {
    "collapsed": true,
    "scrolled": true
   },
   "outputs": [],
   "source": [
    "#df_train['HasBsmt'] = (df_train['TotalBsmtSF'] == 0).astype(int)\n",
    "#df_train.loc[df_train['TotalBsmtSF']>0,'HasBsmt'] = 1\n",
    "#df_train['HasBsmt'].describe()"
   ]
  },
  {
   "cell_type": "code",
   "execution_count": 980,
   "metadata": {
    "collapsed": true
   },
   "outputs": [],
   "source": [
    "# Transform data\n",
    "#df_train.loc[df_train['HasBsmt']==1,'TotalBsmtSF'] = np.log(df_train['TotalBsmtSF'])"
   ]
  },
  {
   "cell_type": "markdown",
   "metadata": {},
   "source": [
    "### Transform Skewed Features"
   ]
  },
  {
   "cell_type": "code",
   "execution_count": 981,
   "metadata": {
    "scrolled": false
   },
   "outputs": [
    {
     "data": {
      "text/html": [
       "<div>\n",
       "<style scoped>\n",
       "    .dataframe tbody tr th:only-of-type {\n",
       "        vertical-align: middle;\n",
       "    }\n",
       "\n",
       "    .dataframe tbody tr th {\n",
       "        vertical-align: top;\n",
       "    }\n",
       "\n",
       "    .dataframe thead th {\n",
       "        text-align: right;\n",
       "    }\n",
       "</style>\n",
       "<table border=\"1\" class=\"dataframe\">\n",
       "  <thead>\n",
       "    <tr style=\"text-align: right;\">\n",
       "      <th></th>\n",
       "      <th>Skew</th>\n",
       "    </tr>\n",
       "  </thead>\n",
       "  <tbody>\n",
       "    <tr>\n",
       "      <th>MiscVal</th>\n",
       "      <td>24.418175</td>\n",
       "    </tr>\n",
       "    <tr>\n",
       "      <th>PoolArea</th>\n",
       "      <td>17.504556</td>\n",
       "    </tr>\n",
       "    <tr>\n",
       "      <th>Condition2</th>\n",
       "      <td>13.666839</td>\n",
       "    </tr>\n",
       "    <tr>\n",
       "      <th>LotArea</th>\n",
       "      <td>12.574590</td>\n",
       "    </tr>\n",
       "    <tr>\n",
       "      <th>3SsnPorch</th>\n",
       "      <td>10.279262</td>\n",
       "    </tr>\n",
       "    <tr>\n",
       "      <th>Heating</th>\n",
       "      <td>9.831083</td>\n",
       "    </tr>\n",
       "    <tr>\n",
       "      <th>LowQualFinSF</th>\n",
       "      <td>8.989291</td>\n",
       "    </tr>\n",
       "    <tr>\n",
       "      <th>RoofMatl</th>\n",
       "      <td>8.293646</td>\n",
       "    </tr>\n",
       "    <tr>\n",
       "      <th>MiscFeature</th>\n",
       "      <td>5.003955</td>\n",
       "    </tr>\n",
       "    <tr>\n",
       "      <th>LandSlope</th>\n",
       "      <td>4.801326</td>\n",
       "    </tr>\n",
       "  </tbody>\n",
       "</table>\n",
       "</div>"
      ],
      "text/plain": [
       "                   Skew\n",
       "MiscVal       24.418175\n",
       "PoolArea      17.504556\n",
       "Condition2    13.666839\n",
       "LotArea       12.574590\n",
       "3SsnPorch     10.279262\n",
       "Heating        9.831083\n",
       "LowQualFinSF   8.989291\n",
       "RoofMatl       8.293646\n",
       "MiscFeature    5.003955\n",
       "LandSlope      4.801326"
      ]
     },
     "execution_count": 981,
     "metadata": {},
     "output_type": "execute_result"
    }
   ],
   "source": [
    "numeric_features = df_train.dtypes[df_train.dtypes != 'object'].index\n",
    "\n",
    "# Check the skew of all numerical features\n",
    "skewed_features = df_train[numeric_features].apply(lambda x: skew(x)).sort_values(ascending=False)\n",
    "skewness = pd.DataFrame({'Skew': skewed_features})\n",
    "skewness.head(10)"
   ]
  },
  {
   "cell_type": "code",
   "execution_count": 982,
   "metadata": {},
   "outputs": [
    {
     "name": "stdout",
     "output_type": "stream",
     "text": [
      "Total skewed features: 80\n"
     ]
    }
   ],
   "source": [
    "skewness = skewness[abs(skewness) > 0.75]\n",
    "print('Total skewed features: {}'.format(skewness.shape[0]))\n",
    "\n",
    "from scipy.special import boxcox1p\n",
    "skewed_features = skewness.index\n",
    "alpha = 0.15\n",
    "for feat in skewed_features:\n",
    "    df_train[feat] = boxcox1p(df_train[feat], alpha)"
   ]
  },
  {
   "cell_type": "code",
   "execution_count": 983,
   "metadata": {
    "scrolled": true
   },
   "outputs": [
    {
     "name": "stdout",
     "output_type": "stream",
     "text": [
      "Find most important features relative to target\n",
      "SalePrice        1.000000\n",
      "TotalSF          0.818688\n",
      "OverallQual      0.807515\n",
      "GrLivArea        0.731916\n",
      "GarageCars       0.651601\n",
      "1stFlrSF         0.611539\n",
      "YearBuilt        0.588067\n",
      "FullBath         0.580468\n",
      "YearRemodAdd     0.569673\n",
      "TotRmsAbvGrd     0.537881\n",
      "GarageArea       0.514140\n",
      "Fireplaces       0.504512\n",
      "OpenPorchSF      0.455154\n",
      "TotalBsmtSF      0.452905\n",
      "Foundation       0.422644\n",
      "MasVnrArea       0.399646\n",
      "LotArea          0.398700\n",
      "CentralAir       0.360052\n",
      "GarageYrBlt      0.346215\n",
      "WoodDeckSF       0.345822\n",
      "HalfBath         0.317856\n",
      "PavedDrive       0.308681\n",
      "GarageCond       0.305296\n",
      "Electrical       0.290795\n",
      "GarageQual       0.254047\n",
      "BsmtFullBath     0.240337\n",
      "HouseStyle       0.235704\n",
      "BsmtFinSF1       0.230895\n",
      "SaleCondition    0.227298\n",
      "BsmtUnfSF        0.211560\n",
      "BedroomAbvGr     0.199687\n",
      "2ndFlrSF         0.191466\n",
      "RoofStyle        0.176940\n",
      "Neighborhood     0.159349\n",
      "Condition1       0.155446\n",
      "ExterCond        0.154468\n",
      "Exterior2nd      0.151150\n",
      "Exterior1st      0.145801\n",
      "Alley            0.137682\n",
      "BsmtCond         0.128878\n",
      "Functional       0.123161\n",
      "Fence            0.113656\n",
      "ScreenPorch      0.111224\n",
      "RoofMatl         0.080428\n",
      "3SsnPorch        0.060525\n",
      "Street           0.058685\n",
      "LandContour      0.051151\n",
      "BsmtFinType2     0.046833\n",
      "MSSubClass       0.043617\n",
      "PoolArea         0.040829\n",
      "LandSlope        0.038306\n",
      "Condition2       0.026405\n",
      "MoSold           0.025483\n",
      "SaleType         0.015701\n",
      "OverallCond      0.005191\n",
      "BsmtHalfBath    -0.013164\n",
      "LotFrontage     -0.015517\n",
      "BsmtFinSF2      -0.024245\n",
      "YrSold          -0.033007\n",
      "PoolQC          -0.037469\n",
      "MasVnrType      -0.050513\n",
      "LotConfig       -0.052091\n",
      "LowQualFinSF    -0.052976\n",
      "MiscVal         -0.062961\n",
      "MiscFeature     -0.071862\n",
      "BsmtFinType1    -0.073515\n",
      "BldgType        -0.090075\n",
      "MSZoning        -0.115929\n",
      "FireplaceQu     -0.126359\n",
      "Heating         -0.138818\n",
      "KitchenAbvGr    -0.145015\n",
      "EnclosedPorch   -0.203192\n",
      "BsmtExposure    -0.266693\n",
      "LotShape        -0.268104\n",
      "GarageFinish    -0.406584\n",
      "HeatingQC       -0.443578\n",
      "GarageType      -0.485896\n",
      "KitchenQual     -0.497057\n",
      "ExterQual       -0.538301\n",
      "BsmtQual        -0.571490\n",
      "Name: SalePrice, dtype: float64\n"
     ]
    }
   ],
   "source": [
    "# Find most important features relative to target\n",
    "print(\"Find most important features relative to target\")\n",
    "corr = df_train.corr()\n",
    "corr.sort_values([\"SalePrice\"], ascending = False, inplace = True)\n",
    "print(corr.SalePrice)"
   ]
  },
  {
   "cell_type": "code",
   "execution_count": 984,
   "metadata": {
    "collapsed": true
   },
   "outputs": [],
   "source": [
    "#convert categorical variable into dummy\n",
    "#df_train = pd.get_dummies(df_train)\n",
    "#df_train.head()"
   ]
  },
  {
   "cell_type": "code",
   "execution_count": 985,
   "metadata": {},
   "outputs": [
    {
     "data": {
      "text/plain": [
       "MSSubClass       0\n",
       "MSZoning         0\n",
       "LotFrontage      0\n",
       "LotArea          0\n",
       "Street           0\n",
       "Alley            0\n",
       "LotShape         0\n",
       "LandContour      0\n",
       "LotConfig        0\n",
       "LandSlope        0\n",
       "Neighborhood     0\n",
       "Condition1       0\n",
       "Condition2       0\n",
       "BldgType         0\n",
       "HouseStyle       0\n",
       "OverallQual      0\n",
       "OverallCond      0\n",
       "YearBuilt        0\n",
       "YearRemodAdd     0\n",
       "RoofStyle        0\n",
       "RoofMatl         0\n",
       "Exterior1st      0\n",
       "Exterior2nd      0\n",
       "MasVnrType       0\n",
       "MasVnrArea       0\n",
       "ExterQual        0\n",
       "ExterCond        0\n",
       "Foundation       0\n",
       "BsmtQual         0\n",
       "BsmtCond         0\n",
       "BsmtExposure     0\n",
       "BsmtFinType1     0\n",
       "BsmtFinSF1       0\n",
       "BsmtFinType2     0\n",
       "BsmtFinSF2       0\n",
       "BsmtUnfSF        0\n",
       "TotalBsmtSF      0\n",
       "Heating          0\n",
       "HeatingQC        0\n",
       "CentralAir       0\n",
       "Electrical       0\n",
       "1stFlrSF         0\n",
       "2ndFlrSF         0\n",
       "LowQualFinSF     0\n",
       "GrLivArea        0\n",
       "BsmtFullBath     0\n",
       "BsmtHalfBath     0\n",
       "FullBath         0\n",
       "HalfBath         0\n",
       "BedroomAbvGr     0\n",
       "KitchenAbvGr     0\n",
       "KitchenQual      0\n",
       "TotRmsAbvGrd     0\n",
       "Functional       0\n",
       "Fireplaces       0\n",
       "FireplaceQu      0\n",
       "GarageType       0\n",
       "GarageYrBlt      0\n",
       "GarageFinish     0\n",
       "GarageCars       0\n",
       "GarageArea       0\n",
       "GarageQual       0\n",
       "GarageCond       0\n",
       "PavedDrive       0\n",
       "WoodDeckSF       0\n",
       "OpenPorchSF      0\n",
       "EnclosedPorch    0\n",
       "3SsnPorch        0\n",
       "ScreenPorch      0\n",
       "PoolArea         0\n",
       "PoolQC           0\n",
       "Fence            0\n",
       "MiscFeature      0\n",
       "MiscVal          0\n",
       "MoSold           0\n",
       "YrSold           0\n",
       "SaleType         0\n",
       "SaleCondition    0\n",
       "SalePrice        0\n",
       "TotalSF          0\n",
       "dtype: int64"
      ]
     },
     "execution_count": 985,
     "metadata": {},
     "output_type": "execute_result"
    }
   ],
   "source": [
    "df_train.isnull().sum()"
   ]
  },
  {
   "cell_type": "markdown",
   "metadata": {},
   "source": [
    "# Modeling"
   ]
  },
  {
   "cell_type": "code",
   "execution_count": 986,
   "metadata": {
    "collapsed": true
   },
   "outputs": [],
   "source": [
    "X = df_train.drop(['SalePrice'], axis=1)\n",
    "y = df_train.loc[:, ['SalePrice']]"
   ]
  },
  {
   "cell_type": "code",
   "execution_count": 987,
   "metadata": {
    "scrolled": true
   },
   "outputs": [
    {
     "data": {
      "text/html": [
       "<div>\n",
       "<style scoped>\n",
       "    .dataframe tbody tr th:only-of-type {\n",
       "        vertical-align: middle;\n",
       "    }\n",
       "\n",
       "    .dataframe tbody tr th {\n",
       "        vertical-align: top;\n",
       "    }\n",
       "\n",
       "    .dataframe thead th {\n",
       "        text-align: right;\n",
       "    }\n",
       "</style>\n",
       "<table border=\"1\" class=\"dataframe\">\n",
       "  <thead>\n",
       "    <tr style=\"text-align: right;\">\n",
       "      <th></th>\n",
       "      <th>MSSubClass</th>\n",
       "      <th>MSZoning</th>\n",
       "      <th>LotFrontage</th>\n",
       "      <th>LotArea</th>\n",
       "      <th>Street</th>\n",
       "      <th>Alley</th>\n",
       "      <th>LotShape</th>\n",
       "      <th>LandContour</th>\n",
       "      <th>LotConfig</th>\n",
       "      <th>LandSlope</th>\n",
       "      <th>...</th>\n",
       "      <th>PoolArea</th>\n",
       "      <th>PoolQC</th>\n",
       "      <th>Fence</th>\n",
       "      <th>MiscFeature</th>\n",
       "      <th>MiscVal</th>\n",
       "      <th>MoSold</th>\n",
       "      <th>YrSold</th>\n",
       "      <th>SaleType</th>\n",
       "      <th>SaleCondition</th>\n",
       "      <th>TotalSF</th>\n",
       "    </tr>\n",
       "  </thead>\n",
       "  <tbody>\n",
       "    <tr>\n",
       "      <th>0</th>\n",
       "      <td>2.750250</td>\n",
       "      <td>1.540963</td>\n",
       "      <td>6.073289</td>\n",
       "      <td>19.212182</td>\n",
       "      <td>0.730463</td>\n",
       "      <td>0.730463</td>\n",
       "      <td>1.540963</td>\n",
       "      <td>1.540963</td>\n",
       "      <td>1.820334</td>\n",
       "      <td>0.0</td>\n",
       "      <td>...</td>\n",
       "      <td>0.0</td>\n",
       "      <td>1.540963</td>\n",
       "      <td>1.820334</td>\n",
       "      <td>0.730463</td>\n",
       "      <td>0.0</td>\n",
       "      <td>1.820334</td>\n",
       "      <td>1.194318</td>\n",
       "      <td>2.602594</td>\n",
       "      <td>1.820334</td>\n",
       "      <td>14.976591</td>\n",
       "    </tr>\n",
       "    <tr>\n",
       "      <th>1</th>\n",
       "      <td>1.820334</td>\n",
       "      <td>1.540963</td>\n",
       "      <td>6.426513</td>\n",
       "      <td>19.712205</td>\n",
       "      <td>0.730463</td>\n",
       "      <td>0.730463</td>\n",
       "      <td>1.540963</td>\n",
       "      <td>1.540963</td>\n",
       "      <td>1.194318</td>\n",
       "      <td>0.0</td>\n",
       "      <td>...</td>\n",
       "      <td>0.0</td>\n",
       "      <td>1.540963</td>\n",
       "      <td>1.820334</td>\n",
       "      <td>0.730463</td>\n",
       "      <td>0.0</td>\n",
       "      <td>2.440268</td>\n",
       "      <td>0.730463</td>\n",
       "      <td>2.602594</td>\n",
       "      <td>1.820334</td>\n",
       "      <td>14.923100</td>\n",
       "    </tr>\n",
       "    <tr>\n",
       "      <th>2</th>\n",
       "      <td>2.750250</td>\n",
       "      <td>1.540963</td>\n",
       "      <td>6.148461</td>\n",
       "      <td>20.347241</td>\n",
       "      <td>0.730463</td>\n",
       "      <td>0.730463</td>\n",
       "      <td>0.000000</td>\n",
       "      <td>1.540963</td>\n",
       "      <td>1.820334</td>\n",
       "      <td>0.0</td>\n",
       "      <td>...</td>\n",
       "      <td>0.0</td>\n",
       "      <td>1.540963</td>\n",
       "      <td>1.820334</td>\n",
       "      <td>0.730463</td>\n",
       "      <td>0.0</td>\n",
       "      <td>3.011340</td>\n",
       "      <td>1.194318</td>\n",
       "      <td>2.602594</td>\n",
       "      <td>1.820334</td>\n",
       "      <td>15.149678</td>\n",
       "    </tr>\n",
       "    <tr>\n",
       "      <th>3</th>\n",
       "      <td>2.885846</td>\n",
       "      <td>1.540963</td>\n",
       "      <td>5.942124</td>\n",
       "      <td>19.691553</td>\n",
       "      <td>0.730463</td>\n",
       "      <td>0.730463</td>\n",
       "      <td>0.000000</td>\n",
       "      <td>1.540963</td>\n",
       "      <td>0.000000</td>\n",
       "      <td>0.0</td>\n",
       "      <td>...</td>\n",
       "      <td>0.0</td>\n",
       "      <td>1.540963</td>\n",
       "      <td>1.820334</td>\n",
       "      <td>0.730463</td>\n",
       "      <td>0.0</td>\n",
       "      <td>1.820334</td>\n",
       "      <td>0.000000</td>\n",
       "      <td>2.602594</td>\n",
       "      <td>0.000000</td>\n",
       "      <td>14.857121</td>\n",
       "    </tr>\n",
       "    <tr>\n",
       "      <th>4</th>\n",
       "      <td>2.750250</td>\n",
       "      <td>1.540963</td>\n",
       "      <td>6.512196</td>\n",
       "      <td>21.325160</td>\n",
       "      <td>0.730463</td>\n",
       "      <td>0.730463</td>\n",
       "      <td>0.000000</td>\n",
       "      <td>1.540963</td>\n",
       "      <td>1.194318</td>\n",
       "      <td>0.0</td>\n",
       "      <td>...</td>\n",
       "      <td>0.0</td>\n",
       "      <td>1.540963</td>\n",
       "      <td>1.820334</td>\n",
       "      <td>0.730463</td>\n",
       "      <td>0.0</td>\n",
       "      <td>1.540963</td>\n",
       "      <td>1.194318</td>\n",
       "      <td>2.602594</td>\n",
       "      <td>1.820334</td>\n",
       "      <td>15.852312</td>\n",
       "    </tr>\n",
       "  </tbody>\n",
       "</table>\n",
       "<p>5 rows × 79 columns</p>\n",
       "</div>"
      ],
      "text/plain": [
       "   MSSubClass  MSZoning  LotFrontage    LotArea    Street     Alley  LotShape  \\\n",
       "0    2.750250  1.540963     6.073289  19.212182  0.730463  0.730463  1.540963   \n",
       "1    1.820334  1.540963     6.426513  19.712205  0.730463  0.730463  1.540963   \n",
       "2    2.750250  1.540963     6.148461  20.347241  0.730463  0.730463  0.000000   \n",
       "3    2.885846  1.540963     5.942124  19.691553  0.730463  0.730463  0.000000   \n",
       "4    2.750250  1.540963     6.512196  21.325160  0.730463  0.730463  0.000000   \n",
       "\n",
       "   LandContour  LotConfig  LandSlope    ...      PoolArea    PoolQC     Fence  \\\n",
       "0     1.540963   1.820334        0.0    ...           0.0  1.540963  1.820334   \n",
       "1     1.540963   1.194318        0.0    ...           0.0  1.540963  1.820334   \n",
       "2     1.540963   1.820334        0.0    ...           0.0  1.540963  1.820334   \n",
       "3     1.540963   0.000000        0.0    ...           0.0  1.540963  1.820334   \n",
       "4     1.540963   1.194318        0.0    ...           0.0  1.540963  1.820334   \n",
       "\n",
       "   MiscFeature  MiscVal    MoSold    YrSold  SaleType  SaleCondition  \\\n",
       "0     0.730463      0.0  1.820334  1.194318  2.602594       1.820334   \n",
       "1     0.730463      0.0  2.440268  0.730463  2.602594       1.820334   \n",
       "2     0.730463      0.0  3.011340  1.194318  2.602594       1.820334   \n",
       "3     0.730463      0.0  1.820334  0.000000  2.602594       0.000000   \n",
       "4     0.730463      0.0  1.540963  1.194318  2.602594       1.820334   \n",
       "\n",
       "     TotalSF  \n",
       "0  14.976591  \n",
       "1  14.923100  \n",
       "2  15.149678  \n",
       "3  14.857121  \n",
       "4  15.852312  \n",
       "\n",
       "[5 rows x 79 columns]"
      ]
     },
     "execution_count": 987,
     "metadata": {},
     "output_type": "execute_result"
    }
   ],
   "source": [
    "X.head()"
   ]
  },
  {
   "cell_type": "code",
   "execution_count": 988,
   "metadata": {},
   "outputs": [
    {
     "data": {
      "text/html": [
       "<div>\n",
       "<style scoped>\n",
       "    .dataframe tbody tr th:only-of-type {\n",
       "        vertical-align: middle;\n",
       "    }\n",
       "\n",
       "    .dataframe tbody tr th {\n",
       "        vertical-align: top;\n",
       "    }\n",
       "\n",
       "    .dataframe thead th {\n",
       "        text-align: right;\n",
       "    }\n",
       "</style>\n",
       "<table border=\"1\" class=\"dataframe\">\n",
       "  <thead>\n",
       "    <tr style=\"text-align: right;\">\n",
       "      <th></th>\n",
       "      <th>MSSubClass</th>\n",
       "      <th>MSZoning</th>\n",
       "      <th>LotFrontage</th>\n",
       "      <th>LotArea</th>\n",
       "      <th>Street</th>\n",
       "      <th>Alley</th>\n",
       "      <th>LotShape</th>\n",
       "      <th>LandContour</th>\n",
       "      <th>LotConfig</th>\n",
       "      <th>LandSlope</th>\n",
       "      <th>...</th>\n",
       "      <th>PoolArea</th>\n",
       "      <th>PoolQC</th>\n",
       "      <th>Fence</th>\n",
       "      <th>MiscFeature</th>\n",
       "      <th>MiscVal</th>\n",
       "      <th>MoSold</th>\n",
       "      <th>YrSold</th>\n",
       "      <th>SaleType</th>\n",
       "      <th>SaleCondition</th>\n",
       "      <th>TotalSF</th>\n",
       "    </tr>\n",
       "  </thead>\n",
       "  <tbody>\n",
       "    <tr>\n",
       "      <th>count</th>\n",
       "      <td>1456.000000</td>\n",
       "      <td>1456.000000</td>\n",
       "      <td>1456.000000</td>\n",
       "      <td>1456.000000</td>\n",
       "      <td>1456.000000</td>\n",
       "      <td>1456.000000</td>\n",
       "      <td>1456.000000</td>\n",
       "      <td>1456.000000</td>\n",
       "      <td>1456.000000</td>\n",
       "      <td>1456.000000</td>\n",
       "      <td>...</td>\n",
       "      <td>1456.000000</td>\n",
       "      <td>1456.000000</td>\n",
       "      <td>1456.000000</td>\n",
       "      <td>1456.000000</td>\n",
       "      <td>1456.000000</td>\n",
       "      <td>1456.000000</td>\n",
       "      <td>1456.000000</td>\n",
       "      <td>1456.000000</td>\n",
       "      <td>1456.000000</td>\n",
       "      <td>1456.000000</td>\n",
       "    </tr>\n",
       "    <tr>\n",
       "      <th>mean</th>\n",
       "      <td>2.120462</td>\n",
       "      <td>1.532216</td>\n",
       "      <td>5.959230</td>\n",
       "      <td>19.545432</td>\n",
       "      <td>0.727453</td>\n",
       "      <td>0.718440</td>\n",
       "      <td>1.006929</td>\n",
       "      <td>1.439999</td>\n",
       "      <td>1.403936</td>\n",
       "      <td>0.043274</td>\n",
       "      <td>...</td>\n",
       "      <td>0.036790</td>\n",
       "      <td>1.538315</td>\n",
       "      <td>1.636966</td>\n",
       "      <td>0.758122</td>\n",
       "      <td>0.403946</td>\n",
       "      <td>2.211254</td>\n",
       "      <td>0.988608</td>\n",
       "      <td>2.478930</td>\n",
       "      <td>1.703198</td>\n",
       "      <td>14.834646</td>\n",
       "    </tr>\n",
       "    <tr>\n",
       "      <th>std</th>\n",
       "      <td>0.804227</td>\n",
       "      <td>0.242085</td>\n",
       "      <td>1.089439</td>\n",
       "      <td>2.025558</td>\n",
       "      <td>0.046811</td>\n",
       "      <td>0.155738</td>\n",
       "      <td>0.720319</td>\n",
       "      <td>0.338967</td>\n",
       "      <td>0.712903</td>\n",
       "      <td>0.186299</td>\n",
       "      <td>...</td>\n",
       "      <td>0.627302</td>\n",
       "      <td>0.051895</td>\n",
       "      <td>0.432910</td>\n",
       "      <td>0.152325</td>\n",
       "      <td>2.153524</td>\n",
       "      <td>0.740955</td>\n",
       "      <td>0.623489</td>\n",
       "      <td>0.465932</td>\n",
       "      <td>0.475669</td>\n",
       "      <td>0.980603</td>\n",
       "    </tr>\n",
       "    <tr>\n",
       "      <th>min</th>\n",
       "      <td>0.000000</td>\n",
       "      <td>0.000000</td>\n",
       "      <td>0.000000</td>\n",
       "      <td>12.878993</td>\n",
       "      <td>0.000000</td>\n",
       "      <td>0.000000</td>\n",
       "      <td>0.000000</td>\n",
       "      <td>0.000000</td>\n",
       "      <td>0.000000</td>\n",
       "      <td>0.000000</td>\n",
       "      <td>...</td>\n",
       "      <td>0.000000</td>\n",
       "      <td>0.000000</td>\n",
       "      <td>0.000000</td>\n",
       "      <td>0.000000</td>\n",
       "      <td>0.000000</td>\n",
       "      <td>0.000000</td>\n",
       "      <td>0.000000</td>\n",
       "      <td>0.000000</td>\n",
       "      <td>0.000000</td>\n",
       "      <td>9.279836</td>\n",
       "    </tr>\n",
       "    <tr>\n",
       "      <th>25%</th>\n",
       "      <td>1.820334</td>\n",
       "      <td>1.540963</td>\n",
       "      <td>5.831328</td>\n",
       "      <td>18.773051</td>\n",
       "      <td>0.730463</td>\n",
       "      <td>0.730463</td>\n",
       "      <td>0.000000</td>\n",
       "      <td>1.540963</td>\n",
       "      <td>1.194318</td>\n",
       "      <td>0.000000</td>\n",
       "      <td>...</td>\n",
       "      <td>0.000000</td>\n",
       "      <td>1.540963</td>\n",
       "      <td>1.820334</td>\n",
       "      <td>0.730463</td>\n",
       "      <td>0.000000</td>\n",
       "      <td>2.055642</td>\n",
       "      <td>0.730463</td>\n",
       "      <td>2.602594</td>\n",
       "      <td>1.820334</td>\n",
       "      <td>14.195323</td>\n",
       "    </tr>\n",
       "    <tr>\n",
       "      <th>50%</th>\n",
       "      <td>2.055642</td>\n",
       "      <td>1.540963</td>\n",
       "      <td>6.197221</td>\n",
       "      <td>19.657692</td>\n",
       "      <td>0.730463</td>\n",
       "      <td>0.730463</td>\n",
       "      <td>1.540963</td>\n",
       "      <td>1.540963</td>\n",
       "      <td>1.820334</td>\n",
       "      <td>0.000000</td>\n",
       "      <td>...</td>\n",
       "      <td>0.000000</td>\n",
       "      <td>1.540963</td>\n",
       "      <td>1.820334</td>\n",
       "      <td>0.730463</td>\n",
       "      <td>0.000000</td>\n",
       "      <td>2.440268</td>\n",
       "      <td>1.194318</td>\n",
       "      <td>2.602594</td>\n",
       "      <td>1.820334</td>\n",
       "      <td>14.855815</td>\n",
       "    </tr>\n",
       "    <tr>\n",
       "      <th>75%</th>\n",
       "      <td>2.750250</td>\n",
       "      <td>1.540963</td>\n",
       "      <td>6.553880</td>\n",
       "      <td>20.467446</td>\n",
       "      <td>0.730463</td>\n",
       "      <td>0.730463</td>\n",
       "      <td>1.540963</td>\n",
       "      <td>1.540963</td>\n",
       "      <td>1.820334</td>\n",
       "      <td>0.000000</td>\n",
       "      <td>...</td>\n",
       "      <td>0.000000</td>\n",
       "      <td>1.540963</td>\n",
       "      <td>1.820334</td>\n",
       "      <td>0.730463</td>\n",
       "      <td>0.000000</td>\n",
       "      <td>2.750250</td>\n",
       "      <td>1.540963</td>\n",
       "      <td>2.602594</td>\n",
       "      <td>1.820334</td>\n",
       "      <td>15.488874</td>\n",
       "    </tr>\n",
       "    <tr>\n",
       "      <th>max</th>\n",
       "      <td>3.340760</td>\n",
       "      <td>1.820334</td>\n",
       "      <td>6.826617</td>\n",
       "      <td>35.391371</td>\n",
       "      <td>0.730463</td>\n",
       "      <td>1.194318</td>\n",
       "      <td>1.540963</td>\n",
       "      <td>1.540963</td>\n",
       "      <td>1.820334</td>\n",
       "      <td>1.194318</td>\n",
       "      <td>...</td>\n",
       "      <td>11.289160</td>\n",
       "      <td>1.540963</td>\n",
       "      <td>1.820334</td>\n",
       "      <td>1.820334</td>\n",
       "      <td>21.677435</td>\n",
       "      <td>3.011340</td>\n",
       "      <td>1.820334</td>\n",
       "      <td>2.602594</td>\n",
       "      <td>2.055642</td>\n",
       "      <td>18.172113</td>\n",
       "    </tr>\n",
       "  </tbody>\n",
       "</table>\n",
       "<p>8 rows × 79 columns</p>\n",
       "</div>"
      ],
      "text/plain": [
       "        MSSubClass     MSZoning  LotFrontage      LotArea       Street  \\\n",
       "count  1456.000000  1456.000000  1456.000000  1456.000000  1456.000000   \n",
       "mean      2.120462     1.532216     5.959230    19.545432     0.727453   \n",
       "std       0.804227     0.242085     1.089439     2.025558     0.046811   \n",
       "min       0.000000     0.000000     0.000000    12.878993     0.000000   \n",
       "25%       1.820334     1.540963     5.831328    18.773051     0.730463   \n",
       "50%       2.055642     1.540963     6.197221    19.657692     0.730463   \n",
       "75%       2.750250     1.540963     6.553880    20.467446     0.730463   \n",
       "max       3.340760     1.820334     6.826617    35.391371     0.730463   \n",
       "\n",
       "             Alley     LotShape  LandContour    LotConfig    LandSlope  \\\n",
       "count  1456.000000  1456.000000  1456.000000  1456.000000  1456.000000   \n",
       "mean      0.718440     1.006929     1.439999     1.403936     0.043274   \n",
       "std       0.155738     0.720319     0.338967     0.712903     0.186299   \n",
       "min       0.000000     0.000000     0.000000     0.000000     0.000000   \n",
       "25%       0.730463     0.000000     1.540963     1.194318     0.000000   \n",
       "50%       0.730463     1.540963     1.540963     1.820334     0.000000   \n",
       "75%       0.730463     1.540963     1.540963     1.820334     0.000000   \n",
       "max       1.194318     1.540963     1.540963     1.820334     1.194318   \n",
       "\n",
       "          ...          PoolArea       PoolQC        Fence  MiscFeature  \\\n",
       "count     ...       1456.000000  1456.000000  1456.000000  1456.000000   \n",
       "mean      ...          0.036790     1.538315     1.636966     0.758122   \n",
       "std       ...          0.627302     0.051895     0.432910     0.152325   \n",
       "min       ...          0.000000     0.000000     0.000000     0.000000   \n",
       "25%       ...          0.000000     1.540963     1.820334     0.730463   \n",
       "50%       ...          0.000000     1.540963     1.820334     0.730463   \n",
       "75%       ...          0.000000     1.540963     1.820334     0.730463   \n",
       "max       ...         11.289160     1.540963     1.820334     1.820334   \n",
       "\n",
       "           MiscVal       MoSold       YrSold     SaleType  SaleCondition  \\\n",
       "count  1456.000000  1456.000000  1456.000000  1456.000000    1456.000000   \n",
       "mean      0.403946     2.211254     0.988608     2.478930       1.703198   \n",
       "std       2.153524     0.740955     0.623489     0.465932       0.475669   \n",
       "min       0.000000     0.000000     0.000000     0.000000       0.000000   \n",
       "25%       0.000000     2.055642     0.730463     2.602594       1.820334   \n",
       "50%       0.000000     2.440268     1.194318     2.602594       1.820334   \n",
       "75%       0.000000     2.750250     1.540963     2.602594       1.820334   \n",
       "max      21.677435     3.011340     1.820334     2.602594       2.055642   \n",
       "\n",
       "           TotalSF  \n",
       "count  1456.000000  \n",
       "mean     14.834646  \n",
       "std       0.980603  \n",
       "min       9.279836  \n",
       "25%      14.195323  \n",
       "50%      14.855815  \n",
       "75%      15.488874  \n",
       "max      18.172113  \n",
       "\n",
       "[8 rows x 79 columns]"
      ]
     },
     "execution_count": 988,
     "metadata": {},
     "output_type": "execute_result"
    }
   ],
   "source": [
    "X.describe()"
   ]
  },
  {
   "cell_type": "code",
   "execution_count": 989,
   "metadata": {
    "scrolled": false
   },
   "outputs": [
    {
     "data": {
      "text/html": [
       "<div>\n",
       "<style scoped>\n",
       "    .dataframe tbody tr th:only-of-type {\n",
       "        vertical-align: middle;\n",
       "    }\n",
       "\n",
       "    .dataframe tbody tr th {\n",
       "        vertical-align: top;\n",
       "    }\n",
       "\n",
       "    .dataframe thead th {\n",
       "        text-align: right;\n",
       "    }\n",
       "</style>\n",
       "<table border=\"1\" class=\"dataframe\">\n",
       "  <thead>\n",
       "    <tr style=\"text-align: right;\">\n",
       "      <th></th>\n",
       "      <th>SalePrice</th>\n",
       "    </tr>\n",
       "  </thead>\n",
       "  <tbody>\n",
       "    <tr>\n",
       "      <th>0</th>\n",
       "      <td>3.156009</td>\n",
       "    </tr>\n",
       "    <tr>\n",
       "      <th>1</th>\n",
       "      <td>3.140516</td>\n",
       "    </tr>\n",
       "    <tr>\n",
       "      <th>2</th>\n",
       "      <td>3.163719</td>\n",
       "    </tr>\n",
       "    <tr>\n",
       "      <th>3</th>\n",
       "      <td>3.111134</td>\n",
       "    </tr>\n",
       "    <tr>\n",
       "      <th>4</th>\n",
       "      <td>3.176081</td>\n",
       "    </tr>\n",
       "  </tbody>\n",
       "</table>\n",
       "</div>"
      ],
      "text/plain": [
       "   SalePrice\n",
       "0   3.156009\n",
       "1   3.140516\n",
       "2   3.163719\n",
       "3   3.111134\n",
       "4   3.176081"
      ]
     },
     "execution_count": 989,
     "metadata": {},
     "output_type": "execute_result"
    }
   ],
   "source": [
    "y.head()"
   ]
  },
  {
   "cell_type": "markdown",
   "metadata": {
    "collapsed": true
   },
   "source": [
    "## Iteration 1 - All Original Features"
   ]
  },
  {
   "cell_type": "code",
   "execution_count": 990,
   "metadata": {
    "collapsed": true
   },
   "outputs": [],
   "source": [
    "# Split the data into train and test sets\n",
    "X_train, X_test, y_train, y_test = train_test_split(X, y, test_size=0.2)"
   ]
  },
  {
   "cell_type": "markdown",
   "metadata": {},
   "source": [
    "### Linear Regression"
   ]
  },
  {
   "cell_type": "code",
   "execution_count": 991,
   "metadata": {},
   "outputs": [],
   "source": [
    "# Instantiate model and create parameter grid\n",
    "lr = linear_model.LinearRegression()\n",
    "grid_params = {'fit_intercept': [True, False],\n",
    "               'normalize': [True, False], \n",
    "               'copy_X' : [True, False]}"
   ]
  },
  {
   "cell_type": "code",
   "execution_count": 992,
   "metadata": {
    "collapsed": true
   },
   "outputs": [],
   "source": [
    "# Instantiate new grid\n",
    "grid = GridSearchCV(lr, grid_params, n_jobs=-1, cv=5)"
   ]
  },
  {
   "cell_type": "code",
   "execution_count": 993,
   "metadata": {},
   "outputs": [
    {
     "name": "stdout",
     "output_type": "stream",
     "text": [
      "Runtime for grid search: 4.42 s\n",
      "Best Accuracy Score: \n",
      "0.8953208506931434\n",
      "Best Parameters: \n",
      "{'copy_X': True, 'fit_intercept': True, 'normalize': True}\n"
     ]
    }
   ],
   "source": [
    "# Linear Regression\n",
    "start = time.time()\n",
    "grid.fit(X_train, y_train)\n",
    "y_pred = grid.predict(X_test)\n",
    "print('Runtime for grid search: {0:.3} s'.format((time.time() - start)))\n",
    "print('Best Accuracy Score: \\n{}'.format(grid.best_score_))\n",
    "print('Best Parameters: \\n{}'.format(grid.best_params_))"
   ]
  },
  {
   "cell_type": "code",
   "execution_count": 994,
   "metadata": {
    "scrolled": false
   },
   "outputs": [
    {
     "name": "stdout",
     "output_type": "stream",
     "text": [
      "Score With 20% Holdout:\n",
      "91.48%\n",
      "Cross Validation Scores:\n",
      " [0.88631424 0.90980389 0.89027941 0.88788303 0.89945126]\n",
      "Average Cross Validation Score:\n",
      "89.47%\n",
      "Root Mean Squared Error:\n",
      "0.01293416633924711\n"
     ]
    }
   ],
   "source": [
    "# Instantiate and fit model with best parameters\n",
    "lr = LinearRegression(fit_intercept=False, normalize=True, copy_X=True)\n",
    "lr.fit(X_train, y_train)\n",
    "y_pred = lr.predict(X_test)\n",
    "\n",
    "# Run cross validation and calculate RMSE\n",
    "scores = cross_val_score(lr, X_train, y_train, cv=5)\n",
    "rmse = mean_squared_error(y_test, y_pred)**0.5\n",
    "\n",
    "# Print results\n",
    "print('Score With 20% Holdout:\\n{0:.2%}'.format(lr.score(X_test, y_test)))\n",
    "print('Cross Validation Scores:\\n', scores)\n",
    "print('Average Cross Validation Score:\\n{0:.2%}'.format(scores.mean()))\n",
    "print('Root Mean Squared Error:\\n{}'.format(rmse))"
   ]
  },
  {
   "cell_type": "code",
   "execution_count": null,
   "metadata": {
    "collapsed": true
   },
   "outputs": [],
   "source": []
  },
  {
   "cell_type": "markdown",
   "metadata": {},
   "source": [
    "### KNN Regression"
   ]
  },
  {
   "cell_type": "code",
   "execution_count": 995,
   "metadata": {},
   "outputs": [],
   "source": [
    "# Instantiate model and create parameter grid\n",
    "knn = neighbors.KNeighborsRegressor()\n",
    "grid_params = {'n_neighbors': list(range(1, 10)),\n",
    "               'weights': ['uniform', 'distance'], \n",
    "               'algorithm' : ['auto', 'ball_tree', 'kd_tree', 'brute']}"
   ]
  },
  {
   "cell_type": "code",
   "execution_count": 996,
   "metadata": {},
   "outputs": [],
   "source": [
    "# Instantiate new grid\n",
    "grid = GridSearchCV(knn, grid_params, n_jobs=-1, cv=5)"
   ]
  },
  {
   "cell_type": "code",
   "execution_count": 997,
   "metadata": {},
   "outputs": [
    {
     "name": "stdout",
     "output_type": "stream",
     "text": [
      "Runtime for grid search: 5.95 s\n",
      "Best Accuracy Score: \n",
      "0.629040161775126\n",
      "Best Parameters: \n",
      "{'algorithm': 'auto', 'n_neighbors': 6, 'weights': 'distance'}\n"
     ]
    }
   ],
   "source": [
    "# KNN Regression\n",
    "start = time.time()\n",
    "grid.fit(X_train, y_train)\n",
    "y_pred = grid.predict(X_test)\n",
    "\n",
    "# Print results\n",
    "print('Runtime for grid search: {0:.3} s'.format((time.time() - start)))\n",
    "print('Best Accuracy Score: \\n{}'.format(grid.best_score_))\n",
    "print('Best Parameters: \\n{}'.format(grid.best_params_))"
   ]
  },
  {
   "cell_type": "code",
   "execution_count": 998,
   "metadata": {},
   "outputs": [
    {
     "name": "stdout",
     "output_type": "stream",
     "text": [
      "Score With 20% Holdout:\n",
      "66.02%\n",
      "Cross Validation Scores:\n",
      " [0.61185001 0.60388908 0.67849588 0.62213466 0.59135098]\n",
      "Average Cross Validation Score:\n",
      "62.15%\n",
      "Root Mean Squared Error:\n",
      "0.025836812622808552\n"
     ]
    }
   ],
   "source": [
    "# Instantiate and fit model with best parameters\n",
    "knn = neighbors.KNeighborsRegressor(n_neighbors=5, weights='distance', algorithm='auto')\n",
    "knn.fit(X_train, y_train)\n",
    "y_pred = knn.predict(X_test)\n",
    "\n",
    "# Run cross validation and calculate RMSE\n",
    "scores = cross_val_score(knn, X_train, y_train, cv=5)\n",
    "rmse = mean_squared_error(y_test, y_pred)**0.5\n",
    "\n",
    "# Print results\n",
    "print('Score With 20% Holdout:\\n{0:.2%}'.format(knn.score(X_test, y_test)))\n",
    "print('Cross Validation Scores:\\n', scores)\n",
    "print('Average Cross Validation Score:\\n{0:.2%}'.format(scores.mean()))\n",
    "print('Root Mean Squared Error:\\n{}'.format(rmse))"
   ]
  },
  {
   "cell_type": "markdown",
   "metadata": {},
   "source": [
    "### Random Forest Regression"
   ]
  },
  {
   "cell_type": "code",
   "execution_count": 999,
   "metadata": {},
   "outputs": [],
   "source": [
    "# Instantiate model and create parameter grid\n",
    "rfr = RandomForestRegressor()\n",
    "grid_params = {'n_estimators': list(range(1, 10)),\n",
    "               'criterion': ['mse', 'mae'],\n",
    "               'max_depth': list(range(1, 10))}"
   ]
  },
  {
   "cell_type": "code",
   "execution_count": 1000,
   "metadata": {
    "collapsed": true
   },
   "outputs": [],
   "source": [
    "# Instantiate new grid\n",
    "grid = GridSearchCV(rfr, grid_params, n_jobs=-1, cv=5)"
   ]
  },
  {
   "cell_type": "code",
   "execution_count": 1001,
   "metadata": {},
   "outputs": [
    {
     "name": "stderr",
     "output_type": "stream",
     "text": [
      "/Users/rakeshbhatia/anaconda/lib/python3.6/site-packages/sklearn/model_selection/_search.py:714: DataConversionWarning: A column-vector y was passed when a 1d array was expected. Please change the shape of y to (n_samples,), for example using ravel().\n",
      "  self.best_estimator_.fit(X, y, **fit_params)\n"
     ]
    },
    {
     "name": "stdout",
     "output_type": "stream",
     "text": [
      "Runtime for grid search: 1.07e+02 s\n",
      "Best Accuracy Score: \n",
      "0.8520680831768735\n",
      "Best Parameters: \n",
      "{'criterion': 'mae', 'max_depth': 8, 'n_estimators': 9}\n"
     ]
    }
   ],
   "source": [
    "# KNN Regression\n",
    "start = time.time()\n",
    "grid.fit(X_train, y_train)\n",
    "y_pred = grid.predict(X_test)\n",
    "\n",
    "# Print results\n",
    "print('Runtime for grid search: {0:.3} s'.format((time.time() - start)))\n",
    "print('Best Accuracy Score: \\n{}'.format(grid.best_score_))\n",
    "print('Best Parameters: \\n{}'.format(grid.best_params_))"
   ]
  },
  {
   "cell_type": "code",
   "execution_count": 1002,
   "metadata": {
    "scrolled": true
   },
   "outputs": [
    {
     "name": "stdout",
     "output_type": "stream",
     "text": [
      "Score With 20% Holdout:\n",
      "86.33%\n",
      "Cross Validation Scores:\n",
      "[0.8692597  0.85817828 0.82575772 0.87261649 0.86447235]\n",
      "Average Cross Validation Score:\n",
      "85.81%\n",
      "Root Mean Squared Error:\n",
      "0.01638785573678411\n"
     ]
    }
   ],
   "source": [
    "# Instantiate and fit model with best parameters\n",
    "rfr = RandomForestRegressor(n_estimators=9, criterion='mse', max_depth=9)\n",
    "rfr.fit(X_train, y_train.values.ravel())\n",
    "y_pred = rfr.predict(X_test)\n",
    "\n",
    "# Run cross validation and calculate RMSE\n",
    "scores = cross_val_score(rfr, X_train, y_train.values.ravel(), cv=5)\n",
    "rmse = mean_squared_error(y_test, y_pred)**0.5\n",
    "\n",
    "# Print results\n",
    "print('Score With 20% Holdout:\\n{0:.2%}'.format(rfr.score(X_test, y_test.values.ravel())))\n",
    "print('Cross Validation Scores:\\n{}'.format(scores))\n",
    "print('Average Cross Validation Score:\\n{0:.2%}'.format(scores.mean()))\n",
    "print('Root Mean Squared Error:\\n{}'.format(rmse))"
   ]
  },
  {
   "cell_type": "markdown",
   "metadata": {},
   "source": [
    "### Ridge Regression"
   ]
  },
  {
   "cell_type": "code",
   "execution_count": 1003,
   "metadata": {
    "collapsed": true
   },
   "outputs": [],
   "source": [
    "# Instantiate model and create parameter grid\n",
    "rr = Ridge()\n",
    "grid_params = {'alpha': [0.0001, 0.001, 0.01, 0.1, 1, 5, 10, 25, 50, 100], \n",
    "               'fit_intercept': [True, False],\n",
    "               'solver': ['cholesky', 'lsqr', 'sparse_cg']}\n",
    "#               'solver': ['svd', 'cholesky', 'lsqr', 'sparse_cg', 'sag', 'saga']}"
   ]
  },
  {
   "cell_type": "code",
   "execution_count": 1004,
   "metadata": {
    "collapsed": true
   },
   "outputs": [],
   "source": [
    "# Instantiate new grid\n",
    "grid = GridSearchCV(rr, grid_params, n_jobs=-1, cv=5)"
   ]
  },
  {
   "cell_type": "code",
   "execution_count": 1005,
   "metadata": {},
   "outputs": [
    {
     "name": "stdout",
     "output_type": "stream",
     "text": [
      "Runtime for grid search: 2.47 s\n",
      "Best Accuracy Score: \n",
      "0.8977444088172798\n",
      "Best Parameters: \n",
      "{'alpha': 1, 'fit_intercept': False, 'solver': 'cholesky'}\n"
     ]
    },
    {
     "name": "stderr",
     "output_type": "stream",
     "text": [
      "/Users/rakeshbhatia/anaconda/lib/python3.6/site-packages/sklearn/model_selection/_search.py:813: DeprecationWarning: The default of the `iid` parameter will change from True to False in version 0.22 and will be removed in 0.24. This will change numeric results when test-set sizes are unequal.\n",
      "  DeprecationWarning)\n"
     ]
    }
   ],
   "source": [
    "# Ridge Regression\n",
    "start = time.time()\n",
    "grid.fit(X_train, y_train)\n",
    "y_pred = grid.predict(X_test)\n",
    "\n",
    "# Print results\n",
    "print('Runtime for grid search: {0:.3} s'.format((time.time() - start)))\n",
    "print('Best Accuracy Score: \\n{}'.format(grid.best_score_))\n",
    "print('Best Parameters: \\n{}'.format(grid.best_params_))"
   ]
  },
  {
   "cell_type": "code",
   "execution_count": 1006,
   "metadata": {
    "scrolled": true
   },
   "outputs": [
    {
     "name": "stdout",
     "output_type": "stream",
     "text": [
      "Score With 20% Holdout:\n",
      "91.51%\n",
      "Cross Validation Scores:\n",
      "[0.89911049 0.90991234 0.8905523  0.88958842 0.89956631]\n",
      "Average Cross Validation Score:\n",
      "89.77%\n",
      "Root Mean Squared Error:\n",
      "0.012913226250063067\n"
     ]
    }
   ],
   "source": [
    "# Instantiate and fit model with best parameters\n",
    "rr = Ridge(alpha=1, fit_intercept=False, solver='cholesky')\n",
    "rr.fit(X_train, y_train)\n",
    "y_pred = rr.predict(X_test)\n",
    "\n",
    "# Run cross validation and calculate RMSE\n",
    "scores = cross_val_score(rr, X_train, y_train, cv=5)\n",
    "rmse = mean_squared_error(y_test, y_pred)**0.5\n",
    "\n",
    "# Print results\n",
    "print('Score With 20% Holdout:\\n{0:.2%}'.format(rr.score(X_test, y_test)))\n",
    "print('Cross Validation Scores:\\n{}'.format(scores))\n",
    "print('Average Cross Validation Score:\\n{0:.2%}'.format(scores.mean()))\n",
    "print('Root Mean Squared Error:\\n{}'.format(rmse))"
   ]
  },
  {
   "cell_type": "markdown",
   "metadata": {},
   "source": [
    "### Lasso Regression"
   ]
  },
  {
   "cell_type": "code",
   "execution_count": 1007,
   "metadata": {
    "collapsed": true
   },
   "outputs": [],
   "source": [
    "# Instantiate model and create parameter grid\n",
    "lasso = Lasso()\n",
    "grid_params = {'alpha': [0.0001, 0.001, 0.01, 0.1, 1, 5, 10, 25, 50, 100], \n",
    "               'fit_intercept': [True, False],\n",
    "               'max_iter': list(range(10))}\n",
    "#               'solver': ['svd', 'cholesky', 'lsqr', 'sparse_cg', 'sag', 'saga']}"
   ]
  },
  {
   "cell_type": "code",
   "execution_count": 1008,
   "metadata": {
    "collapsed": true
   },
   "outputs": [],
   "source": [
    "# Instantiate new grid\n",
    "grid = GridSearchCV(lasso, grid_params, n_jobs=-1, cv=5)"
   ]
  },
  {
   "cell_type": "code",
   "execution_count": 1009,
   "metadata": {},
   "outputs": [
    {
     "name": "stdout",
     "output_type": "stream",
     "text": [
      "Runtime for grid search: 6.59 s\n",
      "Best Accuracy Score: \n",
      "0.8866280414693238\n",
      "Best Parameters: \n",
      "{'alpha': 0.0001, 'fit_intercept': True, 'max_iter': 9}\n"
     ]
    },
    {
     "name": "stderr",
     "output_type": "stream",
     "text": [
      "/Users/rakeshbhatia/anaconda/lib/python3.6/site-packages/sklearn/model_selection/_search.py:813: DeprecationWarning: The default of the `iid` parameter will change from True to False in version 0.22 and will be removed in 0.24. This will change numeric results when test-set sizes are unequal.\n",
      "  DeprecationWarning)\n",
      "/Users/rakeshbhatia/anaconda/lib/python3.6/site-packages/sklearn/linear_model/coordinate_descent.py:475: ConvergenceWarning: Objective did not converge. You might want to increase the number of iterations. Duality gap: 0.12828532890579245, tolerance: 0.0002331349542838755\n",
      "  positive)\n"
     ]
    }
   ],
   "source": [
    "# Ridge Regression\n",
    "start = time.time()\n",
    "grid.fit(X_train, y_train)\n",
    "y_pred = grid.predict(X_test)\n",
    "\n",
    "# Print results\n",
    "print('Runtime for grid search: {0:.3} s'.format((time.time() - start)))\n",
    "print('Best Accuracy Score: \\n{}'.format(grid.best_score_))\n",
    "print('Best Parameters: \\n{}'.format(grid.best_params_))"
   ]
  },
  {
   "cell_type": "code",
   "execution_count": 1010,
   "metadata": {
    "scrolled": false
   },
   "outputs": [
    {
     "name": "stdout",
     "output_type": "stream",
     "text": [
      "Score With 20% Holdout:\n",
      "91.51%\n",
      "Cross Validation Scores:\n",
      "[0.88802613 0.90052268 0.88340244 0.87746529 0.88371116]\n",
      "Average Cross Validation Score:\n",
      "88.66%\n",
      "Root Mean Squared Error:\n",
      "0.012913226250063067\n"
     ]
    },
    {
     "name": "stderr",
     "output_type": "stream",
     "text": [
      "/Users/rakeshbhatia/anaconda/lib/python3.6/site-packages/sklearn/linear_model/coordinate_descent.py:475: ConvergenceWarning: Objective did not converge. You might want to increase the number of iterations. Duality gap: 0.12828532890579245, tolerance: 0.0002331349542838755\n",
      "  positive)\n",
      "/Users/rakeshbhatia/anaconda/lib/python3.6/site-packages/sklearn/linear_model/coordinate_descent.py:475: ConvergenceWarning: Objective did not converge. You might want to increase the number of iterations. Duality gap: 0.09617442882511182, tolerance: 0.0001784638908656229\n",
      "  positive)\n",
      "/Users/rakeshbhatia/anaconda/lib/python3.6/site-packages/sklearn/linear_model/coordinate_descent.py:475: ConvergenceWarning: Objective did not converge. You might want to increase the number of iterations. Duality gap: 0.10485574398952822, tolerance: 0.00018812485753196296\n",
      "  positive)\n",
      "/Users/rakeshbhatia/anaconda/lib/python3.6/site-packages/sklearn/linear_model/coordinate_descent.py:475: ConvergenceWarning: Objective did not converge. You might want to increase the number of iterations. Duality gap: 0.09673733682988289, tolerance: 0.000181834411341867\n",
      "  positive)\n",
      "/Users/rakeshbhatia/anaconda/lib/python3.6/site-packages/sklearn/linear_model/coordinate_descent.py:475: ConvergenceWarning: Objective did not converge. You might want to increase the number of iterations. Duality gap: 0.10335675714660404, tolerance: 0.0001909049266161978\n",
      "  positive)\n",
      "/Users/rakeshbhatia/anaconda/lib/python3.6/site-packages/sklearn/linear_model/coordinate_descent.py:475: ConvergenceWarning: Objective did not converge. You might want to increase the number of iterations. Duality gap: 0.10462290034942502, tolerance: 0.00019237157726467342\n",
      "  positive)\n"
     ]
    }
   ],
   "source": [
    "# Instantiate and fit model with best parameters\n",
    "lasso = Lasso(alpha=0.0001, fit_intercept=True, max_iter=9)\n",
    "lasso.fit(X_train, y_train)\n",
    "y_pred = rr.predict(X_test)\n",
    "\n",
    "# Run cross validation and calculate RMSE\n",
    "scores = cross_val_score(lasso, X_train, y_train, cv=5)\n",
    "rmse = mean_squared_error(y_test, y_pred)**0.5\n",
    "\n",
    "# Print results\n",
    "print('Score With 20% Holdout:\\n{0:.2%}'.format(rr.score(X_test, y_test)))\n",
    "print('Cross Validation Scores:\\n{}'.format(scores))\n",
    "print('Average Cross Validation Score:\\n{0:.2%}'.format(scores.mean()))\n",
    "print('Root Mean Squared Error:\\n{}'.format(rmse))"
   ]
  },
  {
   "cell_type": "markdown",
   "metadata": {},
   "source": [
    "## Iteration 2 - Feature Importances"
   ]
  },
  {
   "cell_type": "markdown",
   "metadata": {},
   "source": [
    "### Extract and Plot Feature Importances"
   ]
  },
  {
   "cell_type": "markdown",
   "metadata": {},
   "source": [
    "We will use the feature importances from our Random Forest Regressor."
   ]
  },
  {
   "cell_type": "code",
   "execution_count": 1011,
   "metadata": {},
   "outputs": [
    {
     "data": {
      "image/png": "[encoded data removed]",
      "text/plain": [
       "<Figure size 432x288 with 1 Axes>"
      ]
     },
     "metadata": {},
     "output_type": "display_data"
    }
   ],
   "source": [
    "features = X.columns\n",
    "importances = rfr.feature_importances_\n",
    "indices = np.argsort(importances)[-10:]  # top 10 features\n",
    "plt.title('Feature Importances')\n",
    "plt.barh(range(len(indices)), importances[indices], color='b', align='center')\n",
    "plt.yticks(range(len(indices)), [features[i] for i in indices])\n",
    "plt.xlabel('Relative Importance')\n",
    "plt.show()"
   ]
  },
  {
   "cell_type": "code",
   "execution_count": 1012,
   "metadata": {
    "scrolled": true
   },
   "outputs": [
    {
     "data": {
      "text/html": [
       "<div>\n",
       "<style scoped>\n",
       "    .dataframe tbody tr th:only-of-type {\n",
       "        vertical-align: middle;\n",
       "    }\n",
       "\n",
       "    .dataframe tbody tr th {\n",
       "        vertical-align: top;\n",
       "    }\n",
       "\n",
       "    .dataframe thead th {\n",
       "        text-align: right;\n",
       "    }\n",
       "</style>\n",
       "<table border=\"1\" class=\"dataframe\">\n",
       "  <thead>\n",
       "    <tr style=\"text-align: right;\">\n",
       "      <th></th>\n",
       "      <th>importance</th>\n",
       "    </tr>\n",
       "  </thead>\n",
       "  <tbody>\n",
       "    <tr>\n",
       "      <th>OverallQual</th>\n",
       "      <td>0.454298</td>\n",
       "    </tr>\n",
       "    <tr>\n",
       "      <th>TotalSF</th>\n",
       "      <td>0.291211</td>\n",
       "    </tr>\n",
       "    <tr>\n",
       "      <th>YearRemodAdd</th>\n",
       "      <td>0.017861</td>\n",
       "    </tr>\n",
       "    <tr>\n",
       "      <th>OverallCond</th>\n",
       "      <td>0.016313</td>\n",
       "    </tr>\n",
       "    <tr>\n",
       "      <th>GrLivArea</th>\n",
       "      <td>0.015532</td>\n",
       "    </tr>\n",
       "    <tr>\n",
       "      <th>CentralAir</th>\n",
       "      <td>0.015264</td>\n",
       "    </tr>\n",
       "    <tr>\n",
       "      <th>1stFlrSF</th>\n",
       "      <td>0.015169</td>\n",
       "    </tr>\n",
       "    <tr>\n",
       "      <th>BsmtFinSF1</th>\n",
       "      <td>0.015132</td>\n",
       "    </tr>\n",
       "    <tr>\n",
       "      <th>GarageArea</th>\n",
       "      <td>0.012437</td>\n",
       "    </tr>\n",
       "    <tr>\n",
       "      <th>LotArea</th>\n",
       "      <td>0.010906</td>\n",
       "    </tr>\n",
       "    <tr>\n",
       "      <th>BsmtUnfSF</th>\n",
       "      <td>0.009215</td>\n",
       "    </tr>\n",
       "    <tr>\n",
       "      <th>LotFrontage</th>\n",
       "      <td>0.008827</td>\n",
       "    </tr>\n",
       "    <tr>\n",
       "      <th>YearBuilt</th>\n",
       "      <td>0.007771</td>\n",
       "    </tr>\n",
       "    <tr>\n",
       "      <th>GarageType</th>\n",
       "      <td>0.007690</td>\n",
       "    </tr>\n",
       "    <tr>\n",
       "      <th>GarageCars</th>\n",
       "      <td>0.006439</td>\n",
       "    </tr>\n",
       "    <tr>\n",
       "      <th>TotalBsmtSF</th>\n",
       "      <td>0.006419</td>\n",
       "    </tr>\n",
       "    <tr>\n",
       "      <th>KitchenQual</th>\n",
       "      <td>0.005503</td>\n",
       "    </tr>\n",
       "    <tr>\n",
       "      <th>MSZoning</th>\n",
       "      <td>0.004609</td>\n",
       "    </tr>\n",
       "    <tr>\n",
       "      <th>Neighborhood</th>\n",
       "      <td>0.004186</td>\n",
       "    </tr>\n",
       "    <tr>\n",
       "      <th>GarageCond</th>\n",
       "      <td>0.004080</td>\n",
       "    </tr>\n",
       "  </tbody>\n",
       "</table>\n",
       "</div>"
      ],
      "text/plain": [
       "              importance\n",
       "OverallQual     0.454298\n",
       "TotalSF         0.291211\n",
       "YearRemodAdd    0.017861\n",
       "OverallCond     0.016313\n",
       "GrLivArea       0.015532\n",
       "CentralAir      0.015264\n",
       "1stFlrSF        0.015169\n",
       "BsmtFinSF1      0.015132\n",
       "GarageArea      0.012437\n",
       "LotArea         0.010906\n",
       "BsmtUnfSF       0.009215\n",
       "LotFrontage     0.008827\n",
       "YearBuilt       0.007771\n",
       "GarageType      0.007690\n",
       "GarageCars      0.006439\n",
       "TotalBsmtSF     0.006419\n",
       "KitchenQual     0.005503\n",
       "MSZoning        0.004609\n",
       "Neighborhood    0.004186\n",
       "GarageCond      0.004080"
      ]
     },
     "execution_count": 1012,
     "metadata": {},
     "output_type": "execute_result"
    }
   ],
   "source": [
    "feature_importances = pd.DataFrame(rfr.feature_importances_, index = X.columns, \n",
    "                                   columns=['importance']).sort_values('importance',ascending=False)\n",
    "\n",
    "feature_importances.head(20)"
   ]
  },
  {
   "cell_type": "code",
   "execution_count": 1013,
   "metadata": {},
   "outputs": [
    {
     "data": {
      "text/html": [
       "<div>\n",
       "<style scoped>\n",
       "    .dataframe tbody tr th:only-of-type {\n",
       "        vertical-align: middle;\n",
       "    }\n",
       "\n",
       "    .dataframe tbody tr th {\n",
       "        vertical-align: top;\n",
       "    }\n",
       "\n",
       "    .dataframe thead th {\n",
       "        text-align: right;\n",
       "    }\n",
       "</style>\n",
       "<table border=\"1\" class=\"dataframe\">\n",
       "  <thead>\n",
       "    <tr style=\"text-align: right;\">\n",
       "      <th></th>\n",
       "      <th>OverallQual</th>\n",
       "      <th>TotalSF</th>\n",
       "      <th>YearRemodAdd</th>\n",
       "      <th>GarageArea</th>\n",
       "      <th>CentralAir</th>\n",
       "      <th>GrLivArea</th>\n",
       "      <th>BsmtFinSF1</th>\n",
       "      <th>OverallCond</th>\n",
       "      <th>LotArea</th>\n",
       "      <th>GarageCond</th>\n",
       "      <th>YearBuilt</th>\n",
       "      <th>MSZoning</th>\n",
       "      <th>1stFlrSF</th>\n",
       "      <th>BsmtUnfSF</th>\n",
       "      <th>GarageType</th>\n",
       "      <th>GarageCars</th>\n",
       "      <th>BsmtFinType1</th>\n",
       "      <th>LotFrontage</th>\n",
       "      <th>BsmtQual</th>\n",
       "      <th>GarageYrBlt</th>\n",
       "    </tr>\n",
       "  </thead>\n",
       "  <tbody>\n",
       "    <tr>\n",
       "      <th>0</th>\n",
       "      <td>2.440268</td>\n",
       "      <td>14.976591</td>\n",
       "      <td>14.187527</td>\n",
       "      <td>10.506271</td>\n",
       "      <td>0.730463</td>\n",
       "      <td>13.698888</td>\n",
       "      <td>11.170327</td>\n",
       "      <td>1.820334</td>\n",
       "      <td>19.212182</td>\n",
       "      <td>2.055642</td>\n",
       "      <td>14.187527</td>\n",
       "      <td>1.540963</td>\n",
       "      <td>11.692623</td>\n",
       "      <td>7.483296</td>\n",
       "      <td>0.730463</td>\n",
       "      <td>1.194318</td>\n",
       "      <td>1.194318</td>\n",
       "      <td>6.073289</td>\n",
       "      <td>1.194318</td>\n",
       "      <td>6.426513</td>\n",
       "    </tr>\n",
       "    <tr>\n",
       "      <th>1</th>\n",
       "      <td>2.259674</td>\n",
       "      <td>14.923100</td>\n",
       "      <td>14.145138</td>\n",
       "      <td>10.062098</td>\n",
       "      <td>0.730463</td>\n",
       "      <td>12.792276</td>\n",
       "      <td>12.062832</td>\n",
       "      <td>2.440268</td>\n",
       "      <td>19.712205</td>\n",
       "      <td>2.055642</td>\n",
       "      <td>14.145138</td>\n",
       "      <td>1.540963</td>\n",
       "      <td>12.792276</td>\n",
       "      <td>8.897844</td>\n",
       "      <td>0.730463</td>\n",
       "      <td>1.194318</td>\n",
       "      <td>0.000000</td>\n",
       "      <td>6.426513</td>\n",
       "      <td>1.194318</td>\n",
       "      <td>5.744420</td>\n",
       "    </tr>\n",
       "    <tr>\n",
       "      <th>2</th>\n",
       "      <td>2.440268</td>\n",
       "      <td>15.149678</td>\n",
       "      <td>14.185966</td>\n",
       "      <td>10.775536</td>\n",
       "      <td>0.730463</td>\n",
       "      <td>13.832085</td>\n",
       "      <td>10.200343</td>\n",
       "      <td>1.820334</td>\n",
       "      <td>20.347241</td>\n",
       "      <td>2.055642</td>\n",
       "      <td>14.184404</td>\n",
       "      <td>1.540963</td>\n",
       "      <td>11.892039</td>\n",
       "      <td>9.917060</td>\n",
       "      <td>0.730463</td>\n",
       "      <td>1.194318</td>\n",
       "      <td>1.194318</td>\n",
       "      <td>6.148461</td>\n",
       "      <td>1.194318</td>\n",
       "      <td>6.382451</td>\n",
       "    </tr>\n",
       "    <tr>\n",
       "      <th>3</th>\n",
       "      <td>2.440268</td>\n",
       "      <td>14.857121</td>\n",
       "      <td>14.135652</td>\n",
       "      <td>10.918253</td>\n",
       "      <td>0.730463</td>\n",
       "      <td>13.711364</td>\n",
       "      <td>8.274266</td>\n",
       "      <td>1.820334</td>\n",
       "      <td>19.691553</td>\n",
       "      <td>2.055642</td>\n",
       "      <td>14.047529</td>\n",
       "      <td>1.540963</td>\n",
       "      <td>12.013683</td>\n",
       "      <td>10.468500</td>\n",
       "      <td>2.055642</td>\n",
       "      <td>1.540963</td>\n",
       "      <td>0.000000</td>\n",
       "      <td>5.942124</td>\n",
       "      <td>1.820334</td>\n",
       "      <td>6.314735</td>\n",
       "    </tr>\n",
       "    <tr>\n",
       "      <th>4</th>\n",
       "      <td>2.602594</td>\n",
       "      <td>15.852312</td>\n",
       "      <td>14.182841</td>\n",
       "      <td>11.627708</td>\n",
       "      <td>0.730463</td>\n",
       "      <td>14.480029</td>\n",
       "      <td>10.971129</td>\n",
       "      <td>1.820334</td>\n",
       "      <td>21.325160</td>\n",
       "      <td>2.055642</td>\n",
       "      <td>14.182841</td>\n",
       "      <td>1.540963</td>\n",
       "      <td>12.510588</td>\n",
       "      <td>10.221051</td>\n",
       "      <td>0.730463</td>\n",
       "      <td>1.540963</td>\n",
       "      <td>1.194318</td>\n",
       "      <td>6.512196</td>\n",
       "      <td>1.194318</td>\n",
       "      <td>6.360100</td>\n",
       "    </tr>\n",
       "  </tbody>\n",
       "</table>\n",
       "</div>"
      ],
      "text/plain": [
       "   OverallQual    TotalSF  YearRemodAdd  GarageArea  CentralAir  GrLivArea  \\\n",
       "0     2.440268  14.976591     14.187527   10.506271    0.730463  13.698888   \n",
       "1     2.259674  14.923100     14.145138   10.062098    0.730463  12.792276   \n",
       "2     2.440268  15.149678     14.185966   10.775536    0.730463  13.832085   \n",
       "3     2.440268  14.857121     14.135652   10.918253    0.730463  13.711364   \n",
       "4     2.602594  15.852312     14.182841   11.627708    0.730463  14.480029   \n",
       "\n",
       "   BsmtFinSF1  OverallCond    LotArea  GarageCond  YearBuilt  MSZoning  \\\n",
       "0   11.170327     1.820334  19.212182    2.055642  14.187527  1.540963   \n",
       "1   12.062832     2.440268  19.712205    2.055642  14.145138  1.540963   \n",
       "2   10.200343     1.820334  20.347241    2.055642  14.184404  1.540963   \n",
       "3    8.274266     1.820334  19.691553    2.055642  14.047529  1.540963   \n",
       "4   10.971129     1.820334  21.325160    2.055642  14.182841  1.540963   \n",
       "\n",
       "    1stFlrSF  BsmtUnfSF  GarageType  GarageCars  BsmtFinType1  LotFrontage  \\\n",
       "0  11.692623   7.483296    0.730463    1.194318      1.194318     6.073289   \n",
       "1  12.792276   8.897844    0.730463    1.194318      0.000000     6.426513   \n",
       "2  11.892039   9.917060    0.730463    1.194318      1.194318     6.148461   \n",
       "3  12.013683  10.468500    2.055642    1.540963      0.000000     5.942124   \n",
       "4  12.510588  10.221051    0.730463    1.540963      1.194318     6.512196   \n",
       "\n",
       "   BsmtQual  GarageYrBlt  \n",
       "0  1.194318     6.426513  \n",
       "1  1.194318     5.744420  \n",
       "2  1.194318     6.382451  \n",
       "3  1.820334     6.314735  \n",
       "4  1.194318     6.360100  "
      ]
     },
     "execution_count": 1013,
     "metadata": {},
     "output_type": "execute_result"
    }
   ],
   "source": [
    "X_reduced = X[['OverallQual', 'TotalSF', 'YearRemodAdd', 'GarageArea', 'CentralAir', 'GrLivArea', \n",
    "               'BsmtFinSF1', 'OverallCond', 'LotArea', 'GarageCond', 'YearBuilt', 'MSZoning', \n",
    "               '1stFlrSF', 'BsmtUnfSF', 'GarageType', 'GarageCars', 'BsmtFinType1', 'LotFrontage', \n",
    "               'BsmtQual', 'GarageYrBlt']]\n",
    "\n",
    "X_reduced.head()"
   ]
  },
  {
   "cell_type": "code",
   "execution_count": 1014,
   "metadata": {
    "collapsed": true
   },
   "outputs": [],
   "source": [
    "X_train, X_test, y_train, y_test = train_test_split(X_reduced, y, test_size=0.2)"
   ]
  },
  {
   "cell_type": "markdown",
   "metadata": {},
   "source": [
    "### Linear Regression"
   ]
  },
  {
   "cell_type": "code",
   "execution_count": 1015,
   "metadata": {
    "collapsed": true
   },
   "outputs": [],
   "source": [
    "# Instantiate model and create parameter grid\n",
    "lr = linear_model.LinearRegression()\n",
    "grid_params = {'fit_intercept': [True, False],\n",
    "               'normalize': [True, False], \n",
    "               'copy_X' : [True, False]}"
   ]
  },
  {
   "cell_type": "code",
   "execution_count": 1016,
   "metadata": {
    "collapsed": true
   },
   "outputs": [],
   "source": [
    "# Instantiate new grid\n",
    "grid = GridSearchCV(lr, grid_params, n_jobs=-1, cv=5)"
   ]
  },
  {
   "cell_type": "code",
   "execution_count": 1017,
   "metadata": {},
   "outputs": [
    {
     "name": "stdout",
     "output_type": "stream",
     "text": [
      "Runtime for grid search: 0.269 s\n",
      "Best Accuracy Score: \n",
      "0.8856136183573179\n",
      "Best Parameters: \n",
      "{'copy_X': True, 'fit_intercept': True, 'normalize': True}\n"
     ]
    }
   ],
   "source": [
    "# Linear Regression\n",
    "start = time.time()\n",
    "grid.fit(X_train, y_train)\n",
    "y_pred = grid.predict(X_test)\n",
    "print('Runtime for grid search: {0:.3} s'.format((time.time() - start)))\n",
    "print('Best Accuracy Score: \\n{}'.format(grid.best_score_))\n",
    "print('Best Parameters: \\n{}'.format(grid.best_params_))"
   ]
  },
  {
   "cell_type": "code",
   "execution_count": 1018,
   "metadata": {
    "scrolled": false
   },
   "outputs": [
    {
     "name": "stdout",
     "output_type": "stream",
     "text": [
      "Score With 20% Holdout:\n",
      "89.41%\n",
      "Cross Validation Scores:\n",
      " [0.87071342 0.89566946 0.88364654 0.89117074 0.88427149]\n",
      "Average Cross Validation Score:\n",
      "88.51%\n",
      "Root Mean Squared Error:\n",
      "0.014147477075629404\n"
     ]
    }
   ],
   "source": [
    "# Instantiate and fit model with best parameters\n",
    "lr = LinearRegression(fit_intercept=False, normalize=True, copy_X=True)\n",
    "lr.fit(X_train, y_train)\n",
    "y_pred = lr.predict(X_test)\n",
    "\n",
    "# Run cross validation and calculate RMSE\n",
    "scores = cross_val_score(lr, X_train, y_train, cv=5)\n",
    "rmse = mean_squared_error(y_test, y_pred)**0.5\n",
    "\n",
    "# Print results\n",
    "print('Score With 20% Holdout:\\n{0:.2%}'.format(lr.score(X_test, y_test)))\n",
    "print('Cross Validation Scores:\\n', scores)\n",
    "print('Average Cross Validation Score:\\n{0:.2%}'.format(scores.mean()))\n",
    "print('Root Mean Squared Error:\\n{}'.format(rmse))"
   ]
  },
  {
   "cell_type": "code",
   "execution_count": null,
   "metadata": {
    "collapsed": true
   },
   "outputs": [],
   "source": []
  },
  {
   "cell_type": "markdown",
   "metadata": {},
   "source": [
    "### KNN Regression"
   ]
  },
  {
   "cell_type": "code",
   "execution_count": 1019,
   "metadata": {
    "collapsed": true
   },
   "outputs": [],
   "source": [
    "# Instantiate model and create parameter grid\n",
    "knn = neighbors.KNeighborsRegressor()\n",
    "grid_params = {'n_neighbors': list(range(1, 10)),\n",
    "               'weights': ['uniform', 'distance'], \n",
    "               'algorithm' : ['auto', 'ball_tree', 'kd_tree', 'brute']}"
   ]
  },
  {
   "cell_type": "code",
   "execution_count": 1020,
   "metadata": {
    "collapsed": true
   },
   "outputs": [],
   "source": [
    "# Instantiate new grid\n",
    "grid = GridSearchCV(knn, grid_params, n_jobs=-1, cv=5)"
   ]
  },
  {
   "cell_type": "code",
   "execution_count": 1021,
   "metadata": {},
   "outputs": [
    {
     "name": "stdout",
     "output_type": "stream",
     "text": [
      "Runtime for grid search: 2.32 s\n",
      "Best Accuracy Score: \n",
      "0.7659137120420275\n",
      "Best Parameters: \n",
      "{'algorithm': 'brute', 'n_neighbors': 5, 'weights': 'distance'}\n"
     ]
    }
   ],
   "source": [
    "# KNN Regression\n",
    "start = time.time()\n",
    "grid.fit(X_train, y_train)\n",
    "y_pred = grid.predict(X_test)\n",
    "\n",
    "# Print results\n",
    "print('Runtime for grid search: {0:.3} s'.format((time.time() - start)))\n",
    "print('Best Accuracy Score: \\n{}'.format(grid.best_score_))\n",
    "print('Best Parameters: \\n{}'.format(grid.best_params_))"
   ]
  },
  {
   "cell_type": "code",
   "execution_count": 1022,
   "metadata": {},
   "outputs": [
    {
     "name": "stdout",
     "output_type": "stream",
     "text": [
      "Score With 20% Holdout:\n",
      "77.74%\n",
      "Cross Validation Scores:\n",
      " [0.75889364 0.78436917 0.73939466 0.76477707 0.78220393]\n",
      "Average Cross Validation Score:\n",
      "76.59%\n",
      "Root Mean Squared Error:\n",
      "0.020506261970418577\n"
     ]
    }
   ],
   "source": [
    "# Instantiate and fit model with best parameters\n",
    "knn = neighbors.KNeighborsRegressor(n_neighbors=5, weights='distance', algorithm='auto')\n",
    "knn.fit(X_train, y_train)\n",
    "y_pred = knn.predict(X_test)\n",
    "\n",
    "# Run cross validation and calculate RMSE\n",
    "scores = cross_val_score(knn, X_train, y_train, cv=5)\n",
    "rmse = mean_squared_error(y_test, y_pred)**0.5\n",
    "\n",
    "# Print results\n",
    "print('Score With 20% Holdout:\\n{0:.2%}'.format(knn.score(X_test, y_test)))\n",
    "print('Cross Validation Scores:\\n', scores)\n",
    "print('Average Cross Validation Score:\\n{0:.2%}'.format(scores.mean()))\n",
    "print('Root Mean Squared Error:\\n{}'.format(rmse))"
   ]
  },
  {
   "cell_type": "markdown",
   "metadata": {},
   "source": [
    "### Random Forest Regression"
   ]
  },
  {
   "cell_type": "code",
   "execution_count": 1023,
   "metadata": {
    "collapsed": true
   },
   "outputs": [],
   "source": [
    "# Instantiate model and create parameter grid\n",
    "rfr = RandomForestRegressor()\n",
    "grid_params = {'n_estimators': list(range(1, 10)),\n",
    "               'criterion': ['mse', 'mae'],\n",
    "               'max_depth': list(range(1, 10))}"
   ]
  },
  {
   "cell_type": "code",
   "execution_count": 1024,
   "metadata": {
    "collapsed": true
   },
   "outputs": [],
   "source": [
    "# Instantiate new grid\n",
    "grid = GridSearchCV(rfr, grid_params, n_jobs=-1, cv=5)"
   ]
  },
  {
   "cell_type": "code",
   "execution_count": 1025,
   "metadata": {},
   "outputs": [
    {
     "name": "stderr",
     "output_type": "stream",
     "text": [
      "/Users/rakeshbhatia/anaconda/lib/python3.6/site-packages/sklearn/model_selection/_search.py:714: DataConversionWarning: A column-vector y was passed when a 1d array was expected. Please change the shape of y to (n_samples,), for example using ravel().\n",
      "  self.best_estimator_.fit(X, y, **fit_params)\n"
     ]
    },
    {
     "name": "stdout",
     "output_type": "stream",
     "text": [
      "Runtime for grid search: 48.0 s\n",
      "Best Accuracy Score: \n",
      "0.8699653683538714\n",
      "Best Parameters: \n",
      "{'criterion': 'mae', 'max_depth': 9, 'n_estimators': 9}\n"
     ]
    }
   ],
   "source": [
    "# KNN Regression\n",
    "start = time.time()\n",
    "grid.fit(X_train, y_train)\n",
    "y_pred = grid.predict(X_test)\n",
    "\n",
    "# Print results\n",
    "print('Runtime for grid search: {0:.3} s'.format((time.time() - start)))\n",
    "print('Best Accuracy Score: \\n{}'.format(grid.best_score_))\n",
    "print('Best Parameters: \\n{}'.format(grid.best_params_))"
   ]
  },
  {
   "cell_type": "code",
   "execution_count": 1026,
   "metadata": {
    "scrolled": true
   },
   "outputs": [
    {
     "name": "stdout",
     "output_type": "stream",
     "text": [
      "Score With 20% Holdout:\n",
      "84.36%\n",
      "Cross Validation Scores:\n",
      "[0.86809402 0.86523118 0.83397323 0.8567208  0.85915669]\n",
      "Average Cross Validation Score:\n",
      "85.66%\n",
      "Root Mean Squared Error:\n",
      "0.017187886026058884\n"
     ]
    }
   ],
   "source": [
    "# Instantiate and fit model with best parameters\n",
    "rfr = RandomForestRegressor(n_estimators=9, criterion='mse', max_depth=9)\n",
    "rfr.fit(X_train, y_train.values.ravel())\n",
    "y_pred = rfr.predict(X_test)\n",
    "\n",
    "# Run cross validation and calculate RMSE\n",
    "scores = cross_val_score(rfr, X_train, y_train.values.ravel(), cv=5)\n",
    "rmse = mean_squared_error(y_test, y_pred)**0.5\n",
    "\n",
    "# Print results\n",
    "print('Score With 20% Holdout:\\n{0:.2%}'.format(rfr.score(X_test, y_test.values.ravel())))\n",
    "print('Cross Validation Scores:\\n{}'.format(scores))\n",
    "print('Average Cross Validation Score:\\n{0:.2%}'.format(scores.mean()))\n",
    "print('Root Mean Squared Error:\\n{}'.format(rmse))"
   ]
  },
  {
   "cell_type": "markdown",
   "metadata": {},
   "source": [
    "### Ridge Regression"
   ]
  },
  {
   "cell_type": "code",
   "execution_count": 1027,
   "metadata": {
    "collapsed": true
   },
   "outputs": [],
   "source": [
    "# Instantiate model and create parameter grid\n",
    "rr = Ridge()\n",
    "grid_params = {'alpha': [0.0001, 0.001, 0.01, 0.1, 1, 5, 10, 25, 50, 100], \n",
    "               'fit_intercept': [True, False],\n",
    "               'solver': ['cholesky', 'lsqr', 'sparse_cg']}\n",
    "#               'solver': ['svd', 'cholesky', 'lsqr', 'sparse_cg', 'sag', 'saga']}"
   ]
  },
  {
   "cell_type": "code",
   "execution_count": 1028,
   "metadata": {
    "collapsed": true
   },
   "outputs": [],
   "source": [
    "# Instantiate new grid\n",
    "grid = GridSearchCV(rr, grid_params, n_jobs=-1, cv=5)"
   ]
  },
  {
   "cell_type": "code",
   "execution_count": 1029,
   "metadata": {},
   "outputs": [
    {
     "name": "stdout",
     "output_type": "stream",
     "text": [
      "Runtime for grid search: 1.44 s\n",
      "Best Accuracy Score: \n",
      "0.8857532096197548\n",
      "Best Parameters: \n",
      "{'alpha': 0.01, 'fit_intercept': True, 'solver': 'sparse_cg'}\n"
     ]
    }
   ],
   "source": [
    "# Ridge Regression\n",
    "start = time.time()\n",
    "grid.fit(X_train, y_train)\n",
    "y_pred = grid.predict(X_test)\n",
    "\n",
    "# Print results\n",
    "print('Runtime for grid search: {0:.3} s'.format((time.time() - start)))\n",
    "print('Best Accuracy Score: \\n{}'.format(grid.best_score_))\n",
    "print('Best Parameters: \\n{}'.format(grid.best_params_))"
   ]
  },
  {
   "cell_type": "code",
   "execution_count": 1030,
   "metadata": {
    "scrolled": true
   },
   "outputs": [
    {
     "name": "stdout",
     "output_type": "stream",
     "text": [
      "Score With 20% Holdout:\n",
      "89.37%\n",
      "Cross Validation Scores:\n",
      "[0.87060218 0.89432531 0.88326918 0.89031129 0.88637201]\n",
      "Average Cross Validation Score:\n",
      "88.50%\n",
      "Root Mean Squared Error:\n",
      "0.014172327827625068\n"
     ]
    }
   ],
   "source": [
    "# Instantiate and fit model with best parameters\n",
    "rr = Ridge(alpha=1, fit_intercept=False, solver='cholesky')\n",
    "rr.fit(X_train, y_train)\n",
    "y_pred = rr.predict(X_test)\n",
    "\n",
    "# Run cross validation and calculate RMSE\n",
    "scores = cross_val_score(rr, X_train, y_train, cv=5)\n",
    "rmse = mean_squared_error(y_test, y_pred)**0.5\n",
    "\n",
    "# Print results\n",
    "print('Score With 20% Holdout:\\n{0:.2%}'.format(rr.score(X_test, y_test)))\n",
    "print('Cross Validation Scores:\\n{}'.format(scores))\n",
    "print('Average Cross Validation Score:\\n{0:.2%}'.format(scores.mean()))\n",
    "print('Root Mean Squared Error:\\n{}'.format(rmse))"
   ]
  },
  {
   "cell_type": "markdown",
   "metadata": {},
   "source": [
    "### Lasso Regression"
   ]
  },
  {
   "cell_type": "code",
   "execution_count": 1031,
   "metadata": {
    "collapsed": true
   },
   "outputs": [],
   "source": [
    "# Instantiate model and create parameter grid\n",
    "lasso = Lasso()\n",
    "grid_params = {'alpha': [0.0001, 0.001, 0.01, 0.1, 1, 5, 10, 25, 50, 100], \n",
    "               'fit_intercept': [True, False],\n",
    "               'max_iter': list(range(10))}\n",
    "#               'solver': ['svd', 'cholesky', 'lsqr', 'sparse_cg', 'sag', 'saga']}"
   ]
  },
  {
   "cell_type": "code",
   "execution_count": 1032,
   "metadata": {
    "collapsed": true
   },
   "outputs": [],
   "source": [
    "# Instantiate new grid\n",
    "grid = GridSearchCV(lasso, grid_params, n_jobs=-1, cv=5)"
   ]
  },
  {
   "cell_type": "code",
   "execution_count": 1033,
   "metadata": {},
   "outputs": [
    {
     "name": "stdout",
     "output_type": "stream",
     "text": [
      "Runtime for grid search: 6.34 s\n",
      "Best Accuracy Score: \n",
      "0.875741518041686\n",
      "Best Parameters: \n",
      "{'alpha': 0.0001, 'fit_intercept': True, 'max_iter': 9}\n"
     ]
    },
    {
     "name": "stderr",
     "output_type": "stream",
     "text": [
      "/Users/rakeshbhatia/anaconda/lib/python3.6/site-packages/sklearn/linear_model/coordinate_descent.py:475: ConvergenceWarning: Objective did not converge. You might want to increase the number of iterations. Duality gap: 0.13283603196767396, tolerance: 0.00023569699827452479\n",
      "  positive)\n"
     ]
    }
   ],
   "source": [
    "# Ridge Regression\n",
    "start = time.time()\n",
    "grid.fit(X_train, y_train)\n",
    "y_pred = grid.predict(X_test)\n",
    "\n",
    "# Print results\n",
    "print('Runtime for grid search: {0:.3} s'.format((time.time() - start)))\n",
    "print('Best Accuracy Score: \\n{}'.format(grid.best_score_))\n",
    "print('Best Parameters: \\n{}'.format(grid.best_params_))"
   ]
  },
  {
   "cell_type": "code",
   "execution_count": 1034,
   "metadata": {
    "scrolled": false
   },
   "outputs": [
    {
     "name": "stdout",
     "output_type": "stream",
     "text": [
      "Score With 20% Holdout:\n",
      "89.37%\n",
      "Cross Validation Scores:\n",
      "[0.86396017 0.8849574  0.87312289 0.88246456 0.87419594]\n",
      "Average Cross Validation Score:\n",
      "87.57%\n",
      "Root Mean Squared Error:\n",
      "0.014172327827625068\n"
     ]
    },
    {
     "name": "stderr",
     "output_type": "stream",
     "text": [
      "/Users/rakeshbhatia/anaconda/lib/python3.6/site-packages/sklearn/linear_model/coordinate_descent.py:475: ConvergenceWarning: Objective did not converge. You might want to increase the number of iterations. Duality gap: 0.13283603196767396, tolerance: 0.00023569699827452479\n",
      "  positive)\n",
      "/Users/rakeshbhatia/anaconda/lib/python3.6/site-packages/sklearn/linear_model/coordinate_descent.py:475: ConvergenceWarning: Objective did not converge. You might want to increase the number of iterations. Duality gap: 0.11070000876464563, tolerance: 0.0001948496427145007\n",
      "  positive)\n",
      "/Users/rakeshbhatia/anaconda/lib/python3.6/site-packages/sklearn/linear_model/coordinate_descent.py:475: ConvergenceWarning: Objective did not converge. You might want to increase the number of iterations. Duality gap: 0.10479317040399783, tolerance: 0.00018186937396952018\n",
      "  positive)\n",
      "/Users/rakeshbhatia/anaconda/lib/python3.6/site-packages/sklearn/linear_model/coordinate_descent.py:475: ConvergenceWarning: Objective did not converge. You might want to increase the number of iterations. Duality gap: 0.10163126428801372, tolerance: 0.00019091078160910968\n",
      "  positive)\n",
      "/Users/rakeshbhatia/anaconda/lib/python3.6/site-packages/sklearn/linear_model/coordinate_descent.py:475: ConvergenceWarning: Objective did not converge. You might want to increase the number of iterations. Duality gap: 0.10695056887783917, tolerance: 0.00018476390734479078\n",
      "  positive)\n",
      "/Users/rakeshbhatia/anaconda/lib/python3.6/site-packages/sklearn/linear_model/coordinate_descent.py:475: ConvergenceWarning: Objective did not converge. You might want to increase the number of iterations. Duality gap: 0.10323401752834034, tolerance: 0.00019024958417105352\n",
      "  positive)\n"
     ]
    }
   ],
   "source": [
    "# Instantiate and fit model with best parameters\n",
    "lasso = Lasso(alpha=0.0001, fit_intercept=True, max_iter=9)\n",
    "lasso.fit(X_train, y_train)\n",
    "y_pred = rr.predict(X_test)\n",
    "\n",
    "# Run cross validation and calculate RMSE\n",
    "scores = cross_val_score(lasso, X_train, y_train, cv=5)\n",
    "rmse = mean_squared_error(y_test, y_pred)**0.5\n",
    "\n",
    "# Print results\n",
    "print('Score With 20% Holdout:\\n{0:.2%}'.format(rr.score(X_test, y_test)))\n",
    "print('Cross Validation Scores:\\n{}'.format(scores))\n",
    "print('Average Cross Validation Score:\\n{0:.2%}'.format(scores.mean()))\n",
    "print('Root Mean Squared Error:\\n{}'.format(rmse))"
   ]
  },
  {
   "cell_type": "markdown",
   "metadata": {},
   "source": [
    "## Iteration 3 - PCA"
   ]
  },
  {
   "cell_type": "markdown",
   "metadata": {},
   "source": [
    "### Train and Test PCA"
   ]
  },
  {
   "cell_type": "code",
   "execution_count": 1035,
   "metadata": {
    "collapsed": true
   },
   "outputs": [],
   "source": [
    "X_train, X_test, y_train, y_test = train_test_split(X, y, test_size=0.2)"
   ]
  },
  {
   "cell_type": "code",
   "execution_count": 1036,
   "metadata": {
    "collapsed": true
   },
   "outputs": [],
   "source": [
    "# Standardize features\n",
    "X_scaler = StandardScaler().fit_transform(X_train)"
   ]
  },
  {
   "cell_type": "code",
   "execution_count": 1037,
   "metadata": {
    "collapsed": true
   },
   "outputs": [],
   "source": [
    "# Create PCA that retains 95% of variance\n",
    "pca = PCA(n_components=0.95, whiten=True)\n",
    "\n",
    "# Generate PCA\n",
    "X_pca = pca.fit_transform(X_scaler)"
   ]
  },
  {
   "cell_type": "code",
   "execution_count": 1038,
   "metadata": {},
   "outputs": [
    {
     "name": "stdout",
     "output_type": "stream",
     "text": [
      "Original number of features: 79\n",
      "Reduced number of features: 59\n"
     ]
    }
   ],
   "source": [
    "# Print results\n",
    "print('Original number of features:', X.shape[1])\n",
    "print('Reduced number of features:', X_pca.shape[1])"
   ]
  },
  {
   "cell_type": "code",
   "execution_count": 1039,
   "metadata": {
    "scrolled": true
   },
   "outputs": [
    {
     "data": {
      "image/png": "[encoded data removed]",
      "text/plain": [
       "<Figure size 504x360 with 1 Axes>"
      ]
     },
     "metadata": {},
     "output_type": "display_data"
    }
   ],
   "source": [
    "fig = plt.figure(figsize=(7,5))\n",
    "ax = plt.subplot(111)\n",
    "ax.plot(range(X_pca.shape[1]), pca.explained_variance_ratio_, label='Component-wise Explained Variance')\n",
    "ax.plot(range(X_pca.shape[1]), np.cumsum(pca.explained_variance_ratio_), label='Cumulative Explained Variance')\n",
    "plt.title('Explained Variance')\n",
    "plt.xlabel('Components')\n",
    "plt.ylabel('Variance')\n",
    "ax.legend()\n",
    "plt.show()"
   ]
  },
  {
   "cell_type": "markdown",
   "metadata": {},
   "source": [
    "### Linear Regression"
   ]
  },
  {
   "cell_type": "code",
   "execution_count": 1058,
   "metadata": {},
   "outputs": [],
   "source": [
    "lr = linear_model.LinearRegression()\n",
    "pipe = Pipeline([('pca', pca), ('linear', lr)])\n",
    "pipe.fit(X_train, y_train)\n",
    "y_pred = pipe.predict(X_test)"
   ]
  },
  {
   "cell_type": "code",
   "execution_count": 1059,
   "metadata": {},
   "outputs": [
    {
     "name": "stdout",
     "output_type": "stream",
     "text": [
      "Cross Validation Scores - Training Set: \n",
      "[0.81413092 0.82971289 0.80970744 0.83287607 0.84560296]\n",
      "\n",
      "Average Cross Validation Score - Training Set: \n",
      "82.64%\n",
      "\n",
      "Cross Validation Scores - Test Set: \n",
      "[0.81413092 0.82971289 0.80970744 0.83287607 0.84560296]\n",
      "\n",
      "Average Cross Validation Score - Test Set: \n",
      "84.37%\n"
     ]
    }
   ],
   "source": [
    "scores_train = cross_val_score(pipe, X_train, y_train, cv=5)\n",
    "scores_test = cross_val_score(pipe, X_test, y_test, cv=5)\n",
    "print('Cross Validation Scores - Training Set: \\n{}'.format(scores_train))\n",
    "print('\\nAverage Cross Validation Score - Training Set: \\n{:.2%}'.format(scores_train.mean()))\n",
    "print('\\nCross Validation Scores - Test Set: \\n{}'.format(scores_train))\n",
    "print('\\nAverage Cross Validation Score - Test Set: \\n{:.2%}'.format(scores_test.mean()))"
   ]
  },
  {
   "cell_type": "code",
   "execution_count": null,
   "metadata": {
    "collapsed": true
   },
   "outputs": [],
   "source": []
  },
  {
   "cell_type": "markdown",
   "metadata": {},
   "source": [
    "### KNN Regression"
   ]
  },
  {
   "cell_type": "code",
   "execution_count": 1042,
   "metadata": {},
   "outputs": [],
   "source": [
    "knn = neighbors.KNeighborsRegressor()\n",
    "pipe = Pipeline([('pca', pca), ('knn', knn)])\n",
    "pipe.fit(X_train, y_train)\n",
    "y_pred = pipe.predict(X_test)"
   ]
  },
  {
   "cell_type": "code",
   "execution_count": 1043,
   "metadata": {},
   "outputs": [
    {
     "name": "stdout",
     "output_type": "stream",
     "text": [
      "Cross Validation Scores - Training Set: \n",
      "[0.67034282 0.63827192 0.57663107 0.67315483 0.66594492]\n",
      "\n",
      "Average Cross Validation Score - Training Set: \n",
      "64.49%\n",
      "\n",
      "Cross Validation Scores - Test Set: \n",
      "[0.67034282 0.63827192 0.57663107 0.67315483 0.66594492]\n",
      "\n",
      "Average Cross Validation Score - Test Set: \n",
      "59.26%\n"
     ]
    }
   ],
   "source": [
    "scores_train = cross_val_score(pipe, X_train, y_train, cv=5)\n",
    "scores_test = cross_val_score(pipe, X_test, y_test, cv=5)\n",
    "print('Cross Validation Scores - Training Set: \\n{}'.format(scores_train))\n",
    "print('\\nAverage Cross Validation Score - Training Set: \\n{:.2%}'.format(scores_train.mean()))\n",
    "print('\\nCross Validation Scores - Test Set: \\n{}'.format(scores_train))\n",
    "print('\\nAverage Cross Validation Score - Test Set: \\n{:.2%}'.format(scores_test.mean()))"
   ]
  },
  {
   "cell_type": "code",
   "execution_count": null,
   "metadata": {
    "collapsed": true
   },
   "outputs": [],
   "source": []
  },
  {
   "cell_type": "markdown",
   "metadata": {},
   "source": [
    "### Random Forest Regression"
   ]
  },
  {
   "cell_type": "code",
   "execution_count": 1044,
   "metadata": {},
   "outputs": [],
   "source": [
    "rfr = RandomForestRegressor()\n",
    "pipe = Pipeline([('pca', pca), ('rfr', rfr)])\n",
    "pipe.fit(X_train, y_train.values.ravel())\n",
    "y_pred = pipe.predict(X_test)"
   ]
  },
  {
   "cell_type": "code",
   "execution_count": 1045,
   "metadata": {},
   "outputs": [
    {
     "name": "stdout",
     "output_type": "stream",
     "text": [
      "Cross Validation Scores - Training Set: \n",
      "[0.70221917 0.73394712 0.72197251 0.6822105  0.72132183]\n",
      "\n",
      "Average Cross Validation Score - Training Set: \n",
      "71.23%\n",
      "\n",
      "Cross Validation Scores - Test Set: \n",
      "[0.70221917 0.73394712 0.72197251 0.6822105  0.72132183]\n",
      "\n",
      "Average Cross Validation Score - Test Set: \n",
      "66.60%\n"
     ]
    }
   ],
   "source": [
    "scores_train = cross_val_score(pipe, X_train, y_train.values.ravel(), cv=5)\n",
    "scores_test = cross_val_score(pipe, X_test, y_test.values.ravel(), cv=5)\n",
    "print('Cross Validation Scores - Training Set: \\n{}'.format(scores_train))\n",
    "print('\\nAverage Cross Validation Score - Training Set: \\n{:.2%}'.format(scores_train.mean()))\n",
    "print('\\nCross Validation Scores - Test Set: \\n{}'.format(scores_train))\n",
    "print('\\nAverage Cross Validation Score - Test Set: \\n{:.2%}'.format(scores_test.mean()))"
   ]
  },
  {
   "cell_type": "code",
   "execution_count": null,
   "metadata": {
    "collapsed": true
   },
   "outputs": [],
   "source": []
  },
  {
   "cell_type": "code",
   "execution_count": null,
   "metadata": {
    "collapsed": true
   },
   "outputs": [],
   "source": []
  },
  {
   "cell_type": "markdown",
   "metadata": {},
   "source": [
    "### Ridge Regression"
   ]
  },
  {
   "cell_type": "code",
   "execution_count": 1052,
   "metadata": {},
   "outputs": [],
   "source": [
    "rr = Ridge()\n",
    "pipe = Pipeline([('pca', pca), ('ridge', rr)])\n",
    "pipe.fit(X_train, y_train)\n",
    "y_pred = pipe.predict(X_test)"
   ]
  },
  {
   "cell_type": "code",
   "execution_count": 1053,
   "metadata": {},
   "outputs": [
    {
     "name": "stdout",
     "output_type": "stream",
     "text": [
      "Cross Validation Scores - Training Set: \n",
      "[0.81415514 0.82975425 0.80976859 0.83284307 0.84552155]\n",
      "\n",
      "Average Cross Validation Score - Training Set: \n",
      "82.64%\n",
      "\n",
      "Cross Validation Scores - Test Set: \n",
      "[0.81415514 0.82975425 0.80976859 0.83284307 0.84552155]\n",
      "\n",
      "Average Cross Validation Score - Test Set: \n",
      "84.37%\n"
     ]
    }
   ],
   "source": [
    "scores_train = cross_val_score(pipe, X_train, y_train, cv=5)\n",
    "scores_test = cross_val_score(pipe, X_test, y_test, cv=5)\n",
    "print('Cross Validation Scores - Training Set: \\n{}'.format(scores_train))\n",
    "print('\\nAverage Cross Validation Score - Training Set: \\n{:.2%}'.format(scores_train.mean()))\n",
    "print('\\nCross Validation Scores - Test Set: \\n{}'.format(scores_train))\n",
    "print('\\nAverage Cross Validation Score - Test Set: \\n{:.2%}'.format(scores_test.mean()))"
   ]
  },
  {
   "cell_type": "code",
   "execution_count": null,
   "metadata": {
    "collapsed": true
   },
   "outputs": [],
   "source": []
  },
  {
   "cell_type": "markdown",
   "metadata": {},
   "source": [
    "### Lasso Regression"
   ]
  },
  {
   "cell_type": "code",
   "execution_count": 1048,
   "metadata": {
    "collapsed": true
   },
   "outputs": [],
   "source": [
    "lasso = Lasso()\n",
    "pipe = Pipeline([('pca', pca), ('lasso', lasso)])\n",
    "pipe.fit(X_train, y_train)\n",
    "y_pred = pipe.predict(X_test)"
   ]
  },
  {
   "cell_type": "code",
   "execution_count": 1049,
   "metadata": {},
   "outputs": [
    {
     "name": "stdout",
     "output_type": "stream",
     "text": [
      "Cross Validation Scores - Training Set: \n",
      "[0.81468203 0.83004374 0.80957881 0.83277653 0.8446088 ]\n",
      "\n",
      "Average Cross Validation Score - Training Set: \n",
      "82.63%\n",
      "\n",
      "Cross Validation Scores - Test Set: \n",
      "[0.81468203 0.83004374 0.80957881 0.83277653 0.8446088 ]\n",
      "\n",
      "Average Cross Validation Score - Test Set: \n",
      "84.34%\n"
     ]
    }
   ],
   "source": [
    "scores_train = cross_val_score(pipe, X_train, y_train, cv=5)\n",
    "scores_test = cross_val_score(pipe, X_test, y_test, cv=5)\n",
    "print('Cross Validation Scores - Training Set: \\n{}'.format(scores_train))\n",
    "print('\\nAverage Cross Validation Score - Training Set: \\n{:.2%}'.format(scores_train.mean()))\n",
    "print('\\nCross Validation Scores - Test Set: \\n{}'.format(scores_train))\n",
    "print('\\nAverage Cross Validation Score - Test Set: \\n{:.2%}'.format(scores_test.mean()))"
   ]
  }
 ],
 "metadata": {
  "kernelspec": {
   "display_name": "Python 3",
   "language": "python",
   "name": "python3"
  },
  "language_info": {
   "codemirror_mode": {
    "name": "ipython",
    "version": 3
   },
   "file_extension": ".py",
   "mimetype": "text/x-python",
   "name": "python",
   "nbconvert_exporter": "python",
   "pygments_lexer": "ipython3",
   "version": "3.6.7"
  }
 },
 "nbformat": 4,
 "nbformat_minor": 2
}
