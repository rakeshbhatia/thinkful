{
 "cells": [
  {
   "cell_type": "code",
   "execution_count": 36,
   "metadata": {
    "collapsed": true
   },
   "outputs": [],
   "source": [
    "import math\n",
    "import statistics\n",
    "import pandas as pd\n",
    "import numpy as np\n",
    "import matplotlib.pyplot as plt\n",
    "%matplotlib inline"
   ]
  },
  {
   "cell_type": "code",
   "execution_count": 37,
   "metadata": {},
   "outputs": [
    {
     "name": "stdout",
     "output_type": "stream",
     "text": [
      "mean:  9.85714285714\n",
      "median:  10.0\n",
      "mode:  9.85714285714\n",
      "var:  6.40816326531\n",
      "std:  2.53143502095\n",
      "se:  1.03345401972\n"
     ]
    }
   ],
   "source": [
    "arr = [6, 8, 8, 10, 11, 12, 14]\n",
    "mean = np.mean(arr)\n",
    "print('mean: ', mean)\n",
    "median = np.median(arr)\n",
    "print('median: ', median)\n",
    "mode = statistics.mode(arr)\n",
    "print('mode: ', mean)\n",
    "var = np.var(arr)\n",
    "print('var: ', var)\n",
    "std = np.std(arr)\n",
    "print('std: ', std)\n",
    "se = np.std(arr ,ddof=1) / np.sqrt(len(arr))\n",
    "print('se: ', se)\n",
    "\n",
    "#My choice of variance estimation method would be the variance,\n",
    "#because it gives you a rough idea of the average difference between\n",
    "#two consecutive values in the dataset."
   ]
  },
  {
   "cell_type": "code",
   "execution_count": 38,
   "metadata": {},
   "outputs": [
    {
     "name": "stdout",
     "output_type": "stream",
     "text": [
      "mean:  10.0\n",
      "median:  10.0\n",
      "mode:  10.0\n",
      "var:  5.42857142857\n",
      "std:  2.32992949004\n",
      "se:  0.951189731211\n"
     ]
    }
   ],
   "source": [
    "arr = [7, 8, 8, 10, 11, 12, 14]\n",
    "mean = np.mean(arr)\n",
    "print('mean: ', mean)\n",
    "median = np.median(arr)\n",
    "print('median: ', median)\n",
    "mode = statistics.mode(arr)\n",
    "print('mode: ', mean)\n",
    "var = np.var(arr)\n",
    "print('var: ', var)\n",
    "std = np.std(arr)\n",
    "print('std: ', std)\n",
    "se = np.std(arr ,ddof=1) / np.sqrt(len(arr))\n",
    "print('se: ', se)\n",
    "\n",
    "#After updating the estimates, it seems like not much changed,\n",
    "#which makes sense, since the change was very minimal. The "
   ]
  },
  {
   "cell_type": "code",
   "execution_count": 39,
   "metadata": {},
   "outputs": [
    {
     "name": "stdout",
     "output_type": "stream",
     "text": [
      "mean:  9.0\n",
      "median:  10.0\n",
      "var:  15.4285714286\n",
      "std:  3.92792202425\n",
      "se:  1.60356745147\n"
     ]
    }
   ],
   "source": [
    "arr = [7, 1, 8, 10, 11, 12, 14]\n",
    "mean = np.mean(arr)\n",
    "print('mean: ', mean)\n",
    "median = np.median(arr)\n",
    "print('median: ', median)\n",
    "#mode = statistics.mode(arr)\n",
    "#print('mode: ', mean)\n",
    "var = np.var(arr)\n",
    "print('var: ', var)\n",
    "std = np.std(arr)\n",
    "print('std: ', std)\n",
    "se = np.std(arr ,ddof=1) / np.sqrt(len(arr))\n",
    "print('se: ', se)\n",
    "\n",
    "#This changes my choice of variance estimation methods to standard deviation,\n",
    "#since it is essentially normalized and represents a more reasonable value"
   ]
  },
  {
   "cell_type": "code",
   "execution_count": null,
   "metadata": {
    "collapsed": true
   },
   "outputs": [],
   "source": [
    "#Based on the magazine poll numbers, I would estimate that roughly 20% of\n",
    "#adult Americans were fans of the show, since I would put much more weight\n",
    "#on the polling from the three TV and entertainment-related magazines. The\n",
    "#sci fi magazine, I imagine, would have lower readership than the other three,\n",
    "#so it would not be as representative of the overall population."
   ]
  }
 ],
 "metadata": {
  "kernelspec": {
   "display_name": "Python 3",
   "language": "python",
   "name": "python3"
  },
  "language_info": {
   "codemirror_mode": {
    "name": "ipython",
    "version": 3
   },
   "file_extension": ".py",
   "mimetype": "text/x-python",
   "name": "python",
   "nbconvert_exporter": "python",
   "pygments_lexer": "ipython3",
   "version": "3.6.5"
  }
 },
 "nbformat": 4,
 "nbformat_minor": 2
}
