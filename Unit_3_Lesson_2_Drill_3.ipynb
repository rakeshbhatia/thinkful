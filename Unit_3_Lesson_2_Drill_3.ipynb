{
 "cells": [
  {
   "cell_type": "code",
   "execution_count": 1,
   "metadata": {
    "collapsed": true
   },
   "outputs": [],
   "source": [
    "#Question 1\n",
    "#The question should be adjusted to the following instead:\n",
    "#What are the popular neighborhoods for AirBnB in Amsterdam?\n",
    "\n",
    "#Question 2\n",
    "#The analysis should be adjusted by changing the date of the analysis.\n",
    "#Collecting mental health data on September 12, 2001, which was only\n",
    "#one day after the September 11 attacks on the Twin Towers, will\n",
    "#undoubtedly result in skewed data for mental health services. The\n",
    "#date should be adjusted so that it is not in the vicinity of a\n",
    "#drastic disaster or other event like 9/11.\n",
    "\n",
    "#Question 3\n",
    "#The data is dominated by that taken from students, so it seems like\n",
    "#the pubs that were sampled were located in close proximity to a college\n",
    "#or university. The data needs to be more randomized, i.e. taken from a\n",
    "#variety of pubs in Armenia that are located in a variety of different\n",
    "#locations."
   ]
  }
 ],
 "metadata": {
  "kernelspec": {
   "display_name": "Python 3",
   "language": "python",
   "name": "python3"
  },
  "language_info": {
   "codemirror_mode": {
    "name": "ipython",
    "version": 3
   },
   "file_extension": ".py",
   "mimetype": "text/x-python",
   "name": "python",
   "nbconvert_exporter": "python",
   "pygments_lexer": "ipython3",
   "version": "3.6.5"
  }
 },
 "nbformat": 4,
 "nbformat_minor": 2
}
