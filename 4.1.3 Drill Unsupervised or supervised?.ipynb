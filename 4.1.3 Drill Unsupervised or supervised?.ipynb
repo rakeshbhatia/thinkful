{
 "cells": [
  {
   "cell_type": "markdown",
   "metadata": {},
   "source": [
    "# **Drill: Unsupervised or supervised?**"
   ]
  },
  {
   "cell_type": "markdown",
   "metadata": {},
   "source": [
    "For each of these scenarios decide if you could use supervised or unsupervised techniques, or both!\n",
    "\n",
    "1. Define the likelihood that an individual will contract a specific disease: supervised\n",
    "\n",
    "2. Translate a set of images into variables for modeling: unsupervised\n",
    "\n",
    "3. An ecommerce company wants to identify power users: both\n",
    "\n",
    "4. That same company wants to see shopping patterns in users: unsupervised\n",
    "\n",
    "5. You want to reduce the number of variables inputting into your random forest model: supervised"
   ]
  },
  {
   "cell_type": "code",
   "execution_count": null,
   "metadata": {
    "collapsed": true
   },
   "outputs": [],
   "source": []
  }
 ],
 "metadata": {
  "kernelspec": {
   "display_name": "Python 3",
   "language": "python",
   "name": "python3"
  },
  "language_info": {
   "codemirror_mode": {
    "name": "ipython",
    "version": 3
   },
   "file_extension": ".py",
   "mimetype": "text/x-python",
   "name": "python",
   "nbconvert_exporter": "python",
   "pygments_lexer": "ipython3",
   "version": "3.6.7"
  }
 },
 "nbformat": 4,
 "nbformat_minor": 2
}
