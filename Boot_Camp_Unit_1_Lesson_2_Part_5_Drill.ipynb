{
 "cells": [
  {
   "cell_type": "code",
   "execution_count": null,
   "metadata": {
    "collapsed": true
   },
   "outputs": [],
   "source": [
    "WITH \n",
    "    rainy\n",
    "AS (\n",
    "SELECT\n",
    "    DATE(date) rain_date\n",
    "FROM weather\n",
    "WHERE events LIKE 'Rain'\n",
    "GROUP BY 1\n",
    ")\n",
    "SELECT\n",
    "    trip.trip_id,\n",
    "    trip.duration,\n",
    "DATE(trip.start_date)\n",
    "FROM trips trip\n",
    "JOIN rainy rain\n",
    "on DATE(trip.start_date) = rain.rain_date\n",
    "ORDER BY duration DESC"
   ]
  },
  {
   "cell_type": "code",
   "execution_count": null,
   "metadata": {
    "collapsed": true
   },
   "outputs": [],
   "source": [
    "SELECT\n",
    "    status.station_id,\n",
    "    COUNT(*) visit_count\n",
    "FROM status\n",
    "WHERE docks_available = 0\n",
    "GROUP BY 1\n",
    "ORDER BY visit_count DESC\n",
    "LIMIT 1"
   ]
  },
  {
   "cell_type": "code",
   "execution_count": null,
   "metadata": {
    "collapsed": true
   },
   "outputs": [],
   "source": [
    "SELECT\n",
    "    trips.start_station,\n",
    "    stations.dockcount,\n",
    "    COUNT(*) AS trip_count\n",
    "FROM trips\n",
    "JOIN stations\n",
    "ON stations.name = trips.start_station\n",
    "GROUP BY 1, 2\n",
    "ORDER BY 2 DESC"
   ]
  },
  {
   "cell_type": "code",
   "execution_count": null,
   "metadata": {
    "collapsed": true
   },
   "outputs": [],
   "source": [
    "WITH\n",
    "    rainy\n",
    "AS (\n",
    "SELECT\n",
    "    DATE(date) rainy_date\n",
    "FROM weather\n",
    "WHERE events LIKE 'Rain'\n",
    "GROUP BY 1\n",
    "),\n",
    "rainy_trips AS (\n",
    "SELECT\n",
    "    trip_id,\n",
    "    duration,\n",
    "    DATE(trips.start_date) rainy_date\n",
    "FROM trips\n",
    "JOIN rainy\n",
    "ON rainy.rainy_date = DATE(trips.start_date)\n",
    "ORDER BY 2 DESC\n",
    ")\n",
    "SELECT\n",
    "    rainy_date,\n",
    "    MAX(duration) longest_trip_length\n",
    "FROM rainy_trips\n",
    "GROUP BY 1\n",
    "ORDER BY 2 DESC"
   ]
  }
 ],
 "metadata": {
  "kernelspec": {
   "display_name": "Python 3",
   "language": "python",
   "name": "python3"
  },
  "language_info": {
   "codemirror_mode": {
    "name": "ipython",
    "version": 3
   },
   "file_extension": ".py",
   "mimetype": "text/x-python",
   "name": "python",
   "nbconvert_exporter": "python",
   "pygments_lexer": "ipython3",
   "version": "3.6.5"
  }
 },
 "nbformat": 4,
 "nbformat_minor": 2
}
