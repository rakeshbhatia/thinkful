{
 "cells": [
  {
   "cell_type": "markdown",
   "metadata": {},
   "source": [
    "SELECT\n",
    "\tname,\n",
    "\tprice,\n",
    "\troom_type,\n",
    "\tneighbourhood\n",
    "FROM\n",
    "\tsfo_listings\n",
    "GROUP BY 1, 2, 3, 4\n",
    "ORDER BY 2 DESC\n",
    "\n",
    "The most expensive listing is NobHill Penthouse-Top View&Location priced at $9000/night.\n",
    "The room type for this listing is Entire home/apt.\n",
    "The neighborhood for this listing is Nob Hill."
   ]
  },
  {
   "cell_type": "markdown",
   "metadata": {},
   "source": [
    "SELECT\n",
    "\tneighbourhood,\n",
    "\treviews_per_month\n",
    "FROM sfo_listings\n",
    "GROUP BY 1, 2\n",
    "ORDER BY 2 DESC\n",
    "\n",
    "The top five most popular neighborhoods, based on reviews per month, are:\n",
    "    -Outer Richmond\n",
    "    -Excelsior\n",
    "    -Outer Sunset\n",
    "    -Downtown/Civic Center\n",
    "    -South of Market"
   ]
  },
  {
   "cell_type": "markdown",
   "metadata": {},
   "source": [
    "SELECT\n",
    "\tlast_review,\n",
    "\tname,\n",
    "\tsfo_listings.price\n",
    "FROM sfo_listings\n",
    "JOIN sfo_calendar\n",
    "ON sfo_listings.id = sfo_calendar.listing_id\n",
    "GROUP BY 1, 2, 3\n",
    "ORDER BY 3, 1 DESC\n",
    "\n",
    "The cheapest time to visit San Francisco appears to be during July or August.\n",
    "\n",
    "SELECT\n",
    "\tavailable,\n",
    "\tcalendar_date,\n",
    "\tCOUNT(available) as rooms_available\n",
    "FROM sfo_calendar\n",
    "WHERE available = 'f'\n",
    "GROUP BY 1, 2\n",
    "ORDER BY 3\n",
    "\n",
    "Based on the dates where the least number of rooms were available, we can see \n",
    "that the busiest time period appears to be during the holiday season, from\n",
    "November to February."
   ]
  }
 ],
 "metadata": {
  "kernelspec": {
   "display_name": "Python 3",
   "language": "python",
   "name": "python3"
  },
  "language_info": {
   "codemirror_mode": {
    "name": "ipython",
    "version": 3
   },
   "file_extension": ".py",
   "mimetype": "text/x-python",
   "name": "python",
   "nbconvert_exporter": "python",
   "pygments_lexer": "ipython3",
   "version": "3.6.5"
  }
 },
 "nbformat": 4,
 "nbformat_minor": 2
}
