{
 "cells": [
  {
   "cell_type": "code",
   "execution_count": 5,
   "metadata": {
    "collapsed": true
   },
   "outputs": [],
   "source": [
    "import math\n",
    "import statistics\n",
    "import pandas as pd\n",
    "import numpy as np\n",
    "import matplotlib.pyplot as plt\n",
    "%matplotlib inline"
   ]
  },
  {
   "cell_type": "code",
   "execution_count": 6,
   "metadata": {},
   "outputs": [
    {
     "name": "stdout",
     "output_type": "stream",
     "text": [
      "0.1044\n",
      "0.19758064516129029\n",
      "0.9994419642857143\n",
      "0.09960000000000002\n"
     ]
    }
   ],
   "source": [
    "#Question 1\n",
    "positive_diag = 0.005*0.98+0.995*0.1\n",
    "print(positive_diag)\n",
    "\n",
    "#Question 2\n",
    "correct_pos_diag = (0.98*0.005)/(0.98*0.005+0.02*0.995)\n",
    "print(correct_pos_diag)\n",
    "\n",
    "#Question 3\n",
    "correct_neg_diag = (0.90*0.995)/(0.90*0.995+0.10*0.005)\n",
    "print(correct_neg_diag)\n",
    "\n",
    "#Question 4\n",
    "prob_misclassify = 1 - (0.005*0.98+0.995*0.9)\n",
    "print(prob_misclassify)"
   ]
  }
 ],
 "metadata": {
  "kernelspec": {
   "display_name": "Python 3",
   "language": "python",
   "name": "python3"
  },
  "language_info": {
   "codemirror_mode": {
    "name": "ipython",
    "version": 3
   },
   "file_extension": ".py",
   "mimetype": "text/x-python",
   "name": "python",
   "nbconvert_exporter": "python",
   "pygments_lexer": "ipython3",
   "version": "3.6.5"
  }
 },
 "nbformat": 4,
 "nbformat_minor": 2
}
