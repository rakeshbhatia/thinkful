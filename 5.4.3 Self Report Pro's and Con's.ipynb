{
 "cells": [
  {
   "cell_type": "markdown",
   "metadata": {},
   "source": [
    "# DRILL: When to use surveys\n",
    "\n",
    "### Popularity of various Uber drivers.\n",
    "\n",
    "Yes\n",
    "\n",
    "### A grocery store wants to know how much people like strawberry, chocolate, and vanilla ice cream. \n",
    "\n",
    "Yes\n",
    "\n",
    "### Trojan wants to know whether their condoms are more popular among straight people or gay people.\n",
    "\n",
    "Yes\n",
    "\n",
    "### Recently, rental rates for HappyCars have increased by 30%, which is quite unusual. You want to find out why this is happening and how to keep the increase going.\n",
    "\n",
    "No\n",
    "\n",
    "### Assessing the success rate of a new advertising campaign.\n",
    "\n",
    "No\n",
    "\n",
    "### Measuring the effect of nurse/patient ratio on patient recovery rates in hospital wards.\n",
    "\n",
    "No"
   ]
  }
 ],
 "metadata": {
  "kernelspec": {
   "display_name": "Python 3",
   "language": "python",
   "name": "python3"
  },
  "language_info": {
   "codemirror_mode": {
    "name": "ipython",
    "version": 3
   },
   "file_extension": ".py",
   "mimetype": "text/x-python",
   "name": "python",
   "nbconvert_exporter": "python",
   "pygments_lexer": "ipython3",
   "version": "3.6.7"
  }
 },
 "nbformat": 4,
 "nbformat_minor": 2
}
