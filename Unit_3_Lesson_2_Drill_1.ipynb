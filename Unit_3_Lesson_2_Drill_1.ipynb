{
 "cells": [
  {
   "cell_type": "code",
   "execution_count": null,
   "metadata": {
    "collapsed": true
   },
   "outputs": [],
   "source": [
    "import math\n",
    "import statistics\n",
    "import pandas as pd\n",
    "import numpy as np\n",
    "import matplotlib.pyplot as plt\n",
    "%matplotlib inline"
   ]
  },
  {
   "cell_type": "code",
   "execution_count": null,
   "metadata": {
    "collapsed": true
   },
   "outputs": [],
   "source": [
    "#Question 1\n",
    "prob = 0.5**4\n",
    "print(prob)\n",
    "\n",
    "#Question 2\n",
    "prob = 1-(21/45)\n",
    "print(prob)\n",
    "\n",
    "#Question 3\n",
    "prob = 0.1*0.005\n",
    "print(prob)\n",
    "\n",
    "#Question 4\n",
    "#If a user completes a survey, then it inflates the amount of time\n",
    "#that user spends on the website, when in fact that extra time should\n",
    "#be filtered out."
   ]
  }
 ],
 "metadata": {
  "kernelspec": {
   "display_name": "Python 3",
   "language": "python",
   "name": "python3"
  },
  "language_info": {
   "codemirror_mode": {
    "name": "ipython",
    "version": 3
   },
   "file_extension": ".py",
   "mimetype": "text/x-python",
   "name": "python",
   "nbconvert_exporter": "python",
   "pygments_lexer": "ipython3",
   "version": "3.6.5"
  }
 },
 "nbformat": 4,
 "nbformat_minor": 2
}
