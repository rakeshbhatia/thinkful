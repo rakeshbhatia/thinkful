{
 "cells": [
  {
   "cell_type": "markdown",
   "metadata": {},
   "source": [
    "# **Does a new supplement help people sleep better?**"
   ]
  },
  {
   "cell_type": "markdown",
   "metadata": {},
   "source": [
    "**Two versions**\n",
    "\n",
    "-Test: people taking the supplement\n",
    "\n",
    "-Control: people not taking the supplement\n",
    "\n",
    "**Sample**\n",
    "\n",
    "-Our sample consists of a large population of randomly selected people from all ages and backgrounds\n",
    "\n",
    "**Hypothesis**\n",
    "\n",
    "-The supplement helps people sleep 20% longer\n",
    "\n",
    "**Outcomes**\n",
    "\n",
    "-Key metric: sleep time\n",
    "\n",
    "-Way to measure: use a personal health monitoring device, such as Fitbit\n",
    "\n",
    "**Other variables**\n",
    "\n",
    "-Time when people go to sleep (e.g. do they sleep earlier than before?)\n",
    "\n",
    "-Time when people wake up\n",
    "\n",
    "-How much deep sleep did people get on the supplement"
   ]
  },
  {
   "cell_type": "markdown",
   "metadata": {},
   "source": [
    "# **Will new uniforms help a gym's business?**"
   ]
  },
  {
   "cell_type": "markdown",
   "metadata": {},
   "source": [
    "**Two versions**\n",
    "\n",
    "-Test: new uniform\n",
    "\n",
    "-Control: old uniform\n",
    "\n",
    "**Sample**\n",
    "\n",
    "-Sampling should focus on a set of gyms serving a particular region\n",
    "\n",
    "-Gym staff for a subset of these gyms will wear the new uniforms\n",
    "\n",
    "-Gym staff for the remaining gyms will continue wearing the old uniforms\n",
    "\n",
    "**Hypothesis**\n",
    "\n",
    "-The new uniforms will have little to no change on overall profits.\n",
    "\n",
    "**Outcomes**\n",
    "\n",
    "-Key metric: change in profits\n",
    "\n",
    "-Way to measure: calculate change in profits for a specified period after employees start using new uniforms.\n",
    "\n",
    "**Other variables**\n",
    "\n",
    "-Increase/decrease in new membership signups\n",
    "\n",
    "-Qualitative inputs from employees wearing the new uniforms"
   ]
  },
  {
   "cell_type": "markdown",
   "metadata": {},
   "source": [
    "# **Will a new homepage improve my online exotic pet rental business?**"
   ]
  },
  {
   "cell_type": "markdown",
   "metadata": {},
   "source": [
    "**Two versions**\n",
    "\n",
    "-Test: new homepage\n",
    "\n",
    "-Control: old homepage\n",
    "\n",
    "**Sample**\n",
    "\n",
    "-A large subset of randomly selected people are given a link to the old homepage\n",
    "\n",
    "-A large subset of randomly selected people are given a link to the new homepage\n",
    "\n",
    "**Hypothesis**\n",
    "\n",
    "-The new homepage will lead to a 10% increase in profits.\n",
    "\n",
    "**Outcomes**\n",
    "\n",
    "-Key metric: change in profits\n",
    "\n",
    "-Way to measure: calculate any difference in profits between the old homepage and new homepage\n",
    "\n",
    "**Other variables**\n",
    "\n",
    "-Amount of products purchased by each user for each homepage\n",
    "\n",
    "-Number of new account signups for each homepage (assuming an account is required to make purchases)"
   ]
  },
  {
   "cell_type": "markdown",
   "metadata": {},
   "source": [
    "# **If I put 'please read' in the email subject will more people read my emails?**"
   ]
  },
  {
   "cell_type": "markdown",
   "metadata": {},
   "source": [
    "**Two versions**\n",
    "\n",
    "-Test: email with \"please read\" in subject\n",
    "\n",
    "-Control: email without \"please read\" in subject\n",
    "\n",
    "**Sample**\n",
    "\n",
    "-Send the old email to a large group of people\n",
    "\n",
    "-Send the new email to another large group of people\n",
    "\n",
    "**Hypothesis**\n",
    "\n",
    "-The new email will lead to a 20% increase in opened emails\n",
    "\n",
    "**Outcomes**\n",
    "\n",
    "-Key metric: amount of emails opened\n",
    "\n",
    "-Way to measure: use a software tool to check whether the email was opened or not\n",
    "\n",
    "**Other variables**\n",
    "\n",
    "-Amount of time email was kept open\n",
    "\n",
    "-Total number of times email was viewed by each user"
   ]
  }
 ],
 "metadata": {
  "kernelspec": {
   "display_name": "Python 3",
   "language": "python",
   "name": "python3"
  },
  "language_info": {
   "codemirror_mode": {
    "name": "ipython",
    "version": 3
   },
   "file_extension": ".py",
   "mimetype": "text/x-python",
   "name": "python",
   "nbconvert_exporter": "python",
   "pygments_lexer": "ipython3",
   "version": "3.6.5"
  }
 },
 "nbformat": 4,
 "nbformat_minor": 2
}
