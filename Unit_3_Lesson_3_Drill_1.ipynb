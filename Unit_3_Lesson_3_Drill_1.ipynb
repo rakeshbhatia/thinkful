{
 "cells": [
  {
   "cell_type": "code",
   "execution_count": 17,
   "metadata": {
    "collapsed": true
   },
   "outputs": [],
   "source": [
    "import math\n",
    "import statistics\n",
    "import pandas as pd\n",
    "import numpy as np\n",
    "import matplotlib.pyplot as plt\n",
    "%matplotlib inline"
   ]
  },
  {
   "cell_type": "code",
   "execution_count": 18,
   "metadata": {},
   "outputs": [
    {
     "name": "stdout",
     "output_type": "stream",
     "text": [
      "[28 30 31 31 31 31 32 32 32 33 33 33 33 33 33 34 34 35 35 35 35 35 35 36 36\n",
      " 36 36 36 36 36 36 36 36 36 36 36 36 36 36 37 37 37 37 37 37 37 37 37 37 37\n",
      " 37 37 37 37 37 38 38 38 38 38 38 38 38 38 39 39 39 39 39 39 39 39 39 39 39\n",
      " 39 39 39 39 40 40 40 40 40 40 40 40 40 41 41 41 41 42 42 42 43 43 43 43 45]\n"
     ]
    },
    {
     "data": {
      "image/png": "[encoded data removed]",
      "text/plain": [
       "<Figure size 432x288 with 1 Axes>"
      ]
     },
     "metadata": {},
     "output_type": "display_data"
    }
   ],
   "source": [
    "binomial = np.random.binomial(50, .75, 100)\n",
    "binomial.sort()\n",
    "print(binomial)\n",
    "\n",
    "plt.hist(binomial, color='c')\n",
    "\n",
    "plt.axvline(binomial.mean(), color='b', linestyle='solid', linewidth=2)\n",
    "\n",
    "plt.axvline(binomial.mean() + binomial.std(), color='b', linestyle='dashed', linewidth=2)\n",
    "\n",
    "plt.axvline(binomial.mean()-binomial.std(), color='b', linestyle='dashed', linewidth=2) \n",
    "\n",
    "plt.show()\n",
    "\n",
    "#The mean does provide a little bit of useful information about the variable. \n",
    "#The variable appears to be centered around a value of 38, which is close to\n",
    "#the mean plotted below. However, the standard deviation will not provide much\n",
    "#insight, because the distribution is asymmetric and not equally distributed on\n",
    "#each side of the mean.\n"
   ]
  }
 ],
 "metadata": {
  "kernelspec": {
   "display_name": "Python 3",
   "language": "python",
   "name": "python3"
  },
  "language_info": {
   "codemirror_mode": {
    "name": "ipython",
    "version": 3
   },
   "file_extension": ".py",
   "mimetype": "text/x-python",
   "name": "python",
   "nbconvert_exporter": "python",
   "pygments_lexer": "ipython3",
   "version": "3.6.5"
  }
 },
 "nbformat": 4,
 "nbformat_minor": 2
}
