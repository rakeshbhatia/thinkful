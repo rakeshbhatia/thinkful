{
 "cells": [
  {
   "cell_type": "markdown",
   "metadata": {},
   "source": [
    "# Capstone project\n",
    "\n",
    "For this project you'll dig into a large amount of text and apply most of what you've covered in this unit and in the course so far.\n",
    "\n",
    "First, pick a set of texts. This can be either a series of novels, chapters, or articles. Anything you'd like. It just has to have multiple entries of varying characteristics. At least 100 should be good. There should also be at least 10 different authors, but try to keep the texts related (either all on the same topic of from the same branch of literature - something to make classification a bit more difficult than obviously different subjects).\n",
    "\n",
    "This capstone can be an extension of your NLP challenge if you wish to use the same corpus. If you found problems with that data set that limited your analysis, however, it may be worth using what you learned to choose a new corpus. Reserve 25% of your corpus as a test set.\n",
    "\n",
    "The first technique is to create a series of clusters. Try several techniques and pick the one you think best represents your data. Make sure there is a narrative and reasoning around why you have chosen the given clusters. Are authors consistently grouped into the same cluster?\n",
    "\n",
    "Next, perform some unsupervised feature generation and selection using the techniques covered in this unit and elsewhere in the course. Using those features then build models to attempt to classify your texts by author. Try different permutations of unsupervised and supervised techniques to see which combinations have the best performance.\n",
    "\n",
    "Lastly return to your holdout group. Does your clustering on those members perform as you'd expect? Have your clusters remained stable or changed dramatically? What about your model? Is it's performance consistent?\n",
    "\n",
    "If there is a divergence in the relative stability of your model and your clusters, delve into why.\n",
    "\n",
    "Your end result should be a write up of how clustering and modeling compare for classifying your texts. What are the advantages of each? Why would you want to use one over the other? Approximately 3-5 pages is a good length for your write up, and remember to include visuals to help tell your story!"
   ]
  },
  {
   "cell_type": "markdown",
   "metadata": {},
   "source": [
    "# Data cleaning / processing / language parsing"
   ]
  },
  {
   "cell_type": "markdown",
   "metadata": {},
   "source": [
    "For this capstone project we will be using a dataset of newspaper articles found on Kaggle, taken from a wide variety of news sources. We will choose a subset of text consisting of 200 articles, with 10 different authors. Each author's corpus will contain 20 articles.\n",
    "https://www.kaggle.com/snapcrack/all-the-news"
   ]
  },
  {
   "cell_type": "code",
   "execution_count": 1358,
   "metadata": {
    "scrolled": true
   },
   "outputs": [
    {
     "name": "stdout",
     "output_type": "stream",
     "text": [
      "Numpy version: 1.16.4\n",
      "Pandas version: 0.23.4\n",
      "Seaborn version: 0.9.0\n"
     ]
    }
   ],
   "source": [
    "%matplotlib inline\n",
    "import numpy as np\n",
    "import pandas as pd\n",
    "import scipy\n",
    "import sklearn\n",
    "import spacy\n",
    "import matplotlib.pyplot as plt\n",
    "import seaborn as sns\n",
    "import string\n",
    "import re\n",
    "import nltk\n",
    "import json\n",
    "from time import time\n",
    "from collections import Counter\n",
    "from sklearn import ensemble\n",
    "from sklearn.cluster import KMeans, MiniBatchKMeans, AffinityPropagation, SpectralClustering, MeanShift, estimate_bandwidth\n",
    "\n",
    "from sklearn.decomposition import PCA\n",
    "from sklearn.metrics import accuracy_score, classification_report, log_loss, make_scorer, normalized_mutual_info_score, adjusted_rand_score, homogeneity_score, silhouette_score\n",
    "from sklearn.model_selection import train_test_split, cross_val_score, cross_val_predict, StratifiedKFold, GridSearchCV\n",
    "from sklearn.linear_model import LogisticRegression\n",
    "from sklearn.ensemble import RandomForestClassifier\n",
    "from sklearn.preprocessing import LabelEncoder, label_binarize, normalize\n",
    "from sklearn.feature_extraction.text import CountVectorizer, TfidfVectorizer\n",
    "from nltk.corpus import stopwords\n",
    "from nltk.stem import WordNetLemmatizer\n",
    "from nltk.corpus import stopwords\n",
    "import scikitplot.plotters as skplt\n",
    "\n",
    "# import warnings filter\n",
    "from warnings import simplefilter\n",
    "\n",
    "# ignore all future warnings\n",
    "simplefilter(action='ignore', category=FutureWarning)\n",
    "simplefilter(action='ignore', category=UserWarning)\n",
    "simplefilter(action='ignore', category=DeprecationWarning)\n",
    "\n",
    "stopwords = stopwords.words('english')\n",
    "\n",
    "print('Numpy version:', np.__version__)\n",
    "print('Pandas version:', pd.__version__)\n",
    "print('Seaborn version:', sns.__version__)"
   ]
  },
  {
   "cell_type": "code",
   "execution_count": 1241,
   "metadata": {
    "scrolled": false
   },
   "outputs": [
    {
     "data": {
      "text/html": [
       "<div>\n",
       "<style scoped>\n",
       "    .dataframe tbody tr th:only-of-type {\n",
       "        vertical-align: middle;\n",
       "    }\n",
       "\n",
       "    .dataframe tbody tr th {\n",
       "        vertical-align: top;\n",
       "    }\n",
       "\n",
       "    .dataframe thead th {\n",
       "        text-align: right;\n",
       "    }\n",
       "</style>\n",
       "<table border=\"1\" class=\"dataframe\">\n",
       "  <thead>\n",
       "    <tr style=\"text-align: right;\">\n",
       "      <th></th>\n",
       "      <th>Unnamed: 0</th>\n",
       "      <th>id</th>\n",
       "      <th>title</th>\n",
       "      <th>publication</th>\n",
       "      <th>author</th>\n",
       "      <th>date</th>\n",
       "      <th>year</th>\n",
       "      <th>month</th>\n",
       "      <th>url</th>\n",
       "      <th>content</th>\n",
       "    </tr>\n",
       "  </thead>\n",
       "  <tbody>\n",
       "    <tr>\n",
       "      <th>0</th>\n",
       "      <td>0</td>\n",
       "      <td>17283</td>\n",
       "      <td>House Republicans Fret About Winning Their Hea...</td>\n",
       "      <td>New York Times</td>\n",
       "      <td>Carl Hulse</td>\n",
       "      <td>2016-12-31</td>\n",
       "      <td>2016.0</td>\n",
       "      <td>12.0</td>\n",
       "      <td>NaN</td>\n",
       "      <td>WASHINGTON  —   Congressional Republicans have...</td>\n",
       "    </tr>\n",
       "    <tr>\n",
       "      <th>1</th>\n",
       "      <td>1</td>\n",
       "      <td>17284</td>\n",
       "      <td>Rift Between Officers and Residents as Killing...</td>\n",
       "      <td>New York Times</td>\n",
       "      <td>Benjamin Mueller and Al Baker</td>\n",
       "      <td>2017-06-19</td>\n",
       "      <td>2017.0</td>\n",
       "      <td>6.0</td>\n",
       "      <td>NaN</td>\n",
       "      <td>After the bullet shells get counted, the blood...</td>\n",
       "    </tr>\n",
       "    <tr>\n",
       "      <th>2</th>\n",
       "      <td>2</td>\n",
       "      <td>17285</td>\n",
       "      <td>Tyrus Wong, ‘Bambi’ Artist Thwarted by Racial ...</td>\n",
       "      <td>New York Times</td>\n",
       "      <td>Margalit Fox</td>\n",
       "      <td>2017-01-06</td>\n",
       "      <td>2017.0</td>\n",
       "      <td>1.0</td>\n",
       "      <td>NaN</td>\n",
       "      <td>When Walt Disney’s “Bambi” opened in 1942, cri...</td>\n",
       "    </tr>\n",
       "    <tr>\n",
       "      <th>3</th>\n",
       "      <td>3</td>\n",
       "      <td>17286</td>\n",
       "      <td>Among Deaths in 2016, a Heavy Toll in Pop Musi...</td>\n",
       "      <td>New York Times</td>\n",
       "      <td>William McDonald</td>\n",
       "      <td>2017-04-10</td>\n",
       "      <td>2017.0</td>\n",
       "      <td>4.0</td>\n",
       "      <td>NaN</td>\n",
       "      <td>Death may be the great equalizer, but it isn’t...</td>\n",
       "    </tr>\n",
       "    <tr>\n",
       "      <th>4</th>\n",
       "      <td>4</td>\n",
       "      <td>17287</td>\n",
       "      <td>Kim Jong-un Says North Korea Is Preparing to T...</td>\n",
       "      <td>New York Times</td>\n",
       "      <td>Choe Sang-Hun</td>\n",
       "      <td>2017-01-02</td>\n",
       "      <td>2017.0</td>\n",
       "      <td>1.0</td>\n",
       "      <td>NaN</td>\n",
       "      <td>SEOUL, South Korea  —   North Korea’s leader, ...</td>\n",
       "    </tr>\n",
       "  </tbody>\n",
       "</table>\n",
       "</div>"
      ],
      "text/plain": [
       "   Unnamed: 0     id                                              title  \\\n",
       "0           0  17283  House Republicans Fret About Winning Their Hea...   \n",
       "1           1  17284  Rift Between Officers and Residents as Killing...   \n",
       "2           2  17285  Tyrus Wong, ‘Bambi’ Artist Thwarted by Racial ...   \n",
       "3           3  17286  Among Deaths in 2016, a Heavy Toll in Pop Musi...   \n",
       "4           4  17287  Kim Jong-un Says North Korea Is Preparing to T...   \n",
       "\n",
       "      publication                         author        date    year  month  \\\n",
       "0  New York Times                     Carl Hulse  2016-12-31  2016.0   12.0   \n",
       "1  New York Times  Benjamin Mueller and Al Baker  2017-06-19  2017.0    6.0   \n",
       "2  New York Times                   Margalit Fox  2017-01-06  2017.0    1.0   \n",
       "3  New York Times               William McDonald  2017-04-10  2017.0    4.0   \n",
       "4  New York Times                  Choe Sang-Hun  2017-01-02  2017.0    1.0   \n",
       "\n",
       "   url                                            content  \n",
       "0  NaN  WASHINGTON  —   Congressional Republicans have...  \n",
       "1  NaN  After the bullet shells get counted, the blood...  \n",
       "2  NaN  When Walt Disney’s “Bambi” opened in 1942, cri...  \n",
       "3  NaN  Death may be the great equalizer, but it isn’t...  \n",
       "4  NaN  SEOUL, South Korea  —   North Korea’s leader, ...  "
      ]
     },
     "execution_count": 1241,
     "metadata": {},
     "output_type": "execute_result"
    }
   ],
   "source": [
    "df = pd.read_csv('datasets/all-the-news/articles1.csv')\n",
    "df.head()"
   ]
  },
  {
   "cell_type": "code",
   "execution_count": 1242,
   "metadata": {},
   "outputs": [
    {
     "data": {
      "text/plain": [
       "Unnamed: 0         0\n",
       "id                 0\n",
       "title              0\n",
       "publication        0\n",
       "author          6306\n",
       "date               0\n",
       "year               0\n",
       "month              0\n",
       "url            50000\n",
       "content            0\n",
       "dtype: int64"
      ]
     },
     "execution_count": 1242,
     "metadata": {},
     "output_type": "execute_result"
    }
   ],
   "source": [
    "df.isnull().sum()"
   ]
  },
  {
   "cell_type": "code",
   "execution_count": 1243,
   "metadata": {},
   "outputs": [
    {
     "data": {
      "text/html": [
       "<div>\n",
       "<style scoped>\n",
       "    .dataframe tbody tr th:only-of-type {\n",
       "        vertical-align: middle;\n",
       "    }\n",
       "\n",
       "    .dataframe tbody tr th {\n",
       "        vertical-align: top;\n",
       "    }\n",
       "\n",
       "    .dataframe thead th {\n",
       "        text-align: right;\n",
       "    }\n",
       "</style>\n",
       "<table border=\"1\" class=\"dataframe\">\n",
       "  <thead>\n",
       "    <tr style=\"text-align: right;\">\n",
       "      <th></th>\n",
       "      <th>id</th>\n",
       "      <th>title</th>\n",
       "      <th>publication</th>\n",
       "      <th>author</th>\n",
       "      <th>date</th>\n",
       "      <th>year</th>\n",
       "      <th>month</th>\n",
       "      <th>content</th>\n",
       "    </tr>\n",
       "  </thead>\n",
       "  <tbody>\n",
       "    <tr>\n",
       "      <th>0</th>\n",
       "      <td>17283</td>\n",
       "      <td>House Republicans Fret About Winning Their Hea...</td>\n",
       "      <td>New York Times</td>\n",
       "      <td>Carl Hulse</td>\n",
       "      <td>2016-12-31</td>\n",
       "      <td>2016.0</td>\n",
       "      <td>12.0</td>\n",
       "      <td>WASHINGTON  —   Congressional Republicans have...</td>\n",
       "    </tr>\n",
       "    <tr>\n",
       "      <th>1</th>\n",
       "      <td>17284</td>\n",
       "      <td>Rift Between Officers and Residents as Killing...</td>\n",
       "      <td>New York Times</td>\n",
       "      <td>Benjamin Mueller and Al Baker</td>\n",
       "      <td>2017-06-19</td>\n",
       "      <td>2017.0</td>\n",
       "      <td>6.0</td>\n",
       "      <td>After the bullet shells get counted, the blood...</td>\n",
       "    </tr>\n",
       "    <tr>\n",
       "      <th>2</th>\n",
       "      <td>17285</td>\n",
       "      <td>Tyrus Wong, ‘Bambi’ Artist Thwarted by Racial ...</td>\n",
       "      <td>New York Times</td>\n",
       "      <td>Margalit Fox</td>\n",
       "      <td>2017-01-06</td>\n",
       "      <td>2017.0</td>\n",
       "      <td>1.0</td>\n",
       "      <td>When Walt Disney’s “Bambi” opened in 1942, cri...</td>\n",
       "    </tr>\n",
       "    <tr>\n",
       "      <th>3</th>\n",
       "      <td>17286</td>\n",
       "      <td>Among Deaths in 2016, a Heavy Toll in Pop Musi...</td>\n",
       "      <td>New York Times</td>\n",
       "      <td>William McDonald</td>\n",
       "      <td>2017-04-10</td>\n",
       "      <td>2017.0</td>\n",
       "      <td>4.0</td>\n",
       "      <td>Death may be the great equalizer, but it isn’t...</td>\n",
       "    </tr>\n",
       "    <tr>\n",
       "      <th>4</th>\n",
       "      <td>17287</td>\n",
       "      <td>Kim Jong-un Says North Korea Is Preparing to T...</td>\n",
       "      <td>New York Times</td>\n",
       "      <td>Choe Sang-Hun</td>\n",
       "      <td>2017-01-02</td>\n",
       "      <td>2017.0</td>\n",
       "      <td>1.0</td>\n",
       "      <td>SEOUL, South Korea  —   North Korea’s leader, ...</td>\n",
       "    </tr>\n",
       "  </tbody>\n",
       "</table>\n",
       "</div>"
      ],
      "text/plain": [
       "      id                                              title     publication  \\\n",
       "0  17283  House Republicans Fret About Winning Their Hea...  New York Times   \n",
       "1  17284  Rift Between Officers and Residents as Killing...  New York Times   \n",
       "2  17285  Tyrus Wong, ‘Bambi’ Artist Thwarted by Racial ...  New York Times   \n",
       "3  17286  Among Deaths in 2016, a Heavy Toll in Pop Musi...  New York Times   \n",
       "4  17287  Kim Jong-un Says North Korea Is Preparing to T...  New York Times   \n",
       "\n",
       "                          author        date    year  month  \\\n",
       "0                     Carl Hulse  2016-12-31  2016.0   12.0   \n",
       "1  Benjamin Mueller and Al Baker  2017-06-19  2017.0    6.0   \n",
       "2                   Margalit Fox  2017-01-06  2017.0    1.0   \n",
       "3               William McDonald  2017-04-10  2017.0    4.0   \n",
       "4                  Choe Sang-Hun  2017-01-02  2017.0    1.0   \n",
       "\n",
       "                                             content  \n",
       "0  WASHINGTON  —   Congressional Republicans have...  \n",
       "1  After the bullet shells get counted, the blood...  \n",
       "2  When Walt Disney’s “Bambi” opened in 1942, cri...  \n",
       "3  Death may be the great equalizer, but it isn’t...  \n",
       "4  SEOUL, South Korea  —   North Korea’s leader, ...  "
      ]
     },
     "execution_count": 1243,
     "metadata": {},
     "output_type": "execute_result"
    }
   ],
   "source": [
    "df = df.drop(['Unnamed: 0', 'url'], axis=1)\n",
    "df.head()"
   ]
  },
  {
   "cell_type": "code",
   "execution_count": 1244,
   "metadata": {},
   "outputs": [
    {
     "data": {
      "text/plain": [
       "id                0\n",
       "title             0\n",
       "publication       0\n",
       "author         6306\n",
       "date              0\n",
       "year              0\n",
       "month             0\n",
       "content           0\n",
       "dtype: int64"
      ]
     },
     "execution_count": 1244,
     "metadata": {},
     "output_type": "execute_result"
    }
   ],
   "source": [
    "df.isnull().sum()"
   ]
  },
  {
   "cell_type": "code",
   "execution_count": 1245,
   "metadata": {
    "scrolled": true
   },
   "outputs": [
    {
     "data": {
      "text/html": [
       "<div>\n",
       "<style scoped>\n",
       "    .dataframe tbody tr th:only-of-type {\n",
       "        vertical-align: middle;\n",
       "    }\n",
       "\n",
       "    .dataframe tbody tr th {\n",
       "        vertical-align: top;\n",
       "    }\n",
       "\n",
       "    .dataframe thead th {\n",
       "        text-align: right;\n",
       "    }\n",
       "</style>\n",
       "<table border=\"1\" class=\"dataframe\">\n",
       "  <thead>\n",
       "    <tr style=\"text-align: right;\">\n",
       "      <th></th>\n",
       "      <th>id</th>\n",
       "      <th>title</th>\n",
       "      <th>publication</th>\n",
       "      <th>author</th>\n",
       "      <th>date</th>\n",
       "      <th>year</th>\n",
       "      <th>month</th>\n",
       "      <th>content</th>\n",
       "    </tr>\n",
       "  </thead>\n",
       "  <tbody>\n",
       "    <tr>\n",
       "      <th>0</th>\n",
       "      <td>17283</td>\n",
       "      <td>House Republicans Fret About Winning Their Hea...</td>\n",
       "      <td>New York Times</td>\n",
       "      <td>Carl Hulse</td>\n",
       "      <td>2016-12-31</td>\n",
       "      <td>2016.0</td>\n",
       "      <td>12.0</td>\n",
       "      <td>WASHINGTON  —   Congressional Republicans have...</td>\n",
       "    </tr>\n",
       "    <tr>\n",
       "      <th>1</th>\n",
       "      <td>17284</td>\n",
       "      <td>Rift Between Officers and Residents as Killing...</td>\n",
       "      <td>New York Times</td>\n",
       "      <td>Benjamin Mueller and Al Baker</td>\n",
       "      <td>2017-06-19</td>\n",
       "      <td>2017.0</td>\n",
       "      <td>6.0</td>\n",
       "      <td>After the bullet shells get counted, the blood...</td>\n",
       "    </tr>\n",
       "    <tr>\n",
       "      <th>2</th>\n",
       "      <td>17285</td>\n",
       "      <td>Tyrus Wong, ‘Bambi’ Artist Thwarted by Racial ...</td>\n",
       "      <td>New York Times</td>\n",
       "      <td>Margalit Fox</td>\n",
       "      <td>2017-01-06</td>\n",
       "      <td>2017.0</td>\n",
       "      <td>1.0</td>\n",
       "      <td>When Walt Disney’s “Bambi” opened in 1942, cri...</td>\n",
       "    </tr>\n",
       "    <tr>\n",
       "      <th>3</th>\n",
       "      <td>17286</td>\n",
       "      <td>Among Deaths in 2016, a Heavy Toll in Pop Musi...</td>\n",
       "      <td>New York Times</td>\n",
       "      <td>William McDonald</td>\n",
       "      <td>2017-04-10</td>\n",
       "      <td>2017.0</td>\n",
       "      <td>4.0</td>\n",
       "      <td>Death may be the great equalizer, but it isn’t...</td>\n",
       "    </tr>\n",
       "    <tr>\n",
       "      <th>4</th>\n",
       "      <td>17287</td>\n",
       "      <td>Kim Jong-un Says North Korea Is Preparing to T...</td>\n",
       "      <td>New York Times</td>\n",
       "      <td>Choe Sang-Hun</td>\n",
       "      <td>2017-01-02</td>\n",
       "      <td>2017.0</td>\n",
       "      <td>1.0</td>\n",
       "      <td>SEOUL, South Korea  —   North Korea’s leader, ...</td>\n",
       "    </tr>\n",
       "  </tbody>\n",
       "</table>\n",
       "</div>"
      ],
      "text/plain": [
       "      id                                              title     publication  \\\n",
       "0  17283  House Republicans Fret About Winning Their Hea...  New York Times   \n",
       "1  17284  Rift Between Officers and Residents as Killing...  New York Times   \n",
       "2  17285  Tyrus Wong, ‘Bambi’ Artist Thwarted by Racial ...  New York Times   \n",
       "3  17286  Among Deaths in 2016, a Heavy Toll in Pop Musi...  New York Times   \n",
       "4  17287  Kim Jong-un Says North Korea Is Preparing to T...  New York Times   \n",
       "\n",
       "                          author        date    year  month  \\\n",
       "0                     Carl Hulse  2016-12-31  2016.0   12.0   \n",
       "1  Benjamin Mueller and Al Baker  2017-06-19  2017.0    6.0   \n",
       "2                   Margalit Fox  2017-01-06  2017.0    1.0   \n",
       "3               William McDonald  2017-04-10  2017.0    4.0   \n",
       "4                  Choe Sang-Hun  2017-01-02  2017.0    1.0   \n",
       "\n",
       "                                             content  \n",
       "0  WASHINGTON  —   Congressional Republicans have...  \n",
       "1  After the bullet shells get counted, the blood...  \n",
       "2  When Walt Disney’s “Bambi” opened in 1942, cri...  \n",
       "3  Death may be the great equalizer, but it isn’t...  \n",
       "4  SEOUL, South Korea  —   North Korea’s leader, ...  "
      ]
     },
     "execution_count": 1245,
     "metadata": {},
     "output_type": "execute_result"
    }
   ],
   "source": [
    "df = df.dropna()\n",
    "df.head()"
   ]
  },
  {
   "cell_type": "code",
   "execution_count": 1246,
   "metadata": {
    "scrolled": true
   },
   "outputs": [
    {
     "data": {
      "text/plain": [
       "id             0\n",
       "title          0\n",
       "publication    0\n",
       "author         0\n",
       "date           0\n",
       "year           0\n",
       "month          0\n",
       "content        0\n",
       "dtype: int64"
      ]
     },
     "execution_count": 1246,
     "metadata": {},
     "output_type": "execute_result"
    }
   ],
   "source": [
    "df.isnull().sum()"
   ]
  },
  {
   "cell_type": "code",
   "execution_count": 1247,
   "metadata": {
    "scrolled": false
   },
   "outputs": [
    {
     "name": "stdout",
     "output_type": "stream",
     "text": [
      "Statistical Summary of Article Lengths\n",
      "count     43694.000000\n",
      "mean       3853.685197\n",
      "std        3894.493670\n",
      "min           1.000000\n",
      "25%        1672.000000\n",
      "50%        2810.500000\n",
      "75%        5046.750000\n",
      "max      149346.000000\n",
      "dtype: float64\n"
     ]
    },
    {
     "data": {
      "image/png": "[encoded data removed]",
      "text/plain": [
       "<Figure size 432x288 with 1 Axes>"
      ]
     },
     "metadata": {},
     "output_type": "display_data"
    },
    {
     "data": {
      "image/png": "[encoded data removed]",
      "text/plain": [
       "<Figure size 432x288 with 1 Axes>"
      ]
     },
     "metadata": {},
     "output_type": "display_data"
    },
    {
     "data": {
      "text/plain": [
       "0     5607\n",
       "1    27834\n",
       "2    14018\n",
       "3    12274\n",
       "4     4195\n",
       "dtype: int64"
      ]
     },
     "execution_count": 1247,
     "metadata": {},
     "output_type": "execute_result"
    }
   ],
   "source": [
    "lengths = pd.Series([len(x) for x in df.content])\n",
    "print('Statistical Summary of Article Lengths')\n",
    "print(lengths.describe())\n",
    "\n",
    "sns.distplot(lengths,kde=False)\n",
    "plt.title('Distribution of Article Lengths (All)')\n",
    "plt.show()\n",
    "sns.distplot(lengths[lengths < 10000], kde=False)\n",
    "plt.title('Distribution of Articles Lengths < 10,000 Characters')\n",
    "plt.show()\n",
    "lengths.head()"
   ]
  },
  {
   "cell_type": "code",
   "execution_count": 1248,
   "metadata": {},
   "outputs": [
    {
     "data": {
      "text/html": [
       "<div>\n",
       "<style scoped>\n",
       "    .dataframe tbody tr th:only-of-type {\n",
       "        vertical-align: middle;\n",
       "    }\n",
       "\n",
       "    .dataframe tbody tr th {\n",
       "        vertical-align: top;\n",
       "    }\n",
       "\n",
       "    .dataframe thead th {\n",
       "        text-align: right;\n",
       "    }\n",
       "</style>\n",
       "<table border=\"1\" class=\"dataframe\">\n",
       "  <thead>\n",
       "    <tr style=\"text-align: right;\">\n",
       "      <th></th>\n",
       "      <th>id</th>\n",
       "      <th>year</th>\n",
       "      <th>month</th>\n",
       "    </tr>\n",
       "  </thead>\n",
       "  <tbody>\n",
       "    <tr>\n",
       "      <th>count</th>\n",
       "      <td>43694.000000</td>\n",
       "      <td>43694.000000</td>\n",
       "      <td>43694.000000</td>\n",
       "    </tr>\n",
       "    <tr>\n",
       "      <th>mean</th>\n",
       "      <td>42122.658283</td>\n",
       "      <td>2016.314666</td>\n",
       "      <td>5.484895</td>\n",
       "    </tr>\n",
       "    <tr>\n",
       "      <th>std</th>\n",
       "      <td>15340.887303</td>\n",
       "      <td>0.563555</td>\n",
       "      <td>3.351943</td>\n",
       "    </tr>\n",
       "    <tr>\n",
       "      <th>min</th>\n",
       "      <td>17283.000000</td>\n",
       "      <td>2012.000000</td>\n",
       "      <td>1.000000</td>\n",
       "    </tr>\n",
       "    <tr>\n",
       "      <th>25%</th>\n",
       "      <td>29695.250000</td>\n",
       "      <td>2016.000000</td>\n",
       "      <td>3.000000</td>\n",
       "    </tr>\n",
       "    <tr>\n",
       "      <th>50%</th>\n",
       "      <td>40632.500000</td>\n",
       "      <td>2016.000000</td>\n",
       "      <td>5.000000</td>\n",
       "    </tr>\n",
       "    <tr>\n",
       "      <th>75%</th>\n",
       "      <td>52731.750000</td>\n",
       "      <td>2017.000000</td>\n",
       "      <td>8.000000</td>\n",
       "    </tr>\n",
       "    <tr>\n",
       "      <th>max</th>\n",
       "      <td>73469.000000</td>\n",
       "      <td>2017.000000</td>\n",
       "      <td>12.000000</td>\n",
       "    </tr>\n",
       "  </tbody>\n",
       "</table>\n",
       "</div>"
      ],
      "text/plain": [
       "                 id          year         month\n",
       "count  43694.000000  43694.000000  43694.000000\n",
       "mean   42122.658283   2016.314666      5.484895\n",
       "std    15340.887303      0.563555      3.351943\n",
       "min    17283.000000   2012.000000      1.000000\n",
       "25%    29695.250000   2016.000000      3.000000\n",
       "50%    40632.500000   2016.000000      5.000000\n",
       "75%    52731.750000   2017.000000      8.000000\n",
       "max    73469.000000   2017.000000     12.000000"
      ]
     },
     "execution_count": 1248,
     "metadata": {},
     "output_type": "execute_result"
    }
   ],
   "source": [
    "df.describe()"
   ]
  },
  {
   "cell_type": "code",
   "execution_count": 1249,
   "metadata": {},
   "outputs": [
    {
     "data": {
      "text/plain": [
       "count     43694.000000\n",
       "mean       3853.685197\n",
       "std        3894.493670\n",
       "min           1.000000\n",
       "25%        1672.000000\n",
       "50%        2810.500000\n",
       "75%        5046.750000\n",
       "max      149346.000000\n",
       "dtype: float64"
      ]
     },
     "execution_count": 1249,
     "metadata": {},
     "output_type": "execute_result"
    }
   ],
   "source": [
    "lengths.describe()"
   ]
  },
  {
   "cell_type": "code",
   "execution_count": 1250,
   "metadata": {
    "scrolled": false
   },
   "outputs": [
    {
     "data": {
      "text/html": [
       "<div>\n",
       "<style scoped>\n",
       "    .dataframe tbody tr th:only-of-type {\n",
       "        vertical-align: middle;\n",
       "    }\n",
       "\n",
       "    .dataframe tbody tr th {\n",
       "        vertical-align: top;\n",
       "    }\n",
       "\n",
       "    .dataframe thead th {\n",
       "        text-align: right;\n",
       "    }\n",
       "</style>\n",
       "<table border=\"1\" class=\"dataframe\">\n",
       "  <thead>\n",
       "    <tr style=\"text-align: right;\">\n",
       "      <th></th>\n",
       "      <th>id</th>\n",
       "      <th>title</th>\n",
       "      <th>publication</th>\n",
       "      <th>author</th>\n",
       "      <th>date</th>\n",
       "      <th>year</th>\n",
       "      <th>month</th>\n",
       "      <th>content</th>\n",
       "      <th>length</th>\n",
       "    </tr>\n",
       "  </thead>\n",
       "  <tbody>\n",
       "    <tr>\n",
       "      <th>0</th>\n",
       "      <td>17283</td>\n",
       "      <td>House Republicans Fret About Winning Their Hea...</td>\n",
       "      <td>New York Times</td>\n",
       "      <td>Carl Hulse</td>\n",
       "      <td>2016-12-31</td>\n",
       "      <td>2016.0</td>\n",
       "      <td>12.0</td>\n",
       "      <td>WASHINGTON  —   Congressional Republicans have...</td>\n",
       "      <td>5607.0</td>\n",
       "    </tr>\n",
       "    <tr>\n",
       "      <th>1</th>\n",
       "      <td>17284</td>\n",
       "      <td>Rift Between Officers and Residents as Killing...</td>\n",
       "      <td>New York Times</td>\n",
       "      <td>Benjamin Mueller and Al Baker</td>\n",
       "      <td>2017-06-19</td>\n",
       "      <td>2017.0</td>\n",
       "      <td>6.0</td>\n",
       "      <td>After the bullet shells get counted, the blood...</td>\n",
       "      <td>27834.0</td>\n",
       "    </tr>\n",
       "    <tr>\n",
       "      <th>2</th>\n",
       "      <td>17285</td>\n",
       "      <td>Tyrus Wong, ‘Bambi’ Artist Thwarted by Racial ...</td>\n",
       "      <td>New York Times</td>\n",
       "      <td>Margalit Fox</td>\n",
       "      <td>2017-01-06</td>\n",
       "      <td>2017.0</td>\n",
       "      <td>1.0</td>\n",
       "      <td>When Walt Disney’s “Bambi” opened in 1942, cri...</td>\n",
       "      <td>14018.0</td>\n",
       "    </tr>\n",
       "    <tr>\n",
       "      <th>3</th>\n",
       "      <td>17286</td>\n",
       "      <td>Among Deaths in 2016, a Heavy Toll in Pop Musi...</td>\n",
       "      <td>New York Times</td>\n",
       "      <td>William McDonald</td>\n",
       "      <td>2017-04-10</td>\n",
       "      <td>2017.0</td>\n",
       "      <td>4.0</td>\n",
       "      <td>Death may be the great equalizer, but it isn’t...</td>\n",
       "      <td>12274.0</td>\n",
       "    </tr>\n",
       "    <tr>\n",
       "      <th>4</th>\n",
       "      <td>17287</td>\n",
       "      <td>Kim Jong-un Says North Korea Is Preparing to T...</td>\n",
       "      <td>New York Times</td>\n",
       "      <td>Choe Sang-Hun</td>\n",
       "      <td>2017-01-02</td>\n",
       "      <td>2017.0</td>\n",
       "      <td>1.0</td>\n",
       "      <td>SEOUL, South Korea  —   North Korea’s leader, ...</td>\n",
       "      <td>4195.0</td>\n",
       "    </tr>\n",
       "  </tbody>\n",
       "</table>\n",
       "</div>"
      ],
      "text/plain": [
       "      id                                              title     publication  \\\n",
       "0  17283  House Republicans Fret About Winning Their Hea...  New York Times   \n",
       "1  17284  Rift Between Officers and Residents as Killing...  New York Times   \n",
       "2  17285  Tyrus Wong, ‘Bambi’ Artist Thwarted by Racial ...  New York Times   \n",
       "3  17286  Among Deaths in 2016, a Heavy Toll in Pop Musi...  New York Times   \n",
       "4  17287  Kim Jong-un Says North Korea Is Preparing to T...  New York Times   \n",
       "\n",
       "                          author        date    year  month  \\\n",
       "0                     Carl Hulse  2016-12-31  2016.0   12.0   \n",
       "1  Benjamin Mueller and Al Baker  2017-06-19  2017.0    6.0   \n",
       "2                   Margalit Fox  2017-01-06  2017.0    1.0   \n",
       "3               William McDonald  2017-04-10  2017.0    4.0   \n",
       "4                  Choe Sang-Hun  2017-01-02  2017.0    1.0   \n",
       "\n",
       "                                             content   length  \n",
       "0  WASHINGTON  —   Congressional Republicans have...   5607.0  \n",
       "1  After the bullet shells get counted, the blood...  27834.0  \n",
       "2  When Walt Disney’s “Bambi” opened in 1942, cri...  14018.0  \n",
       "3  Death may be the great equalizer, but it isn’t...  12274.0  \n",
       "4  SEOUL, South Korea  —   North Korea’s leader, ...   4195.0  "
      ]
     },
     "execution_count": 1250,
     "metadata": {},
     "output_type": "execute_result"
    }
   ],
   "source": [
    "# Add lengths column to main dataframe\n",
    "df['length'] = lengths\n",
    "df.head()"
   ]
  },
  {
   "cell_type": "code",
   "execution_count": 1251,
   "metadata": {},
   "outputs": [
    {
     "data": {
      "text/html": [
       "<div>\n",
       "<style scoped>\n",
       "    .dataframe tbody tr th:only-of-type {\n",
       "        vertical-align: middle;\n",
       "    }\n",
       "\n",
       "    .dataframe tbody tr th {\n",
       "        vertical-align: top;\n",
       "    }\n",
       "\n",
       "    .dataframe thead th {\n",
       "        text-align: right;\n",
       "    }\n",
       "</style>\n",
       "<table border=\"1\" class=\"dataframe\">\n",
       "  <thead>\n",
       "    <tr style=\"text-align: right;\">\n",
       "      <th></th>\n",
       "      <th>id</th>\n",
       "      <th>title</th>\n",
       "      <th>publication</th>\n",
       "      <th>author</th>\n",
       "      <th>date</th>\n",
       "      <th>year</th>\n",
       "      <th>month</th>\n",
       "      <th>content</th>\n",
       "      <th>length</th>\n",
       "      <th>count</th>\n",
       "    </tr>\n",
       "  </thead>\n",
       "  <tbody>\n",
       "    <tr>\n",
       "      <th>0</th>\n",
       "      <td>17283</td>\n",
       "      <td>House Republicans Fret About Winning Their Hea...</td>\n",
       "      <td>New York Times</td>\n",
       "      <td>Carl Hulse</td>\n",
       "      <td>2016-12-31</td>\n",
       "      <td>2016.0</td>\n",
       "      <td>12.0</td>\n",
       "      <td>WASHINGTON  —   Congressional Republicans have...</td>\n",
       "      <td>5607.0</td>\n",
       "      <td>1</td>\n",
       "    </tr>\n",
       "    <tr>\n",
       "      <th>1</th>\n",
       "      <td>17284</td>\n",
       "      <td>Rift Between Officers and Residents as Killing...</td>\n",
       "      <td>New York Times</td>\n",
       "      <td>Benjamin Mueller and Al Baker</td>\n",
       "      <td>2017-06-19</td>\n",
       "      <td>2017.0</td>\n",
       "      <td>6.0</td>\n",
       "      <td>After the bullet shells get counted, the blood...</td>\n",
       "      <td>27834.0</td>\n",
       "      <td>1</td>\n",
       "    </tr>\n",
       "    <tr>\n",
       "      <th>2</th>\n",
       "      <td>17285</td>\n",
       "      <td>Tyrus Wong, ‘Bambi’ Artist Thwarted by Racial ...</td>\n",
       "      <td>New York Times</td>\n",
       "      <td>Margalit Fox</td>\n",
       "      <td>2017-01-06</td>\n",
       "      <td>2017.0</td>\n",
       "      <td>1.0</td>\n",
       "      <td>When Walt Disney’s “Bambi” opened in 1942, cri...</td>\n",
       "      <td>14018.0</td>\n",
       "      <td>1</td>\n",
       "    </tr>\n",
       "    <tr>\n",
       "      <th>3</th>\n",
       "      <td>17286</td>\n",
       "      <td>Among Deaths in 2016, a Heavy Toll in Pop Musi...</td>\n",
       "      <td>New York Times</td>\n",
       "      <td>William McDonald</td>\n",
       "      <td>2017-04-10</td>\n",
       "      <td>2017.0</td>\n",
       "      <td>4.0</td>\n",
       "      <td>Death may be the great equalizer, but it isn’t...</td>\n",
       "      <td>12274.0</td>\n",
       "      <td>1</td>\n",
       "    </tr>\n",
       "    <tr>\n",
       "      <th>4</th>\n",
       "      <td>17287</td>\n",
       "      <td>Kim Jong-un Says North Korea Is Preparing to T...</td>\n",
       "      <td>New York Times</td>\n",
       "      <td>Choe Sang-Hun</td>\n",
       "      <td>2017-01-02</td>\n",
       "      <td>2017.0</td>\n",
       "      <td>1.0</td>\n",
       "      <td>SEOUL, South Korea  —   North Korea’s leader, ...</td>\n",
       "      <td>4195.0</td>\n",
       "      <td>1</td>\n",
       "    </tr>\n",
       "  </tbody>\n",
       "</table>\n",
       "</div>"
      ],
      "text/plain": [
       "      id                                              title     publication  \\\n",
       "0  17283  House Republicans Fret About Winning Their Hea...  New York Times   \n",
       "1  17284  Rift Between Officers and Residents as Killing...  New York Times   \n",
       "2  17285  Tyrus Wong, ‘Bambi’ Artist Thwarted by Racial ...  New York Times   \n",
       "3  17286  Among Deaths in 2016, a Heavy Toll in Pop Musi...  New York Times   \n",
       "4  17287  Kim Jong-un Says North Korea Is Preparing to T...  New York Times   \n",
       "\n",
       "                          author        date    year  month  \\\n",
       "0                     Carl Hulse  2016-12-31  2016.0   12.0   \n",
       "1  Benjamin Mueller and Al Baker  2017-06-19  2017.0    6.0   \n",
       "2                   Margalit Fox  2017-01-06  2017.0    1.0   \n",
       "3               William McDonald  2017-04-10  2017.0    4.0   \n",
       "4                  Choe Sang-Hun  2017-01-02  2017.0    1.0   \n",
       "\n",
       "                                             content   length  count  \n",
       "0  WASHINGTON  —   Congressional Republicans have...   5607.0      1  \n",
       "1  After the bullet shells get counted, the blood...  27834.0      1  \n",
       "2  When Walt Disney’s “Bambi” opened in 1942, cri...  14018.0      1  \n",
       "3  Death may be the great equalizer, but it isn’t...  12274.0      1  \n",
       "4  SEOUL, South Korea  —   North Korea’s leader, ...   4195.0      1  "
      ]
     },
     "execution_count": 1251,
     "metadata": {},
     "output_type": "execute_result"
    }
   ],
   "source": [
    "# Add variable to make counting easier during aggregate operations later on\n",
    "# Just set each value to 1\n",
    "df['count'] = 1\n",
    "df.head()"
   ]
  },
  {
   "cell_type": "code",
   "execution_count": 1252,
   "metadata": {},
   "outputs": [
    {
     "data": {
      "text/plain": [
       "id               int64\n",
       "title           object\n",
       "publication     object\n",
       "author          object\n",
       "date            object\n",
       "year           float64\n",
       "month          float64\n",
       "content         object\n",
       "length         float64\n",
       "count            int64\n",
       "dtype: object"
      ]
     },
     "execution_count": 1252,
     "metadata": {},
     "output_type": "execute_result"
    }
   ],
   "source": [
    "df.dtypes"
   ]
  },
  {
   "cell_type": "code",
   "execution_count": 1253,
   "metadata": {
    "scrolled": true
   },
   "outputs": [
    {
     "data": {
      "text/plain": [
       "id                0\n",
       "title             0\n",
       "publication       0\n",
       "author            0\n",
       "date              0\n",
       "year              0\n",
       "month             0\n",
       "content           0\n",
       "length         4648\n",
       "count             0\n",
       "dtype: int64"
      ]
     },
     "execution_count": 1253,
     "metadata": {},
     "output_type": "execute_result"
    }
   ],
   "source": [
    "df.isnull().sum()"
   ]
  },
  {
   "cell_type": "code",
   "execution_count": 1254,
   "metadata": {},
   "outputs": [
    {
     "data": {
      "text/html": [
       "<div>\n",
       "<style scoped>\n",
       "    .dataframe tbody tr th:only-of-type {\n",
       "        vertical-align: middle;\n",
       "    }\n",
       "\n",
       "    .dataframe tbody tr th {\n",
       "        vertical-align: top;\n",
       "    }\n",
       "\n",
       "    .dataframe thead th {\n",
       "        text-align: right;\n",
       "    }\n",
       "</style>\n",
       "<table border=\"1\" class=\"dataframe\">\n",
       "  <thead>\n",
       "    <tr style=\"text-align: right;\">\n",
       "      <th></th>\n",
       "      <th>id</th>\n",
       "      <th>title</th>\n",
       "      <th>publication</th>\n",
       "      <th>author</th>\n",
       "      <th>date</th>\n",
       "      <th>year</th>\n",
       "      <th>month</th>\n",
       "      <th>content</th>\n",
       "      <th>length</th>\n",
       "      <th>count</th>\n",
       "    </tr>\n",
       "  </thead>\n",
       "  <tbody>\n",
       "    <tr>\n",
       "      <th>0</th>\n",
       "      <td>17283</td>\n",
       "      <td>House Republicans Fret About Winning Their Hea...</td>\n",
       "      <td>New York Times</td>\n",
       "      <td>Carl Hulse</td>\n",
       "      <td>2016-12-31</td>\n",
       "      <td>2016.0</td>\n",
       "      <td>12.0</td>\n",
       "      <td>WASHINGTON  —   Congressional Republicans have...</td>\n",
       "      <td>5607.0</td>\n",
       "      <td>1</td>\n",
       "    </tr>\n",
       "    <tr>\n",
       "      <th>1</th>\n",
       "      <td>17284</td>\n",
       "      <td>Rift Between Officers and Residents as Killing...</td>\n",
       "      <td>New York Times</td>\n",
       "      <td>Benjamin Mueller and Al Baker</td>\n",
       "      <td>2017-06-19</td>\n",
       "      <td>2017.0</td>\n",
       "      <td>6.0</td>\n",
       "      <td>After the bullet shells get counted, the blood...</td>\n",
       "      <td>27834.0</td>\n",
       "      <td>1</td>\n",
       "    </tr>\n",
       "    <tr>\n",
       "      <th>2</th>\n",
       "      <td>17285</td>\n",
       "      <td>Tyrus Wong, ‘Bambi’ Artist Thwarted by Racial ...</td>\n",
       "      <td>New York Times</td>\n",
       "      <td>Margalit Fox</td>\n",
       "      <td>2017-01-06</td>\n",
       "      <td>2017.0</td>\n",
       "      <td>1.0</td>\n",
       "      <td>When Walt Disney’s “Bambi” opened in 1942, cri...</td>\n",
       "      <td>14018.0</td>\n",
       "      <td>1</td>\n",
       "    </tr>\n",
       "    <tr>\n",
       "      <th>3</th>\n",
       "      <td>17286</td>\n",
       "      <td>Among Deaths in 2016, a Heavy Toll in Pop Musi...</td>\n",
       "      <td>New York Times</td>\n",
       "      <td>William McDonald</td>\n",
       "      <td>2017-04-10</td>\n",
       "      <td>2017.0</td>\n",
       "      <td>4.0</td>\n",
       "      <td>Death may be the great equalizer, but it isn’t...</td>\n",
       "      <td>12274.0</td>\n",
       "      <td>1</td>\n",
       "    </tr>\n",
       "    <tr>\n",
       "      <th>4</th>\n",
       "      <td>17287</td>\n",
       "      <td>Kim Jong-un Says North Korea Is Preparing to T...</td>\n",
       "      <td>New York Times</td>\n",
       "      <td>Choe Sang-Hun</td>\n",
       "      <td>2017-01-02</td>\n",
       "      <td>2017.0</td>\n",
       "      <td>1.0</td>\n",
       "      <td>SEOUL, South Korea  —   North Korea’s leader, ...</td>\n",
       "      <td>4195.0</td>\n",
       "      <td>1</td>\n",
       "    </tr>\n",
       "  </tbody>\n",
       "</table>\n",
       "</div>"
      ],
      "text/plain": [
       "      id                                              title     publication  \\\n",
       "0  17283  House Republicans Fret About Winning Their Hea...  New York Times   \n",
       "1  17284  Rift Between Officers and Residents as Killing...  New York Times   \n",
       "2  17285  Tyrus Wong, ‘Bambi’ Artist Thwarted by Racial ...  New York Times   \n",
       "3  17286  Among Deaths in 2016, a Heavy Toll in Pop Musi...  New York Times   \n",
       "4  17287  Kim Jong-un Says North Korea Is Preparing to T...  New York Times   \n",
       "\n",
       "                          author        date    year  month  \\\n",
       "0                     Carl Hulse  2016-12-31  2016.0   12.0   \n",
       "1  Benjamin Mueller and Al Baker  2017-06-19  2017.0    6.0   \n",
       "2                   Margalit Fox  2017-01-06  2017.0    1.0   \n",
       "3               William McDonald  2017-04-10  2017.0    4.0   \n",
       "4                  Choe Sang-Hun  2017-01-02  2017.0    1.0   \n",
       "\n",
       "                                             content   length  count  \n",
       "0  WASHINGTON  —   Congressional Republicans have...   5607.0      1  \n",
       "1  After the bullet shells get counted, the blood...  27834.0      1  \n",
       "2  When Walt Disney’s “Bambi” opened in 1942, cri...  14018.0      1  \n",
       "3  Death may be the great equalizer, but it isn’t...  12274.0      1  \n",
       "4  SEOUL, South Korea  —   North Korea’s leader, ...   4195.0      1  "
      ]
     },
     "execution_count": 1254,
     "metadata": {},
     "output_type": "execute_result"
    }
   ],
   "source": [
    "df = df.dropna()\n",
    "df.head()"
   ]
  },
  {
   "cell_type": "code",
   "execution_count": 1255,
   "metadata": {},
   "outputs": [
    {
     "data": {
      "text/plain": [
       "id             0\n",
       "title          0\n",
       "publication    0\n",
       "author         0\n",
       "date           0\n",
       "year           0\n",
       "month          0\n",
       "content        0\n",
       "length         0\n",
       "count          0\n",
       "dtype: int64"
      ]
     },
     "execution_count": 1255,
     "metadata": {},
     "output_type": "execute_result"
    }
   ],
   "source": [
    "df.isnull().sum()"
   ]
  },
  {
   "cell_type": "code",
   "execution_count": 1267,
   "metadata": {
    "scrolled": false
   },
   "outputs": [
    {
     "name": "stdout",
     "output_type": "stream",
     "text": [
      "Anne Barnard            22\n",
      "Nicholas Fandos         21\n",
      "Max Fisher              21\n",
      "Patrick Healy           21\n",
      "The Associated Press    21\n",
      "Victor Mather           21\n",
      "Amanda Jackson          21\n",
      "Ashley Strickland       21\n",
      "Carl Hulse              21\n",
      "Ben Shapiro             21\n",
      "Name: author, dtype: int64\n"
     ]
    }
   ],
   "source": [
    "# First 10 authors with more than 20 articles\n",
    "print(df.author.value_counts()[df.author.value_counts()>20][-10:])"
   ]
  },
  {
   "cell_type": "code",
   "execution_count": 1260,
   "metadata": {
    "scrolled": true
   },
   "outputs": [
    {
     "name": "stdout",
     "output_type": "stream",
     "text": [
      "['Anne Barnard', 'Nicholas Fandos', 'Max Fisher', 'Patrick Healy', 'The Associated Press', 'Victor Mather', 'Amanda Jackson', 'Ashley Strickland', 'Carl Hulse', 'Ben Shapiro']\n"
     ]
    }
   ],
   "source": [
    "# Make a DataFrame with articles by our chosen authors\n",
    "# Include author names and article titles\n",
    "\n",
    "# Make a list of the 10 chosen author names\n",
    "names = df.author.value_counts()[df.author.value_counts() > 20][-10:].index.tolist()\n",
    "\n",
    "print(names)\n",
    "\n",
    "# DataFrame for articles of all chosen authors\n",
    "data = pd.DataFrame()\n",
    "for name in names:\n",
    "    # Select each author's data\n",
    "    articles = df[df.author == name][:20][['title', 'content', 'author']]\n",
    "    # Append data to DataFrame\n",
    "    data = data.append(articles)\n",
    "\n",
    "data = data.reset_index().drop('index', 1)"
   ]
  },
  {
   "cell_type": "code",
   "execution_count": 1283,
   "metadata": {
    "scrolled": false
   },
   "outputs": [
    {
     "name": "stdout",
     "output_type": "stream",
     "text": [
      "Total articles: 200\n",
      "Unique articles: 200\n",
      "Unique authors: 10\n",
      "\n",
      "Articles by author:\n",
      "\n",
      "Ashley Strickland       20\n",
      "Amanda Jackson          20\n",
      "Ben Shapiro             20\n",
      "The Associated Press    20\n",
      "Patrick Healy           20\n",
      "Max Fisher              20\n",
      "Victor Mather           20\n",
      "Anne Barnard            20\n",
      "Nicholas Fandos         20\n",
      "Carl Hulse              20\n",
      "Name: author, dtype: int64\n"
     ]
    }
   ],
   "source": [
    "# Look for duplicates\n",
    "print('Total articles:', data.shape[0])\n",
    "print('Unique articles:', len(np.unique(data.index)))\n",
    "\n",
    "# Number of authors\n",
    "print('Unique authors:', len(np.unique(data.author)))\n",
    "print('')\n",
    "print('Articles by author:\\n')\n",
    "\n",
    "# Article counts by author\n",
    "print(data.author.value_counts())"
   ]
  },
  {
   "cell_type": "code",
   "execution_count": 1262,
   "metadata": {},
   "outputs": [
    {
     "name": "stdout",
     "output_type": "stream",
     "text": [
      "Total number of common words: 4224\n",
      "done in 52.709s\n"
     ]
    }
   ],
   "source": [
    "start_time = time()\n",
    "\n",
    "# Load spacy NLP object\n",
    "nlp = spacy.load('en')\n",
    "\n",
    "# A list to store common words by all authors\n",
    "common_words = []\n",
    "\n",
    "# A dictionary to store each author's spacy_doc object\n",
    "authors_docs = {}\n",
    "\n",
    "for name in names:\n",
    "    # Corpus is all text written by a single author\n",
    "    corpus = \"\"\n",
    "    \n",
    "    # Grab all text of current author, along 'content' column\n",
    "    author_content = data.loc[data.author == name, 'content']\n",
    "    \n",
    "    # Add each article to overall corpus\n",
    "    for article in author_content:\n",
    "        corpus = corpus + article\n",
    "        \n",
    "    # Clean corpus and parse using Spacy\n",
    "    doc = nlp(text_cleaner(corpus))\n",
    "    \n",
    "    # Store doc in dictionary\n",
    "    authors_docs[name] = doc\n",
    "        \n",
    "    # Remove punctuation and stop words\n",
    "    lemmas = [token.lemma_ for token in doc if not token.is_punct and not token.is_stop]\n",
    "        \n",
    "    # Return most common words of that author's corpus\n",
    "    bow = [item[0] for item in Counter(lemmas).most_common(1000)]\n",
    "    \n",
    "    # Add them to the list of common words\n",
    "    for word in bow:\n",
    "        common_words.append(word)\n",
    "\n",
    "# Remove duplicates\n",
    "common_words = set(common_words)\n",
    "    \n",
    "print('Total number of common words:', len(common_words))\n",
    "print(\"Completed in %0.3fs\" % (time() - start_time))"
   ]
  },
  {
   "cell_type": "code",
   "execution_count": 1263,
   "metadata": {
    "scrolled": false
   },
   "outputs": [
    {
     "name": "stdout",
     "output_type": "stream",
     "text": [
      "Anne Barnard corpus contains 27970  words.\n",
      "Nicholas Fandos corpus contains 20679  words.\n",
      "Max Fisher corpus contains 31831  words.\n",
      "Patrick Healy corpus contains 30283  words.\n",
      "The Associated Press corpus contains 10346  words.\n",
      "Victor Mather corpus contains 15587  words.\n",
      "Amanda Jackson corpus contains 8949  words.\n",
      "Ashley Strickland corpus contains 23598  words.\n",
      "Carl Hulse corpus contains 22804  words.\n",
      "Ben Shapiro corpus contains 20906  words.\n"
     ]
    }
   ],
   "source": [
    "# Let's see how many words per author\n",
    "lengths = []\n",
    "for k,v in authors_docs.items():\n",
    "    print(k,'corpus has', len(v), ' words.')\n",
    "    lengths.append(len(v))"
   ]
  },
  {
   "cell_type": "code",
   "execution_count": 1264,
   "metadata": {
    "scrolled": true
   },
   "outputs": [
    {
     "data": {
      "image/png": "[encoded data removed]",
      "text/plain": [
       "<Figure size 432x288 with 1 Axes>"
      ]
     },
     "metadata": {},
     "output_type": "display_data"
    }
   ],
   "source": [
    "#plt.figure(figsize=(15,10))\n",
    "sns.barplot(x=lengths, y=names, orient='h')\n",
    "plt.title('Word Count per Corpus')\n",
    "plt.show()"
   ]
  },
  {
   "cell_type": "code",
   "execution_count": 1265,
   "metadata": {},
   "outputs": [
    {
     "name": "stdout",
     "output_type": "stream",
     "text": [
      "Count of all common_words: 4224\n",
      "Count of lowercase common_words: 2962\n",
      "Count of lowercase common_words (After Conversion): 4113\n"
     ]
    }
   ],
   "source": [
    "# Check for lowercase words\n",
    "common_words = pd.Series(pd.DataFrame(columns=common_words).columns)\n",
    "print('Total common words:', len(common_words))\n",
    "print('Total lowercase common words:', np.sum([word.islower() for word in common_words]))\n",
    "\n",
    "# Make all common words lowercase\n",
    "common_words = [word.lower() for word in common_words]\n",
    "print('Total lowercase common words (after converting):', np.sum([word.islower() for word in common_words]))"
   ]
  },
  {
   "cell_type": "code",
   "execution_count": 1266,
   "metadata": {
    "collapsed": true
   },
   "outputs": [],
   "source": [
    "# Remove words that might conflict with new features\n",
    "if 'author' in common_words:\n",
    "    common_words.remove('author')\n",
    "if 'title' in common_words:\n",
    "    common_words.remove('title')\n",
    "if 'content' in common_words:\n",
    "    common_words.remove('content')"
   ]
  },
  {
   "cell_type": "code",
   "execution_count": 1268,
   "metadata": {},
   "outputs": [
    {
     "name": "stdout",
     "output_type": "stream",
     "text": [
      "Article  0  done after  0.09414474964141846  minutes.\n",
      "Article  20  done after  5.038539783159892  minutes.\n",
      "Article  40  done after  10.048785698413848  minutes.\n",
      "Article  60  done after  15.216902033487957  minutes.\n",
      "Article  80  done after  20.644835166136424  minutes.\n",
      "Article  100  done after  22.368789919217427  minutes.\n",
      "Article  120  done after  25.067425433794657  minutes.\n",
      "Article  140  done after  27.913091997305553  minutes.\n",
      "Article  160  done after  32.89906223217646  minutes.\n",
      "Article  180  done after  38.026613350709276  minutes.\n"
     ]
    }
   ],
   "source": [
    "# Count how many times a common word appears in each article\n",
    "bow_counts = pd.DataFrame()\n",
    "for name in names:\n",
    "    # Select 20 articles for each author\n",
    "    articles = data.loc[data.author==name,:][:20]\n",
    "    # Append articles to BOW dataframe\n",
    "    bow_counts = bow_counts.append(articles)\n",
    "bow_counts = bow_counts.reset_index().drop('index',1)\n",
    "\n",
    "# Use common_words as the columns of a temporary DataFrame\n",
    "df = pd.DataFrame(columns=common_words)\n",
    "\n",
    "# Join BOW features with the author's content\n",
    "bow_counts = bow_counts.join(df)\n",
    "\n",
    "# Initialize rows with zeroes\n",
    "bow_counts.loc[:,common_words] = 0\n",
    "\n",
    "# Populate DataFrame with counts of every feature per article\n",
    "start_time = time()\n",
    "for i, article in enumerate(bow_counts.content):\n",
    "    doc = nlp(article)\n",
    "    for token in doc:\n",
    "        # If lowercase word is found in common words, increment its BOW count\n",
    "        if token.lemma_.lower() in common_words:\n",
    "            bow_counts.loc[i,token.lemma_.lower()] += 1\n",
    "    # Print a message every 20 articles\n",
    "    if i % 20 == 0:\n",
    "        if time()-start_time < 3600: # if less than an hour in seconds\n",
    "            print(\"Article \", i, \" completed after \", (time()-start_time)/60,' minutes.')\n",
    "        else:\n",
    "            print(\"Article \", i, \" completed after \", (time()-start_time)/60/60,' hours.')"
   ]
  },
  {
   "cell_type": "code",
   "execution_count": 1269,
   "metadata": {},
   "outputs": [
    {
     "data": {
      "text/html": [
       "<div>\n",
       "<style scoped>\n",
       "    .dataframe tbody tr th:only-of-type {\n",
       "        vertical-align: middle;\n",
       "    }\n",
       "\n",
       "    .dataframe tbody tr th {\n",
       "        vertical-align: top;\n",
       "    }\n",
       "\n",
       "    .dataframe thead th {\n",
       "        text-align: right;\n",
       "    }\n",
       "</style>\n",
       "<table border=\"1\" class=\"dataframe\">\n",
       "  <thead>\n",
       "    <tr style=\"text-align: right;\">\n",
       "      <th></th>\n",
       "      <th>title</th>\n",
       "      <th>content</th>\n",
       "      <th>author</th>\n",
       "      <th>peace</th>\n",
       "      <th>half</th>\n",
       "      <th>outskirt</th>\n",
       "      <th>barack</th>\n",
       "      <th>gun</th>\n",
       "      <th>25</th>\n",
       "      <th>charge</th>\n",
       "      <th>...</th>\n",
       "      <th>lead</th>\n",
       "      <th>building</th>\n",
       "      <th>movie</th>\n",
       "      <th>leyva</th>\n",
       "      <th>room</th>\n",
       "      <th>quds</th>\n",
       "      <th>twinkies</th>\n",
       "      <th>draw</th>\n",
       "      <th>private</th>\n",
       "      <th>newborn</th>\n",
       "    </tr>\n",
       "  </thead>\n",
       "  <tbody>\n",
       "    <tr>\n",
       "      <th>0</th>\n",
       "      <td>Amnesty Report Accuses Syria of Executing Thou...</td>\n",
       "      <td>BEIRUT, Lebanon  —   The Syrian government has...</td>\n",
       "      <td>Anne Barnard</td>\n",
       "      <td>0</td>\n",
       "      <td>0</td>\n",
       "      <td>0</td>\n",
       "      <td>0</td>\n",
       "      <td>0</td>\n",
       "      <td>0</td>\n",
       "      <td>0</td>\n",
       "      <td>...</td>\n",
       "      <td>0</td>\n",
       "      <td>0</td>\n",
       "      <td>0</td>\n",
       "      <td>0</td>\n",
       "      <td>1</td>\n",
       "      <td>0</td>\n",
       "      <td>0</td>\n",
       "      <td>0</td>\n",
       "      <td>0</td>\n",
       "      <td>0</td>\n",
       "    </tr>\n",
       "    <tr>\n",
       "      <th>1</th>\n",
       "      <td>Kazakh Capital, a Post-Soviet Creation, Is Gro...</td>\n",
       "      <td>ASTANA, Kazakhstan  —   The Astana Opera tower...</td>\n",
       "      <td>Anne Barnard</td>\n",
       "      <td>1</td>\n",
       "      <td>0</td>\n",
       "      <td>0</td>\n",
       "      <td>0</td>\n",
       "      <td>0</td>\n",
       "      <td>1</td>\n",
       "      <td>0</td>\n",
       "      <td>...</td>\n",
       "      <td>1</td>\n",
       "      <td>1</td>\n",
       "      <td>0</td>\n",
       "      <td>0</td>\n",
       "      <td>0</td>\n",
       "      <td>0</td>\n",
       "      <td>0</td>\n",
       "      <td>0</td>\n",
       "      <td>0</td>\n",
       "      <td>0</td>\n",
       "    </tr>\n",
       "    <tr>\n",
       "      <th>2</th>\n",
       "      <td>Resurgent Syrian Rebels Surprise Damascus With...</td>\n",
       "      <td>BEIRUT, Lebanon  —   Syrian insurgents seized ...</td>\n",
       "      <td>Anne Barnard</td>\n",
       "      <td>3</td>\n",
       "      <td>1</td>\n",
       "      <td>2</td>\n",
       "      <td>0</td>\n",
       "      <td>0</td>\n",
       "      <td>0</td>\n",
       "      <td>0</td>\n",
       "      <td>...</td>\n",
       "      <td>0</td>\n",
       "      <td>1</td>\n",
       "      <td>0</td>\n",
       "      <td>0</td>\n",
       "      <td>0</td>\n",
       "      <td>0</td>\n",
       "      <td>0</td>\n",
       "      <td>0</td>\n",
       "      <td>0</td>\n",
       "      <td>0</td>\n",
       "    </tr>\n",
       "  </tbody>\n",
       "</table>\n",
       "<p>3 rows × 4227 columns</p>\n",
       "</div>"
      ],
      "text/plain": [
       "                                               title  \\\n",
       "0  Amnesty Report Accuses Syria of Executing Thou...   \n",
       "1  Kazakh Capital, a Post-Soviet Creation, Is Gro...   \n",
       "2  Resurgent Syrian Rebels Surprise Damascus With...   \n",
       "\n",
       "                                             content        author peace half  \\\n",
       "0  BEIRUT, Lebanon  —   The Syrian government has...  Anne Barnard     0    0   \n",
       "1  ASTANA, Kazakhstan  —   The Astana Opera tower...  Anne Barnard     1    0   \n",
       "2  BEIRUT, Lebanon  —   Syrian insurgents seized ...  Anne Barnard     3    1   \n",
       "\n",
       "  outskirt barack gun 25 charge   ...   lead building movie leyva room quds  \\\n",
       "0        0      0   0  0      0   ...      0        0     0     0    1    0   \n",
       "1        0      0   0  1      0   ...      1        1     0     0    0    0   \n",
       "2        2      0   0  0      0   ...      0        1     0     0    0    0   \n",
       "\n",
       "  twinkies draw private newborn  \n",
       "0        0    0       0       0  \n",
       "1        0    0       0       0  \n",
       "2        0    0       0       0  \n",
       "\n",
       "[3 rows x 4227 columns]"
      ]
     },
     "execution_count": 1269,
     "metadata": {},
     "output_type": "execute_result"
    }
   ],
   "source": [
    "bow_counts.head(3)"
   ]
  },
  {
   "cell_type": "code",
   "execution_count": 1352,
   "metadata": {},
   "outputs": [],
   "source": [
    "# Establish outcome and predictors\n",
    "X = bow_counts.drop(['content','author','title'], 1)\n",
    "y = bow_counts['author']\n",
    "\n",
    "X_train, X_test, y_train, y_test = train_test_split(X, y, test_size=0.25, random_state=0, stratify=y)"
   ]
  },
  {
   "cell_type": "code",
   "execution_count": 1353,
   "metadata": {
    "collapsed": true
   },
   "outputs": [],
   "source": [
    "# Store overall results in two separate DataFrames\n",
    "clust_metrics = ['Algorithm', 'Sample Size', 'Features', 'ARI', 'Silhouette']\n",
    "model_metrics = ['Algorithm', 'Sample Size', 'Features', 'ARI', 'Cross-validation', 'Train Accuracy', 'Test Accuracy']\n",
    "\n",
    "clustering = pd.DataFrame(columns=clust_metrics)\n",
    "modeling = pd.DataFrame(columns=model_metrics)"
   ]
  },
  {
   "cell_type": "markdown",
   "metadata": {},
   "source": [
    "# Clustering\n",
    "## Find Optimal Clusters"
   ]
  },
  {
   "cell_type": "code",
   "execution_count": 1354,
   "metadata": {
    "scrolled": false
   },
   "outputs": [
    {
     "name": "stdout",
     "output_type": "stream",
     "text": [
      "Fit 2 clusters\n",
      "Fit 3 clusters\n",
      "Fit 4 clusters\n",
      "Fit 5 clusters\n",
      "Fit 6 clusters\n",
      "Fit 7 clusters\n",
      "Fit 8 clusters\n",
      "Fit 9 clusters\n",
      "Fit 10 clusters\n",
      "Fit 11 clusters\n",
      "Fit 12 clusters\n",
      "Fit 13 clusters\n",
      "Fit 14 clusters\n",
      "Fit 15 clusters\n",
      "Fit 16 clusters\n",
      "Fit 17 clusters\n",
      "Fit 18 clusters\n",
      "Fit 19 clusters\n",
      "Fit 20 clusters\n"
     ]
    },
    {
     "data": {
      "image/png": "[encoded data removed]",
      "text/plain": [
       "<Figure size 432x288 with 1 Axes>"
      ]
     },
     "metadata": {},
     "output_type": "display_data"
    }
   ],
   "source": [
    "def find_optimal_clusters(data, max_k):\n",
    "    iters = range(2, max_k+1, 1)\n",
    "    \n",
    "    sse = []\n",
    "    for k in iters:\n",
    "        sse.append(MiniBatchKMeans(n_clusters=k, init_size=1024, batch_size=2048, random_state=20).fit(data).inertia_)\n",
    "        print('Fit {} clusters'.format(k))\n",
    "        \n",
    "    f, ax = plt.subplots(1, 1)\n",
    "    ax.plot(iters, sse, marker='o')\n",
    "    ax.set_xlabel('Cluster Centers')\n",
    "    ax.set_xticks(iters)\n",
    "    ax.set_xticklabels(iters)\n",
    "    ax.set_ylabel('SSE')\n",
    "    ax.set_title('SSE by Cluster Center Plot')\n",
    "    \n",
    "find_optimal_clusters(X_train, 20)"
   ]
  },
  {
   "cell_type": "code",
   "execution_count": 1371,
   "metadata": {},
   "outputs": [],
   "source": [
    "# Function to quickly evaluate clustering solutions\n",
    "def evaluate_clust(data, target, clust, params, features, i):\n",
    "    start_time = time()\n",
    "    print('\\n','-'*50,'\\n',clust.__class__.__name__,'\\n','-'*50)\n",
    "    \n",
    "    # Find best parameters based on scoring of choice\n",
    "    score = make_scorer(adjusted_rand_score)\n",
    "    search = GridSearchCV(clust, params, scoring=score, cv=5).fit(data, target)\n",
    "    print(\"Best parameters:\", search.best_params_)\n",
    "    y_pred = search.best_estimator_.fit_predict(data)\n",
    "\n",
    "    ari = adjusted_rand_score(target, y_pred)\n",
    "    performance.loc[i, 'ARI'] = ari \n",
    "    print(\"Adjusted Rand-Index: %.3f\" % ari)\n",
    "    \n",
    "    sil = silhouette_score(data, y_pred)\n",
    "    performance.loc[i, 'Silhouette'] = sil\n",
    "    print(\"Silhouette Score: %.3f\" % sil)\n",
    "    \n",
    "    performance.loc[i, 'Algorithm'] = clust.__class__.__name__\n",
    "    performance.loc[i, 'Sample Size'] = len(data)\n",
    "    performance.loc[i, 'Features'] = features\n",
    "    \n",
    "    # Print contingency matrix\n",
    "    crosstab = pd.crosstab(target, y_pred)\n",
    "    plt.figure(figsize=(10,5))\n",
    "    sns.heatmap(crosstab, annot=True, fmt='d', cmap=plt.cm.winter)\n",
    "    plt.show()\n",
    "    print(time()-start_time, \"seconds.\")"
   ]
  },
  {
   "cell_type": "markdown",
   "metadata": {},
   "source": [
    "## Clustering: Train Set\n",
    "### K-Means"
   ]
  },
  {
   "cell_type": "code",
   "execution_count": 1372,
   "metadata": {},
   "outputs": [
    {
     "name": "stdout",
     "output_type": "stream",
     "text": [
      "\n",
      " -------------------------------------------------- \n",
      " KMeans \n",
      " --------------------------------------------------\n",
      "Best parameters: {'init': 'random', 'n_clusters': 20, 'n_init': 20, 'precompute_distances': False}\n",
      "Adjusted Rand-Index: 0.243\n",
      "Silhouette Score: 0.006\n"
     ]
    },
    {
     "data": {
      "image/png": "[encoded data removed]",
      "text/plain": [
       "<Figure size 720x360 with 2 Axes>"
      ]
     },
     "metadata": {},
     "output_type": "display_data"
    },
    {
     "name": "stdout",
     "output_type": "stream",
     "text": [
      "137.73071384429932 seconds.\n"
     ]
    }
   ],
   "source": [
    "clust = KMeans()\n",
    "params={\n",
    "    'n_clusters': np.arange(5, 30, 5),\n",
    "    'init': ['k-means++','random'],\n",
    "    'n_init': [10, 20],\n",
    "    'precompute_distances':[True, False]\n",
    "}\n",
    "evaluate_clust(X_train, y_train, clust, params, features='BOW', i=0)"
   ]
  },
  {
   "cell_type": "markdown",
   "metadata": {},
   "source": [
    "### Mean-shift"
   ]
  },
  {
   "cell_type": "code",
   "execution_count": 1373,
   "metadata": {
    "scrolled": false
   },
   "outputs": [
    {
     "name": "stdout",
     "output_type": "stream",
     "text": [
      "\n",
      " -------------------------------------------------- \n",
      " MeanShift \n",
      " --------------------------------------------------\n",
      "Best parameters: {}\n",
      "Adjusted Rand-Index: 0.009\n",
      "Silhouette Score: 0.174\n"
     ]
    },
    {
     "data": {
      "image/png": "[encoded data removed]",
      "text/plain": [
       "<Figure size 720x360 with 2 Axes>"
      ]
     },
     "metadata": {},
     "output_type": "display_data"
    },
    {
     "name": "stdout",
     "output_type": "stream",
     "text": [
      "25.108008861541748 seconds.\n"
     ]
    }
   ],
   "source": [
    "#Declare and fit the model\n",
    "clust = MeanShift()\n",
    "\n",
    "params={}\n",
    "evaluate_clust(X_train, y_train, clust, params, features='BOW', i=1)"
   ]
  },
  {
   "cell_type": "markdown",
   "metadata": {},
   "source": [
    "### Affinity Propagation"
   ]
  },
  {
   "cell_type": "code",
   "execution_count": 1374,
   "metadata": {
    "scrolled": false
   },
   "outputs": [
    {
     "name": "stdout",
     "output_type": "stream",
     "text": [
      "\n",
      " -------------------------------------------------- \n",
      " AffinityPropagation \n",
      " --------------------------------------------------\n",
      "Best parameters: {'damping': 0.7, 'max_iter': 200}\n",
      "Adjusted Rand-Index: 0.162\n",
      "Silhouette Score: 0.065\n"
     ]
    },
    {
     "data": {
      "image/png": "[encoded data removed]",
      "text/plain": [
       "<Figure size 720x360 with 2 Axes>"
      ]
     },
     "metadata": {},
     "output_type": "display_data"
    },
    {
     "name": "stdout",
     "output_type": "stream",
     "text": [
      "2.57197904586792 seconds.\n"
     ]
    }
   ],
   "source": [
    "#Declare and fit the model.\n",
    "clust = AffinityPropagation()\n",
    "params = {\n",
    "    'damping': [0.5, 0.7, 0.9], \n",
    "    'max_iter': [200, 500]\n",
    "}\n",
    "evaluate_clust(X_train, y_train, clust, params, features='BOW', i=2)"
   ]
  },
  {
   "cell_type": "markdown",
   "metadata": {},
   "source": [
    "## Clustering: Test Set\n",
    "### K-Means"
   ]
  },
  {
   "cell_type": "code",
   "execution_count": 1375,
   "metadata": {},
   "outputs": [
    {
     "name": "stdout",
     "output_type": "stream",
     "text": [
      "\n",
      " -------------------------------------------------- \n",
      " KMeans \n",
      " --------------------------------------------------\n",
      "Best parameters: {'init': 'random', 'n_clusters': 25, 'n_init': 20, 'precompute_distances': False}\n",
      "Adjusted Rand-Index: 0.105\n",
      "Silhouette Score: -0.006\n"
     ]
    },
    {
     "data": {
      "image/png": "[encoded data removed]",
      "text/plain": [
       "<Figure size 720x360 with 2 Axes>"
      ]
     },
     "metadata": {},
     "output_type": "display_data"
    },
    {
     "name": "stdout",
     "output_type": "stream",
     "text": [
      "44.84340190887451 seconds.\n"
     ]
    }
   ],
   "source": [
    "clust = KMeans()\n",
    "params={\n",
    "    'n_clusters': np.arange(5, 30, 5),\n",
    "    'init': ['k-means++','random'],\n",
    "    'n_init': [10, 20],\n",
    "    'precompute_distances':[True, False]\n",
    "}\n",
    "evaluate_clust(X_test, y_test, clust, params, features='BOW', i=0)"
   ]
  },
  {
   "cell_type": "markdown",
   "metadata": {},
   "source": [
    "### Mean-shift"
   ]
  },
  {
   "cell_type": "code",
   "execution_count": 1376,
   "metadata": {
    "scrolled": false
   },
   "outputs": [
    {
     "name": "stdout",
     "output_type": "stream",
     "text": [
      "\n",
      " -------------------------------------------------- \n",
      " MeanShift \n",
      " --------------------------------------------------\n",
      "Best parameters: {}\n",
      "Adjusted Rand-Index: 0.020\n",
      "Silhouette Score: 0.201\n"
     ]
    },
    {
     "data": {
      "image/png": "[encoded data removed]",
      "text/plain": [
       "<Figure size 720x360 with 2 Axes>"
      ]
     },
     "metadata": {},
     "output_type": "display_data"
    },
    {
     "name": "stdout",
     "output_type": "stream",
     "text": [
      "2.700531005859375 seconds.\n"
     ]
    }
   ],
   "source": [
    "#Declare and fit the model\n",
    "clust = MeanShift()\n",
    "\n",
    "params={}\n",
    "evaluate_clust(X_test, y_test, clust, params, features='BOW', i=1)"
   ]
  },
  {
   "cell_type": "markdown",
   "metadata": {},
   "source": [
    "### Affinity Propagation"
   ]
  },
  {
   "cell_type": "code",
   "execution_count": 1377,
   "metadata": {},
   "outputs": [
    {
     "name": "stdout",
     "output_type": "stream",
     "text": [
      "\n",
      " -------------------------------------------------- \n",
      " AffinityPropagation \n",
      " --------------------------------------------------\n",
      "Best parameters: {'damping': 0.5, 'max_iter': 200}\n",
      "Adjusted Rand-Index: 0.126\n",
      "Silhouette Score: 0.135\n"
     ]
    },
    {
     "data": {
      "image/png": "[encoded data removed]",
      "text/plain": [
       "<Figure size 720x360 with 2 Axes>"
      ]
     },
     "metadata": {},
     "output_type": "display_data"
    },
    {
     "name": "stdout",
     "output_type": "stream",
     "text": [
      "3.032698154449463 seconds.\n"
     ]
    }
   ],
   "source": [
    "#Declare and fit the model.\n",
    "clust = AffinityPropagation()\n",
    "params = {\n",
    "    'damping': [0.5, 0.7, 0.9], \n",
    "    'max_iter': [200, 500]\n",
    "}\n",
    "evaluate_clust(X_test, y_test, clust, params, features='BOW', i=2)"
   ]
  },
  {
   "cell_type": "markdown",
   "metadata": {},
   "source": [
    "# Modeling\n",
    "We can create a simple function to run our model and store results in a dataframe, which will allow us to easily compare results at the end."
   ]
  },
  {
   "cell_type": "code",
   "execution_count": 1368,
   "metadata": {
    "collapsed": true
   },
   "outputs": [],
   "source": [
    "def optimize_model(clf, params, features, i):\n",
    "    start_time = time()\n",
    "    \n",
    "    # Print classifier type\n",
    "    print('\\n', '-'*50, '\\n', clf.__class__.__name__, '\\n', '-'*50)\n",
    "    \n",
    "    # Find best parameters based on scoring of choice\n",
    "    score = make_scorer(adjusted_rand_score)\n",
    "    search = GridSearchCV(clf, params, scoring=score, cv=5).fit(X, y)\n",
    "    \n",
    "    # Extract best estimator\n",
    "    best = search.best_estimator_\n",
    "    print(\"Best parameters:\", search.best_params_)\n",
    "\n",
    "    # Run cross-validation\n",
    "    cv = cross_val_score(X=X, y=y,estimator=best, cv=5)\n",
    "    print(\"\\nCross-validation scores:\", cv)\n",
    "    print(\"\\nMean cross-validation score:\", cv.mean())\n",
    "    performance.loc[i, 'Cross-validation'] = cv.mean() \n",
    "    \n",
    "    # Calculate training accuracy\n",
    "    best = best.fit(X_train, y_train)\n",
    "    train = best.score(X=X_train,y=y_train)\n",
    "    performance.loc[i, 'Train Accuracy'] = train \n",
    "    print(\"\\nTrain Set Accuracy Score:\", train)\n",
    "\n",
    "    # Calculate test accuracy\n",
    "    test = best.score(X=X_test, y=y_test)\n",
    "    performance.loc[i, 'Test Accuracy'] = test \n",
    "    print(\"\\nTest Set Accuracy Score:\", test)\n",
    "    \n",
    "    y_pred = best.predict(X_test)\n",
    "\n",
    "    ari = adjusted_rand_score(y_test, y_pred)\n",
    "    performance.loc[i, 'ARI'] = ari \n",
    "    print(\"\\nAdjusted Rand-Index: %.3f\" % ari)\n",
    "\n",
    "    \n",
    "    print(classification_report(y_test, y_pred))\n",
    "\n",
    "    conf_matrix = pd.crosstab(y_test, y_pred)\n",
    "    sns.heatmap(conf_matrix, annot=True, fmt='d', cmap=plt.cm.winter)\n",
    "    plt.show()\n",
    "    \n",
    "    performance.loc[i,'Data Size'] = len(X_train)\n",
    "    performance.loc[i,'Features'] = features\n",
    "    performance.loc[i,'Algorithm'] = clf.__class__.__name__\n",
    "    print(time()-start_time, 'seconds.')"
   ]
  },
  {
   "cell_type": "markdown",
   "metadata": {},
   "source": [
    "### Logistic Regression"
   ]
  },
  {
   "cell_type": "code",
   "execution_count": 1369,
   "metadata": {
    "scrolled": false
   },
   "outputs": [
    {
     "name": "stdout",
     "output_type": "stream",
     "text": [
      "\n",
      " -------------------------------------------------- \n",
      " LogisticRegression \n",
      " --------------------------------------------------\n",
      "Best parameters: {'C': 0.7, 'penalty': 'l2', 'solver': 'lbfgs'}\n",
      "\n",
      "Cross-validation scores: [0.775 0.85  0.825 0.775 0.65 ]\n",
      "\n",
      "Mean cross-validation score: 0.775\n",
      "\n",
      "Train Set Accuracy Score: 1.0\n",
      "\n",
      "Test Set Accuracy Score: 0.82\n",
      "\n",
      "Adjusted Rand-Index: 0.622\n",
      "                      precision    recall  f1-score   support\n",
      "\n",
      "      Amanda Jackson       0.57      0.80      0.67         5\n",
      "        Anne Barnard       1.00      1.00      1.00         5\n",
      "   Ashley Strickland       0.75      0.60      0.67         5\n",
      "         Ben Shapiro       0.83      1.00      0.91         5\n",
      "          Carl Hulse       1.00      1.00      1.00         5\n",
      "          Max Fisher       1.00      1.00      1.00         5\n",
      "     Nicholas Fandos       0.80      0.80      0.80         5\n",
      "       Patrick Healy       1.00      0.60      0.75         5\n",
      "The Associated Press       0.60      0.60      0.60         5\n",
      "       Victor Mather       0.80      0.80      0.80         5\n",
      "\n",
      "            accuracy                           0.82        50\n",
      "           macro avg       0.84      0.82      0.82        50\n",
      "        weighted avg       0.84      0.82      0.82        50\n",
      "\n"
     ]
    },
    {
     "data": {
      "image/png": "[encoded data removed]",
      "text/plain": [
       "<Figure size 432x288 with 2 Axes>"
      ]
     },
     "metadata": {},
     "output_type": "display_data"
    },
    {
     "name": "stdout",
     "output_type": "stream",
     "text": [
      "253.00225615501404 seconds.\n"
     ]
    }
   ],
   "source": [
    "params = [{\n",
    "    'solver': ['lbfgs', 'liblinear', 'sag', 'saga'],\n",
    "    'C': [0.3, 0.5, 0.7, 1],\n",
    "    'penalty': ['l2']\n",
    "}]\n",
    "\n",
    "clf = LogisticRegression(\n",
    "    n_jobs=-1, # Use all CPU\n",
    "    multi_class='auto'\n",
    ")\n",
    "\n",
    "optimize_model(clf=clf, params=params, features='BOW', i=0)"
   ]
  },
  {
   "cell_type": "code",
   "execution_count": 1370,
   "metadata": {},
   "outputs": [
    {
     "name": "stdout",
     "output_type": "stream",
     "text": [
      "\n",
      " -------------------------------------------------- \n",
      " RandomForestClassifier \n",
      " --------------------------------------------------\n",
      "Best parameters: {'n_estimators': 20}\n",
      "\n",
      "Cross-validation scores: [0.7   0.675 0.65  0.675 0.7  ]\n",
      "\n",
      "Mean cross-validation score: 0.68\n",
      "\n",
      "Train Set Accuracy Score: 1.0\n",
      "\n",
      "Test Set Accuracy Score: 0.7\n",
      "\n",
      "Adjusted Rand-Index: 0.438\n",
      "                      precision    recall  f1-score   support\n",
      "\n",
      "      Amanda Jackson       0.44      0.80      0.57         5\n",
      "        Anne Barnard       1.00      1.00      1.00         5\n",
      "   Ashley Strickland       0.50      0.60      0.55         5\n",
      "         Ben Shapiro       1.00      1.00      1.00         5\n",
      "          Carl Hulse       0.57      0.80      0.67         5\n",
      "          Max Fisher       0.71      1.00      0.83         5\n",
      "     Nicholas Fandos       0.67      0.40      0.50         5\n",
      "       Patrick Healy       1.00      0.60      0.75         5\n",
      "The Associated Press       1.00      0.20      0.33         5\n",
      "       Victor Mather       0.75      0.60      0.67         5\n",
      "\n",
      "            accuracy                           0.70        50\n",
      "           macro avg       0.76      0.70      0.69        50\n",
      "        weighted avg       0.76      0.70      0.69        50\n",
      "\n"
     ]
    },
    {
     "data": {
      "image/png": "[encoded data removed]",
      "text/plain": [
       "<Figure size 432x288 with 2 Axes>"
      ]
     },
     "metadata": {},
     "output_type": "display_data"
    },
    {
     "name": "stdout",
     "output_type": "stream",
     "text": [
      "8.417227029800415 seconds.\n"
     ]
    }
   ],
   "source": [
    "params = [{\n",
    "    'n_estimators': [10, 15, 20]\n",
    "}]\n",
    "\n",
    "clf = RandomForestClassifier(\n",
    "    n_jobs=-1, # Use all CPU\n",
    ")\n",
    "\n",
    "optimize_model(clf=clf, params=params, features='BOW', i=1)"
   ]
  },
  {
   "cell_type": "code",
   "execution_count": null,
   "metadata": {
    "collapsed": true
   },
   "outputs": [],
   "source": []
  },
  {
   "cell_type": "code",
   "execution_count": null,
   "metadata": {
    "collapsed": true
   },
   "outputs": [],
   "source": []
  },
  {
   "cell_type": "code",
   "execution_count": null,
   "metadata": {
    "collapsed": true
   },
   "outputs": [],
   "source": []
  },
  {
   "cell_type": "code",
   "execution_count": null,
   "metadata": {
    "collapsed": true
   },
   "outputs": [],
   "source": []
  },
  {
   "cell_type": "code",
   "execution_count": null,
   "metadata": {
    "collapsed": true
   },
   "outputs": [],
   "source": []
  },
  {
   "cell_type": "code",
   "execution_count": null,
   "metadata": {
    "collapsed": true
   },
   "outputs": [],
   "source": []
  },
  {
   "cell_type": "code",
   "execution_count": null,
   "metadata": {
    "collapsed": true
   },
   "outputs": [],
   "source": []
  },
  {
   "cell_type": "code",
   "execution_count": null,
   "metadata": {
    "collapsed": true
   },
   "outputs": [],
   "source": []
  },
  {
   "cell_type": "code",
   "execution_count": null,
   "metadata": {
    "collapsed": true
   },
   "outputs": [],
   "source": []
  },
  {
   "cell_type": "code",
   "execution_count": null,
   "metadata": {
    "collapsed": true
   },
   "outputs": [],
   "source": []
  },
  {
   "cell_type": "code",
   "execution_count": null,
   "metadata": {
    "collapsed": true
   },
   "outputs": [],
   "source": []
  },
  {
   "cell_type": "code",
   "execution_count": null,
   "metadata": {
    "collapsed": true
   },
   "outputs": [],
   "source": []
  },
  {
   "cell_type": "code",
   "execution_count": null,
   "metadata": {
    "collapsed": true
   },
   "outputs": [],
   "source": []
  },
  {
   "cell_type": "code",
   "execution_count": null,
   "metadata": {
    "collapsed": true
   },
   "outputs": [],
   "source": []
  },
  {
   "cell_type": "code",
   "execution_count": null,
   "metadata": {
    "collapsed": true
   },
   "outputs": [],
   "source": []
  },
  {
   "cell_type": "code",
   "execution_count": null,
   "metadata": {
    "collapsed": true
   },
   "outputs": [],
   "source": []
  },
  {
   "cell_type": "code",
   "execution_count": null,
   "metadata": {
    "collapsed": true
   },
   "outputs": [],
   "source": []
  },
  {
   "cell_type": "code",
   "execution_count": null,
   "metadata": {
    "collapsed": true
   },
   "outputs": [],
   "source": []
  },
  {
   "cell_type": "code",
   "execution_count": null,
   "metadata": {
    "collapsed": true
   },
   "outputs": [],
   "source": []
  },
  {
   "cell_type": "code",
   "execution_count": null,
   "metadata": {
    "collapsed": true
   },
   "outputs": [],
   "source": []
  },
  {
   "cell_type": "code",
   "execution_count": null,
   "metadata": {
    "collapsed": true
   },
   "outputs": [],
   "source": []
  }
 ],
 "metadata": {
  "kernelspec": {
   "display_name": "Python 3",
   "language": "python",
   "name": "python3"
  },
  "language_info": {
   "codemirror_mode": {
    "name": "ipython",
    "version": 3
   },
   "file_extension": ".py",
   "mimetype": "text/x-python",
   "name": "python",
   "nbconvert_exporter": "python",
   "pygments_lexer": "ipython3",
   "version": "3.6.7"
  }
 },
 "nbformat": 4,
 "nbformat_minor": 2
}
