{
 "cells": [
  {
   "cell_type": "markdown",
   "metadata": {},
   "source": [
    "# Capstone project\n",
    "\n",
    "For this project you'll dig into a large amount of text and apply most of what you've covered in this unit and in the course so far.\n",
    "\n",
    "First, pick a set of texts. This can be either a series of novels, chapters, or articles. Anything you'd like. It just has to have multiple entries of varying characteristics. At least 100 should be good. There should also be at least 10 different authors, but try to keep the texts related (either all on the same topic of from the same branch of literature - something to make classification a bit more difficult than obviously different subjects).\n",
    "\n",
    "This capstone can be an extension of your NLP challenge if you wish to use the same corpus. If you found problems with that data set that limited your analysis, however, it may be worth using what you learned to choose a new corpus. Reserve 25% of your corpus as a test set.\n",
    "\n",
    "The first technique is to create a series of clusters. Try several techniques and pick the one you think best represents your data. Make sure there is a narrative and reasoning around why you have chosen the given clusters. Are authors consistently grouped into the same cluster?\n",
    "\n",
    "Next, perform some unsupervised feature generation and selection using the techniques covered in this unit and elsewhere in the course. Using those features then build models to attempt to classify your texts by author. Try different permutations of unsupervised and supervised techniques to see which combinations have the best performance.\n",
    "\n",
    "Lastly return to your holdout group. Does your clustering on those members perform as you'd expect? Have your clusters remained stable or changed dramatically? What about your model? Is it's performance consistent?\n",
    "\n",
    "If there is a divergence in the relative stability of your model and your clusters, delve into why.\n",
    "\n",
    "Your end result should be a write up of how clustering and modeling compare for classifying your texts. What are the advantages of each? Why would you want to use one over the other? Approximately 3-5 pages is a good length for your write up, and remember to include visuals to help tell your story!"
   ]
  },
  {
   "cell_type": "markdown",
   "metadata": {},
   "source": [
    "# Data cleaning / processing / language parsing"
   ]
  },
  {
   "cell_type": "markdown",
   "metadata": {},
   "source": [
    "For this capstone project we will be using a dataset of papers from the 2015 NIPS conference, found on Kaggle.\n",
    "\n",
    "https://www.kaggle.com/benhamner/nips-2015-papers\n",
    "\n",
    "The text content of each paper is contained in Papers.csv, while the author information is provided in Authors.csv. We will need to merge the two datasets based on a common author ID value before we can do any data cleaning/processing."
   ]
  },
  {
   "cell_type": "code",
   "execution_count": 333,
   "metadata": {
    "scrolled": true
   },
   "outputs": [
    {
     "name": "stdout",
     "output_type": "stream",
     "text": [
      "Numpy version: 1.16.4\n",
      "Pandas version: 0.23.4\n",
      "Seaborn version: 0.9.0\n"
     ]
    }
   ],
   "source": [
    "%matplotlib inline\n",
    "import numpy as np\n",
    "import pandas as pd\n",
    "import scipy\n",
    "import sklearn\n",
    "import spacy\n",
    "import matplotlib.pyplot as plt\n",
    "import seaborn as sns\n",
    "import string\n",
    "import re\n",
    "import nltk\n",
    "import json\n",
    "from time import time\n",
    "from collections import Counter\n",
    "from sklearn import ensemble\n",
    "from sklearn.metrics import log_loss, accuracy_score\n",
    "from sklearn.model_selection import StratifiedKFold\n",
    "from sklearn.linear_model import LogisticRegression\n",
    "from sklearn.ensemble import RandomForestClassifier\n",
    "from sklearn.preprocessing import LabelEncoder\n",
    "from sklearn.preprocessing import label_binarize\n",
    "from sklearn.model_selection import train_test_split\n",
    "from sklearn.model_selection import cross_val_score\n",
    "from sklearn.model_selection import cross_val_predict\n",
    "from sklearn.feature_extraction.text import CountVectorizer\n",
    "from sklearn.feature_extraction.text import TfidfVectorizer\n",
    "from nltk.corpus import stopwords\n",
    "from nltk.stem import WordNetLemmatizer\n",
    "from nltk.corpus import stopwords\n",
    "\n",
    "import scikitplot.plotters as skplt\n",
    "\n",
    "stopwords = stopwords.words('english')\n",
    "\n",
    "#nltk.download('product_reviews_1')\n",
    "#nltk.download('product_reviews_2')\n",
    "#!python -m spacy download en\n",
    "\n",
    "print('Numpy version:', np.__version__)\n",
    "print('Pandas version:', pd.__version__)\n",
    "print('Seaborn version:', sns.__version__)"
   ]
  },
  {
   "cell_type": "code",
   "execution_count": 334,
   "metadata": {
    "scrolled": false
   },
   "outputs": [
    {
     "data": {
      "text/html": [
       "<div>\n",
       "<style scoped>\n",
       "    .dataframe tbody tr th:only-of-type {\n",
       "        vertical-align: middle;\n",
       "    }\n",
       "\n",
       "    .dataframe tbody tr th {\n",
       "        vertical-align: top;\n",
       "    }\n",
       "\n",
       "    .dataframe thead th {\n",
       "        text-align: right;\n",
       "    }\n",
       "</style>\n",
       "<table border=\"1\" class=\"dataframe\">\n",
       "  <thead>\n",
       "    <tr style=\"text-align: right;\">\n",
       "      <th></th>\n",
       "      <th>Unnamed: 0</th>\n",
       "      <th>id</th>\n",
       "      <th>title</th>\n",
       "      <th>publication</th>\n",
       "      <th>author</th>\n",
       "      <th>date</th>\n",
       "      <th>year</th>\n",
       "      <th>month</th>\n",
       "      <th>url</th>\n",
       "      <th>content</th>\n",
       "    </tr>\n",
       "  </thead>\n",
       "  <tbody>\n",
       "    <tr>\n",
       "      <th>0</th>\n",
       "      <td>0</td>\n",
       "      <td>17283</td>\n",
       "      <td>House Republicans Fret About Winning Their Hea...</td>\n",
       "      <td>New York Times</td>\n",
       "      <td>Carl Hulse</td>\n",
       "      <td>2016-12-31</td>\n",
       "      <td>2016.0</td>\n",
       "      <td>12.0</td>\n",
       "      <td>NaN</td>\n",
       "      <td>WASHINGTON  —   Congressional Republicans have...</td>\n",
       "    </tr>\n",
       "    <tr>\n",
       "      <th>1</th>\n",
       "      <td>1</td>\n",
       "      <td>17284</td>\n",
       "      <td>Rift Between Officers and Residents as Killing...</td>\n",
       "      <td>New York Times</td>\n",
       "      <td>Benjamin Mueller and Al Baker</td>\n",
       "      <td>2017-06-19</td>\n",
       "      <td>2017.0</td>\n",
       "      <td>6.0</td>\n",
       "      <td>NaN</td>\n",
       "      <td>After the bullet shells get counted, the blood...</td>\n",
       "    </tr>\n",
       "    <tr>\n",
       "      <th>2</th>\n",
       "      <td>2</td>\n",
       "      <td>17285</td>\n",
       "      <td>Tyrus Wong, ‘Bambi’ Artist Thwarted by Racial ...</td>\n",
       "      <td>New York Times</td>\n",
       "      <td>Margalit Fox</td>\n",
       "      <td>2017-01-06</td>\n",
       "      <td>2017.0</td>\n",
       "      <td>1.0</td>\n",
       "      <td>NaN</td>\n",
       "      <td>When Walt Disney’s “Bambi” opened in 1942, cri...</td>\n",
       "    </tr>\n",
       "    <tr>\n",
       "      <th>3</th>\n",
       "      <td>3</td>\n",
       "      <td>17286</td>\n",
       "      <td>Among Deaths in 2016, a Heavy Toll in Pop Musi...</td>\n",
       "      <td>New York Times</td>\n",
       "      <td>William McDonald</td>\n",
       "      <td>2017-04-10</td>\n",
       "      <td>2017.0</td>\n",
       "      <td>4.0</td>\n",
       "      <td>NaN</td>\n",
       "      <td>Death may be the great equalizer, but it isn’t...</td>\n",
       "    </tr>\n",
       "    <tr>\n",
       "      <th>4</th>\n",
       "      <td>4</td>\n",
       "      <td>17287</td>\n",
       "      <td>Kim Jong-un Says North Korea Is Preparing to T...</td>\n",
       "      <td>New York Times</td>\n",
       "      <td>Choe Sang-Hun</td>\n",
       "      <td>2017-01-02</td>\n",
       "      <td>2017.0</td>\n",
       "      <td>1.0</td>\n",
       "      <td>NaN</td>\n",
       "      <td>SEOUL, South Korea  —   North Korea’s leader, ...</td>\n",
       "    </tr>\n",
       "  </tbody>\n",
       "</table>\n",
       "</div>"
      ],
      "text/plain": [
       "   Unnamed: 0     id                                              title  \\\n",
       "0           0  17283  House Republicans Fret About Winning Their Hea...   \n",
       "1           1  17284  Rift Between Officers and Residents as Killing...   \n",
       "2           2  17285  Tyrus Wong, ‘Bambi’ Artist Thwarted by Racial ...   \n",
       "3           3  17286  Among Deaths in 2016, a Heavy Toll in Pop Musi...   \n",
       "4           4  17287  Kim Jong-un Says North Korea Is Preparing to T...   \n",
       "\n",
       "      publication                         author        date    year  month  \\\n",
       "0  New York Times                     Carl Hulse  2016-12-31  2016.0   12.0   \n",
       "1  New York Times  Benjamin Mueller and Al Baker  2017-06-19  2017.0    6.0   \n",
       "2  New York Times                   Margalit Fox  2017-01-06  2017.0    1.0   \n",
       "3  New York Times               William McDonald  2017-04-10  2017.0    4.0   \n",
       "4  New York Times                  Choe Sang-Hun  2017-01-02  2017.0    1.0   \n",
       "\n",
       "   url                                            content  \n",
       "0  NaN  WASHINGTON  —   Congressional Republicans have...  \n",
       "1  NaN  After the bullet shells get counted, the blood...  \n",
       "2  NaN  When Walt Disney’s “Bambi” opened in 1942, cri...  \n",
       "3  NaN  Death may be the great equalizer, but it isn’t...  \n",
       "4  NaN  SEOUL, South Korea  —   North Korea’s leader, ...  "
      ]
     },
     "execution_count": 334,
     "metadata": {},
     "output_type": "execute_result"
    }
   ],
   "source": [
    "df = pd.read_csv('datasets/all-the-news/articles1.csv')\n",
    "#df = df[['title', 'author', 'text']]\n",
    "#df.columns = ['Title', 'Author', 'Text']\n",
    "df.head()"
   ]
  },
  {
   "cell_type": "code",
   "execution_count": 335,
   "metadata": {},
   "outputs": [
    {
     "data": {
      "text/plain": [
       "Unnamed: 0         0\n",
       "id                 0\n",
       "title              0\n",
       "publication        0\n",
       "author          6306\n",
       "date               0\n",
       "year               0\n",
       "month              0\n",
       "url            50000\n",
       "content            0\n",
       "dtype: int64"
      ]
     },
     "execution_count": 335,
     "metadata": {},
     "output_type": "execute_result"
    }
   ],
   "source": [
    "df.isnull().sum()"
   ]
  },
  {
   "cell_type": "code",
   "execution_count": 336,
   "metadata": {},
   "outputs": [
    {
     "data": {
      "text/html": [
       "<div>\n",
       "<style scoped>\n",
       "    .dataframe tbody tr th:only-of-type {\n",
       "        vertical-align: middle;\n",
       "    }\n",
       "\n",
       "    .dataframe tbody tr th {\n",
       "        vertical-align: top;\n",
       "    }\n",
       "\n",
       "    .dataframe thead th {\n",
       "        text-align: right;\n",
       "    }\n",
       "</style>\n",
       "<table border=\"1\" class=\"dataframe\">\n",
       "  <thead>\n",
       "    <tr style=\"text-align: right;\">\n",
       "      <th></th>\n",
       "      <th>id</th>\n",
       "      <th>title</th>\n",
       "      <th>publication</th>\n",
       "      <th>author</th>\n",
       "      <th>date</th>\n",
       "      <th>year</th>\n",
       "      <th>month</th>\n",
       "      <th>content</th>\n",
       "    </tr>\n",
       "  </thead>\n",
       "  <tbody>\n",
       "    <tr>\n",
       "      <th>0</th>\n",
       "      <td>17283</td>\n",
       "      <td>House Republicans Fret About Winning Their Hea...</td>\n",
       "      <td>New York Times</td>\n",
       "      <td>Carl Hulse</td>\n",
       "      <td>2016-12-31</td>\n",
       "      <td>2016.0</td>\n",
       "      <td>12.0</td>\n",
       "      <td>WASHINGTON  —   Congressional Republicans have...</td>\n",
       "    </tr>\n",
       "    <tr>\n",
       "      <th>1</th>\n",
       "      <td>17284</td>\n",
       "      <td>Rift Between Officers and Residents as Killing...</td>\n",
       "      <td>New York Times</td>\n",
       "      <td>Benjamin Mueller and Al Baker</td>\n",
       "      <td>2017-06-19</td>\n",
       "      <td>2017.0</td>\n",
       "      <td>6.0</td>\n",
       "      <td>After the bullet shells get counted, the blood...</td>\n",
       "    </tr>\n",
       "    <tr>\n",
       "      <th>2</th>\n",
       "      <td>17285</td>\n",
       "      <td>Tyrus Wong, ‘Bambi’ Artist Thwarted by Racial ...</td>\n",
       "      <td>New York Times</td>\n",
       "      <td>Margalit Fox</td>\n",
       "      <td>2017-01-06</td>\n",
       "      <td>2017.0</td>\n",
       "      <td>1.0</td>\n",
       "      <td>When Walt Disney’s “Bambi” opened in 1942, cri...</td>\n",
       "    </tr>\n",
       "    <tr>\n",
       "      <th>3</th>\n",
       "      <td>17286</td>\n",
       "      <td>Among Deaths in 2016, a Heavy Toll in Pop Musi...</td>\n",
       "      <td>New York Times</td>\n",
       "      <td>William McDonald</td>\n",
       "      <td>2017-04-10</td>\n",
       "      <td>2017.0</td>\n",
       "      <td>4.0</td>\n",
       "      <td>Death may be the great equalizer, but it isn’t...</td>\n",
       "    </tr>\n",
       "    <tr>\n",
       "      <th>4</th>\n",
       "      <td>17287</td>\n",
       "      <td>Kim Jong-un Says North Korea Is Preparing to T...</td>\n",
       "      <td>New York Times</td>\n",
       "      <td>Choe Sang-Hun</td>\n",
       "      <td>2017-01-02</td>\n",
       "      <td>2017.0</td>\n",
       "      <td>1.0</td>\n",
       "      <td>SEOUL, South Korea  —   North Korea’s leader, ...</td>\n",
       "    </tr>\n",
       "  </tbody>\n",
       "</table>\n",
       "</div>"
      ],
      "text/plain": [
       "      id                                              title     publication  \\\n",
       "0  17283  House Republicans Fret About Winning Their Hea...  New York Times   \n",
       "1  17284  Rift Between Officers and Residents as Killing...  New York Times   \n",
       "2  17285  Tyrus Wong, ‘Bambi’ Artist Thwarted by Racial ...  New York Times   \n",
       "3  17286  Among Deaths in 2016, a Heavy Toll in Pop Musi...  New York Times   \n",
       "4  17287  Kim Jong-un Says North Korea Is Preparing to T...  New York Times   \n",
       "\n",
       "                          author        date    year  month  \\\n",
       "0                     Carl Hulse  2016-12-31  2016.0   12.0   \n",
       "1  Benjamin Mueller and Al Baker  2017-06-19  2017.0    6.0   \n",
       "2                   Margalit Fox  2017-01-06  2017.0    1.0   \n",
       "3               William McDonald  2017-04-10  2017.0    4.0   \n",
       "4                  Choe Sang-Hun  2017-01-02  2017.0    1.0   \n",
       "\n",
       "                                             content  \n",
       "0  WASHINGTON  —   Congressional Republicans have...  \n",
       "1  After the bullet shells get counted, the blood...  \n",
       "2  When Walt Disney’s “Bambi” opened in 1942, cri...  \n",
       "3  Death may be the great equalizer, but it isn’t...  \n",
       "4  SEOUL, South Korea  —   North Korea’s leader, ...  "
      ]
     },
     "execution_count": 336,
     "metadata": {},
     "output_type": "execute_result"
    }
   ],
   "source": [
    "df = df.drop(['Unnamed: 0', 'url'], axis=1)\n",
    "df.head()"
   ]
  },
  {
   "cell_type": "code",
   "execution_count": 337,
   "metadata": {},
   "outputs": [
    {
     "data": {
      "text/plain": [
       "id                0\n",
       "title             0\n",
       "publication       0\n",
       "author         6306\n",
       "date              0\n",
       "year              0\n",
       "month             0\n",
       "content           0\n",
       "dtype: int64"
      ]
     },
     "execution_count": 337,
     "metadata": {},
     "output_type": "execute_result"
    }
   ],
   "source": [
    "df.isnull().sum()"
   ]
  },
  {
   "cell_type": "code",
   "execution_count": 338,
   "metadata": {
    "scrolled": true
   },
   "outputs": [
    {
     "data": {
      "text/html": [
       "<div>\n",
       "<style scoped>\n",
       "    .dataframe tbody tr th:only-of-type {\n",
       "        vertical-align: middle;\n",
       "    }\n",
       "\n",
       "    .dataframe tbody tr th {\n",
       "        vertical-align: top;\n",
       "    }\n",
       "\n",
       "    .dataframe thead th {\n",
       "        text-align: right;\n",
       "    }\n",
       "</style>\n",
       "<table border=\"1\" class=\"dataframe\">\n",
       "  <thead>\n",
       "    <tr style=\"text-align: right;\">\n",
       "      <th></th>\n",
       "      <th>id</th>\n",
       "      <th>title</th>\n",
       "      <th>publication</th>\n",
       "      <th>author</th>\n",
       "      <th>date</th>\n",
       "      <th>year</th>\n",
       "      <th>month</th>\n",
       "      <th>content</th>\n",
       "    </tr>\n",
       "  </thead>\n",
       "  <tbody>\n",
       "    <tr>\n",
       "      <th>0</th>\n",
       "      <td>17283</td>\n",
       "      <td>House Republicans Fret About Winning Their Hea...</td>\n",
       "      <td>New York Times</td>\n",
       "      <td>Carl Hulse</td>\n",
       "      <td>2016-12-31</td>\n",
       "      <td>2016.0</td>\n",
       "      <td>12.0</td>\n",
       "      <td>WASHINGTON  —   Congressional Republicans have...</td>\n",
       "    </tr>\n",
       "    <tr>\n",
       "      <th>1</th>\n",
       "      <td>17284</td>\n",
       "      <td>Rift Between Officers and Residents as Killing...</td>\n",
       "      <td>New York Times</td>\n",
       "      <td>Benjamin Mueller and Al Baker</td>\n",
       "      <td>2017-06-19</td>\n",
       "      <td>2017.0</td>\n",
       "      <td>6.0</td>\n",
       "      <td>After the bullet shells get counted, the blood...</td>\n",
       "    </tr>\n",
       "    <tr>\n",
       "      <th>2</th>\n",
       "      <td>17285</td>\n",
       "      <td>Tyrus Wong, ‘Bambi’ Artist Thwarted by Racial ...</td>\n",
       "      <td>New York Times</td>\n",
       "      <td>Margalit Fox</td>\n",
       "      <td>2017-01-06</td>\n",
       "      <td>2017.0</td>\n",
       "      <td>1.0</td>\n",
       "      <td>When Walt Disney’s “Bambi” opened in 1942, cri...</td>\n",
       "    </tr>\n",
       "    <tr>\n",
       "      <th>3</th>\n",
       "      <td>17286</td>\n",
       "      <td>Among Deaths in 2016, a Heavy Toll in Pop Musi...</td>\n",
       "      <td>New York Times</td>\n",
       "      <td>William McDonald</td>\n",
       "      <td>2017-04-10</td>\n",
       "      <td>2017.0</td>\n",
       "      <td>4.0</td>\n",
       "      <td>Death may be the great equalizer, but it isn’t...</td>\n",
       "    </tr>\n",
       "    <tr>\n",
       "      <th>4</th>\n",
       "      <td>17287</td>\n",
       "      <td>Kim Jong-un Says North Korea Is Preparing to T...</td>\n",
       "      <td>New York Times</td>\n",
       "      <td>Choe Sang-Hun</td>\n",
       "      <td>2017-01-02</td>\n",
       "      <td>2017.0</td>\n",
       "      <td>1.0</td>\n",
       "      <td>SEOUL, South Korea  —   North Korea’s leader, ...</td>\n",
       "    </tr>\n",
       "  </tbody>\n",
       "</table>\n",
       "</div>"
      ],
      "text/plain": [
       "      id                                              title     publication  \\\n",
       "0  17283  House Republicans Fret About Winning Their Hea...  New York Times   \n",
       "1  17284  Rift Between Officers and Residents as Killing...  New York Times   \n",
       "2  17285  Tyrus Wong, ‘Bambi’ Artist Thwarted by Racial ...  New York Times   \n",
       "3  17286  Among Deaths in 2016, a Heavy Toll in Pop Musi...  New York Times   \n",
       "4  17287  Kim Jong-un Says North Korea Is Preparing to T...  New York Times   \n",
       "\n",
       "                          author        date    year  month  \\\n",
       "0                     Carl Hulse  2016-12-31  2016.0   12.0   \n",
       "1  Benjamin Mueller and Al Baker  2017-06-19  2017.0    6.0   \n",
       "2                   Margalit Fox  2017-01-06  2017.0    1.0   \n",
       "3               William McDonald  2017-04-10  2017.0    4.0   \n",
       "4                  Choe Sang-Hun  2017-01-02  2017.0    1.0   \n",
       "\n",
       "                                             content  \n",
       "0  WASHINGTON  —   Congressional Republicans have...  \n",
       "1  After the bullet shells get counted, the blood...  \n",
       "2  When Walt Disney’s “Bambi” opened in 1942, cri...  \n",
       "3  Death may be the great equalizer, but it isn’t...  \n",
       "4  SEOUL, South Korea  —   North Korea’s leader, ...  "
      ]
     },
     "execution_count": 338,
     "metadata": {},
     "output_type": "execute_result"
    }
   ],
   "source": [
    "df = df.dropna()\n",
    "df.head()"
   ]
  },
  {
   "cell_type": "code",
   "execution_count": 339,
   "metadata": {
    "scrolled": false
   },
   "outputs": [
    {
     "name": "stdout",
     "output_type": "stream",
     "text": [
      "Statistical Summary of Article Lengths\n",
      "count     43694.000000\n",
      "mean       3853.685197\n",
      "std        3894.493670\n",
      "min           1.000000\n",
      "25%        1672.000000\n",
      "50%        2810.500000\n",
      "75%        5046.750000\n",
      "max      149346.000000\n",
      "dtype: float64\n"
     ]
    },
    {
     "data": {
      "image/png": "[encoded data removed]",
      "text/plain": [
       "<Figure size 432x288 with 1 Axes>"
      ]
     },
     "metadata": {},
     "output_type": "display_data"
    },
    {
     "data": {
      "image/png": "[encoded data removed]",
      "text/plain": [
       "<Figure size 432x288 with 1 Axes>"
      ]
     },
     "metadata": {},
     "output_type": "display_data"
    }
   ],
   "source": [
    "lengths = pd.Series([len(x) for x in df.content])\n",
    "print('Statistical Summary of Article Lengths')\n",
    "print(lengths.describe())\n",
    "\n",
    "sns.distplot(lengths,kde=False)\n",
    "plt.title('Distribution of Article Lengths (All)')\n",
    "plt.show()\n",
    "sns.distplot(lengths[lengths<10000],kde=False)\n",
    "plt.title('Distribution of Articles Lengths < 10,000 Characters')\n",
    "plt.show()"
   ]
  },
  {
   "cell_type": "code",
   "execution_count": 340,
   "metadata": {},
   "outputs": [
    {
     "data": {
      "text/html": [
       "<div>\n",
       "<style scoped>\n",
       "    .dataframe tbody tr th:only-of-type {\n",
       "        vertical-align: middle;\n",
       "    }\n",
       "\n",
       "    .dataframe tbody tr th {\n",
       "        vertical-align: top;\n",
       "    }\n",
       "\n",
       "    .dataframe thead th {\n",
       "        text-align: right;\n",
       "    }\n",
       "</style>\n",
       "<table border=\"1\" class=\"dataframe\">\n",
       "  <thead>\n",
       "    <tr style=\"text-align: right;\">\n",
       "      <th></th>\n",
       "      <th>id</th>\n",
       "      <th>year</th>\n",
       "      <th>month</th>\n",
       "    </tr>\n",
       "  </thead>\n",
       "  <tbody>\n",
       "    <tr>\n",
       "      <th>count</th>\n",
       "      <td>43694.000000</td>\n",
       "      <td>43694.000000</td>\n",
       "      <td>43694.000000</td>\n",
       "    </tr>\n",
       "    <tr>\n",
       "      <th>mean</th>\n",
       "      <td>42122.658283</td>\n",
       "      <td>2016.314666</td>\n",
       "      <td>5.484895</td>\n",
       "    </tr>\n",
       "    <tr>\n",
       "      <th>std</th>\n",
       "      <td>15340.887303</td>\n",
       "      <td>0.563555</td>\n",
       "      <td>3.351943</td>\n",
       "    </tr>\n",
       "    <tr>\n",
       "      <th>min</th>\n",
       "      <td>17283.000000</td>\n",
       "      <td>2012.000000</td>\n",
       "      <td>1.000000</td>\n",
       "    </tr>\n",
       "    <tr>\n",
       "      <th>25%</th>\n",
       "      <td>29695.250000</td>\n",
       "      <td>2016.000000</td>\n",
       "      <td>3.000000</td>\n",
       "    </tr>\n",
       "    <tr>\n",
       "      <th>50%</th>\n",
       "      <td>40632.500000</td>\n",
       "      <td>2016.000000</td>\n",
       "      <td>5.000000</td>\n",
       "    </tr>\n",
       "    <tr>\n",
       "      <th>75%</th>\n",
       "      <td>52731.750000</td>\n",
       "      <td>2017.000000</td>\n",
       "      <td>8.000000</td>\n",
       "    </tr>\n",
       "    <tr>\n",
       "      <th>max</th>\n",
       "      <td>73469.000000</td>\n",
       "      <td>2017.000000</td>\n",
       "      <td>12.000000</td>\n",
       "    </tr>\n",
       "  </tbody>\n",
       "</table>\n",
       "</div>"
      ],
      "text/plain": [
       "                 id          year         month\n",
       "count  43694.000000  43694.000000  43694.000000\n",
       "mean   42122.658283   2016.314666      5.484895\n",
       "std    15340.887303      0.563555      3.351943\n",
       "min    17283.000000   2012.000000      1.000000\n",
       "25%    29695.250000   2016.000000      3.000000\n",
       "50%    40632.500000   2016.000000      5.000000\n",
       "75%    52731.750000   2017.000000      8.000000\n",
       "max    73469.000000   2017.000000     12.000000"
      ]
     },
     "execution_count": 340,
     "metadata": {},
     "output_type": "execute_result"
    }
   ],
   "source": [
    "df.describe()"
   ]
  },
  {
   "cell_type": "code",
   "execution_count": 341,
   "metadata": {},
   "outputs": [
    {
     "data": {
      "text/plain": [
       "count     43694.000000\n",
       "mean       3853.685197\n",
       "std        3894.493670\n",
       "min           1.000000\n",
       "25%        1672.000000\n",
       "50%        2810.500000\n",
       "75%        5046.750000\n",
       "max      149346.000000\n",
       "dtype: float64"
      ]
     },
     "execution_count": 341,
     "metadata": {},
     "output_type": "execute_result"
    }
   ],
   "source": [
    "lengths.describe()"
   ]
  },
  {
   "cell_type": "code",
   "execution_count": 342,
   "metadata": {
    "scrolled": true
   },
   "outputs": [
    {
     "data": {
      "text/html": [
       "<div>\n",
       "<style scoped>\n",
       "    .dataframe tbody tr th:only-of-type {\n",
       "        vertical-align: middle;\n",
       "    }\n",
       "\n",
       "    .dataframe tbody tr th {\n",
       "        vertical-align: top;\n",
       "    }\n",
       "\n",
       "    .dataframe thead th {\n",
       "        text-align: right;\n",
       "    }\n",
       "</style>\n",
       "<table border=\"1\" class=\"dataframe\">\n",
       "  <thead>\n",
       "    <tr style=\"text-align: right;\">\n",
       "      <th></th>\n",
       "      <th>id</th>\n",
       "      <th>title</th>\n",
       "      <th>publication</th>\n",
       "      <th>author</th>\n",
       "      <th>date</th>\n",
       "      <th>year</th>\n",
       "      <th>month</th>\n",
       "      <th>content</th>\n",
       "      <th>length</th>\n",
       "    </tr>\n",
       "  </thead>\n",
       "  <tbody>\n",
       "    <tr>\n",
       "      <th>0</th>\n",
       "      <td>17283</td>\n",
       "      <td>House Republicans Fret About Winning Their Hea...</td>\n",
       "      <td>New York Times</td>\n",
       "      <td>Carl Hulse</td>\n",
       "      <td>2016-12-31</td>\n",
       "      <td>2016.0</td>\n",
       "      <td>12.0</td>\n",
       "      <td>WASHINGTON  —   Congressional Republicans have...</td>\n",
       "      <td>5607.0</td>\n",
       "    </tr>\n",
       "    <tr>\n",
       "      <th>1</th>\n",
       "      <td>17284</td>\n",
       "      <td>Rift Between Officers and Residents as Killing...</td>\n",
       "      <td>New York Times</td>\n",
       "      <td>Benjamin Mueller and Al Baker</td>\n",
       "      <td>2017-06-19</td>\n",
       "      <td>2017.0</td>\n",
       "      <td>6.0</td>\n",
       "      <td>After the bullet shells get counted, the blood...</td>\n",
       "      <td>27834.0</td>\n",
       "    </tr>\n",
       "    <tr>\n",
       "      <th>2</th>\n",
       "      <td>17285</td>\n",
       "      <td>Tyrus Wong, ‘Bambi’ Artist Thwarted by Racial ...</td>\n",
       "      <td>New York Times</td>\n",
       "      <td>Margalit Fox</td>\n",
       "      <td>2017-01-06</td>\n",
       "      <td>2017.0</td>\n",
       "      <td>1.0</td>\n",
       "      <td>When Walt Disney’s “Bambi” opened in 1942, cri...</td>\n",
       "      <td>14018.0</td>\n",
       "    </tr>\n",
       "    <tr>\n",
       "      <th>3</th>\n",
       "      <td>17286</td>\n",
       "      <td>Among Deaths in 2016, a Heavy Toll in Pop Musi...</td>\n",
       "      <td>New York Times</td>\n",
       "      <td>William McDonald</td>\n",
       "      <td>2017-04-10</td>\n",
       "      <td>2017.0</td>\n",
       "      <td>4.0</td>\n",
       "      <td>Death may be the great equalizer, but it isn’t...</td>\n",
       "      <td>12274.0</td>\n",
       "    </tr>\n",
       "    <tr>\n",
       "      <th>4</th>\n",
       "      <td>17287</td>\n",
       "      <td>Kim Jong-un Says North Korea Is Preparing to T...</td>\n",
       "      <td>New York Times</td>\n",
       "      <td>Choe Sang-Hun</td>\n",
       "      <td>2017-01-02</td>\n",
       "      <td>2017.0</td>\n",
       "      <td>1.0</td>\n",
       "      <td>SEOUL, South Korea  —   North Korea’s leader, ...</td>\n",
       "      <td>4195.0</td>\n",
       "    </tr>\n",
       "  </tbody>\n",
       "</table>\n",
       "</div>"
      ],
      "text/plain": [
       "      id                                              title     publication  \\\n",
       "0  17283  House Republicans Fret About Winning Their Hea...  New York Times   \n",
       "1  17284  Rift Between Officers and Residents as Killing...  New York Times   \n",
       "2  17285  Tyrus Wong, ‘Bambi’ Artist Thwarted by Racial ...  New York Times   \n",
       "3  17286  Among Deaths in 2016, a Heavy Toll in Pop Musi...  New York Times   \n",
       "4  17287  Kim Jong-un Says North Korea Is Preparing to T...  New York Times   \n",
       "\n",
       "                          author        date    year  month  \\\n",
       "0                     Carl Hulse  2016-12-31  2016.0   12.0   \n",
       "1  Benjamin Mueller and Al Baker  2017-06-19  2017.0    6.0   \n",
       "2                   Margalit Fox  2017-01-06  2017.0    1.0   \n",
       "3               William McDonald  2017-04-10  2017.0    4.0   \n",
       "4                  Choe Sang-Hun  2017-01-02  2017.0    1.0   \n",
       "\n",
       "                                             content   length  \n",
       "0  WASHINGTON  —   Congressional Republicans have...   5607.0  \n",
       "1  After the bullet shells get counted, the blood...  27834.0  \n",
       "2  When Walt Disney’s “Bambi” opened in 1942, cri...  14018.0  \n",
       "3  Death may be the great equalizer, but it isn’t...  12274.0  \n",
       "4  SEOUL, South Korea  —   North Korea’s leader, ...   4195.0  "
      ]
     },
     "execution_count": 342,
     "metadata": {},
     "output_type": "execute_result"
    }
   ],
   "source": [
    "# Add lengths column to main dataframe\n",
    "df['length'] = lengths\n",
    "df.head()"
   ]
  },
  {
   "cell_type": "code",
   "execution_count": 343,
   "metadata": {},
   "outputs": [
    {
     "data": {
      "text/plain": [
       "id                0\n",
       "title             0\n",
       "publication       0\n",
       "author            0\n",
       "date              0\n",
       "year              0\n",
       "month             0\n",
       "content           0\n",
       "length         4648\n",
       "dtype: int64"
      ]
     },
     "execution_count": 343,
     "metadata": {},
     "output_type": "execute_result"
    }
   ],
   "source": [
    "df.isnull().sum()"
   ]
  },
  {
   "cell_type": "code",
   "execution_count": 344,
   "metadata": {
    "scrolled": true
   },
   "outputs": [],
   "source": [
    "# Filter out articles not within a specific range\n",
    "#df = df[df['length'] > 5000]\n",
    "#df.head()"
   ]
  },
  {
   "cell_type": "code",
   "execution_count": 345,
   "metadata": {
    "scrolled": false
   },
   "outputs": [
    {
     "name": "stdout",
     "output_type": "stream",
     "text": [
      "Breitbart News               1559\n",
      "Pam Key                      1282\n",
      "Charlie Spiering              928\n",
      "Jerome Hudson                 806\n",
      "John Hayward                  747\n",
      "Daniel Nussbaum               735\n",
      "AWR Hawkins                   720\n",
      "Ian Hanchett                  647\n",
      "Joel B. Pollak                624\n",
      "Alex Swoyer                   604\n",
      "Warner Todd Huston            545\n",
      "Jeff Poor                     505\n",
      "Trent Baker                   457\n",
      "Breitbart London              447\n",
      "Katherine Rodriguez           435\n",
      "Charlie Nash                  421\n",
      "Ben Kew                       373\n",
      "Frances Martel                366\n",
      "Bob Price                     340\n",
      "Dr. Susan Berry               333\n",
      "Allan Smith                   311\n",
      "Aaron Klein                   310\n",
      "Breitbart Jerusalem           308\n",
      "Thomas D. Williams, Ph.D.     305\n",
      "Dan Riehl                     286\n",
      "Lucas Nolan                   272\n",
      "Patrick Howley                259\n",
      "Matthew Boyle                 257\n",
      "Tom Ciccotta                  256\n",
      "Michelle Moons                253\n",
      "                             ... \n",
      "Michael Patrick Leahy         147\n",
      "Nick Hallett                  137\n",
      "Lisa Respers France           137\n",
      "Stephen Collinson             135\n",
      "Lana Shadwick                 135\n",
      "James Delingpole              133\n",
      "Penny Starr                   132\n",
      "Ildefonso Ortiz               131\n",
      "Bob Bryan                     131\n",
      "Matt Weinberger               130\n",
      "Kipp Jones                    128\n",
      "Lee Stranahan                 128\n",
      "Theodore Schleifer            128\n",
      "Matthew DeBord                126\n",
      "John Nolte                    125\n",
      "Bryan Logan                   125\n",
      "Dylan Gwinn                   121\n",
      "Biz Carson                    121\n",
      "Robert J. Marlow              120\n",
      "Kevin Liptak                  119\n",
      "Scott Davis                   119\n",
      "Eugene Scott                  118\n",
      "Laura Smith-Spark             115\n",
      "Raheem Kassam                 110\n",
      "Julie Bort                    110\n",
      "Jeremy Berke                  109\n",
      "Eli Watkins                   106\n",
      "Daniella Diaz                 104\n",
      "Oliver Darcy                  104\n",
      "Cartel Chronicles             102\n",
      "Name: author, Length: 86, dtype: int64\n"
     ]
    }
   ],
   "source": [
    "# First ten authors with more than X articles\n",
    "print(df.author.value_counts()[df.author.value_counts()>100][-100:])"
   ]
  },
  {
   "cell_type": "code",
   "execution_count": 346,
   "metadata": {},
   "outputs": [
    {
     "name": "stdout",
     "output_type": "stream",
     "text": [
      "['Breitbart News', 'Pam Key', 'Charlie Spiering', 'Jerome Hudson', 'John Hayward', 'Daniel Nussbaum', 'AWR Hawkins', 'Ian Hanchett', 'Joel B. Pollak', 'Alex Swoyer', 'Warner Todd Huston', 'Jeff Poor', 'Trent Baker', 'Breitbart London', 'Katherine Rodriguez', 'Charlie Nash', 'Ben Kew', 'Frances Martel', 'Bob Price', 'Dr. Susan Berry', 'Allan Smith', 'Aaron Klein', 'Breitbart Jerusalem', 'Thomas D. Williams, Ph.D.', 'Dan Riehl', 'Lucas Nolan', 'Patrick Howley', 'Matthew Boyle', 'Tom Ciccotta', 'Michelle Moons', 'Adelle Nazarian', 'Chris Tomlinson', 'Pamela Engel', 'Liam Deacon', 'Katie McHugh', 'John Binder', 'Neil Munro', 'Edwin Mora', 'Neil W. McCabe', 'Maxwell Tani', 'Eric Bradner', 'Jeremy Diamond', 'Breitbart TV', 'Julia Hahn', 'Donna Rachel Edmunds', 'Emanuella Grinberg', 'Breitbart Tech', 'Natasha Bertrand', 'Mark Abadi', 'Chriss W. Street', 'Virginia Hale', 'Nate Church', 'Oliver JJ Lane', 'Allum Bokhari', 'Deborah Danan', 'Caroline May', 'Michael Patrick Leahy', 'Nick Hallett', 'Lisa Respers France', 'Stephen Collinson', 'Lana Shadwick', 'James Delingpole', 'Penny Starr', 'Ildefonso Ortiz', 'Bob Bryan', 'Matt Weinberger', 'Kipp Jones', 'Lee Stranahan', 'Theodore Schleifer', 'Matthew DeBord', 'John Nolte', 'Bryan Logan', 'Dylan Gwinn', 'Biz Carson', 'Robert J. Marlow', 'Kevin Liptak', 'Scott Davis', 'Eugene Scott', 'Laura Smith-Spark', 'Raheem Kassam', 'Julie Bort', 'Jeremy Berke', 'Eli Watkins', 'Daniella Diaz', 'Oliver Darcy', 'Cartel Chronicles']\n",
      "                                                  title  \\\n",
      "7817  NYT: Immigration Hard-Liners Rising in Trump A...   \n",
      "7858  Trump: Press Lying About Inauguration Crowd Si...   \n",
      "7872  Report: Anti-Trump Hollywood Wins Big with Pre...   \n",
      "7887  Breitbart News Daily: Terror in Manchester - B...   \n",
      "7912  Rush Limbaugh on Obamacare 2.0: ’Why Do the Re...   \n",
      "\n",
      "                                                content          author  \n",
      "7817  Advocates who want America’s immigration laws ...  Breitbart News  \n",
      "7858  This story first appeared on Fox 5 New York:  ...  Breitbart News  \n",
      "7872  In a column for the Hollywood Reporter, Senior...  Breitbart News  \n",
      "7887  On the Tuesday edition of Breitbart News Daily...  Breitbart News  \n",
      "7912  Conservative radio host Rush Limbaugh question...  Breitbart News  \n"
     ]
    },
    {
     "data": {
      "text/html": [
       "<div>\n",
       "<style scoped>\n",
       "    .dataframe tbody tr th:only-of-type {\n",
       "        vertical-align: middle;\n",
       "    }\n",
       "\n",
       "    .dataframe tbody tr th {\n",
       "        vertical-align: top;\n",
       "    }\n",
       "\n",
       "    .dataframe thead th {\n",
       "        text-align: right;\n",
       "    }\n",
       "</style>\n",
       "<table border=\"1\" class=\"dataframe\">\n",
       "  <thead>\n",
       "    <tr style=\"text-align: right;\">\n",
       "      <th></th>\n",
       "      <th>title</th>\n",
       "      <th>content</th>\n",
       "      <th>author</th>\n",
       "    </tr>\n",
       "  </thead>\n",
       "  <tbody>\n",
       "    <tr>\n",
       "      <th>0</th>\n",
       "      <td>NYT: Immigration Hard-Liners Rising in Trump A...</td>\n",
       "      <td>Advocates who want America’s immigration laws ...</td>\n",
       "      <td>Breitbart News</td>\n",
       "    </tr>\n",
       "    <tr>\n",
       "      <th>1</th>\n",
       "      <td>Trump: Press Lying About Inauguration Crowd Si...</td>\n",
       "      <td>This story first appeared on Fox 5 New York:  ...</td>\n",
       "      <td>Breitbart News</td>\n",
       "    </tr>\n",
       "    <tr>\n",
       "      <th>2</th>\n",
       "      <td>Report: Anti-Trump Hollywood Wins Big with Pre...</td>\n",
       "      <td>In a column for the Hollywood Reporter, Senior...</td>\n",
       "      <td>Breitbart News</td>\n",
       "    </tr>\n",
       "    <tr>\n",
       "      <th>3</th>\n",
       "      <td>Breitbart News Daily: Terror in Manchester - B...</td>\n",
       "      <td>On the Tuesday edition of Breitbart News Daily...</td>\n",
       "      <td>Breitbart News</td>\n",
       "    </tr>\n",
       "    <tr>\n",
       "      <th>4</th>\n",
       "      <td>Rush Limbaugh on Obamacare 2.0: ’Why Do the Re...</td>\n",
       "      <td>Conservative radio host Rush Limbaugh question...</td>\n",
       "      <td>Breitbart News</td>\n",
       "    </tr>\n",
       "  </tbody>\n",
       "</table>\n",
       "</div>"
      ],
      "text/plain": [
       "                                               title  \\\n",
       "0  NYT: Immigration Hard-Liners Rising in Trump A...   \n",
       "1  Trump: Press Lying About Inauguration Crowd Si...   \n",
       "2  Report: Anti-Trump Hollywood Wins Big with Pre...   \n",
       "3  Breitbart News Daily: Terror in Manchester - B...   \n",
       "4  Rush Limbaugh on Obamacare 2.0: ’Why Do the Re...   \n",
       "\n",
       "                                             content          author  \n",
       "0  Advocates who want America’s immigration laws ...  Breitbart News  \n",
       "1  This story first appeared on Fox 5 New York:  ...  Breitbart News  \n",
       "2  In a column for the Hollywood Reporter, Senior...  Breitbart News  \n",
       "3  On the Tuesday edition of Breitbart News Daily...  Breitbart News  \n",
       "4  Conservative radio host Rush Limbaugh question...  Breitbart News  "
      ]
     },
     "execution_count": 346,
     "metadata": {},
     "output_type": "execute_result"
    }
   ],
   "source": [
    "# Make a DataFrame with articles by our chosen authors\n",
    "# Include author names and article titles.\n",
    "\n",
    "# Make a list of the 10 chosen author names\n",
    "names = df.author.value_counts()[df.author.value_counts()>100][-100:].index.tolist()\n",
    "\n",
    "print(names)\n",
    "\n",
    "#names.remove('Breitbart London')\n",
    "\n",
    "#print(names)\n",
    "\n",
    "# DataFrame for articles of all chosen authors\n",
    "data = pd.DataFrame()\n",
    "for name in names:\n",
    "    # Select each author's data\n",
    "    articles = df[df.author==name][:100][['title','content','author']]\n",
    "    # Append it to the DataFrame\n",
    "    data = data.append(articles)\n",
    "\n",
    "print(data.head())\n",
    "    \n",
    "data = data.reset_index().drop('index', 1)\n",
    "    \n",
    "data.head()"
   ]
  },
  {
   "cell_type": "code",
   "execution_count": 347,
   "metadata": {
    "scrolled": false
   },
   "outputs": [
    {
     "name": "stdout",
     "output_type": "stream",
     "text": [
      "Number of articles: 8600\n",
      "Unique articles: 8600\n",
      "Unique authors: 86\n",
      "\n",
      "Articles by author:\n",
      "\n",
      "Bob Price                    100\n",
      "Adelle Nazarian              100\n",
      "Matthew Boyle                100\n",
      "Matt Weinberger              100\n",
      "Breitbart Tech               100\n",
      "Virginia Hale                100\n",
      "Lisa Respers France          100\n",
      "Cartel Chronicles            100\n",
      "Edwin Mora                   100\n",
      "Lucas Nolan                  100\n",
      "Laura Smith-Spark            100\n",
      "Michael Patrick Leahy        100\n",
      "Julia Hahn                   100\n",
      "Dr. Susan Berry              100\n",
      "Thomas D. Williams, Ph.D.    100\n",
      "Joel B. Pollak               100\n",
      "Pam Key                      100\n",
      "Deborah Danan                100\n",
      "Emanuella Grinberg           100\n",
      "Daniella Diaz                100\n",
      "Katherine Rodriguez          100\n",
      "Charlie Nash                 100\n",
      "Daniel Nussbaum              100\n",
      "Breitbart News               100\n",
      "Chris Tomlinson              100\n",
      "Ben Kew                      100\n",
      "Oliver JJ Lane               100\n",
      "Raheem Kassam                100\n",
      "Jerome Hudson                100\n",
      "Lana Shadwick                100\n",
      "                            ... \n",
      "Katie McHugh                 100\n",
      "Julie Bort                   100\n",
      "Trent Baker                  100\n",
      "Oliver Darcy                 100\n",
      "Alex Swoyer                  100\n",
      "Dylan Gwinn                  100\n",
      "Robert J. Marlow             100\n",
      "Caroline May                 100\n",
      "Donna Rachel Edmunds         100\n",
      "Frances Martel               100\n",
      "Bryan Logan                  100\n",
      "Chriss W. Street             100\n",
      "Mark Abadi                   100\n",
      "Eric Bradner                 100\n",
      "Jeremy Berke                 100\n",
      "Pamela Engel                 100\n",
      "Allan Smith                  100\n",
      "John Binder                  100\n",
      "Ian Hanchett                 100\n",
      "Breitbart Jerusalem          100\n",
      "Allum Bokhari                100\n",
      "Breitbart London             100\n",
      "Breitbart TV                 100\n",
      "Neil Munro                   100\n",
      "Kipp Jones                   100\n",
      "Liam Deacon                  100\n",
      "Ildefonso Ortiz              100\n",
      "Scott Davis                  100\n",
      "Eugene Scott                 100\n",
      "Warner Todd Huston           100\n",
      "Name: author, Length: 86, dtype: int64\n"
     ]
    }
   ],
   "source": [
    "# Look for duplicates\n",
    "print('Number of articles:', data.shape[0])\n",
    "print('Unique articles:', len(np.unique(data.index)))\n",
    "\n",
    "# Number of authors\n",
    "print('Unique authors:', len(np.unique(data.author)))\n",
    "print('')\n",
    "print('Articles by author:\\n')\n",
    "\n",
    "# Articles counts by author\n",
    "print(data.author.value_counts())"
   ]
  },
  {
   "cell_type": "code",
   "execution_count": 348,
   "metadata": {},
   "outputs": [
    {
     "name": "stdout",
     "output_type": "stream",
     "text": [
      "Total number of common words: 9794\n",
      "done in 982.183s\n"
     ]
    }
   ],
   "source": [
    "start = time()\n",
    "\n",
    "# Load spacy NLP object\n",
    "nlp = spacy.load('en')\n",
    "\n",
    "# A list to store common words by all authors\n",
    "common_words = []\n",
    "\n",
    "# A dictionary to store the spacy_doc object of each author\n",
    "authors_docs = {}\n",
    "\n",
    "for name in names:\n",
    "    # Corpus is all the text written by that author\n",
    "    corpus = \"\"\n",
    "    \n",
    "    # Grab all rows of current author, along the 'content' column\n",
    "    author_content = data.loc[data.author == name, 'content']\n",
    "    \n",
    "    # Merge all articles in to the author's corpus\n",
    "    for article in author_content:\n",
    "        corpus = corpus + article\n",
    "        \n",
    "    # Let Spacy parse the author's body of text\n",
    "    doc = nlp(corpus)\n",
    "    \n",
    "    # Store the doc in the dictionary\n",
    "    authors_docs[name] = doc\n",
    "        \n",
    "    # Filter out punctuation and stop words.\n",
    "    lemmas = [token.lemma_ for token in doc if not token.is_punct and not token.is_stop]\n",
    "        \n",
    "    # Return the most common words of that author's corpus.\n",
    "    bow = [item[0] for item in Counter(lemmas).most_common(1000)]\n",
    "    \n",
    "    # Add them to the list of words by all authors.\n",
    "    for word in bow:\n",
    "        common_words.append(word)\n",
    "\n",
    "# Eliminate duplicates\n",
    "common_words = set(common_words)\n",
    "    \n",
    "print('Total number of common words:', len(common_words))\n",
    "print(\"done in %0.3fs\" % (time() - start))"
   ]
  },
  {
   "cell_type": "code",
   "execution_count": 349,
   "metadata": {},
   "outputs": [
    {
     "name": "stdout",
     "output_type": "stream",
     "text": [
      "Breitbart News corpus contains 35430  words.\n",
      "Pam Key corpus contains 22077  words.\n",
      "Charlie Spiering corpus contains 29404  words.\n",
      "Jerome Hudson corpus contains 46174  words.\n",
      "John Hayward corpus contains 118996  words.\n",
      "Daniel Nussbaum corpus contains 47128  words.\n",
      "AWR Hawkins corpus contains 42680  words.\n",
      "Ian Hanchett corpus contains 29782  words.\n",
      "Joel B. Pollak corpus contains 66611  words.\n",
      "Alex Swoyer corpus contains 29901  words.\n",
      "Warner Todd Huston corpus contains 48861  words.\n",
      "Jeff Poor corpus contains 42895  words.\n",
      "Trent Baker corpus contains 18296  words.\n",
      "Breitbart London corpus contains 49026  words.\n",
      "Katherine Rodriguez corpus contains 33162  words.\n",
      "Charlie Nash corpus contains 48917  words.\n",
      "Ben Kew corpus contains 41155  words.\n",
      "Frances Martel corpus contains 85967  words.\n",
      "Bob Price corpus contains 71230  words.\n",
      "Dr. Susan Berry corpus contains 81060  words.\n",
      "Allan Smith corpus contains 104917  words.\n",
      "Aaron Klein corpus contains 102681  words.\n",
      "Breitbart Jerusalem corpus contains 25390  words.\n",
      "Thomas D. Williams, Ph.D. corpus contains 61803  words.\n",
      "Dan Riehl corpus contains 27863  words.\n",
      "Lucas Nolan corpus contains 46783  words.\n",
      "Patrick Howley corpus contains 44344  words.\n",
      "Matthew Boyle corpus contains 134007  words.\n",
      "Tom Ciccotta corpus contains 42446  words.\n",
      "Michelle Moons corpus contains 67246  words.\n",
      "Adelle Nazarian corpus contains 60848  words.\n",
      "Chris Tomlinson corpus contains 50037  words.\n",
      "Pamela Engel corpus contains 68042  words.\n",
      "Liam Deacon corpus contains 49648  words.\n",
      "Katie McHugh corpus contains 64368  words.\n",
      "John Binder corpus contains 44550  words.\n",
      "Neil Munro corpus contains 102280  words.\n",
      "Edwin Mora corpus contains 73965  words.\n",
      "Neil W. McCabe corpus contains 68647  words.\n",
      "Maxwell Tani corpus contains 67492  words.\n",
      "Eric Bradner corpus contains 91676  words.\n",
      "Jeremy Diamond corpus contains 89097  words.\n",
      "Breitbart TV corpus contains 41936  words.\n",
      "Julia Hahn corpus contains 132992  words.\n",
      "Donna Rachel Edmunds corpus contains 64068  words.\n",
      "Emanuella Grinberg corpus contains 87858  words.\n",
      "Breitbart Tech corpus contains 21993  words.\n",
      "Natasha Bertrand corpus contains 71633  words.\n",
      "Mark Abadi corpus contains 41762  words.\n",
      "Chriss W. Street corpus contains 62224  words.\n",
      "Virginia Hale corpus contains 51349  words.\n",
      "Nate Church corpus contains 63307  words.\n",
      "Oliver JJ Lane corpus contains 52130  words.\n",
      "Allum Bokhari corpus contains 68850  words.\n",
      "Deborah Danan corpus contains 49303  words.\n",
      "Caroline May corpus contains 48099  words.\n",
      "Michael Patrick Leahy corpus contains 135670  words.\n",
      "Nick Hallett corpus contains 42606  words.\n",
      "Lisa Respers France corpus contains 49546  words.\n",
      "Stephen Collinson corpus contains 151110  words.\n",
      "Lana Shadwick corpus contains 74742  words.\n",
      "James Delingpole corpus contains 93653  words.\n",
      "Penny Starr corpus contains 52939  words.\n",
      "Ildefonso Ortiz corpus contains 44084  words.\n",
      "Bob Bryan corpus contains 50998  words.\n",
      "Matt Weinberger corpus contains 44268  words.\n",
      "Kipp Jones corpus contains 55302  words.\n",
      "Lee Stranahan corpus contains 92083  words.\n",
      "Theodore Schleifer corpus contains 59377  words.\n",
      "Matthew DeBord corpus contains 73761  words.\n",
      "John Nolte corpus contains 52072  words.\n",
      "Bryan Logan corpus contains 40857  words.\n",
      "Dylan Gwinn corpus contains 43435  words.\n",
      "Biz Carson corpus contains 50032  words.\n",
      "Robert J. Marlow corpus contains 42873  words.\n",
      "Kevin Liptak corpus contains 93004  words.\n",
      "Scott Davis corpus contains 39034  words.\n",
      "Eugene Scott corpus contains 66174  words.\n",
      "Laura Smith-Spark corpus contains 100065  words.\n",
      "Raheem Kassam corpus contains 74184  words.\n",
      "Julie Bort corpus contains 64793  words.\n",
      "Jeremy Berke corpus contains 37497  words.\n",
      "Eli Watkins corpus contains 74679  words.\n",
      "Daniella Diaz corpus contains 48219  words.\n",
      "Oliver Darcy corpus contains 57252  words.\n",
      "Cartel Chronicles corpus contains 46935  words.\n"
     ]
    }
   ],
   "source": [
    "# Let's see our 10 authors in the dictionary\n",
    "lengths = []\n",
    "for k,v in authors_docs.items():\n",
    "    print(k,'corpus contains', len(v), ' words.')\n",
    "    lengths.append(len(v))"
   ]
  },
  {
   "cell_type": "code",
   "execution_count": 353,
   "metadata": {},
   "outputs": [
    {
     "data": {
      "image/png": "[encoded data removed]",
      "text/plain": [
       "<Figure size 432x288 with 1 Axes>"
      ]
     },
     "metadata": {},
     "output_type": "display_data"
    }
   ],
   "source": [
    "sns.barplot(x=lengths[:20], y=names[:20], orient='h')\n",
    "plt.title('Word Count per Author in Chosen Data')\n",
    "plt.show()"
   ]
  },
  {
   "cell_type": "code",
   "execution_count": 354,
   "metadata": {},
   "outputs": [
    {
     "data": {
      "image/png": "[encoded data removed]",
      "text/plain": [
       "<Figure size 432x288 with 1 Axes>"
      ]
     },
     "metadata": {},
     "output_type": "display_data"
    }
   ],
   "source": [
    "sns.barplot(x=lengths[20:40], y=names[20:40], orient='h')\n",
    "plt.title('Word Count per Author in Chosen Data')\n",
    "plt.show()"
   ]
  },
  {
   "cell_type": "code",
   "execution_count": 355,
   "metadata": {},
   "outputs": [
    {
     "data": {
      "image/png": "[encoded data removed]",
      "text/plain": [
       "<Figure size 432x288 with 1 Axes>"
      ]
     },
     "metadata": {},
     "output_type": "display_data"
    }
   ],
   "source": [
    "sns.barplot(x=lengths[40:60], y=names[40:60], orient='h')\n",
    "plt.title('Word Count per Author in Chosen Data')\n",
    "plt.show()"
   ]
  },
  {
   "cell_type": "code",
   "execution_count": null,
   "metadata": {
    "collapsed": true
   },
   "outputs": [],
   "source": [
    "# Choosing authors with similar word counts\n",
    "authors = ['Jerome Hudson', 'Daniel Nussbaum', 'Warner Todd Huston', 'Charlie Nash', 'Chris Tomlinson', \n",
    "           'Liam Deacon', 'Virginia Hale', 'Oliver JJ Lane', 'Deborah Danan', 'Caroline May']\n"
   ]
  },
  {
   "cell_type": "code",
   "execution_count": null,
   "metadata": {
    "collapsed": true
   },
   "outputs": [],
   "source": []
  },
  {
   "cell_type": "code",
   "execution_count": 310,
   "metadata": {},
   "outputs": [
    {
     "name": "stdout",
     "output_type": "stream",
     "text": [
      "Count of all common_words: 3973\n",
      "Count of lowercase common_words: 2532\n",
      "Count of lowercase common_words (After Conversion): 3875\n"
     ]
    }
   ],
   "source": [
    "# check for lower case words\n",
    "common_words = pd.Series(pd.DataFrame(columns=common_words).columns)\n",
    "print('Count of all common_words:',len(common_words))\n",
    "print('Count of lowercase common_words:',np.sum([word.islower() for word in common_words]))\n",
    "\n",
    "# Turn all common_words into lower case\n",
    "common_words = [word.lower() for word in common_words]\n",
    "print('Count of lowercase common_words (After Conversion):', np.sum([word.islower() for word in common_words]))"
   ]
  },
  {
   "cell_type": "code",
   "execution_count": 315,
   "metadata": {
    "collapsed": true
   },
   "outputs": [],
   "source": [
    "# We must remove these in to avoid conflicts with existing features.\n",
    "if 'author' in common_words:\n",
    "    common_words.remove('author')\n",
    "if 'title' in common_words:\n",
    "    common_words.remove('title')\n",
    "if 'content' in common_words:\n",
    "    common_words.remove('content')"
   ]
  },
  {
   "cell_type": "code",
   "execution_count": 318,
   "metadata": {},
   "outputs": [
    {
     "name": "stdout",
     "output_type": "stream",
     "text": [
      "Empty DataFrame\n",
      "Columns: [peace, barack, half, 25, gun, moore, variety, acquire, charge, johnson, hatred, mortensen, simply, public, hampshire, suffer, manage, single, 14, deficit, fist, reaction, guess, rich, @ianhanchettdemocratic, expand, perry, indiscriminate, authority, rodman, sheriff, nationwide, entrepreneurs, industry, radio, cooking, transition, party, painfully, conceal, council, ft, tampa, mainstream, provide, hate, sailor, shelter, manziel, time, recommend, dim, peter, giffords, disband,  , joke, network, right, theory, @megynkelly, definitely, age, knowledge, sympathy, song, rig, option, committee, minor, ideologist, sufficient, klug, matthew, states, pop, goodell, chairman, 1, grant, listen, failure, completely, squid, vp, google, bruise, attendance, official, drive, amazon, reince, usual, silicon, miller, @nytimes, u., quarter, boehner, democrats, ...]\n",
      "Index: []\n",
      "\n",
      "[0 rows x 3970 columns]\n",
      "Empty DataFrame\n",
      "Columns: [title, content, author, peace, barack, half, 25, gun, moore, variety, acquire, charge, johnson, hatred, mortensen, simply, public, hampshire, suffer, manage, single, 14, deficit, fist, reaction, guess, rich, @ianhanchettdemocratic, expand, perry, indiscriminate, authority, rodman, sheriff, nationwide, entrepreneurs, industry, radio, cooking, transition, party, painfully, conceal, council, ft, tampa, mainstream, provide, hate, sailor, shelter, manziel, time, recommend, dim, peter, giffords, disband,  , joke, network, right, theory, @megynkelly, definitely, age, knowledge, sympathy, song, rig, option, committee, minor, ideologist, sufficient, klug, matthew, states, pop, goodell, chairman, 1, grant, listen, failure, completely, squid, vp, google, bruise, attendance, official, drive, amazon, reince, usual, silicon, miller, @nytimes, u., ...]\n",
      "Index: []\n",
      "\n",
      "[0 rows x 3973 columns]\n"
     ]
    }
   ],
   "source": [
    "# Count the number of times a common_word appears in each article\n",
    "# (about 3Hrs processing)\n",
    "\n",
    "bow_counts = pd.DataFrame()\n",
    "for name in names:\n",
    "    # Select X articles of that author\n",
    "    articles = data.loc[data.author==name,:][:50]\n",
    "    bow_counts = bow_counts.append(articles)\n",
    "bow_counts = bow_counts.reset_index().drop('index',1)\n",
    "\n",
    "# Use common_words as the columns of a temporary DataFrame\n",
    "df = pd.DataFrame(columns=common_words)\n",
    "\n",
    "print(df.head())\n",
    "\n",
    "# Join BOW features with the author's content\n",
    "bow_counts = bow_counts.join(df)\n",
    "\n",
    "# Initialize rows with zeroes\n",
    "bow_counts.loc[:,common_words] = 0\n",
    "\n",
    "print(bow_counts)\n",
    "\n",
    "# Fill the DataFrame with counts of each feature in each article\n",
    "start = time()\n",
    "for i, article in enumerate(bow_counts.content):\n",
    "    doc = nlp(article)\n",
    "    for token in doc:\n",
    "        if token.lemma_.lower() in common_words:\n",
    "            bow_counts.loc[i,token.lemma_.lower()] += 1\n",
    "    # Print a message every X articles\n",
    "    if i % 50 == 0:\n",
    "        if time()-start < 3600: # if less than an hour in seconds\n",
    "            print(\"Article \",i,\" done after \",(time()-t0)/60,' minutes.')\n",
    "        else:\n",
    "            print(\"Article \",i,\" done after \",(time()-t0)/60/60,' hours.')"
   ]
  },
  {
   "cell_type": "code",
   "execution_count": null,
   "metadata": {
    "collapsed": true
   },
   "outputs": [],
   "source": [
    "bow_counts.head(3)"
   ]
  },
  {
   "cell_type": "code",
   "execution_count": null,
   "metadata": {
    "collapsed": true
   },
   "outputs": [],
   "source": [
    "# Make sure we have 50 articles per author\n",
    "bow_counts.author.value_counts()"
   ]
  },
  {
   "cell_type": "code",
   "execution_count": null,
   "metadata": {
    "collapsed": true
   },
   "outputs": [],
   "source": [
    "# Establish outcome and predictors\n",
    "y = bow_counts['author']\n",
    "X = bow_counts.drop(['content','author','title'], 1)\n",
    "\n",
    "X_train, X_test, y_train, y_test = train_test_split(X, y,\n",
    "                                                    test_size=0.24,\n",
    "                                                    random_state=0,\n",
    "                                                    stratify=y)\n"
   ]
  },
  {
   "cell_type": "code",
   "execution_count": null,
   "metadata": {
    "collapsed": true
   },
   "outputs": [],
   "source": []
  },
  {
   "cell_type": "code",
   "execution_count": null,
   "metadata": {
    "collapsed": true
   },
   "outputs": [],
   "source": []
  },
  {
   "cell_type": "code",
   "execution_count": null,
   "metadata": {
    "collapsed": true
   },
   "outputs": [],
   "source": []
  },
  {
   "cell_type": "code",
   "execution_count": null,
   "metadata": {
    "collapsed": true
   },
   "outputs": [],
   "source": []
  },
  {
   "cell_type": "code",
   "execution_count": null,
   "metadata": {
    "collapsed": true
   },
   "outputs": [],
   "source": []
  },
  {
   "cell_type": "code",
   "execution_count": null,
   "metadata": {
    "collapsed": true
   },
   "outputs": [],
   "source": []
  },
  {
   "cell_type": "markdown",
   "metadata": {},
   "source": [
    "# Create features using two different NLP methods: For example, BoW vs tf-idf."
   ]
  },
  {
   "cell_type": "markdown",
   "metadata": {},
   "source": [
    "## BoW with CountVectorizer"
   ]
  },
  {
   "cell_type": "markdown",
   "metadata": {},
   "source": [
    "# Tf-idf"
   ]
  },
  {
   "cell_type": "markdown",
   "metadata": {},
   "source": [
    "# Use the features to fit supervised learning models for each feature set to predict the category outcomes."
   ]
  },
  {
   "cell_type": "markdown",
   "metadata": {},
   "source": [
    "## BoW with CountVectorizer\n",
    "### Random Forest Classifier"
   ]
  },
  {
   "cell_type": "markdown",
   "metadata": {},
   "source": [
    "### Logistic Regression"
   ]
  },
  {
   "cell_type": "markdown",
   "metadata": {},
   "source": [
    "### Gradient Boosting Classifier"
   ]
  },
  {
   "cell_type": "markdown",
   "metadata": {},
   "source": [
    "## Tf-idf\n",
    "### Random Forest Classifier"
   ]
  },
  {
   "cell_type": "markdown",
   "metadata": {},
   "source": [
    "### Logistic Regression"
   ]
  },
  {
   "cell_type": "markdown",
   "metadata": {},
   "source": [
    "### Gradient Boosting Classifier"
   ]
  },
  {
   "cell_type": "markdown",
   "metadata": {},
   "source": [
    "# Assess your models using cross-validation and determine whether one model performed better."
   ]
  },
  {
   "cell_type": "markdown",
   "metadata": {},
   "source": [
    "## BoW with CountVectorizer\n",
    "### Random Forest Classifier"
   ]
  },
  {
   "cell_type": "markdown",
   "metadata": {},
   "source": [
    "### Logistic Regression"
   ]
  },
  {
   "cell_type": "markdown",
   "metadata": {},
   "source": [
    "### Gradient Boosting Classifier"
   ]
  },
  {
   "cell_type": "markdown",
   "metadata": {},
   "source": [
    "## Tf-idf\n",
    "### Random Forest Classifier"
   ]
  },
  {
   "cell_type": "markdown",
   "metadata": {},
   "source": [
    "### Logistic Regression"
   ]
  },
  {
   "cell_type": "markdown",
   "metadata": {},
   "source": [
    "### Gradient Boosting Classifier"
   ]
  },
  {
   "cell_type": "markdown",
   "metadata": {},
   "source": [
    "Logistic Regression with CountVectorizer turned out to be the best model, by far. There was a severe performance degradation using the Tf-idf method to create features, so clearly using Bag of Words method via CountVectorizer was a far superior method. We will stick to that for any pending analysis."
   ]
  },
  {
   "cell_type": "markdown",
   "metadata": {},
   "source": [
    "# Pick one of the models and try to increase accuracy by at least 5 percentage points."
   ]
  },
  {
   "cell_type": "markdown",
   "metadata": {},
   "source": [
    "## BoW with CountVectorizer"
   ]
  },
  {
   "cell_type": "markdown",
   "metadata": {},
   "source": [
    "## Logistic Regression"
   ]
  },
  {
   "cell_type": "code",
   "execution_count": null,
   "metadata": {
    "collapsed": true
   },
   "outputs": [],
   "source": []
  },
  {
   "cell_type": "code",
   "execution_count": null,
   "metadata": {
    "collapsed": true
   },
   "outputs": [],
   "source": []
  }
 ],
 "metadata": {
  "kernelspec": {
   "display_name": "Python 3",
   "language": "python",
   "name": "python3"
  },
  "language_info": {
   "codemirror_mode": {
    "name": "ipython",
    "version": 3
   },
   "file_extension": ".py",
   "mimetype": "text/x-python",
   "name": "python",
   "nbconvert_exporter": "python",
   "pygments_lexer": "ipython3",
   "version": "3.6.7"
  }
 },
 "nbformat": 4,
 "nbformat_minor": 2
}
