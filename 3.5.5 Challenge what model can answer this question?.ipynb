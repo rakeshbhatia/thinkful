{
 "cells": [
  {
   "cell_type": "markdown",
   "metadata": {},
   "source": [
    "# **Challenge: what model can answer this question?**"
   ]
  },
  {
   "cell_type": "markdown",
   "metadata": {},
   "source": [
    "You now have a fairly substantial starting toolbox of supervised learning methods that you can use to tackle a host of exciting problems. To make sure all of these ideas are organized in your mind, please go through the list of problems below. For each, identify which supervised learning method(s) would be best for addressing that particular problem. Explain your reasoning and discuss your answers with your mentor.\n",
    "\n",
    "1) Predict the running times of prospective Olympic sprinters using data from the last 20 Olympics.\n",
    "\n",
    "* Multivariate Linear Regression\n",
    "* Random Forest Regressor\n",
    "\n",
    "2) You have more features (columns) than rows in your dataset.\n",
    "\n",
    "* Calculate feature importances\n",
    "* Dimensionality Reduction\n",
    "* Principal Components Analysis\n",
    "* Partial Least Squares Regressor\n",
    "* Lasso Regressor\n",
    "\n",
    "3) Identify the most important characteristic predicting likelihood of being jailed before age 20.\n",
    "\n",
    "* Calculating feature importances\n",
    "* Principal Components Analysis\n",
    "* Random Forest Classifier with Gradient-Boosting\n",
    "\n",
    "4) Implement a filter to “highlight” emails that might be important to the recipient\n",
    "\n",
    "* Naive Bayes Classifier with text keyword features to help determine importance\n",
    "\n",
    "5) You have 1000+ features.\n",
    "\n",
    "* Calculate feature importances\n",
    "* Principal Components Analysis\n",
    "* Partial Least Squares Regressor\n",
    "* Lasso Regressor\n",
    "\n",
    "6) Predict whether someone who adds items to their cart on a website will purchase the items.\n",
    "\n",
    "* Naive Bayes Classifier\n",
    "* Random Forest Classifier\n",
    "\n",
    "7) Your dataset dimensions are 982400 x 500\n",
    "\n",
    "* Dimensionality Reduction\n",
    "* Multivariate Linear Regression\n",
    "* Ridge Regression\n",
    "* Lasso Regression\n",
    "\n",
    "8) Identify faces in an image\n",
    "\n",
    "* Support Vector Classifier\n",
    "\n",
    "9) Predict which of three flavors of ice cream will be most popular with boys vs girls.\n",
    "\n",
    "* K-Nearest Neighbor Classifier"
   ]
  },
  {
   "cell_type": "code",
   "execution_count": null,
   "metadata": {
    "collapsed": true
   },
   "outputs": [],
   "source": []
  }
 ],
 "metadata": {
  "kernelspec": {
   "display_name": "Python 3",
   "language": "python",
   "name": "python3"
  },
  "language_info": {
   "codemirror_mode": {
    "name": "ipython",
    "version": 3
   },
   "file_extension": ".py",
   "mimetype": "text/x-python",
   "name": "python",
   "nbconvert_exporter": "python",
   "pygments_lexer": "ipython3",
   "version": "3.6.7"
  }
 },
 "nbformat": 4,
 "nbformat_minor": 2
}
