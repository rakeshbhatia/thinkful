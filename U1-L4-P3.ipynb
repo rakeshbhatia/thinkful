{
 "cells": [
  {
   "cell_type": "markdown",
   "metadata": {},
   "source": [
    "# **You're testing advertising emails for a bathing suit company and you test one version of the email in February and the other in May.**"
   ]
  },
  {
   "cell_type": "markdown",
   "metadata": {},
   "source": [
    "-The bias exists in the fact that both emails are not sent out at the same time; they are being sent out in different seasons entirely (winter vs. spring)\n",
    "\n",
    "-People will obviously be more inclined to purchase bathing suits in May as opposed to February, which will obscure the results"
   ]
  },
  {
   "cell_type": "markdown",
   "metadata": {},
   "source": [
    "# **You open a clinic to treat anxiety and find that the people who visit show a higher rate of anxiety than the general population.**"
   ]
  },
  {
   "cell_type": "markdown",
   "metadata": {},
   "source": [
    "-People visiting the clinic will be more prone to suffering from anxiety in the first place\n",
    "\n",
    "-Thus, it does not make sense to compare that sample of people with the general population"
   ]
  },
  {
   "cell_type": "markdown",
   "metadata": {},
   "source": [
    "# **You launch a new ad billboard based campaign and see an increase in website visits in the first week.**"
   ]
  },
  {
   "cell_type": "markdown",
   "metadata": {},
   "source": [
    "-There could have been other factors that contributed to more people visiting the website\n",
    "\n",
    "-More details are needed regarding the website content and overall context surrounding the increase in visits"
   ]
  },
  {
   "cell_type": "markdown",
   "metadata": {},
   "source": [
    "# **You launch a loyalty program but see no change in visits in the first week.**"
   ]
  },
  {
   "cell_type": "markdown",
   "metadata": {},
   "source": [
    "-The time of year when the loyalty program is launched is crucial; it could be during a holiday period when many subscribers are on vacation\n",
    "\n",
    "-More time may be required to measure subscriber response to the new loyalty program; one week is not long enough\n",
    "\n",
    "-Need to know whether every subscriber receives loyalty benefits, including new subscribers"
   ]
  }
 ],
 "metadata": {
  "kernelspec": {
   "display_name": "Python 3",
   "language": "python",
   "name": "python3"
  },
  "language_info": {
   "codemirror_mode": {
    "name": "ipython",
    "version": 3
   },
   "file_extension": ".py",
   "mimetype": "text/x-python",
   "name": "python",
   "nbconvert_exporter": "python",
   "pygments_lexer": "ipython3",
   "version": "3.6.5"
  }
 },
 "nbformat": 4,
 "nbformat_minor": 2
}
