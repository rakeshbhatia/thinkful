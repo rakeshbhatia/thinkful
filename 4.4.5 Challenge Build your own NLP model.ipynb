{
 "cells": [
  {
   "cell_type": "markdown",
   "metadata": {},
   "source": [
    "# Challenge: Build your own NLP model\n",
    "\n",
    "For this challenge, you will need to choose a corpus of data from nltk or another source that includes categories you can predict and create an analysis pipeline that includes the following steps:\n",
    "\n",
    "1. Data cleaning / processing / language parsing\n",
    "2. Create features using two different NLP methods: For example, BoW vs tf-idf.\n",
    "3. Use the features to fit supervised learning models for each feature set to predict the category outcomes.\n",
    "4. Assess your models using cross-validation and determine whether one model performed better.\n",
    "5. Pick one of the models and try to increase accuracy by at least 5 percentage points.\n",
    "\n",
    "Write up your report in a Jupyter notebook. Be sure to explicitly justify the choices you make throughout, and submit it below."
   ]
  },
  {
   "cell_type": "markdown",
   "metadata": {},
   "source": [
    "# Data cleaning / processing / language parsing\n",
    "For this challenge, we will use the King James Bible from NLTK's gutenberg corpora."
   ]
  },
  {
   "cell_type": "code",
   "execution_count": 145,
   "metadata": {
    "scrolled": false
   },
   "outputs": [
    {
     "name": "stdout",
     "output_type": "stream",
     "text": [
      "Numpy version: 1.16.4\n",
      "Pandas version: 0.23.4\n",
      "Seaborn version: 0.9.0\n"
     ]
    }
   ],
   "source": [
    "%matplotlib inline\n",
    "import numpy as np\n",
    "import pandas as pd\n",
    "import scipy\n",
    "import sklearn\n",
    "import spacy\n",
    "import matplotlib.pyplot as plt\n",
    "import seaborn as sns\n",
    "import string\n",
    "import re\n",
    "import nltk\n",
    "from collections import Counter\n",
    "from sklearn import ensemble\n",
    "from sklearn.metrics import log_loss, accuracy_score\n",
    "from sklearn.model_selection import StratifiedKFold\n",
    "from sklearn.linear_model import LogisticRegression\n",
    "from sklearn.ensemble import RandomForestClassifier\n",
    "from sklearn.preprocessing import LabelEncoder\n",
    "from sklearn.preprocessing import label_binarize\n",
    "from sklearn.model_selection import train_test_split\n",
    "from sklearn.model_selection import cross_val_score\n",
    "from sklearn.model_selection import cross_val_predict\n",
    "from sklearn.feature_extraction.text import CountVectorizer\n",
    "from sklearn.feature_extraction.text import TfidfVectorizer\n",
    "from nltk.corpus import stopwords\n",
    "from nltk.stem import WordNetLemmatizer\n",
    "from nltk.corpus import stopwords\n",
    "\n",
    "import scikitplot.plotters as skplt\n",
    "\n",
    "stopwords = stopwords.words('english')\n",
    "\n",
    "#nltk.download('product_reviews_1')\n",
    "#nltk.download('product_reviews_2')\n",
    "#!python -m spacy download en\n",
    "\n",
    "print('Numpy version:', np.__version__)\n",
    "print('Pandas version:', pd.__version__)\n",
    "print('Seaborn version:', sns.__version__)"
   ]
  },
  {
   "cell_type": "code",
   "execution_count": 146,
   "metadata": {
    "scrolled": true
   },
   "outputs": [
    {
     "data": {
      "text/html": [
       "<div>\n",
       "<style scoped>\n",
       "    .dataframe tbody tr th:only-of-type {\n",
       "        vertical-align: middle;\n",
       "    }\n",
       "\n",
       "    .dataframe tbody tr th {\n",
       "        vertical-align: top;\n",
       "    }\n",
       "\n",
       "    .dataframe thead th {\n",
       "        text-align: right;\n",
       "    }\n",
       "</style>\n",
       "<table border=\"1\" class=\"dataframe\">\n",
       "  <thead>\n",
       "    <tr style=\"text-align: right;\">\n",
       "      <th></th>\n",
       "      <th>ID</th>\n",
       "      <th>Text</th>\n",
       "      <th>Author</th>\n",
       "    </tr>\n",
       "  </thead>\n",
       "  <tbody>\n",
       "    <tr>\n",
       "      <th>0</th>\n",
       "      <td>id26305</td>\n",
       "      <td>This process, however, afforded me no means of...</td>\n",
       "      <td>EAP</td>\n",
       "    </tr>\n",
       "    <tr>\n",
       "      <th>1</th>\n",
       "      <td>id17569</td>\n",
       "      <td>It never once occurred to me that the fumbling...</td>\n",
       "      <td>HPL</td>\n",
       "    </tr>\n",
       "    <tr>\n",
       "      <th>2</th>\n",
       "      <td>id11008</td>\n",
       "      <td>In his left hand was a gold snuff box, from wh...</td>\n",
       "      <td>EAP</td>\n",
       "    </tr>\n",
       "    <tr>\n",
       "      <th>3</th>\n",
       "      <td>id27763</td>\n",
       "      <td>How lovely is spring As we looked from Windsor...</td>\n",
       "      <td>MWS</td>\n",
       "    </tr>\n",
       "    <tr>\n",
       "      <th>4</th>\n",
       "      <td>id12958</td>\n",
       "      <td>Finding nothing else, not even gold, the Super...</td>\n",
       "      <td>HPL</td>\n",
       "    </tr>\n",
       "  </tbody>\n",
       "</table>\n",
       "</div>"
      ],
      "text/plain": [
       "        ID                                               Text Author\n",
       "0  id26305  This process, however, afforded me no means of...    EAP\n",
       "1  id17569  It never once occurred to me that the fumbling...    HPL\n",
       "2  id11008  In his left hand was a gold snuff box, from wh...    EAP\n",
       "3  id27763  How lovely is spring As we looked from Windsor...    MWS\n",
       "4  id12958  Finding nothing else, not even gold, the Super...    HPL"
      ]
     },
     "execution_count": 146,
     "metadata": {},
     "output_type": "execute_result"
    }
   ],
   "source": [
    "df = pd.read_csv('datasets/spooky-author-identification/train.csv', skiprows=1, names=['ID', 'Text', 'Author'])\n",
    "df.head()"
   ]
  },
  {
   "cell_type": "code",
   "execution_count": 147,
   "metadata": {},
   "outputs": [
    {
     "data": {
      "text/html": [
       "<div>\n",
       "<style scoped>\n",
       "    .dataframe tbody tr th:only-of-type {\n",
       "        vertical-align: middle;\n",
       "    }\n",
       "\n",
       "    .dataframe tbody tr th {\n",
       "        vertical-align: top;\n",
       "    }\n",
       "\n",
       "    .dataframe thead th {\n",
       "        text-align: right;\n",
       "    }\n",
       "</style>\n",
       "<table border=\"1\" class=\"dataframe\">\n",
       "  <thead>\n",
       "    <tr style=\"text-align: right;\">\n",
       "      <th></th>\n",
       "      <th>ID</th>\n",
       "      <th>Text</th>\n",
       "      <th>Author</th>\n",
       "    </tr>\n",
       "  </thead>\n",
       "  <tbody>\n",
       "    <tr>\n",
       "      <th>count</th>\n",
       "      <td>19579</td>\n",
       "      <td>19579</td>\n",
       "      <td>19579</td>\n",
       "    </tr>\n",
       "    <tr>\n",
       "      <th>unique</th>\n",
       "      <td>19579</td>\n",
       "      <td>19579</td>\n",
       "      <td>3</td>\n",
       "    </tr>\n",
       "    <tr>\n",
       "      <th>top</th>\n",
       "      <td>id12647</td>\n",
       "      <td>Though I knew that death was near, my curiosit...</td>\n",
       "      <td>EAP</td>\n",
       "    </tr>\n",
       "    <tr>\n",
       "      <th>freq</th>\n",
       "      <td>1</td>\n",
       "      <td>1</td>\n",
       "      <td>7900</td>\n",
       "    </tr>\n",
       "  </tbody>\n",
       "</table>\n",
       "</div>"
      ],
      "text/plain": [
       "             ID                                               Text Author\n",
       "count     19579                                              19579  19579\n",
       "unique    19579                                              19579      3\n",
       "top     id12647  Though I knew that death was near, my curiosit...    EAP\n",
       "freq          1                                                  1   7900"
      ]
     },
     "execution_count": 147,
     "metadata": {},
     "output_type": "execute_result"
    }
   ],
   "source": [
    "df.describe()"
   ]
  },
  {
   "cell_type": "code",
   "execution_count": 148,
   "metadata": {},
   "outputs": [
    {
     "data": {
      "text/plain": [
       "0    This process, however, afforded me no means of...\n",
       "Name: Text, dtype: object"
      ]
     },
     "execution_count": 148,
     "metadata": {},
     "output_type": "execute_result"
    }
   ],
   "source": [
    "df.iloc[[0]]['Text']"
   ]
  },
  {
   "cell_type": "code",
   "execution_count": 149,
   "metadata": {
    "scrolled": true
   },
   "outputs": [
    {
     "data": {
      "image/png": "[encoded data removed]",
      "text/plain": [
       "<Figure size 432x288 with 1 Axes>"
      ]
     },
     "metadata": {},
     "output_type": "display_data"
    }
   ],
   "source": [
    "# Barplot of occurances of each author in the training dataset\n",
    "sns.set_style(\"whitegrid\")\n",
    "sns.barplot(x=['Edgar Allen Poe', 'Mary Wollstonecraft Shelley', 'H.P. Lovecraft'], y=df['Author'].value_counts())\n",
    "plt.show()"
   ]
  },
  {
   "cell_type": "code",
   "execution_count": 150,
   "metadata": {
    "collapsed": true
   },
   "outputs": [],
   "source": [
    "nlp = spacy.load('en')"
   ]
  },
  {
   "cell_type": "code",
   "execution_count": 151,
   "metadata": {},
   "outputs": [],
   "source": [
    "# Clean text before feeding it to spaCy\n",
    "punctuations = string.punctuation\n",
    "\n",
    "# Define function to cleanup each sentence by removing personal pronouns, stopwords, and puncuation\n",
    "def cleanup_text(sentences, logging=False):\n",
    "    sents = []\n",
    "    counter = 1\n",
    "    for sent in sentences:\n",
    "        if counter % 1000 == 0 and logging:\n",
    "            print(\"Processed %d out of %d sentences.\" % (counter, len(sentences)))\n",
    "        sent = nlp(sent, disable=['parser', 'ner'])\n",
    "        tokens = [tok.lemma_.lower().strip() for tok in sent if tok.lemma_ != '-PRON-']\n",
    "        tokens = [tok for tok in tokens if tok not in stopwords and tok not in punctuations]\n",
    "        tokens = ' '.join(tokens)\n",
    "        sents.append(tokens)\n",
    "        counter += 1\n",
    "    return pd.Series(sents)"
   ]
  },
  {
   "cell_type": "code",
   "execution_count": 152,
   "metadata": {},
   "outputs": [
    {
     "name": "stdout",
     "output_type": "stream",
     "text": [
      "0\n",
      "0\n",
      "0\n"
     ]
    }
   ],
   "source": [
    "# Grab all text associated with Edgar Allen Poe\n",
    "eap_text = [sent for sent in df[df['Author'] == 'EAP']['Text']]\n",
    "\n",
    "# Grab all text associated with H.P. Lovecraft\n",
    "hpl_text = [sent for sent in df[df['Author'] == 'HPL']['Text']]\n",
    "\n",
    "# Grab all text associated with Mary Wollstonecraft Shelley\n",
    "mws_text = [sent for sent in df[df['Author'] == 'MWS']['Text']]\n",
    "\n",
    "# Clean up all text\n",
    "eap_clean = cleanup_text(eap_text)\n",
    "eap_clean = ' '.join(eap_clean).split()\n",
    "# 's appears a lot in the text, so we get rid of it since it's not a word\n",
    "eap_clean = [word for word in eap_clean if word != '\\'s']\n",
    "\n",
    "hpl_clean = cleanup_text(hpl_text)\n",
    "hpl_clean = ' '.join(hpl_clean).split()\n",
    "# 's appears a lot in the text, so we get rid of it since it's not a word\n",
    "hpl_clean = [word for word in hpl_clean if word != '\\'s']\n",
    "\n",
    "mws_clean = cleanup_text(mws_text)\n",
    "mws_clean = ' '.join(mws_clean).split()\n",
    "# 's appears a lot in the text, so we get rid of it since it's not a word\n",
    "mws_clean = [word for word in mws_clean if word != '\\'s']\n",
    "\n",
    "# Count all unique words\n",
    "eap_counts = Counter(eap_clean)\n",
    "hpl_counts = Counter(hpl_clean)\n",
    "mws_counts = Counter(mws_clean)\n",
    "\n",
    "print(eap_counts[0])\n",
    "print(hpl_counts[0])\n",
    "print(mws_counts[0])"
   ]
  },
  {
   "cell_type": "code",
   "execution_count": 153,
   "metadata": {
    "scrolled": false
   },
   "outputs": [
    {
     "data": {
      "image/png": "[encoded data removed]",
      "text/plain": [
       "<Figure size 1080x864 with 1 Axes>"
      ]
     },
     "metadata": {},
     "output_type": "display_data"
    }
   ],
   "source": [
    "# Plot top 25 most frequently occuring words for Edgar Allen Poe\n",
    "eap_common_words = [word[0] for word in eap_counts.most_common(25)]\n",
    "eap_common_counts = [word[1] for word in eap_counts.most_common(25)]\n",
    "\n",
    "# Use white background\n",
    "sns.set_style(\"whitegrid\")\n",
    "plt.figure(figsize=(15, 12))\n",
    "\n",
    "sns.barplot(x=eap_common_words, y=eap_common_counts)\n",
    "plt.title('Most Common Words used by Edgar Allen Poe')\n",
    "plt.show()"
   ]
  },
  {
   "cell_type": "code",
   "execution_count": 154,
   "metadata": {},
   "outputs": [
    {
     "data": {
      "image/png": "[encoded data removed]",
      "text/plain": [
       "<Figure size 1080x864 with 1 Axes>"
      ]
     },
     "metadata": {},
     "output_type": "display_data"
    }
   ],
   "source": [
    "# Plot top 25 most frequently occuring words for H.P. Lovecraft\n",
    "hpl_common_words = [word[0] for word in hpl_counts.most_common(25)]\n",
    "hpl_common_counts = [word[1] for word in hpl_counts.most_common(25)]\n",
    "\n",
    "plt.figure(figsize=(15, 12))\n",
    "sns.barplot(x=hpl_common_words, y=hpl_common_counts)\n",
    "plt.title('Most Common Words used by H.P. Lovecraft')\n",
    "plt.show()"
   ]
  },
  {
   "cell_type": "code",
   "execution_count": 155,
   "metadata": {
    "scrolled": false
   },
   "outputs": [
    {
     "data": {
      "image/png": "[encoded data removed]",
      "text/plain": [
       "<Figure size 1080x864 with 1 Axes>"
      ]
     },
     "metadata": {},
     "output_type": "display_data"
    }
   ],
   "source": [
    "# Plot top 25 most frequently occuring words for Mary Wollstonecraft Shelley\n",
    "mws_common_words = [word[0] for word in mws_counts.most_common(25)]\n",
    "mws_common_counts = [word[1] for word in mws_counts.most_common(25)]\n",
    "\n",
    "plt.figure(figsize=(15, 12))\n",
    "sns.barplot(x=mws_common_words, y=mws_common_counts)\n",
    "plt.title('Most Common Words used by Mary Wollstonecraft Shelley')\n",
    "plt.show()"
   ]
  },
  {
   "cell_type": "code",
   "execution_count": 156,
   "metadata": {
    "scrolled": false
   },
   "outputs": [
    {
     "name": "stdout",
     "output_type": "stream",
     "text": [
      "Original training data shape:  (19579,)\n",
      "Processed 1000 out of 19579 sentences.\n",
      "Processed 2000 out of 19579 sentences.\n",
      "Processed 3000 out of 19579 sentences.\n",
      "Processed 4000 out of 19579 sentences.\n",
      "Processed 5000 out of 19579 sentences.\n",
      "Processed 6000 out of 19579 sentences.\n",
      "Processed 7000 out of 19579 sentences.\n",
      "Processed 8000 out of 19579 sentences.\n",
      "Processed 9000 out of 19579 sentences.\n",
      "Processed 10000 out of 19579 sentences.\n",
      "Processed 11000 out of 19579 sentences.\n",
      "Processed 12000 out of 19579 sentences.\n",
      "Processed 13000 out of 19579 sentences.\n",
      "Processed 14000 out of 19579 sentences.\n",
      "Processed 15000 out of 19579 sentences.\n",
      "Processed 16000 out of 19579 sentences.\n",
      "Processed 17000 out of 19579 sentences.\n",
      "Processed 18000 out of 19579 sentences.\n",
      "Processed 19000 out of 19579 sentences.\n",
      "Cleaned up training data shape:  (19579,)\n"
     ]
    }
   ],
   "source": [
    "# Cleanup text and make sure it retains original shape\n",
    "print('Original training data shape: ', df['Text'].shape)\n",
    "df_cleaned = cleanup_text(df['Text'], logging=True)\n",
    "print('Cleaned up training data shape: ', df_cleaned.shape)\n",
    "df_cleaned = pd.concat([pd.DataFrame(df_cleaned, columns=['Text']), df['Author']], axis=1, ignore_index=True)"
   ]
  },
  {
   "cell_type": "code",
   "execution_count": 157,
   "metadata": {
    "scrolled": true
   },
   "outputs": [
    {
     "data": {
      "text/html": [
       "<div>\n",
       "<style scoped>\n",
       "    .dataframe tbody tr th:only-of-type {\n",
       "        vertical-align: middle;\n",
       "    }\n",
       "\n",
       "    .dataframe tbody tr th {\n",
       "        vertical-align: top;\n",
       "    }\n",
       "\n",
       "    .dataframe thead th {\n",
       "        text-align: right;\n",
       "    }\n",
       "</style>\n",
       "<table border=\"1\" class=\"dataframe\">\n",
       "  <thead>\n",
       "    <tr style=\"text-align: right;\">\n",
       "      <th></th>\n",
       "      <th>Text</th>\n",
       "      <th>Author</th>\n",
       "    </tr>\n",
       "  </thead>\n",
       "  <tbody>\n",
       "    <tr>\n",
       "      <th>0</th>\n",
       "      <td>process however afford means ascertain dimensi...</td>\n",
       "      <td>EAP</td>\n",
       "    </tr>\n",
       "    <tr>\n",
       "      <th>1</th>\n",
       "      <td>never occur fumbling may mere mistake</td>\n",
       "      <td>HPL</td>\n",
       "    </tr>\n",
       "    <tr>\n",
       "      <th>2</th>\n",
       "      <td>left hand gold snuff box caper hill cut manner...</td>\n",
       "      <td>EAP</td>\n",
       "    </tr>\n",
       "    <tr>\n",
       "      <th>3</th>\n",
       "      <td>lovely spring look windsor terrace sixteen fer...</td>\n",
       "      <td>MWS</td>\n",
       "    </tr>\n",
       "    <tr>\n",
       "      <th>4</th>\n",
       "      <td>find nothing else even gold superintendent aba...</td>\n",
       "      <td>HPL</td>\n",
       "    </tr>\n",
       "  </tbody>\n",
       "</table>\n",
       "</div>"
      ],
      "text/plain": [
       "                                                Text Author\n",
       "0  process however afford means ascertain dimensi...    EAP\n",
       "1              never occur fumbling may mere mistake    HPL\n",
       "2  left hand gold snuff box caper hill cut manner...    EAP\n",
       "3  lovely spring look windsor terrace sixteen fer...    MWS\n",
       "4  find nothing else even gold superintendent aba...    HPL"
      ]
     },
     "execution_count": 157,
     "metadata": {},
     "output_type": "execute_result"
    }
   ],
   "source": [
    "df_cleaned.columns = ['Text', 'Author']\n",
    "df_cleaned.head()"
   ]
  },
  {
   "cell_type": "code",
   "execution_count": null,
   "metadata": {
    "collapsed": true
   },
   "outputs": [],
   "source": []
  },
  {
   "cell_type": "markdown",
   "metadata": {},
   "source": [
    "# Create features using two different NLP methods: For example, BoW vs tf-idf."
   ]
  },
  {
   "cell_type": "code",
   "execution_count": 158,
   "metadata": {},
   "outputs": [
    {
     "data": {
      "text/plain": [
       "0        process however afford means ascertain dimensi...\n",
       "1                    never occur fumbling may mere mistake\n",
       "2        left hand gold snuff box caper hill cut manner...\n",
       "3        lovely spring look windsor terrace sixteen fer...\n",
       "4        find nothing else even gold superintendent aba...\n",
       "5        youth pass solitude good year spend gentle fem...\n",
       "6        astronomer perhaps point take refuge suggestio...\n",
       "7                               surcingle hang riband body\n",
       "8        know could say stereotomy without bring think ...\n",
       "9        confes neither structure language code governm...\n",
       "10       shall find feel injury shall learn dread reven...\n",
       "11                                barricade present secure\n",
       "12       herbert west need fresh body life work reanima...\n",
       "13       farm like ground extend back deeply hill almos...\n",
       "14                                glance show fallacy idea\n",
       "15       escape must commence destructive almost endles...\n",
       "16       speech give course interpretation fancy doubt ...\n",
       "17       native sprightliness need undue excitement pla...\n",
       "18       even go far speak slightly hectic cough one ti...\n",
       "19       facial aspect remarkable maturity though share...\n",
       "20       net work permanently fasten hoop attach series...\n",
       "21       sound hideous hold vibration suggest nothing g...\n",
       "22       every hand wilderness balcony veranda minaret ...\n",
       "23       deep spirit wonder perplexity regard remote pe...\n",
       "24       bizarre attempt explanation follow equally biz...\n",
       "25       many prodigy sign take place far wide sea land...\n",
       "26       yet fairly say know pure gold make readily lea...\n",
       "27       seem upon verge comprehension without power co...\n",
       "28       compass depth gauge delicate instrument ruin h...\n",
       "29       young warrior take back sarnath symbol conques...\n",
       "                               ...                        \n",
       "19549    strength earnest craving sympathy yearning act...\n",
       "19550                         take book read chapter aloud\n",
       "19551    adolphe le bon clerk mignaud et fils depose da...\n",
       "19552    character remark period question example best ...\n",
       "19553    note every variation face play progress gather...\n",
       "19554    admit drunk vow see crazily dressed trio furti...\n",
       "19555    ray newly rise sun pour upon whole window form...\n",
       "19556    north craggy precipice pace verge spring magni...\n",
       "19557                         fraud bank course could help\n",
       "19558    attire expect costume altogether similar wear ...\n",
       "19559    fumbling come near casement creep around west ...\n",
       "19560               tone laconic curt lately come much use\n",
       "19561    average people society business new england 's...\n",
       "19562    mode source kind error well typify contemplati...\n",
       "19563              yet rude hand rent away dear connection\n",
       "19564    almighty god hear suspect know make mockery ho...\n",
       "19565    hope foolish take offence little brusquerie mi...\n",
       "19566    reflection make legislator pause could decide ...\n",
       "19567                   consideration deep interest beyond\n",
       "19568    go walk street turn alley turn pass rear build...\n",
       "19569             fancy soothe dream virtue fame enjoyment\n",
       "19570    nay may meet another may love consider bind ho...\n",
       "19571                   watch still go tell hour past noon\n",
       "19572    difficulty attend respiration means great put ...\n",
       "19573    stress weather drive adriatic gulph vessel har...\n",
       "19574    could fancy look eminent landscape painter bui...\n",
       "19575                            lid clench together spasm\n",
       "19576    mais il faut agir say frenchman never faint ou...\n",
       "19577                 item news like strike coolly receive\n",
       "19578    lay gnarled claw shoulder seem shaking altoget...\n",
       "Name: Text, Length: 19579, dtype: object"
      ]
     },
     "execution_count": 158,
     "metadata": {},
     "output_type": "execute_result"
    }
   ],
   "source": [
    "df_cleaned.Text"
   ]
  },
  {
   "cell_type": "code",
   "execution_count": 159,
   "metadata": {},
   "outputs": [],
   "source": [
    "X = df['Text']\n",
    "y = df['Author']\n",
    "labelencoder = LabelEncoder()\n",
    "y = labelencoder.fit_transform(y)"
   ]
  },
  {
   "cell_type": "code",
   "execution_count": 160,
   "metadata": {
    "collapsed": true
   },
   "outputs": [],
   "source": [
    "X_train, X_test, y_train, y_test = train_test_split(X, y, test_size=0.25, random_state=0)"
   ]
  },
  {
   "cell_type": "markdown",
   "metadata": {},
   "source": [
    "## BoW with CountVectorizer"
   ]
  },
  {
   "cell_type": "code",
   "execution_count": 161,
   "metadata": {},
   "outputs": [
    {
     "name": "stdout",
     "output_type": "stream",
     "text": [
      "(14684, 27497)\n"
     ]
    }
   ],
   "source": [
    "vect = CountVectorizer(lowercase=False, token_pattern=r'\\w+|\\,')\n",
    "X_cv=vect.fit_transform(X)\n",
    "X_train_cv = vect.transform(X_train)\n",
    "X_test_cv = vect.transform(X_test)\n",
    "print(X_train_cv.shape)"
   ]
  },
  {
   "cell_type": "markdown",
   "metadata": {},
   "source": [
    "# Tf-idf"
   ]
  },
  {
   "cell_type": "code",
   "execution_count": 162,
   "metadata": {},
   "outputs": [
    {
     "name": "stdout",
     "output_type": "stream",
     "text": [
      "(14684, 15102)\n"
     ]
    }
   ],
   "source": [
    "# Always start with these features. They work (almost) everytime!\n",
    "tfv = TfidfVectorizer(min_df=3,  \n",
    "                      max_features=None, \n",
    "                      strip_accents='unicode', \n",
    "                      analyzer='word',\n",
    "                      token_pattern=r'\\w{1,}',\n",
    "                      ngram_range=(1, 3), \n",
    "                      use_idf=1,\n",
    "                      smooth_idf=1,\n",
    "                      sublinear_tf=1,\n",
    "                      stop_words = 'english')\n",
    "\n",
    "# Fitting TF-IDF to both training and test sets (semi-supervised learning)\n",
    "X_tfv = tfv.fit_transform(list(X_train) + list(X_test))\n",
    "X_train_tfv =  tfv.transform(X_train) \n",
    "X_test_tfv = tfv.transform(X_test)\n",
    "print(X_train_tfv.shape)"
   ]
  },
  {
   "cell_type": "markdown",
   "metadata": {},
   "source": [
    "# Use the features to fit supervised learning models for each feature set to predict the category outcomes."
   ]
  },
  {
   "cell_type": "markdown",
   "metadata": {},
   "source": [
    "## BoW with CountVectorizer\n",
    "### Random Forest Classifier"
   ]
  },
  {
   "cell_type": "code",
   "execution_count": 163,
   "metadata": {},
   "outputs": [
    {
     "name": "stderr",
     "output_type": "stream",
     "text": [
      "/Users/rakeshbhatia/anaconda/lib/python3.6/site-packages/sklearn/ensemble/forest.py:245: FutureWarning: The default value of n_estimators will change from 10 in version 0.20 to 100 in 0.22.\n",
      "  \"10 in version 0.20 to 100 in 0.22.\", FutureWarning)\n"
     ]
    },
    {
     "name": "stdout",
     "output_type": "stream",
     "text": [
      "Training set score: 0.9867202397166984\n",
      "\n",
      "Test set score: 0.6151174668028601\n"
     ]
    }
   ],
   "source": [
    "rfc = RandomForestClassifier()\n",
    "train = rfc.fit(X_train_cv, y_train)\n",
    "print('Training set score:', rfc.score(X_train_cv, y_train))\n",
    "print('\\nTest set score:', rfc.score(X_test_cv, y_test))"
   ]
  },
  {
   "cell_type": "markdown",
   "metadata": {},
   "source": [
    "### Logistic Regression"
   ]
  },
  {
   "cell_type": "code",
   "execution_count": 164,
   "metadata": {},
   "outputs": [
    {
     "name": "stderr",
     "output_type": "stream",
     "text": [
      "/Users/rakeshbhatia/anaconda/lib/python3.6/site-packages/sklearn/linear_model/logistic.py:432: FutureWarning: Default solver will be changed to 'lbfgs' in 0.22. Specify a solver to silence this warning.\n",
      "  FutureWarning)\n",
      "/Users/rakeshbhatia/anaconda/lib/python3.6/site-packages/sklearn/linear_model/logistic.py:469: FutureWarning: Default multi_class will be changed to 'auto' in 0.22. Specify the multi_class option to silence this warning.\n",
      "  \"this warning.\", FutureWarning)\n"
     ]
    },
    {
     "name": "stdout",
     "output_type": "stream",
     "text": [
      "(14684, 27497) (14684,)\n",
      "Training set score: 0.9765050394987742\n",
      "\n",
      "Test set score: 0.8269662921348314\n"
     ]
    }
   ],
   "source": [
    "lr = LogisticRegression(C=1.0) # No need to specify l2 as it's the default. But we put it for demonstration.\n",
    "train = lr.fit(X_train_cv, y_train)\n",
    "print(X_train_cv.shape, y_train.shape)\n",
    "print('Training set score:', lr.score(X_train_cv, y_train))\n",
    "print('\\nTest set score:', lr.score(X_test_cv, y_test))"
   ]
  },
  {
   "cell_type": "markdown",
   "metadata": {},
   "source": [
    "### Gradient Boosting Classifier"
   ]
  },
  {
   "cell_type": "code",
   "execution_count": 165,
   "metadata": {},
   "outputs": [
    {
     "name": "stdout",
     "output_type": "stream",
     "text": [
      "Training set score: 0.7031462816671207\n",
      "\n",
      "Test set score: 0.6776302349336057\n"
     ]
    }
   ],
   "source": [
    "clf = ensemble.GradientBoostingClassifier()\n",
    "train = clf.fit(X_train_cv, y_train)\n",
    "\n",
    "print('Training set score:', clf.score(X_train_cv, y_train))\n",
    "print('\\nTest set score:', clf.score(X_test_cv, y_test))"
   ]
  },
  {
   "cell_type": "markdown",
   "metadata": {},
   "source": [
    "## Tf-idf\n",
    "### Random Forest Classifier"
   ]
  },
  {
   "cell_type": "code",
   "execution_count": 166,
   "metadata": {},
   "outputs": [
    {
     "name": "stdout",
     "output_type": "stream",
     "text": [
      "Training set score: 0.9863797330427676\n",
      "\n",
      "Test set score: 0.6686414708886619\n"
     ]
    }
   ],
   "source": [
    "train = rfc.fit(X_train_tfv, y_train)\n",
    "\n",
    "print('Training set score:', rfc.score(X_train_tfv, y_train))\n",
    "print('\\nTest set score:', rfc.score(X_test_tfv, y_test))"
   ]
  },
  {
   "cell_type": "markdown",
   "metadata": {},
   "source": [
    "### Logistic Regression"
   ]
  },
  {
   "cell_type": "code",
   "execution_count": 167,
   "metadata": {},
   "outputs": [
    {
     "name": "stderr",
     "output_type": "stream",
     "text": [
      "/Users/rakeshbhatia/anaconda/lib/python3.6/site-packages/sklearn/linear_model/logistic.py:432: FutureWarning: Default solver will be changed to 'lbfgs' in 0.22. Specify a solver to silence this warning.\n",
      "  FutureWarning)\n",
      "/Users/rakeshbhatia/anaconda/lib/python3.6/site-packages/sklearn/linear_model/logistic.py:469: FutureWarning: Default multi_class will be changed to 'auto' in 0.22. Specify the multi_class option to silence this warning.\n",
      "  \"this warning.\", FutureWarning)\n"
     ]
    },
    {
     "name": "stdout",
     "output_type": "stream",
     "text": [
      "(14684, 15102) (14684,)\n",
      "Training set score: 0.9054753473168075\n",
      "\n",
      "Test set score: 0.7948927477017365\n"
     ]
    }
   ],
   "source": [
    "train = lr.fit(X_train_tfv, y_train)\n",
    "print(X_train_tfv.shape, y_train.shape)\n",
    "print('Training set score:', lr.score(X_train_tfv, y_train))\n",
    "print('\\nTest set score:', lr.score(X_test_tfv, y_test))"
   ]
  },
  {
   "cell_type": "markdown",
   "metadata": {},
   "source": [
    "### Gradient Boosting Classifier"
   ]
  },
  {
   "cell_type": "code",
   "execution_count": 168,
   "metadata": {},
   "outputs": [
    {
     "name": "stdout",
     "output_type": "stream",
     "text": [
      "Training set score: 0.6402887496594933\n",
      "\n",
      "Test set score: 0.5948927477017365\n"
     ]
    }
   ],
   "source": [
    "train = clf.fit(X_train_tfv, y_train)\n",
    "\n",
    "print('Training set score:', clf.score(X_train_tfv, y_train))\n",
    "print('\\nTest set score:', clf.score(X_test_tfv, y_test))"
   ]
  },
  {
   "cell_type": "markdown",
   "metadata": {},
   "source": [
    "# Assess your models using cross-validation and determine whether one model performed better."
   ]
  },
  {
   "cell_type": "markdown",
   "metadata": {},
   "source": [
    "## BoW with CountVectorizer\n",
    "### Random Forest Classifier"
   ]
  },
  {
   "cell_type": "code",
   "execution_count": 169,
   "metadata": {
    "scrolled": true
   },
   "outputs": [
    {
     "name": "stdout",
     "output_type": "stream",
     "text": [
      "Cross Validation Accuracy Scores: [0.62378765 0.63195508 0.61051557 0.62276672 0.6174668  0.61522739\n",
      " 0.60858457 0.63924374 0.64537557 0.61982626]\n",
      "Average Cross Validation Accuracy: 0.6234749352668174\n"
     ]
    }
   ],
   "source": [
    "scores_cv_rfc = cross_val_score(rfc, X_cv, y, cv=10)\n",
    "print('Cross Validation Accuracy Scores:', scores_cv_rfc)\n",
    "print('Average Cross Validation Accuracy:', scores_cv_rfc.mean())"
   ]
  },
  {
   "cell_type": "markdown",
   "metadata": {},
   "source": [
    "### Logistic Regression"
   ]
  },
  {
   "cell_type": "code",
   "execution_count": 170,
   "metadata": {
    "scrolled": true
   },
   "outputs": [
    {
     "name": "stderr",
     "output_type": "stream",
     "text": [
      "/Users/rakeshbhatia/anaconda/lib/python3.6/site-packages/sklearn/linear_model/logistic.py:432: FutureWarning: Default solver will be changed to 'lbfgs' in 0.22. Specify a solver to silence this warning.\n",
      "  FutureWarning)\n",
      "/Users/rakeshbhatia/anaconda/lib/python3.6/site-packages/sklearn/linear_model/logistic.py:469: FutureWarning: Default multi_class will be changed to 'auto' in 0.22. Specify the multi_class option to silence this warning.\n",
      "  \"this warning.\", FutureWarning)\n"
     ]
    },
    {
     "name": "stdout",
     "output_type": "stream",
     "text": [
      "Cross Validation Accuracy Scores: [0.8402246  0.82950485 0.82491067 0.8330781  0.84167518 0.82830864\n",
      " 0.8334185  0.82779765 0.84312724 0.83188554]\n",
      "Average Cross Validation Accuracy: 0.833393095982324\n"
     ]
    }
   ],
   "source": [
    "scores_cv_lr = cross_val_score(lr, X_cv, y, cv=10)\n",
    "print('Cross Validation Accuracy Scores:', scores_cv_lr)\n",
    "print('Average Cross Validation Accuracy:', scores_cv_lr.mean())"
   ]
  },
  {
   "cell_type": "markdown",
   "metadata": {},
   "source": [
    "### Gradient Boosting Classifier"
   ]
  },
  {
   "cell_type": "code",
   "execution_count": 171,
   "metadata": {},
   "outputs": [
    {
     "name": "stdout",
     "output_type": "stream",
     "text": [
      "Cross Validation Accuracy Scores: [0.39561001 0.39663093 0.39509954 0.40020419 0.3988764  0.40112417\n",
      " 0.39550332 0.407256   0.40265713 0.39550332]\n",
      "Average Cross Validation Accuracy: 0.398846501495361\n"
     ]
    }
   ],
   "source": [
    "scores_tfv_clf = cross_val_score(clf, X_tfv, y, cv=10)\n",
    "print('Cross Validation Accuracy Scores:', scores_tfv_clf)\n",
    "print('Average Cross Validation Accuracy:', scores_tfv_clf.mean())"
   ]
  },
  {
   "cell_type": "markdown",
   "metadata": {},
   "source": [
    "## Tf-idf\n",
    "### Random Forest Classifier"
   ]
  },
  {
   "cell_type": "code",
   "execution_count": 172,
   "metadata": {},
   "outputs": [
    {
     "name": "stdout",
     "output_type": "stream",
     "text": [
      "Cross Validation Accuracy Scores: [0.36702399 0.36498213 0.37570189 0.36906585 0.36363636 0.36228922\n",
      " 0.34287174 0.36177823 0.37506387 0.37148697]\n",
      "Average Cross Validation Accuracy: 0.3653900263621835\n"
     ]
    }
   ],
   "source": [
    "scores_tfv_rfc = cross_val_score(rfc, X_tfv, y, cv=10)\n",
    "print('Cross Validation Accuracy Scores:', scores_tfv_rfc)\n",
    "print('Average Cross Validation Accuracy:', scores_tfv_rfc.mean())"
   ]
  },
  {
   "cell_type": "markdown",
   "metadata": {},
   "source": [
    "### Logistic Regression"
   ]
  },
  {
   "cell_type": "code",
   "execution_count": 173,
   "metadata": {},
   "outputs": [
    {
     "name": "stderr",
     "output_type": "stream",
     "text": [
      "/Users/rakeshbhatia/anaconda/lib/python3.6/site-packages/sklearn/linear_model/logistic.py:432: FutureWarning: Default solver will be changed to 'lbfgs' in 0.22. Specify a solver to silence this warning.\n",
      "  FutureWarning)\n",
      "/Users/rakeshbhatia/anaconda/lib/python3.6/site-packages/sklearn/linear_model/logistic.py:469: FutureWarning: Default multi_class will be changed to 'auto' in 0.22. Specify the multi_class option to silence this warning.\n",
      "  \"this warning.\", FutureWarning)\n"
     ]
    },
    {
     "name": "stdout",
     "output_type": "stream",
     "text": [
      "Cross Validation Accuracy Scores: [0.36498213 0.37161817 0.37212864 0.37876468 0.38100102 0.37608585\n",
      " 0.36995401 0.36382218 0.38068472 0.3592233 ]\n",
      "Average Cross Validation Accuracy: 0.3718264696852408\n"
     ]
    }
   ],
   "source": [
    "scores_tfv_lr = cross_val_score(lr, X_tfv, y, cv=10)\n",
    "print('Cross Validation Accuracy Scores:', scores_tfv_lr)\n",
    "print('Average Cross Validation Accuracy:', scores_tfv_lr.mean())"
   ]
  },
  {
   "cell_type": "markdown",
   "metadata": {},
   "source": [
    "### Gradient Boosting Classifier"
   ]
  },
  {
   "cell_type": "code",
   "execution_count": 174,
   "metadata": {},
   "outputs": [
    {
     "name": "stdout",
     "output_type": "stream",
     "text": [
      "Cross Validation Accuracy Scores: [0.3971414  0.40224604 0.39356815 0.40173558 0.39836568 0.4036791\n",
      " 0.39856924 0.40827798 0.40061318 0.39703628]\n",
      "Average Cross Validation Accuracy: 0.40012326274822724\n"
     ]
    }
   ],
   "source": [
    "scores_tfv_clf = cross_val_score(clf, X_tfv, y, cv=10)\n",
    "print('Cross Validation Accuracy Scores:', scores_tfv_clf)\n",
    "print('Average Cross Validation Accuracy:', scores_tfv_clf.mean())"
   ]
  },
  {
   "cell_type": "markdown",
   "metadata": {},
   "source": [
    "Logistic Regression with CountVectorizer turned out to be the best model, by far. There was a severe performance degradation using the Tf-idf method to create features, so clearly using Bag of Words method via CountVectorizer was a far superior method. We will stick to that for any pending analysis."
   ]
  },
  {
   "cell_type": "markdown",
   "metadata": {},
   "source": [
    "# Pick one of the models and try to increase accuracy by at least 5 percentage points."
   ]
  },
  {
   "cell_type": "code",
   "execution_count": 175,
   "metadata": {},
   "outputs": [],
   "source": [
    "# Transform labels into one hot encoded format.\n",
    "#y = df['Author']\n",
    "#y_ohe = label_binarize(y, classes=['EAP', 'HPL', 'MWS'])\n",
    "#print('y_ohe shape: {}'.format(y_ohe.shape))\n",
    "#print('y_ohe samples:')\n",
    "#print(y_ohe[:5])"
   ]
  },
  {
   "cell_type": "code",
   "execution_count": 176,
   "metadata": {
    "collapsed": true
   },
   "outputs": [],
   "source": [
    "X_train, X_test, y_train, y_test = train_test_split(X, y, test_size=0.25, random_state=0)"
   ]
  },
  {
   "cell_type": "markdown",
   "metadata": {},
   "source": [
    "## BoW with CountVectorizer"
   ]
  },
  {
   "cell_type": "code",
   "execution_count": 177,
   "metadata": {},
   "outputs": [
    {
     "name": "stdout",
     "output_type": "stream",
     "text": [
      "(14684, 27496)\n"
     ]
    }
   ],
   "source": [
    "vect = CountVectorizer(lowercase=False, token_pattern=r'\\b[^\\d\\W]+\\b')\n",
    "X_cv=vect.fit_transform(X)\n",
    "X_train_cv = vect.transform(X_train)\n",
    "X_test_cv = vect.transform(X_test)\n",
    "print(X_train_cv.shape)"
   ]
  },
  {
   "cell_type": "markdown",
   "metadata": {},
   "source": [
    "## Logistic Regression"
   ]
  },
  {
   "cell_type": "code",
   "execution_count": 178,
   "metadata": {},
   "outputs": [
    {
     "name": "stderr",
     "output_type": "stream",
     "text": [
      "/Users/rakeshbhatia/anaconda/lib/python3.6/site-packages/sklearn/model_selection/_split.py:629: FutureWarning: The default value of n_split will change from 3 to 5 in version 0.22. Specify it explicitly to silence this warning.\n",
      "  warnings.warn(NSPLIT_WARNING, FutureWarning)\n",
      "[Parallel(n_jobs=-1)]: Using backend LokyBackend with 4 concurrent workers.\n",
      "[Parallel(n_jobs=-1)]: Done   3 out of   3 | elapsed:    6.7s finished\n",
      "/Users/rakeshbhatia/anaconda/lib/python3.6/site-packages/sklearn/utils/deprecation.py:85: DeprecationWarning: Function plot_confusion_matrix is deprecated; This will be removed in v0.4.0. Please use scikitplot.metrics.plot_confusion_matrix instead.\n",
      "  warnings.warn(msg, category=DeprecationWarning)\n"
     ]
    },
    {
     "name": "stdout",
     "output_type": "stream",
     "text": [
      "Log loss: 0.4665555029044601\n",
      "Accuracy: 0.8200623116604525\n"
     ]
    },
    {
     "name": "stderr",
     "output_type": "stream",
     "text": [
      "/Users/rakeshbhatia/anaconda/lib/python3.6/site-packages/matplotlib/cbook/deprecation.py:107: MatplotlibDeprecationWarning: Passing one of 'on', 'true', 'off', 'false' as a boolean is deprecated; use an actual boolean (True/False) instead.\n",
      "  warnings.warn(message, mplDeprecation, stacklevel=1)\n"
     ]
    },
    {
     "data": {
      "text/plain": [
       "<matplotlib.axes._subplots.AxesSubplot at 0x120d982b0>"
      ]
     },
     "execution_count": 178,
     "metadata": {},
     "output_type": "execute_result"
    },
    {
     "data": {
      "image/png": "[encoded data removed]",
      "text/plain": [
       "<Figure size 432x288 with 2 Axes>"
      ]
     },
     "metadata": {},
     "output_type": "display_data"
    }
   ],
   "source": [
    "probas = cross_val_predict(lr, X_cv, y, cv=StratifiedKFold(random_state=8), \n",
    "                              n_jobs=-1, method='predict_proba', verbose=2)\n",
    "pred_indices = np.argmax(probas, axis=1)\n",
    "classes = np.unique(y)\n",
    "preds = classes[pred_indices]\n",
    "print('Log loss: {}'.format(log_loss(y, probas)))\n",
    "print('Accuracy: {}'.format(accuracy_score(y, preds)))\n",
    "skplt.plot_confusion_matrix(y, preds)"
   ]
  },
  {
   "cell_type": "code",
   "execution_count": 179,
   "metadata": {
    "scrolled": true
   },
   "outputs": [
    {
     "name": "stderr",
     "output_type": "stream",
     "text": [
      "/Users/rakeshbhatia/anaconda/lib/python3.6/site-packages/sklearn/linear_model/logistic.py:432: FutureWarning: Default solver will be changed to 'lbfgs' in 0.22. Specify a solver to silence this warning.\n",
      "  FutureWarning)\n",
      "/Users/rakeshbhatia/anaconda/lib/python3.6/site-packages/sklearn/linear_model/logistic.py:469: FutureWarning: Default multi_class will be changed to 'auto' in 0.22. Specify the multi_class option to silence this warning.\n",
      "  \"this warning.\", FutureWarning)\n"
     ]
    },
    {
     "name": "stdout",
     "output_type": "stream",
     "text": [
      "(14684, 27496) (14684,)\n",
      "Training set score: 0.9765731408335603\n",
      "\n",
      "Test set score: 0.822267620020429\n"
     ]
    }
   ],
   "source": [
    "lr = LogisticRegression(C=1.0) # No need to specify l2 as it's the default. But we put it for demonstration.\n",
    "train = lr.fit(X_train_cv, y_train)\n",
    "print(X_train_cv.shape, y_train.shape)\n",
    "print('Training set score:', lr.score(X_train_cv, y_train))\n",
    "print('\\nTest set score:', lr.score(X_test_cv, y_test))"
   ]
  },
  {
   "cell_type": "code",
   "execution_count": 180,
   "metadata": {},
   "outputs": [
    {
     "name": "stderr",
     "output_type": "stream",
     "text": [
      "/Users/rakeshbhatia/anaconda/lib/python3.6/site-packages/sklearn/linear_model/logistic.py:432: FutureWarning: Default solver will be changed to 'lbfgs' in 0.22. Specify a solver to silence this warning.\n",
      "  FutureWarning)\n",
      "/Users/rakeshbhatia/anaconda/lib/python3.6/site-packages/sklearn/linear_model/logistic.py:469: FutureWarning: Default multi_class will be changed to 'auto' in 0.22. Specify the multi_class option to silence this warning.\n",
      "  \"this warning.\", FutureWarning)\n"
     ]
    },
    {
     "name": "stdout",
     "output_type": "stream",
     "text": [
      "Cross Validation Accuracy Scores: [0.83460949 0.83256764 0.82644206 0.83256764 0.84269663 0.82268779\n",
      " 0.83495146 0.82473173 0.84414921 0.83392948]\n",
      "Average Cross Validation Accuracy: 0.8329333127087765\n"
     ]
    }
   ],
   "source": [
    "scores_cv_lr = cross_val_score(lr, X_cv, y, cv=10)\n",
    "print('Cross Validation Accuracy Scores:', scores_cv_lr)\n",
    "print('Average Cross Validation Accuracy:', scores_cv_lr.mean())"
   ]
  },
  {
   "cell_type": "code",
   "execution_count": null,
   "metadata": {
    "collapsed": true
   },
   "outputs": [],
   "source": []
  },
  {
   "cell_type": "code",
   "execution_count": null,
   "metadata": {
    "collapsed": true
   },
   "outputs": [],
   "source": []
  },
  {
   "cell_type": "code",
   "execution_count": 181,
   "metadata": {
    "collapsed": true
   },
   "outputs": [],
   "source": [
    "#analyzer = 'char'"
   ]
  }
 ],
 "metadata": {
  "kernelspec": {
   "display_name": "Python 3",
   "language": "python",
   "name": "python3"
  },
  "language_info": {
   "codemirror_mode": {
    "name": "ipython",
    "version": 3
   },
   "file_extension": ".py",
   "mimetype": "text/x-python",
   "name": "python",
   "nbconvert_exporter": "python",
   "pygments_lexer": "ipython3",
   "version": "3.6.7"
  }
 },
 "nbformat": 4,
 "nbformat_minor": 2
}
