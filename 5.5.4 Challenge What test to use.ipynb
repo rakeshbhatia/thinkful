{
 "cells": [
  {
   "cell_type": "markdown",
   "metadata": {},
   "source": [
    "# Challenge: What test to use\n",
    "Using selected questions from the 2012 and 2014 editions of the European Social Survey, address the following questions. Keep track of your code and results in a Jupyter notebook or other source that you can share with your mentor. For each question, explain why you chose the approach you did.\n",
    "\n",
    "Here is the data file. And here is the codebook, with information about the variable coding and content.\n",
    "\n",
    "In this dataset, the same participants answered questions in 2012 and again 2014.\n",
    "\n",
    "1. Did people become less trusting from 2012 to 2014? Compute results for each country in the sample.\n",
    "\n",
    "2. Did people become happier from 2012 to 2014? Compute results for each country in the sample.\n",
    "\n",
    "3. Who reported watching more TV in 2012, men or women?\n",
    "\n",
    "4. Who was more likely to believe people were fair in 2012, people living with a partner or people living alone?\n",
    "\n",
    "5. Pick three or four of the countries in the sample and compare how often people met socially in 2014. Are there differences, and if so, which countries stand out?\n",
    "\n",
    "6. Pick three or four of the countries in the sample and compare how often people took part in social activities, relative to others their age, in 2014. Are there differences, and if so, which countries stand out?"
   ]
  },
  {
   "cell_type": "code",
   "execution_count": 264,
   "metadata": {},
   "outputs": [],
   "source": [
    "import pandas as pd\n",
    "import numpy as np\n",
    "import matplotlib.pyplot as plt\n",
    "import scipy.stats as stats\n",
    "from scipy.stats import ttest_ind, kruskal, wilcoxon\n",
    "from statsmodels.stats.multicomp import pairwise_tukeyhsd\n",
    "%matplotlib inline"
   ]
  },
  {
   "cell_type": "code",
   "execution_count": 265,
   "metadata": {},
   "outputs": [
    {
     "data": {
      "text/html": [
       "<div>\n",
       "<style scoped>\n",
       "    .dataframe tbody tr th:only-of-type {\n",
       "        vertical-align: middle;\n",
       "    }\n",
       "\n",
       "    .dataframe tbody tr th {\n",
       "        vertical-align: top;\n",
       "    }\n",
       "\n",
       "    .dataframe thead th {\n",
       "        text-align: right;\n",
       "    }\n",
       "</style>\n",
       "<table border=\"1\" class=\"dataframe\">\n",
       "  <thead>\n",
       "    <tr style=\"text-align: right;\">\n",
       "      <th></th>\n",
       "      <th>cntry</th>\n",
       "      <th>idno</th>\n",
       "      <th>year</th>\n",
       "      <th>tvtot</th>\n",
       "      <th>ppltrst</th>\n",
       "      <th>pplfair</th>\n",
       "      <th>pplhlp</th>\n",
       "      <th>happy</th>\n",
       "      <th>sclmeet</th>\n",
       "      <th>sclact</th>\n",
       "      <th>gndr</th>\n",
       "      <th>agea</th>\n",
       "      <th>partner</th>\n",
       "    </tr>\n",
       "  </thead>\n",
       "  <tbody>\n",
       "    <tr>\n",
       "      <th>0</th>\n",
       "      <td>CH</td>\n",
       "      <td>5.0</td>\n",
       "      <td>6</td>\n",
       "      <td>3.0</td>\n",
       "      <td>3.0</td>\n",
       "      <td>10.0</td>\n",
       "      <td>5.0</td>\n",
       "      <td>8.0</td>\n",
       "      <td>5.0</td>\n",
       "      <td>4.0</td>\n",
       "      <td>2.0</td>\n",
       "      <td>60.0</td>\n",
       "      <td>1.0</td>\n",
       "    </tr>\n",
       "    <tr>\n",
       "      <th>1</th>\n",
       "      <td>CH</td>\n",
       "      <td>25.0</td>\n",
       "      <td>6</td>\n",
       "      <td>6.0</td>\n",
       "      <td>5.0</td>\n",
       "      <td>7.0</td>\n",
       "      <td>5.0</td>\n",
       "      <td>9.0</td>\n",
       "      <td>3.0</td>\n",
       "      <td>2.0</td>\n",
       "      <td>2.0</td>\n",
       "      <td>59.0</td>\n",
       "      <td>1.0</td>\n",
       "    </tr>\n",
       "    <tr>\n",
       "      <th>2</th>\n",
       "      <td>CH</td>\n",
       "      <td>26.0</td>\n",
       "      <td>6</td>\n",
       "      <td>1.0</td>\n",
       "      <td>8.0</td>\n",
       "      <td>8.0</td>\n",
       "      <td>8.0</td>\n",
       "      <td>7.0</td>\n",
       "      <td>6.0</td>\n",
       "      <td>3.0</td>\n",
       "      <td>1.0</td>\n",
       "      <td>24.0</td>\n",
       "      <td>2.0</td>\n",
       "    </tr>\n",
       "    <tr>\n",
       "      <th>3</th>\n",
       "      <td>CH</td>\n",
       "      <td>28.0</td>\n",
       "      <td>6</td>\n",
       "      <td>4.0</td>\n",
       "      <td>6.0</td>\n",
       "      <td>6.0</td>\n",
       "      <td>7.0</td>\n",
       "      <td>10.0</td>\n",
       "      <td>6.0</td>\n",
       "      <td>2.0</td>\n",
       "      <td>2.0</td>\n",
       "      <td>64.0</td>\n",
       "      <td>1.0</td>\n",
       "    </tr>\n",
       "    <tr>\n",
       "      <th>4</th>\n",
       "      <td>CH</td>\n",
       "      <td>29.0</td>\n",
       "      <td>6</td>\n",
       "      <td>5.0</td>\n",
       "      <td>6.0</td>\n",
       "      <td>7.0</td>\n",
       "      <td>5.0</td>\n",
       "      <td>8.0</td>\n",
       "      <td>7.0</td>\n",
       "      <td>2.0</td>\n",
       "      <td>2.0</td>\n",
       "      <td>55.0</td>\n",
       "      <td>1.0</td>\n",
       "    </tr>\n",
       "  </tbody>\n",
       "</table>\n",
       "</div>"
      ],
      "text/plain": [
       "  cntry  idno  year  tvtot  ppltrst  pplfair  pplhlp  happy  sclmeet  sclact  \\\n",
       "0    CH   5.0     6    3.0      3.0     10.0     5.0    8.0      5.0     4.0   \n",
       "1    CH  25.0     6    6.0      5.0      7.0     5.0    9.0      3.0     2.0   \n",
       "2    CH  26.0     6    1.0      8.0      8.0     8.0    7.0      6.0     3.0   \n",
       "3    CH  28.0     6    4.0      6.0      6.0     7.0   10.0      6.0     2.0   \n",
       "4    CH  29.0     6    5.0      6.0      7.0     5.0    8.0      7.0     2.0   \n",
       "\n",
       "   gndr  agea  partner  \n",
       "0   2.0  60.0      1.0  \n",
       "1   2.0  59.0      1.0  \n",
       "2   1.0  24.0      2.0  \n",
       "3   2.0  64.0      1.0  \n",
       "4   2.0  55.0      1.0  "
      ]
     },
     "execution_count": 265,
     "metadata": {},
     "output_type": "execute_result"
    }
   ],
   "source": [
    "df = pd.read_csv('ESSdata_Thinkful.csv')\n",
    "df.head()"
   ]
  },
  {
   "cell_type": "code",
   "execution_count": 266,
   "metadata": {},
   "outputs": [
    {
     "data": {
      "text/plain": [
       "(8594, 13)"
      ]
     },
     "execution_count": 266,
     "metadata": {},
     "output_type": "execute_result"
    }
   ],
   "source": [
    "df.shape"
   ]
  },
  {
   "cell_type": "code",
   "execution_count": 267,
   "metadata": {
    "scrolled": true
   },
   "outputs": [
    {
     "data": {
      "text/plain": [
       "cntry        0\n",
       "idno         0\n",
       "year         0\n",
       "tvtot        8\n",
       "ppltrst     14\n",
       "pplfair     39\n",
       "pplhlp      25\n",
       "happy       31\n",
       "sclmeet     15\n",
       "sclact      94\n",
       "gndr        10\n",
       "agea       239\n",
       "partner     17\n",
       "dtype: int64"
      ]
     },
     "execution_count": 267,
     "metadata": {},
     "output_type": "execute_result"
    }
   ],
   "source": [
    "df.isnull().sum()"
   ]
  },
  {
   "cell_type": "markdown",
   "metadata": {},
   "source": [
    "### 1. Did people become less trusting from 2012 to 2014? Compute results for each country in the sample."
   ]
  },
  {
   "cell_type": "code",
   "execution_count": 268,
   "metadata": {},
   "outputs": [
    {
     "data": {
      "text/plain": [
       "ES    2426\n",
       "SE    1816\n",
       "CH    1546\n",
       "NO    1462\n",
       "CZ    1316\n",
       "DE      28\n",
       "Name: cntry, dtype: int64"
      ]
     },
     "execution_count": 268,
     "metadata": {},
     "output_type": "execute_result"
    }
   ],
   "source": [
    "df['cntry'].value_counts()"
   ]
  },
  {
   "cell_type": "code",
   "execution_count": 269,
   "metadata": {},
   "outputs": [
    {
     "name": "stdout",
     "output_type": "stream",
     "text": [
      "['CH', 'CZ', 'DE', 'ES', 'NO', 'SE']\n"
     ]
    }
   ],
   "source": [
    "countries = list(df.cntry.unique())\n",
    "print(countries)"
   ]
  },
  {
   "cell_type": "code",
   "execution_count": 270,
   "metadata": {
    "scrolled": false
   },
   "outputs": [
    {
     "data": {
      "image/png": "[encoded data removed]",
      "text/plain": [
       "<Figure size 432x216 with 2 Axes>"
      ]
     },
     "metadata": {},
     "output_type": "display_data"
    },
    {
     "data": {
      "image/png": "[encoded data removed]",
      "text/plain": [
       "<Figure size 432x216 with 2 Axes>"
      ]
     },
     "metadata": {},
     "output_type": "display_data"
    },
    {
     "data": {
      "image/png": "[encoded data removed]",
      "text/plain": [
       "<Figure size 432x216 with 2 Axes>"
      ]
     },
     "metadata": {},
     "output_type": "display_data"
    },
    {
     "data": {
      "image/png": "[encoded data removed]",
      "text/plain": [
       "<Figure size 432x216 with 2 Axes>"
      ]
     },
     "metadata": {},
     "output_type": "display_data"
    },
    {
     "data": {
      "image/png": "[encoded data removed]",
      "text/plain": [
       "<Figure size 432x216 with 2 Axes>"
      ]
     },
     "metadata": {},
     "output_type": "display_data"
    },
    {
     "data": {
      "image/png": "[encoded data removed]",
      "text/plain": [
       "<Figure size 432x216 with 2 Axes>"
      ]
     },
     "metadata": {},
     "output_type": "display_data"
    }
   ],
   "source": [
    "for country in countries:\n",
    "    \n",
    "    fig, axs = plt.subplots(1, 2, figsize=(6, 3))\n",
    "    \n",
    "    axs[0].hist((df.loc[(df['year']==6) & (df['cntry']==country)])['ppltrst'].dropna())\n",
    "    axs[1].hist((df.loc[(df['year']==7) & (df['cntry']==country)])['ppltrst'].dropna())\n",
    "\n",
    "    fig.text(0.5, 0, country)\n",
    "    axs[0].set_title('2012')\n",
    "    axs[1].set_title('2014')\n",
    "    \n",
    "    plt.tight_layout()\n",
    "    plt.show()"
   ]
  },
  {
   "cell_type": "code",
   "execution_count": 271,
   "metadata": {
    "scrolled": false
   },
   "outputs": [
    {
     "data": {
      "text/html": [
       "<table class=\"simpletable\">\n",
       "<caption>Multiple Comparison of Means - Tukey HSD,FWER=0.05</caption>\n",
       "<tr>\n",
       "  <th>group1</th> <th>group2</th> <th>meandiff</th>  <th>lower</th>   <th>upper</th>  <th>reject</th>\n",
       "</tr>\n",
       "<tr>\n",
       "    <td>CH</td>     <td>CZ</td>    <td>-1.346</td>  <td>-1.5768</td> <td>-1.1151</td>  <td>True</td> \n",
       "</tr>\n",
       "<tr>\n",
       "    <td>CH</td>     <td>DE</td>    <td>-0.5032</td> <td>-1.6582</td> <td>0.6518</td>   <td>False</td>\n",
       "</tr>\n",
       "<tr>\n",
       "    <td>CH</td>     <td>ES</td>    <td>-0.6905</td> <td>-0.8891</td> <td>-0.492</td>   <td>True</td> \n",
       "</tr>\n",
       "<tr>\n",
       "    <td>CH</td>     <td>NO</td>    <td>0.8985</td>  <td>0.6774</td>  <td>1.1196</td>   <td>True</td> \n",
       "</tr>\n",
       "<tr>\n",
       "    <td>CH</td>     <td>SE</td>    <td>0.4165</td>  <td>0.2056</td>  <td>0.6274</td>   <td>True</td> \n",
       "</tr>\n",
       "<tr>\n",
       "    <td>CZ</td>     <td>DE</td>    <td>0.8428</td>  <td>-0.3146</td> <td>2.0001</td>   <td>False</td>\n",
       "</tr>\n",
       "<tr>\n",
       "    <td>CZ</td>     <td>ES</td>    <td>0.6555</td>  <td>0.4439</td>   <td>0.867</td>   <td>True</td> \n",
       "</tr>\n",
       "<tr>\n",
       "    <td>CZ</td>     <td>NO</td>    <td>2.2445</td>  <td>2.0116</td>  <td>2.4773</td>   <td>True</td> \n",
       "</tr>\n",
       "<tr>\n",
       "    <td>CZ</td>     <td>SE</td>    <td>1.7625</td>  <td>1.5393</td>  <td>1.9857</td>   <td>True</td> \n",
       "</tr>\n",
       "<tr>\n",
       "    <td>DE</td>     <td>ES</td>    <td>-0.1873</td> <td>-1.3386</td>  <td>0.964</td>   <td>False</td>\n",
       "</tr>\n",
       "<tr>\n",
       "    <td>DE</td>     <td>NO</td>    <td>1.4017</td>  <td>0.2463</td>  <td>2.5572</td>   <td>True</td> \n",
       "</tr>\n",
       "<tr>\n",
       "    <td>DE</td>     <td>SE</td>    <td>0.9197</td>  <td>-0.2338</td> <td>2.0733</td>   <td>False</td>\n",
       "</tr>\n",
       "<tr>\n",
       "    <td>ES</td>     <td>NO</td>     <td>1.589</td>  <td>1.3882</td>  <td>1.7899</td>   <td>True</td> \n",
       "</tr>\n",
       "<tr>\n",
       "    <td>ES</td>     <td>SE</td>     <td>1.107</td>  <td>0.9175</td>  <td>1.2966</td>   <td>True</td> \n",
       "</tr>\n",
       "<tr>\n",
       "    <td>NO</td>     <td>SE</td>    <td>-0.482</td>  <td>-0.6951</td> <td>-0.2689</td>  <td>True</td> \n",
       "</tr>\n",
       "</table>"
      ],
      "text/plain": [
       "<class 'statsmodels.iolib.table.SimpleTable'>"
      ]
     },
     "execution_count": 271,
     "metadata": {},
     "output_type": "execute_result"
    }
   ],
   "source": [
    "df2 = df.dropna()\n",
    "\n",
    "tukey = pairwise_tukeyhsd(endog=df2['ppltrst'],      # Data\n",
    "                          groups=df2['cntry'],   # Groups\n",
    "                          alpha=0.05)         # Significance level\n",
    "\n",
    "tukey.summary()"
   ]
  },
  {
   "cell_type": "markdown",
   "metadata": {},
   "source": [
    "By examining the histograms and using the tukey test, we can see that most of the distributions are non-normal. Since we have an A/B test, we should use a Wilcoxon signed-rank test."
   ]
  },
  {
   "cell_type": "code",
   "execution_count": 272,
   "metadata": {
    "scrolled": false
   },
   "outputs": [
    {
     "name": "stdout",
     "output_type": "stream",
     "text": [
      "CH \n",
      "\n",
      "WilcoxonResult(statistic=106278.5, pvalue=0.4411286510952477)\n",
      "\n",
      "Wilcoxon average 2012: 5.677878395860285\n",
      "\n",
      "Wilcoxon average 2014: 5.751617076326003\n",
      "\n",
      "Difference: 0.07373868046571808\n",
      "\n",
      "CZ \n",
      "\n",
      "WilcoxonResult(statistic=82837.0, pvalue=0.2931891426327379)\n",
      "\n",
      "Wilcoxon average 2012: 4.362519201228879\n",
      "\n",
      "Wilcoxon average 2014: 4.424657534246576\n",
      "\n",
      "Difference: 0.062138333017697\n",
      "\n",
      "DE \n",
      "\n",
      "WilcoxonResult(statistic=44.0, pvalue=0.9157134600899863)\n",
      "\n",
      "Wilcoxon average 2012: 5.214285714285714\n",
      "\n",
      "Wilcoxon average 2014: 5.357142857142857\n",
      "\n",
      "Difference: 0.14285714285714235\n",
      "\n",
      "ES \n",
      "\n",
      "WilcoxonResult(statistic=243475.5, pvalue=0.005570829650439684)\n",
      "\n",
      "Wilcoxon average 2012: 5.114591920857379\n",
      "\n",
      "Wilcoxon average 2014: 4.895127993393889\n",
      "\n",
      "Difference: -0.2194639274634893\n",
      "\n",
      "NO \n",
      "\n",
      "WilcoxonResult(statistic=85392.0, pvalue=0.6139175669970661)\n",
      "\n",
      "Wilcoxon average 2012: 6.64931506849315\n",
      "\n",
      "Wilcoxon average 2014: 6.598630136986301\n",
      "\n",
      "Difference: -0.05068493150684894\n",
      "\n",
      "SE \n",
      "\n",
      "WilcoxonResult(statistic=130719.5, pvalue=0.028545290985536906)\n",
      "\n",
      "Wilcoxon average 2012: 6.058498896247241\n",
      "\n",
      "Wilcoxon average 2014: 6.257709251101321\n",
      "\n",
      "Difference: 0.19921035485408023\n",
      "\n"
     ]
    },
    {
     "name": "stderr",
     "output_type": "stream",
     "text": [
      "/Users/rakeshbhatia/anaconda/lib/python3.6/site-packages/scipy/stats/morestats.py:2866: RuntimeWarning: invalid value encountered in greater\n",
      "  r_plus = np.sum((d > 0) * r, axis=0)\n",
      "/Users/rakeshbhatia/anaconda/lib/python3.6/site-packages/scipy/stats/morestats.py:2867: RuntimeWarning: invalid value encountered in less\n",
      "  r_minus = np.sum((d < 0) * r, axis=0)\n"
     ]
    }
   ],
   "source": [
    "for country in countries:\n",
    "    ppltrst_2012 = df.loc[(df['year'] == 6) & (df['cntry'] == country)]['ppltrst']\n",
    "    ppltrst_2014 = df.loc[(df['year'] == 7) & (df['cntry'] == country)]['ppltrst']\n",
    "            \n",
    "    print(country, '\\n')\n",
    "    print(wilcoxon(ppltrst_2012, ppltrst_2014))\n",
    "    print('\\nWilcoxon average 2012: {}'.format(ppltrst_2012.mean()))\n",
    "    print('\\nWilcoxon average 2014: {}'.format(ppltrst_2014.mean()))\n",
    "    print('\\nDifference: {}\\n'.format(ppltrst_2014.mean()-ppltrst_2012.mean()))"
   ]
  },
  {
   "cell_type": "markdown",
   "metadata": {},
   "source": [
    "Using a 5% confidence interval, only Spain and Sweden had a meaningful difference, since they have pvalues less than 0.05. From their averages, it appears Spain is less trustful by -0.22 points, and Sweden is more trustful by +0.20 points."
   ]
  },
  {
   "cell_type": "markdown",
   "metadata": {
    "collapsed": true
   },
   "source": [
    "### 2. Did people become happier from 2012 to 2014? Compute results for each country in the sample."
   ]
  },
  {
   "cell_type": "code",
   "execution_count": 273,
   "metadata": {},
   "outputs": [
    {
     "data": {
      "image/png": "[encoded data removed]",
      "text/plain": [
       "<Figure size 432x216 with 2 Axes>"
      ]
     },
     "metadata": {},
     "output_type": "display_data"
    },
    {
     "data": {
      "image/png": "[encoded data removed]",
      "text/plain": [
       "<Figure size 432x216 with 2 Axes>"
      ]
     },
     "metadata": {},
     "output_type": "display_data"
    },
    {
     "data": {
      "image/png": "[encoded data removed]",
      "text/plain": [
       "<Figure size 432x216 with 2 Axes>"
      ]
     },
     "metadata": {},
     "output_type": "display_data"
    },
    {
     "data": {
      "image/png": "[encoded data removed]",
      "text/plain": [
       "<Figure size 432x216 with 2 Axes>"
      ]
     },
     "metadata": {},
     "output_type": "display_data"
    },
    {
     "data": {
      "image/png": "[encoded data removed]",
      "text/plain": [
       "<Figure size 432x216 with 2 Axes>"
      ]
     },
     "metadata": {},
     "output_type": "display_data"
    },
    {
     "data": {
      "image/png": "[encoded data removed]",
      "text/plain": [
       "<Figure size 432x216 with 2 Axes>"
      ]
     },
     "metadata": {},
     "output_type": "display_data"
    }
   ],
   "source": [
    "for country in countries:\n",
    "    \n",
    "    fig, axs = plt.subplots(1, 2, figsize=(6, 3))    \n",
    "    \n",
    "    axs[0].hist((df.loc[(df['year']==6) & (df['cntry']==country)])['happy'].dropna())\n",
    "    axs[1].hist((df.loc[(df['year']==7) & (df['cntry']==country)])['happy'].dropna())\n",
    "\n",
    "    fig.text(0.5, 0, country)\n",
    "    axs[0].set_title('2012')\n",
    "    axs[1].set_title('2014')\n",
    "    \n",
    "    plt.tight_layout()\n",
    "    plt.show()"
   ]
  },
  {
   "cell_type": "code",
   "execution_count": 274,
   "metadata": {
    "scrolled": true
   },
   "outputs": [
    {
     "data": {
      "text/html": [
       "<table class=\"simpletable\">\n",
       "<caption>Multiple Comparison of Means - Tukey HSD,FWER=0.05</caption>\n",
       "<tr>\n",
       "  <th>group1</th> <th>group2</th> <th>meandiff</th>  <th>lower</th>   <th>upper</th>  <th>reject</th>\n",
       "</tr>\n",
       "<tr>\n",
       "    <td>CH</td>     <td>CZ</td>    <td>-1.2566</td> <td>-1.441</td>  <td>-1.0721</td>  <td>True</td> \n",
       "</tr>\n",
       "<tr>\n",
       "    <td>CH</td>     <td>DE</td>    <td>-0.5206</td> <td>-1.4435</td> <td>0.4023</td>   <td>False</td>\n",
       "</tr>\n",
       "<tr>\n",
       "    <td>CH</td>     <td>ES</td>    <td>-0.6084</td> <td>-0.7671</td> <td>-0.4498</td>  <td>True</td> \n",
       "</tr>\n",
       "<tr>\n",
       "    <td>CH</td>     <td>NO</td>    <td>-0.0273</td> <td>-0.204</td>  <td>0.1494</td>   <td>False</td>\n",
       "</tr>\n",
       "<tr>\n",
       "    <td>CH</td>     <td>SE</td>    <td>-0.1932</td> <td>-0.3617</td> <td>-0.0247</td>  <td>True</td> \n",
       "</tr>\n",
       "<tr>\n",
       "    <td>CZ</td>     <td>DE</td>    <td>0.7359</td>  <td>-0.1888</td> <td>1.6607</td>   <td>False</td>\n",
       "</tr>\n",
       "<tr>\n",
       "    <td>CZ</td>     <td>ES</td>    <td>0.6481</td>  <td>0.4791</td>  <td>0.8171</td>   <td>True</td> \n",
       "</tr>\n",
       "<tr>\n",
       "    <td>CZ</td>     <td>NO</td>    <td>1.2292</td>  <td>1.0432</td>  <td>1.4153</td>   <td>True</td> \n",
       "</tr>\n",
       "<tr>\n",
       "    <td>CZ</td>     <td>SE</td>    <td>1.0634</td>  <td>0.8851</td>  <td>1.2417</td>   <td>True</td> \n",
       "</tr>\n",
       "<tr>\n",
       "    <td>DE</td>     <td>ES</td>    <td>-0.0878</td> <td>-1.0077</td> <td>0.8322</td>   <td>False</td>\n",
       "</tr>\n",
       "<tr>\n",
       "    <td>DE</td>     <td>NO</td>    <td>0.4933</td>  <td>-0.4299</td> <td>1.4166</td>   <td>False</td>\n",
       "</tr>\n",
       "<tr>\n",
       "    <td>DE</td>     <td>SE</td>    <td>0.3275</td>  <td>-0.5943</td> <td>1.2492</td>   <td>False</td>\n",
       "</tr>\n",
       "<tr>\n",
       "    <td>ES</td>     <td>NO</td>    <td>0.5811</td>  <td>0.4206</td>  <td>0.7416</td>   <td>True</td> \n",
       "</tr>\n",
       "<tr>\n",
       "    <td>ES</td>     <td>SE</td>    <td>0.4152</td>  <td>0.2638</td>  <td>0.5667</td>   <td>True</td> \n",
       "</tr>\n",
       "<tr>\n",
       "    <td>NO</td>     <td>SE</td>    <td>-0.1659</td> <td>-0.3361</td> <td>0.0044</td>   <td>False</td>\n",
       "</tr>\n",
       "</table>"
      ],
      "text/plain": [
       "<class 'statsmodels.iolib.table.SimpleTable'>"
      ]
     },
     "execution_count": 274,
     "metadata": {},
     "output_type": "execute_result"
    }
   ],
   "source": [
    "df2 = df.dropna()\n",
    "\n",
    "tukey = pairwise_tukeyhsd(endog=df2['happy'],      # Data\n",
    "                          groups=df2['cntry'],   # Groups\n",
    "                          alpha=0.05)         # Significance level\n",
    "\n",
    "tukey.summary()"
   ]
  },
  {
   "cell_type": "markdown",
   "metadata": {},
   "source": [
    "The distributions are non-normal, so we will use a non-parametric method, i.e. the Wilcoxon signed-rank test."
   ]
  },
  {
   "cell_type": "code",
   "execution_count": 275,
   "metadata": {
    "scrolled": false
   },
   "outputs": [
    {
     "name": "stdout",
     "output_type": "stream",
     "text": [
      "CH \n",
      "\n",
      "WilcoxonResult(statistic=92816.5, pvalue=0.8208688161425343)\n",
      "\n",
      "Wilcoxon average 2012: 8.088311688311688\n",
      "\n",
      "Wilcoxon average 2014: 8.116429495472186\n",
      "\n",
      "Difference: 0.028117807160498387\n",
      "\n",
      "CZ \n",
      "\n",
      "WilcoxonResult(statistic=73213.0, pvalue=0.01064243454053068)\n",
      "\n",
      "Wilcoxon average 2012: 6.7708978328173375\n",
      "\n",
      "Wilcoxon average 2014: 6.914110429447852\n",
      "\n",
      "Difference: 0.1432125966305149\n",
      "\n",
      "DE \n",
      "\n",
      "WilcoxonResult(statistic=23.5, pvalue=0.393351316918508)\n",
      "\n",
      "Wilcoxon average 2012: 7.428571428571429\n",
      "\n",
      "Wilcoxon average 2014: 7.857142857142857\n",
      "\n",
      "Difference: 0.42857142857142794\n",
      "\n",
      "ES \n",
      "\n",
      "WilcoxonResult(statistic=231958.5, pvalue=0.04923868084306013)\n",
      "\n",
      "Wilcoxon average 2012: 7.548679867986799\n",
      "\n",
      "Wilcoxon average 2014: 7.41996699669967\n",
      "\n",
      "Difference: -0.12871287128712883\n",
      "\n",
      "NO \n",
      "\n",
      "WilcoxonResult(statistic=67571.5, pvalue=2.7264367804254175e-06)\n",
      "\n",
      "Wilcoxon average 2012: 8.25171939477304\n",
      "\n",
      "Wilcoxon average 2014: 7.9151846785225715\n",
      "\n",
      "Difference: -0.33653471625046905\n",
      "\n",
      "SE \n",
      "\n",
      "WilcoxonResult(statistic=125481.0, pvalue=0.5136403441005022)\n",
      "\n",
      "Wilcoxon average 2012: 7.907386990077177\n",
      "\n",
      "Wilcoxon average 2014: 7.946961325966851\n",
      "\n",
      "Difference: 0.03957433588967341\n",
      "\n"
     ]
    },
    {
     "name": "stderr",
     "output_type": "stream",
     "text": [
      "/Users/rakeshbhatia/anaconda/lib/python3.6/site-packages/scipy/stats/morestats.py:2866: RuntimeWarning: invalid value encountered in greater\n",
      "  r_plus = np.sum((d > 0) * r, axis=0)\n",
      "/Users/rakeshbhatia/anaconda/lib/python3.6/site-packages/scipy/stats/morestats.py:2867: RuntimeWarning: invalid value encountered in less\n",
      "  r_minus = np.sum((d < 0) * r, axis=0)\n"
     ]
    }
   ],
   "source": [
    "for country in countries:\n",
    "    happy_2012 = df.loc[(df['year'] == 6) & (df['cntry'] == country)]['happy']\n",
    "    happy_2014 = df.loc[(df['year'] == 7) & (df['cntry'] == country)]['happy']\n",
    "            \n",
    "    print(country, '\\n')\n",
    "    print(wilcoxon(happy_2012, happy_2014))\n",
    "    print('\\nWilcoxon average 2012: {}'.format(happy_2012.mean()))\n",
    "    print('\\nWilcoxon average 2014: {}'.format(happy_2014.mean()))\n",
    "    print('\\nDifference: {}\\n'.format(happy_2014.mean()-happy_2012.mean()))"
   ]
  },
  {
   "cell_type": "markdown",
   "metadata": {},
   "source": [
    "Czech Republic, Spain, and Norway all had p-values less than 0.05. People in the Czech Republic were happier by 0.14 points. However, people in Spain and Norway were less happy by -0.13 and -0.33 points, respectively."
   ]
  },
  {
   "cell_type": "markdown",
   "metadata": {},
   "source": [
    "### 3. Who reported watching more TV in 2012, men or women?"
   ]
  },
  {
   "cell_type": "code",
   "execution_count": 276,
   "metadata": {},
   "outputs": [
    {
     "data": {
      "image/png": "[encoded data removed]",
      "text/plain": [
       "<Figure size 432x216 with 2 Axes>"
      ]
     },
     "metadata": {},
     "output_type": "display_data"
    }
   ],
   "source": [
    "fig, axs = plt.subplots(1, 2, figsize=(6, 3))\n",
    "\n",
    "axs[0].hist(df2.loc[(df2['year'] == 6) & (df2['gndr'] == 1.0)]['tvtot'].dropna())\n",
    "axs[1].hist(df2.loc[(df2['year'] == 6) & (df2['gndr'] == 2.0)]['tvtot'].dropna())\n",
    "\n",
    "fig.text(0.4, 0, 'Total TV in 2012')\n",
    "axs[0].set_title('Male')\n",
    "axs[1].set_title('Female')\n",
    "\n",
    "plt.tight_layout()\n",
    "plt.show()"
   ]
  },
  {
   "cell_type": "code",
   "execution_count": 277,
   "metadata": {},
   "outputs": [
    {
     "data": {
      "text/html": [
       "<table class=\"simpletable\">\n",
       "<caption>Multiple Comparison of Means - Tukey HSD,FWER=0.05</caption>\n",
       "<tr>\n",
       "  <th>group1</th> <th>group2</th> <th>meandiff</th>  <th>lower</th>   <th>upper</th> <th>reject</th>\n",
       "</tr>\n",
       "<tr>\n",
       "    <td>1.0</td>    <td>2.0</td>    <td>0.072</td>  <td>-0.0152</td> <td>0.1593</td>  <td>False</td>\n",
       "</tr>\n",
       "</table>"
      ],
      "text/plain": [
       "<class 'statsmodels.iolib.table.SimpleTable'>"
      ]
     },
     "execution_count": 277,
     "metadata": {},
     "output_type": "execute_result"
    }
   ],
   "source": [
    "df2 = df.dropna()\n",
    "\n",
    "tukey = pairwise_tukeyhsd(endog=df2['tvtot'],      # Data\n",
    "                          groups=df2['gndr'],   # Groups\n",
    "                          alpha=0.05)         # Significance level\n",
    "\n",
    "tukey.summary()"
   ]
  },
  {
   "cell_type": "markdown",
   "metadata": {},
   "source": [
    "The tukey test appears to indicate that both of these are normal distributions. We can thus use a t-test to compare the two groups."
   ]
  },
  {
   "cell_type": "code",
   "execution_count": 278,
   "metadata": {},
   "outputs": [
    {
     "data": {
      "text/plain": [
       "Ttest_indResult(statistic=-0.7321850526951791, pvalue=0.46409787829722293)"
      ]
     },
     "execution_count": 278,
     "metadata": {},
     "output_type": "execute_result"
    }
   ],
   "source": [
    "tv_men = (df2.loc[(df2['year']==6) & (df2['gndr']==1.0)])['tvtot']\n",
    "tv_women = (df2.loc[(df2['year']==6) & (df2['gndr']==2.0)])['tvtot']\n",
    "\n",
    "stats.ttest_ind(tv_men, tv_women, equal_var=False)"
   ]
  },
  {
   "cell_type": "code",
   "execution_count": 279,
   "metadata": {},
   "outputs": [
    {
     "name": "stdout",
     "output_type": "stream",
     "text": [
      "Average TV time in 2012 for men: 3.8592303945445687\n",
      "Average TV time in 2012 for women: 3.9053518334985133\n"
     ]
    }
   ],
   "source": [
    "print('Average TV time in 2012 for men: {}'.format(tv_men.mean()))\n",
    "print('Average TV time in 2012 for women: {}'.format(tv_women.mean()))"
   ]
  },
  {
   "cell_type": "markdown",
   "metadata": {},
   "source": [
    "Since our p-value is greater than 0.05, it appears men and women are not statistically different. Men and women watched roughly the same amount of TV in 2012."
   ]
  },
  {
   "cell_type": "markdown",
   "metadata": {},
   "source": [
    "### 4. Who was more likely to believe people were fair in 2012, people living with a partner or people living alone?"
   ]
  },
  {
   "cell_type": "code",
   "execution_count": 280,
   "metadata": {},
   "outputs": [
    {
     "data": {
      "image/png": "[encoded data removed]",
      "text/plain": [
       "<Figure size 432x216 with 2 Axes>"
      ]
     },
     "metadata": {},
     "output_type": "display_data"
    }
   ],
   "source": [
    "fig, axs = plt.subplots(1, 2, figsize=(6, 3))\n",
    "\n",
    "axs[0].hist((df.loc[(df['year']==6) & (df['partner']==1.0)])['pplfair'].dropna())\n",
    "axs[1].hist((df.loc[(df['year']==6) & (df['partner']==2.0)])['pplfair'].dropna())\n",
    "\n",
    "fig.text(0.25, 0, 'People Fairness in 2012 - With and Without Partner')\n",
    "axs[0].set_title('Without Partner')\n",
    "axs[1].set_title('With Partner')\n",
    "\n",
    "plt.tight_layout()\n",
    "plt.show()"
   ]
  },
  {
   "cell_type": "code",
   "execution_count": 281,
   "metadata": {},
   "outputs": [
    {
     "data": {
      "text/html": [
       "<table class=\"simpletable\">\n",
       "<caption>Multiple Comparison of Means - Tukey HSD,FWER=0.05</caption>\n",
       "<tr>\n",
       "  <th>group1</th> <th>group2</th> <th>meandiff</th>  <th>lower</th>  <th>upper</th>  <th>reject</th>\n",
       "</tr>\n",
       "<tr>\n",
       "    <td>1.0</td>    <td>2.0</td>   <td>-0.1484</td> <td>-0.243</td> <td>-0.0538</td>  <td>True</td> \n",
       "</tr>\n",
       "</table>"
      ],
      "text/plain": [
       "<class 'statsmodels.iolib.table.SimpleTable'>"
      ]
     },
     "execution_count": 281,
     "metadata": {},
     "output_type": "execute_result"
    }
   ],
   "source": [
    "df2 = df.dropna()\n",
    "\n",
    "tukey = pairwise_tukeyhsd(endog=df2['pplfair'],      # Data\n",
    "                          groups=df2['partner'],   # Groups\n",
    "                          alpha=0.05)         # Significance level\n",
    "\n",
    "tukey.summary()"
   ]
  },
  {
   "cell_type": "markdown",
   "metadata": {},
   "source": [
    "These distributions are non-normal. Since the variables are independent, we should use a Kruskal-Wallace test."
   ]
  },
  {
   "cell_type": "code",
   "execution_count": 282,
   "metadata": {},
   "outputs": [
    {
     "data": {
      "text/plain": [
       "KruskalResult(statistic=13.739649374653519, pvalue=0.00020997468964373384)"
      ]
     },
     "execution_count": 282,
     "metadata": {},
     "output_type": "execute_result"
    }
   ],
   "source": [
    "partner = (df.loc[(df['year']==6) & (df['partner']==1.0)])['pplfair']\n",
    "alone = (df.loc[(df['year']==6) & (df['partner']==2.0)])['pplfair']\n",
    "    \n",
    "kruskal(partner, alone, nan_policy='omit')"
   ]
  },
  {
   "cell_type": "code",
   "execution_count": 283,
   "metadata": {},
   "outputs": [
    {
     "name": "stdout",
     "output_type": "stream",
     "text": [
      "Average people fairness - living with partner: 6.080736012016523\n",
      "Average people fairness - living alone: 5.856965174129353\n"
     ]
    }
   ],
   "source": [
    "print('Average people fairness - living with partner: {}'.format(partner.mean()))\n",
    "print('Average people fairness - living alone: {}'.format(alone.mean()))"
   ]
  },
  {
   "cell_type": "markdown",
   "metadata": {},
   "source": [
    "Since our p-value is less than 0.05, the two populations are statistically different. Those living with a partner in 2012 were more likely to believe people were fair."
   ]
  },
  {
   "cell_type": "markdown",
   "metadata": {},
   "source": [
    "### 5. Pick three or four of the countries in the sample and compare how often people met socially in 2014. Are there differences, and if so, which countries stand out?"
   ]
  },
  {
   "cell_type": "code",
   "execution_count": 284,
   "metadata": {},
   "outputs": [
    {
     "data": {
      "text/plain": [
       "['CH', 'CZ', 'DE']"
      ]
     },
     "execution_count": 284,
     "metadata": {},
     "output_type": "execute_result"
    }
   ],
   "source": [
    "countries[:3]"
   ]
  },
  {
   "cell_type": "code",
   "execution_count": 285,
   "metadata": {
    "collapsed": true
   },
   "outputs": [],
   "source": [
    "df3 = df.loc[df['cntry'].isin(countries[:3])].dropna()"
   ]
  },
  {
   "cell_type": "code",
   "execution_count": 286,
   "metadata": {},
   "outputs": [
    {
     "data": {
      "image/png": "[encoded data removed]",
      "text/plain": [
       "<Figure size 432x216 with 3 Axes>"
      ]
     },
     "metadata": {},
     "output_type": "display_data"
    }
   ],
   "source": [
    "fig, axs = plt.subplots(1, 3, figsize=(6, 3))\n",
    "\n",
    "axs[0].hist((df3.loc[(df3['year']==7) & (df3['cntry']=='CH')])['sclmeet'].dropna())\n",
    "axs[1].hist((df3.loc[(df3['year']==7) & (df3['cntry']=='CZ')])['sclmeet'].dropna())\n",
    "axs[2].hist((df3.loc[(df3['year']==7) & (df3['cntry']=='DE')])['sclmeet'].dropna())\n",
    "\n",
    "fig.text(0.3, 1, 'How Often People Met Socially in 2014')\n",
    "axs[0].set_title('CH')\n",
    "axs[1].set_title('CZ')\n",
    "axs[2].set_title('DE')\n",
    "    \n",
    "plt.tight_layout()\n",
    "plt.show()"
   ]
  },
  {
   "cell_type": "code",
   "execution_count": 287,
   "metadata": {},
   "outputs": [
    {
     "data": {
      "text/html": [
       "<table class=\"simpletable\">\n",
       "<caption>Multiple Comparison of Means - Tukey HSD,FWER=0.05</caption>\n",
       "<tr>\n",
       "  <th>group1</th> <th>group2</th> <th>meandiff</th>  <th>lower</th>   <th>upper</th>  <th>reject</th>\n",
       "</tr>\n",
       "<tr>\n",
       "    <td>CH</td>     <td>CZ</td>    <td>-0.5367</td> <td>-0.6662</td> <td>-0.4073</td>  <td>True</td> \n",
       "</tr>\n",
       "<tr>\n",
       "    <td>CH</td>     <td>DE</td>    <td>-0.4832</td> <td>-1.1308</td> <td>0.1645</td>   <td>False</td>\n",
       "</tr>\n",
       "<tr>\n",
       "    <td>CZ</td>     <td>DE</td>    <td>0.0536</td>  <td>-0.5953</td> <td>0.7025</td>   <td>False</td>\n",
       "</tr>\n",
       "</table>"
      ],
      "text/plain": [
       "<class 'statsmodels.iolib.table.SimpleTable'>"
      ]
     },
     "execution_count": 287,
     "metadata": {},
     "output_type": "execute_result"
    }
   ],
   "source": [
    "tukey = pairwise_tukeyhsd(endog=df3['sclmeet'],      # Data\n",
    "                          groups=df3['cntry'],   # Groups\n",
    "                          alpha=0.05)         # Significance level\n",
    "\n",
    "tukey.summary()"
   ]
  },
  {
   "cell_type": "markdown",
   "metadata": {},
   "source": [
    "These distributions are non-normal, and the variables are independent. Thus, we will use a Kruskal-Wallace test."
   ]
  },
  {
   "cell_type": "code",
   "execution_count": 288,
   "metadata": {
    "scrolled": true
   },
   "outputs": [
    {
     "data": {
      "text/plain": [
       "KruskalResult(statistic=78.92727862878502, pvalue=7.263721926337026e-18)"
      ]
     },
     "execution_count": 288,
     "metadata": {},
     "output_type": "execute_result"
    }
   ],
   "source": [
    "CH_social = (df3.loc[(df3['year']==7) & (df3['cntry']=='CH')])['sclmeet']\n",
    "CZ_social = (df3.loc[(df3['year']==7) & (df3['cntry']=='CZ')])['sclmeet']\n",
    "DE_social = (df3.loc[(df3['year']==7) & (df3['cntry']=='DE')])['sclmeet']\n",
    "\n",
    "stats.kruskal(CH_social, CZ_social, DE_social)"
   ]
  },
  {
   "cell_type": "code",
   "execution_count": 289,
   "metadata": {},
   "outputs": [
    {
     "name": "stdout",
     "output_type": "stream",
     "text": [
      "Average number of times people met socially in CH in 2014: 5.174966352624495\n",
      "Average number of times people met socially in CZ in 2014: 4.4950495049504955\n",
      "Average number of times people met socially in DE in 2014: 4.428571428571429\n"
     ]
    }
   ],
   "source": [
    "print('Average number of times people met socially in CH in 2014: {}'.format(CH_social.mean()))\n",
    "print('Average number of times people met socially in CZ in 2014: {}'.format(CZ_social.mean()))\n",
    "print('Average number of times people met socially in DE in 2014: {}'.format(DE_social.mean()))"
   ]
  },
  {
   "cell_type": "markdown",
   "metadata": {},
   "source": [
    "Since our p-value is less than 0.05, the populations are statistically different. Switzerland appears to have been the most social country in 2014, with 5.17 meetings on average. Czech Republic and Denmark were much lower at 4.50 and 4.43, respectively."
   ]
  },
  {
   "cell_type": "markdown",
   "metadata": {},
   "source": [
    "### 6. Pick three or four of the countries in the sample and compare how often people took part in social activities, relative to others their age, in 2014. Are there differences, and if so, which countries stand out?"
   ]
  },
  {
   "cell_type": "code",
   "execution_count": 290,
   "metadata": {},
   "outputs": [
    {
     "data": {
      "image/png": "[encoded data removed]",
      "text/plain": [
       "<Figure size 432x216 with 3 Axes>"
      ]
     },
     "metadata": {},
     "output_type": "display_data"
    }
   ],
   "source": [
    "fig, axs = plt.subplots(1, 3, figsize=(6, 3))\n",
    "\n",
    "axs[0].hist(df3['sclact'][(df3['cntry'] == 'CH') & (df3['year'] == 7)].dropna())\n",
    "axs[1].hist(df3['sclact'][(df3['cntry'] == 'CZ') & (df3['year'] == 7)].dropna())\n",
    "axs[2].hist(df3['sclact'][(df3['cntry'] == 'DE') & (df3['year'] == 7)].dropna())\n",
    "\n",
    "fig.text(0.2, 1, 'How Often People Engaged in Social Activities in 2014')\n",
    "axs[0].set_title('CH')\n",
    "axs[1].set_title('CZ')\n",
    "axs[2].set_title('DE')\n",
    "    \n",
    "plt.tight_layout()\n",
    "plt.show()"
   ]
  },
  {
   "cell_type": "code",
   "execution_count": 291,
   "metadata": {},
   "outputs": [
    {
     "data": {
      "text/html": [
       "<table class=\"simpletable\">\n",
       "<caption>Multiple Comparison of Means - Tukey HSD,FWER=0.05</caption>\n",
       "<tr>\n",
       "  <th>group1</th> <th>group2</th> <th>meandiff</th>  <th>lower</th>   <th>upper</th> <th>reject</th>\n",
       "</tr>\n",
       "<tr>\n",
       "    <td>CH</td>     <td>CZ</td>    <td>-0.0742</td> <td>-0.1553</td> <td>0.0069</td>  <td>False</td>\n",
       "</tr>\n",
       "<tr>\n",
       "    <td>CH</td>     <td>DE</td>     <td>0.067</td>  <td>-0.3387</td> <td>0.4727</td>  <td>False</td>\n",
       "</tr>\n",
       "<tr>\n",
       "    <td>CZ</td>     <td>DE</td>    <td>0.1412</td>  <td>-0.2653</td> <td>0.5478</td>  <td>False</td>\n",
       "</tr>\n",
       "</table>"
      ],
      "text/plain": [
       "<class 'statsmodels.iolib.table.SimpleTable'>"
      ]
     },
     "execution_count": 291,
     "metadata": {},
     "output_type": "execute_result"
    }
   ],
   "source": [
    "tukey = pairwise_tukeyhsd(endog=df3['sclact'],      # Data\n",
    "                          groups=df3['cntry'],   # Groups\n",
    "                          alpha=0.05)         # Significance level\n",
    "\n",
    "tukey.summary()"
   ]
  },
  {
   "cell_type": "markdown",
   "metadata": {},
   "source": [
    "Since we have three or more independent groups, and they appear to be normally distributed, we will use the one-way ANOVA test."
   ]
  },
  {
   "cell_type": "code",
   "execution_count": 292,
   "metadata": {},
   "outputs": [
    {
     "data": {
      "text/plain": [
       "F_onewayResult(statistic=0.6805323062052006, pvalue=0.5065197308755334)"
      ]
     },
     "execution_count": 292,
     "metadata": {},
     "output_type": "execute_result"
    }
   ],
   "source": [
    "CH_sclmeet = (df3.loc[(df3['year']==7) & (df3['cntry']=='CH')])['sclact']\n",
    "CZ_sclmeet = (df3.loc[(df3['year']==7) & (df3['cntry']=='CZ')])['sclact']\n",
    "DE_sclmeet = (df3.loc[(df3['year']==7) & (df3['cntry']=='DE')])['sclact']\n",
    "\n",
    "stats.f_oneway(CH_sclmeet, CZ_sclmeet, DE_sclmeet)"
   ]
  },
  {
   "cell_type": "code",
   "execution_count": 293,
   "metadata": {},
   "outputs": [
    {
     "name": "stdout",
     "output_type": "stream",
     "text": [
      "Average number of times people took part in social activities in CH in 2014: 2.784656796769852\n",
      "Average number of times people took part in social activities in CZ in 2014: 2.7293729372937294\n",
      "Average number of times people took part in social activities in DE 2014: 2.7142857142857144\n"
     ]
    }
   ],
   "source": [
    "print('Average number of times people took part in social activities in CH in 2014: {}'.format(CH_sclmeet.mean()))\n",
    "print('Average number of times people took part in social activities in CZ in 2014: {}'.format(CZ_sclmeet.mean()))\n",
    "print('Average number of times people took part in social activities in DE 2014: {}'.format(DE_sclmeet.mean()))"
   ]
  },
  {
   "cell_type": "markdown",
   "metadata": {},
   "source": [
    "Our p-value is greater than 0.05, which means the populations are not statistically different. In 2014, people took part in roughly the same amount of social activities in Switzerland, Czech Republic, and Germany."
   ]
  },
  {
   "cell_type": "code",
   "execution_count": null,
   "metadata": {
    "collapsed": true
   },
   "outputs": [],
   "source": []
  }
 ],
 "metadata": {
  "kernelspec": {
   "display_name": "Python 3",
   "language": "python",
   "name": "python3"
  },
  "language_info": {
   "codemirror_mode": {
    "name": "ipython",
    "version": 3
   },
   "file_extension": ".py",
   "mimetype": "text/x-python",
   "name": "python",
   "nbconvert_exporter": "python",
   "pygments_lexer": "ipython3",
   "version": "3.6.7"
  }
 },
 "nbformat": 4,
 "nbformat_minor": 2
}
