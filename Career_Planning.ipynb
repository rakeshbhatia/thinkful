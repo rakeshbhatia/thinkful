{
 "cells": [
  {
   "cell_type": "markdown",
   "metadata": {},
   "source": [
    "My ideal job would be as a data scientist working together with an organization on leveraging company data to drive its products and services. I would be tasked with mining/scraping data from the company's databases, in order to identify ways in which to improve the company's product offerings, business strategies, etc. Ideally, I would also be tasked with managing any new data sources and data mining techniques.\n",
    "\n",
    "A primary function of my job would be to create robust data structures and algorithms in Python that can be applied to data sets. These algorithms would then be used to optimize a variety of business outcomes across the company. Additionally, a major function of this job would be to test the efficacy of these data structures and algorithms. This would entail developing new tools and/or processes for analyzing model performance."
   ]
  },
  {
   "cell_type": "markdown",
   "metadata": {},
   "source": [
    "My ideal job is as a type of engineer who digs up data for a company and uses this data that basically helps to drive the company's business initiatives forward. I would write software tools that help the company efficiently process and analyze its own huge stores of data. Then, I would test how effective my tools are on the company's actual datasets, and use these insights to make it more robust."
   ]
  },
  {
   "cell_type": "markdown",
   "metadata": {},
   "source": [
    "Ever since my time as an undergraduate Electrical Engineering major at UCLA, I have always had an affinity for data - how it can be used, how it can be analyzed, and how it can be used to drive progress in a variety of different fields. This has led me from a short stint in the hardware industry to where I am now - an aspiring data scientist looking to help drive the growth of an ambitious company."
   ]
  }
 ],
 "metadata": {
  "kernelspec": {
   "display_name": "Python 3",
   "language": "python",
   "name": "python3"
  },
  "language_info": {
   "codemirror_mode": {
    "name": "ipython",
    "version": 3
   },
   "file_extension": ".py",
   "mimetype": "text/x-python",
   "name": "python",
   "nbconvert_exporter": "python",
   "pygments_lexer": "ipython3",
   "version": "3.6.5"
  }
 },
 "nbformat": 4,
 "nbformat_minor": 2
}
