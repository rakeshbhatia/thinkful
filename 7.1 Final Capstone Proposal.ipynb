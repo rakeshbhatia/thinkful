{
 "cells": [
  {
   "cell_type": "markdown",
   "metadata": {},
   "source": [
    "# Final Capstone Proposal"
   ]
  },
  {
   "cell_type": "markdown",
   "metadata": {},
   "source": [
    "### What is the problem you are attempting to solve?"
   ]
  },
  {
   "cell_type": "markdown",
   "metadata": {},
   "source": [
    "In this project, I will use time series analysis to predict the future share price for an end user's desired stock ticker symbol."
   ]
  },
  {
   "cell_type": "markdown",
   "metadata": {},
   "source": [
    "### How is your solution valuable?"
   ]
  },
  {
   "cell_type": "markdown",
   "metadata": {},
   "source": [
    "My solution is valuable because it can help small investors make buy or sell decisions for a particular stock. It will help investors to profit from the stock market by creating robust models built around historical OHLC stock price data and key technical indicators.\n",
    "\n",
    "I will allow the end user to input a stock ticker symbol as well as a time variable from a selection of four different options: day, week, month, or year. This indicates the time range after which the end user wants to calculate the projected stock price. For example, if the end user picks 'week', it means the user wants to forecast the desired stock's closing price one week from today."
   ]
  },
  {
   "cell_type": "markdown",
   "metadata": {},
   "source": [
    "### What is your data source and how will you access it?"
   ]
  },
  {
   "cell_type": "markdown",
   "metadata": {},
   "source": [
    "I will be using the Alpha Vantage stock API to download the OHLC pricing data and other technical indicators. The details of this API can be found at the following url:\n",
    "\n",
    "https://www.alphavantage.co/documentation/\n",
    "\n",
    "Below is an example of how to access the data for a particular stock (in this case, AAPL). There are nine variables in total returned by this API call:\n",
    "* Date\n",
    "* Open\n",
    "* High\n",
    "* Low\n",
    "* Close\n",
    "* Adjusted Close\n",
    "* Volume\n",
    "* Dividend Amount\n",
    "* Split Coefficient\n",
    "\n",
    "I will also be utilizing additional variables based on technical indicators available from Alpha Vantage. These technical indicators are listed below:\n",
    "* Simple Moving Average (SMA)\n",
    "* Exponential Moving Average (EMA)\n",
    "* Weighted Moving Average (WMA)\n",
    "* Triangular Moving Average (TRIMA)\n",
    "* Kaufman Adaptive Moving Average (KAMA)\n",
    "* Volume Weighted Average Price (VWAP)\n",
    "* Moving Average Convergence / Divergence (MACD)\n",
    "* Stochastic Oscillator (STOCH)\n",
    "* Relative Strength Index (RSI)\n",
    "* Average Directional Movement Index (ADX)\n",
    "* Absolute Price Oscillator (APO)\n",
    "* Directional Movement Index (DX)"
   ]
  },
  {
   "cell_type": "code",
   "execution_count": 3,
   "metadata": {},
   "outputs": [
    {
     "data": {
      "text/html": [
       "<div>\n",
       "<style scoped>\n",
       "    .dataframe tbody tr th:only-of-type {\n",
       "        vertical-align: middle;\n",
       "    }\n",
       "\n",
       "    .dataframe tbody tr th {\n",
       "        vertical-align: top;\n",
       "    }\n",
       "\n",
       "    .dataframe thead th {\n",
       "        text-align: right;\n",
       "    }\n",
       "</style>\n",
       "<table border=\"1\" class=\"dataframe\">\n",
       "  <thead>\n",
       "    <tr style=\"text-align: right;\">\n",
       "      <th></th>\n",
       "      <th>1. open</th>\n",
       "      <th>2. high</th>\n",
       "      <th>3. low</th>\n",
       "      <th>4. close</th>\n",
       "      <th>5. adjusted close</th>\n",
       "      <th>6. volume</th>\n",
       "      <th>7. dividend amount</th>\n",
       "      <th>8. split coefficient</th>\n",
       "    </tr>\n",
       "    <tr>\n",
       "      <th>date</th>\n",
       "      <th></th>\n",
       "      <th></th>\n",
       "      <th></th>\n",
       "      <th></th>\n",
       "      <th></th>\n",
       "      <th></th>\n",
       "      <th></th>\n",
       "      <th></th>\n",
       "    </tr>\n",
       "  </thead>\n",
       "  <tbody>\n",
       "    <tr>\n",
       "      <td>2019-11-06</td>\n",
       "      <td>256.77</td>\n",
       "      <td>257.49</td>\n",
       "      <td>255.365</td>\n",
       "      <td>257.24</td>\n",
       "      <td>257.24</td>\n",
       "      <td>16916993.0</td>\n",
       "      <td>0.0</td>\n",
       "      <td>1.0</td>\n",
       "    </tr>\n",
       "    <tr>\n",
       "      <td>2019-11-05</td>\n",
       "      <td>257.05</td>\n",
       "      <td>258.19</td>\n",
       "      <td>256.320</td>\n",
       "      <td>257.13</td>\n",
       "      <td>257.13</td>\n",
       "      <td>19942900.0</td>\n",
       "      <td>0.0</td>\n",
       "      <td>1.0</td>\n",
       "    </tr>\n",
       "    <tr>\n",
       "      <td>2019-11-04</td>\n",
       "      <td>257.33</td>\n",
       "      <td>257.85</td>\n",
       "      <td>255.380</td>\n",
       "      <td>257.50</td>\n",
       "      <td>257.50</td>\n",
       "      <td>25553100.0</td>\n",
       "      <td>0.0</td>\n",
       "      <td>1.0</td>\n",
       "    </tr>\n",
       "    <tr>\n",
       "      <td>2019-11-01</td>\n",
       "      <td>249.54</td>\n",
       "      <td>255.93</td>\n",
       "      <td>249.160</td>\n",
       "      <td>255.82</td>\n",
       "      <td>255.82</td>\n",
       "      <td>37738700.0</td>\n",
       "      <td>0.0</td>\n",
       "      <td>1.0</td>\n",
       "    </tr>\n",
       "    <tr>\n",
       "      <td>2019-10-31</td>\n",
       "      <td>247.24</td>\n",
       "      <td>249.17</td>\n",
       "      <td>237.260</td>\n",
       "      <td>248.76</td>\n",
       "      <td>248.76</td>\n",
       "      <td>34766600.0</td>\n",
       "      <td>0.0</td>\n",
       "      <td>1.0</td>\n",
       "    </tr>\n",
       "  </tbody>\n",
       "</table>\n",
       "</div>"
      ],
      "text/plain": [
       "            1. open  2. high   3. low  4. close  5. adjusted close  \\\n",
       "date                                                                 \n",
       "2019-11-06   256.77   257.49  255.365    257.24             257.24   \n",
       "2019-11-05   257.05   258.19  256.320    257.13             257.13   \n",
       "2019-11-04   257.33   257.85  255.380    257.50             257.50   \n",
       "2019-11-01   249.54   255.93  249.160    255.82             255.82   \n",
       "2019-10-31   247.24   249.17  237.260    248.76             248.76   \n",
       "\n",
       "             6. volume  7. dividend amount  8. split coefficient  \n",
       "date                                                              \n",
       "2019-11-06  16916993.0                 0.0                   1.0  \n",
       "2019-11-05  19942900.0                 0.0                   1.0  \n",
       "2019-11-04  25553100.0                 0.0                   1.0  \n",
       "2019-11-01  37738700.0                 0.0                   1.0  \n",
       "2019-10-31  34766600.0                 0.0                   1.0  "
      ]
     },
     "execution_count": 3,
     "metadata": {},
     "output_type": "execute_result"
    }
   ],
   "source": [
    "from alpha_vantage.timeseries import TimeSeries\n",
    "import pandas as pd\n",
    "from pandas import Series, DataFrame\n",
    "\n",
    "ALPHA_VANTAGE_API_KEY = 'WTX6IKTWWR57LOIQ&datatype'\n",
    "\n",
    "ts = TimeSeries(key=ALPHA_VANTAGE_API_KEY, output_format='pandas')\n",
    "data, meta_data = ts.get_daily_adjusted('AAPL', outputsize='compact')\n",
    "data.head()"
   ]
  },
  {
   "cell_type": "markdown",
   "metadata": {},
   "source": [
    "### What techniques from the course do you anticipate using?"
   ]
  },
  {
   "cell_type": "markdown",
   "metadata": {},
   "source": [
    "I will be using the Time Series Analysis specialization for this project. I will utilize the following concepts and techniques from this specialization:\n",
    "* Linear Trends\n",
    "* Indicators\n",
    "* Stochastic Processes\n",
    "* ARIMA Modeling\n",
    "    * Stationarity and Differencing\n",
    "    * Autoregressive Models\n",
    "    * Moving Average\n",
    "    * ARMA Modeling\n",
    "\n",
    "I anticipate using the following general techniques from the course:\n",
    "* Data Cleaning\n",
    "* Feature Engineering\n",
    "* Principal Components Analysis\n",
    "* Multivariable Linear Regression\n",
    "* Random Forest\n",
    "* Gradient Boost\n",
    "* Time Series Analysis"
   ]
  },
  {
   "cell_type": "markdown",
   "metadata": {},
   "source": [
    "### What do you anticipate to be the biggest challenge you’ll face?"
   ]
  },
  {
   "cell_type": "markdown",
   "metadata": {},
   "source": [
    "The biggest challenge I expect to face is using cross validation techniques since the cross validation methodology needs to be adjusted when dealing with time series data. It will not be as simple as using the cross_val_score method from scikit-learn.\n",
    "\n",
    "I also expect to face challenges with obtaining a high accuracy due to overfitting issues. I anticipate having to tweak my model across a variety of iterations in order to eliminate any overfitting."
   ]
  }
 ],
 "metadata": {
  "kernelspec": {
   "display_name": "Python 3",
   "language": "python",
   "name": "python3"
  },
  "language_info": {
   "codemirror_mode": {
    "name": "ipython",
    "version": 3
   },
   "file_extension": ".py",
   "mimetype": "text/x-python",
   "name": "python",
   "nbconvert_exporter": "python",
   "pygments_lexer": "ipython3",
   "version": "3.6.7"
  }
 },
 "nbformat": 4,
 "nbformat_minor": 2
}
